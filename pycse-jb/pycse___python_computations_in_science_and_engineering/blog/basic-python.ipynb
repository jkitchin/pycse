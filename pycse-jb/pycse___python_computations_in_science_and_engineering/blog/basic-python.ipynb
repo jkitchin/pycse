{
 "cells": [
  {
   "cell_type": "markdown",
   "id": "8a97883e",
   "metadata": {},
   "source": [
    "# Basic python usage\n",
    "\n"
   ]
  },
  {
   "cell_type": "markdown",
   "id": "6034b92b",
   "metadata": {},
   "source": [
    "## Basic math\n",
    "\n"
   ]
  },
  {
   "cell_type": "markdown",
   "id": "7d49c823",
   "metadata": {},
   "source": [
    "Python is a basic calculator out of the box. Here we consider the most basic mathematical operations: addition, subtraction, multiplication, division and exponenetiation. we use the func:print to get the output. For now we consider integers and float numbers. An integer is a plain number like 0, 10 or -2345. A float number has a decimal in it. The following are all floats: 1.0, -9., and 3.56. Note the trailing zero is not required, although it is good style. Note that here you see some features of float math; the second answer is 3.1, but that cannot be represented exactly as a float number here, so you see something that is close.\n",
    "\n"
   ]
  },
  {
   "cell_type": "code",
   "execution_count": 1,
   "id": "4d54c03a",
   "metadata": {},
   "outputs": [
    {
     "name": "stdout",
     "output_type": "stream",
     "text": [
      "6\n",
      "3.0999999999999996\n"
     ]
    }
   ],
   "source": [
    "print(2 + 4)\n",
    "print(8.1 - 5)"
   ]
  },
  {
   "cell_type": "markdown",
   "id": "8794c1c2",
   "metadata": {},
   "source": [
    "Multiplication is equally straightforward.\n",
    "\n"
   ]
  },
  {
   "cell_type": "code",
   "execution_count": 2,
   "id": "9399ba05",
   "metadata": {},
   "outputs": [
    {
     "name": "stdout",
     "output_type": "stream",
     "text": [
      "20\n",
      "6.2\n"
     ]
    }
   ],
   "source": [
    "print(5 * 4)\n",
    "print(3.1 * 2)"
   ]
  },
  {
   "cell_type": "markdown",
   "id": "d4bd8e79",
   "metadata": {},
   "source": [
    "Division is almost as straightforward, but we have to remember that integer division is not the same as float division. Let us consider float division first.\n",
    "\n"
   ]
  },
  {
   "cell_type": "code",
   "execution_count": 3,
   "id": "7f0a10b4",
   "metadata": {},
   "outputs": [
    {
     "name": "stdout",
     "output_type": "stream",
     "text": [
      "2.0\n",
      "0.3225806451612903\n"
     ]
    }
   ],
   "source": [
    "print(4.0 / 2.0)\n",
    "print(1.0 / 3.1)"
   ]
  },
  {
   "cell_type": "markdown",
   "id": "53df14a4",
   "metadata": {},
   "source": [
    "Now, consider the integer versions. In Python3 division now is automatically float division. You can do integer division with the // operator like this.\n",
    "\n"
   ]
  },
  {
   "cell_type": "code",
   "execution_count": 4,
   "id": "c0b06f39",
   "metadata": {},
   "outputs": [
    {
     "name": "stdout",
     "output_type": "stream",
     "text": [
      "2\n",
      "0\n"
     ]
    }
   ],
   "source": [
    "print(4 // 2)\n",
    "print(1 // 3)"
   ]
  },
  {
   "cell_type": "markdown",
   "id": "5348fb21",
   "metadata": {},
   "source": [
    "Exponentiation is also a basic math operation that python supports directly.\n",
    "\n"
   ]
  },
  {
   "cell_type": "code",
   "execution_count": 5,
   "id": "6a5c52f6",
   "metadata": {},
   "outputs": [
    {
     "name": "stdout",
     "output_type": "stream",
     "text": [
      "9.0\n",
      "9\n",
      "1.4142135623730951\n"
     ]
    }
   ],
   "source": [
    "print(3.0**2)\n",
    "print(3**2)\n",
    "print(2**0.5)"
   ]
  },
  {
   "cell_type": "markdown",
   "id": "7e160a9f",
   "metadata": {},
   "source": [
    "Other types of mathematical operations require us to import functionality from python libraries. We consider those in the next section.\n",
    "\n"
   ]
  },
  {
   "cell_type": "markdown",
   "id": "cef9f64c",
   "metadata": {},
   "source": [
    "## Advanced mathematical operators\n",
    "\n"
   ]
  },
  {
   "cell_type": "markdown",
   "id": "527d3783",
   "metadata": {},
   "source": [
    "The primary library we will consider is mod:numpy, which provides many mathematical functions, statistics as well as support for linear algebra. For a complete listing of the functions available, see [http://docs.scipy.org/doc/numpy/reference/routines.math.html](http://docs.scipy.org/doc/numpy/reference/routines.math.html). We begin with the simplest functions.\n",
    "\n"
   ]
  },
  {
   "cell_type": "code",
   "execution_count": 6,
   "id": "7c6d5657",
   "metadata": {},
   "outputs": [
    {
     "name": "stdout",
     "output_type": "stream",
     "text": [
      "1.4142135623730951\n"
     ]
    }
   ],
   "source": [
    "import numpy as np\n",
    "\n",
    "print(np.sqrt(2))"
   ]
  },
  {
   "cell_type": "markdown",
   "id": "306ffe83",
   "metadata": {},
   "source": [
    "### Exponential and logarithmic functions\n",
    "\n"
   ]
  },
  {
   "cell_type": "markdown",
   "id": "f3c40914",
   "metadata": {},
   "source": [
    "Here is the exponential function.\n",
    "\n"
   ]
  },
  {
   "cell_type": "code",
   "execution_count": 7,
   "id": "46be7b0d",
   "metadata": {},
   "outputs": [
    {
     "name": "stdout",
     "output_type": "stream",
     "text": [
      "2.718281828459045\n"
     ]
    }
   ],
   "source": [
    "import numpy as np\n",
    "\n",
    "print(np.exp(1))"
   ]
  },
  {
   "cell_type": "markdown",
   "id": "5bbb2827",
   "metadata": {},
   "source": [
    "There are two logarithmic functions commonly used, the natural log function func:numpy.log and the base10 logarithm func:numpy.log10.\n",
    "\n"
   ]
  },
  {
   "cell_type": "code",
   "execution_count": 8,
   "id": "89ca1719",
   "metadata": {},
   "outputs": [
    {
     "name": "stdout",
     "output_type": "stream",
     "text": [
      "2.302585092994046\n",
      "1.0\n"
     ]
    }
   ],
   "source": [
    "import numpy as np\n",
    "\n",
    "print(np.log(10))\n",
    "print(np.log10(10))  # base10"
   ]
  },
  {
   "cell_type": "markdown",
   "id": "7e4bbfd7",
   "metadata": {},
   "source": [
    "There are many other intrinsic functions available in mod:numpy which we will eventually cover. First, we need to consider how to create our own functions.\n",
    "\n"
   ]
  },
  {
   "cell_type": "markdown",
   "id": "2463bed2",
   "metadata": {},
   "source": [
    "## Creating your own functions\n",
    "\n"
   ]
  },
  {
   "cell_type": "markdown",
   "id": "b2a84921",
   "metadata": {},
   "source": [
    "We can combine operations to evaluate complex equations. Consider the value of the equation $x^3 - \\log(x)$ for the value $x=4.1$.\n",
    "\n"
   ]
  },
  {
   "cell_type": "code",
   "execution_count": 9,
   "id": "568d42b4",
   "metadata": {},
   "outputs": [
    {
     "name": "stdout",
     "output_type": "stream",
     "text": [
      "25.90138771133189\n"
     ]
    }
   ],
   "source": [
    "x = 3\n",
    "print(x**3 - np.log(x))"
   ]
  },
  {
   "cell_type": "markdown",
   "id": "fb0f39eb",
   "metadata": {},
   "source": [
    "It would be tedious to type this out each time. Next, we learn how to express this equation as a new function, which we can call with different values.\n",
    "\n"
   ]
  },
  {
   "cell_type": "code",
   "execution_count": 10,
   "id": "fa0b7e10",
   "metadata": {},
   "outputs": [
    {
     "name": "stdout",
     "output_type": "stream",
     "text": [
      "25.90138771133189\n",
      "131.0217594602697\n"
     ]
    }
   ],
   "source": [
    "def f(x):\n",
    "    return x**3 - np.log(x)\n",
    "\n",
    "\n",
    "print(f(3))\n",
    "print(f(5.1))"
   ]
  },
  {
   "cell_type": "markdown",
   "id": "19480cee",
   "metadata": {},
   "source": [
    "It may not seem like we did much there, but this is the foundation for solving equations in the future. Before we get to solving equations, we have a few more details to consider. Next, we consider evaluating functions on arrays of values.\n",
    "\n"
   ]
  },
  {
   "cell_type": "markdown",
   "id": "9e3b7fe6",
   "metadata": {},
   "source": [
    "## Defining functions in python\n",
    "\n"
   ]
  },
  {
   "cell_type": "markdown",
   "id": "77cd0f9a",
   "metadata": {},
   "source": [
    "Compare what's here to the [Matlab implementation. ](http://matlab.cheme.cmu.edu/2011/08/09/where-its-i-got-two-turntables-and-a-microphone/)\n",
    "\n",
    "We often need to make functions in our codes to do things. This function works for scalar values, but it does not work for a list.\n",
    "\n"
   ]
  },
  {
   "cell_type": "code",
   "execution_count": 11,
   "id": "82423b31",
   "metadata": {},
   "outputs": [
    {
     "name": "stdout",
     "output_type": "stream",
     "text": [
      "0.1111111111111111\n"
     ]
    },
    {
     "ename": "TypeError",
     "evalue": "unsupported operand type(s) for ** or pow(): 'list' and 'int'",
     "output_type": "error",
     "traceback": [
      "\u001b[0;31m---------------------------------------------------------------------------\u001b[0m",
      "\u001b[0;31mTypeError\u001b[0m                                 Traceback (most recent call last)",
      "Cell \u001b[0;32mIn[11], line 6\u001b[0m\n\u001b[1;32m      3\u001b[0m     \u001b[38;5;28;01mreturn\u001b[39;00m \u001b[38;5;241m1.0\u001b[39m \u001b[38;5;241m/\u001b[39m x\u001b[38;5;241m*\u001b[39m\u001b[38;5;241m*\u001b[39m\u001b[38;5;241m2\u001b[39m\n\u001b[1;32m      5\u001b[0m \u001b[38;5;28mprint\u001b[39m(f(\u001b[38;5;241m3\u001b[39m))\n\u001b[0;32m----> 6\u001b[0m \u001b[38;5;28mprint\u001b[39m(\u001b[43mf\u001b[49m\u001b[43m(\u001b[49m\u001b[43m[\u001b[49m\u001b[38;5;241;43m4\u001b[39;49m\u001b[43m,\u001b[49m\u001b[38;5;241;43m5\u001b[39;49m\u001b[43m]\u001b[49m\u001b[43m)\u001b[49m)\n",
      "Cell \u001b[0;32mIn[11], line 3\u001b[0m, in \u001b[0;36mf\u001b[0;34m(x)\u001b[0m\n\u001b[1;32m      1\u001b[0m \u001b[38;5;28;01mdef\u001b[39;00m \u001b[38;5;21mf\u001b[39m(x):\n\u001b[1;32m      2\u001b[0m     \u001b[38;5;124m\"\u001b[39m\u001b[38;5;124mreturn the inverse square of x\u001b[39m\u001b[38;5;124m\"\u001b[39m\n\u001b[0;32m----> 3\u001b[0m     \u001b[38;5;28;01mreturn\u001b[39;00m \u001b[38;5;241m1.0\u001b[39m \u001b[38;5;241m/\u001b[39m \u001b[43mx\u001b[49m\u001b[38;5;241;43m*\u001b[39;49m\u001b[38;5;241;43m*\u001b[39;49m\u001b[38;5;241;43m2\u001b[39;49m\n",
      "\u001b[0;31mTypeError\u001b[0m: unsupported operand type(s) for ** or pow(): 'list' and 'int'"
     ]
    }
   ],
   "source": [
    "def f(x):\n",
    "    \"return the inverse square of x\"\n",
    "    return 1.0 / x**2\n",
    "\n",
    "\n",
    "print(f(3))\n",
    "print(f([4, 5]))"
   ]
  },
  {
   "cell_type": "markdown",
   "id": "edf08d12",
   "metadata": {},
   "source": [
    "Note that functions are not automatically vectorized. That is why we see the error above. There are a few ways to achieve that. One is to \"cast\" the input variables to objects that support vectorized operations, such as numpy.array objects.\n",
    "\n"
   ]
  },
  {
   "cell_type": "code",
   "execution_count": 12,
   "id": "a29db7aa",
   "metadata": {},
   "outputs": [
    {
     "name": "stdout",
     "output_type": "stream",
     "text": [
      "0.1111111111111111\n",
      "[0.0625 0.04  ]\n"
     ]
    }
   ],
   "source": [
    "def f(x):\n",
    "    \"return the inverse square of x\"\n",
    "    x = np.array(x)  # Make sure the input is an array\n",
    "    return 1.0 / x**2\n",
    "\n",
    "\n",
    "print(f(3))\n",
    "print(f([4, 5]))"
   ]
  },
  {
   "cell_type": "markdown",
   "id": "27fb0ede",
   "metadata": {},
   "source": [
    "It is possible to have more than one variable.\n",
    "\n"
   ]
  },
  {
   "cell_type": "code",
   "execution_count": 13,
   "id": "5080182c",
   "metadata": {},
   "outputs": [
    {
     "name": "stdout",
     "output_type": "stream",
     "text": [
      "6\n",
      "[ 6 12]\n"
     ]
    }
   ],
   "source": [
    "def func(x, y):\n",
    "    \"return product of x and y\"\n",
    "    return x * y\n",
    "\n",
    "\n",
    "print(func(2, 3))\n",
    "print(func(np.array([2, 3]), np.array([3, 4])))"
   ]
  },
  {
   "cell_type": "markdown",
   "id": "ae03fa60",
   "metadata": {},
   "source": [
    "You can define \"lambda\" functions, which are also known as inline or anonymous functions. The syntax is `lambda var:f(var)`. I think these are hard to read and discourage their use. Here is a typical usage where you have to define a simple function that is passed to another function, e.g. scipy.integrate.quad to perform an integral.\n",
    "\n"
   ]
  },
  {
   "cell_type": "code",
   "execution_count": 14,
   "id": "2d501367",
   "metadata": {},
   "outputs": [
    {
     "name": "stdout",
     "output_type": "stream",
     "text": [
      "(4.0, 4.440892098500626e-14)\n"
     ]
    }
   ],
   "source": [
    "from scipy.integrate import quad\n",
    "\n",
    "print(quad(lambda x: x**3, 0, 2))"
   ]
  },
  {
   "cell_type": "markdown",
   "id": "c47f4fbd",
   "metadata": {},
   "source": [
    "It is possible to nest functions inside of functions like this.\n",
    "\n"
   ]
  },
  {
   "cell_type": "code",
   "execution_count": 15,
   "id": "559f31f1",
   "metadata": {},
   "outputs": [
    {
     "name": "stdout",
     "output_type": "stream",
     "text": [
      "16\n"
     ]
    }
   ],
   "source": [
    "def wrapper(x):\n",
    "    a = 4\n",
    "\n",
    "    def func(x, a):\n",
    "        return a * x\n",
    "\n",
    "    return func(x, a)\n",
    "\n",
    "\n",
    "print(wrapper(4))"
   ]
  },
  {
   "cell_type": "markdown",
   "id": "ddf80eaa",
   "metadata": {},
   "source": [
    "An alternative approach is to \"wrap\" a function, say to fix a parameter. You might do this so you can integrate the wrapped function, which depends on only a single variable, whereas the original function depends on two variables.\n",
    "\n"
   ]
  },
  {
   "cell_type": "code",
   "execution_count": 16,
   "id": "adec7de9",
   "metadata": {},
   "outputs": [
    {
     "name": "stdout",
     "output_type": "stream",
     "text": [
      "16\n"
     ]
    }
   ],
   "source": [
    "def func(x, a):\n",
    "    return a * x\n",
    "\n",
    "\n",
    "def wrapper(x):\n",
    "    a = 4\n",
    "    return func(x, a)\n",
    "\n",
    "\n",
    "print(wrapper(4))"
   ]
  },
  {
   "cell_type": "markdown",
   "id": "b1ba8d58",
   "metadata": {},
   "source": [
    "Last example, defining a function for an ode:\n",
    "\n"
   ]
  },
  {
   "cell_type": "code",
   "execution_count": 17,
   "id": "1d8b2384",
   "metadata": {},
   "outputs": [
    {
     "data": {
      "image/png": "[encoded data removed]",
      "text/plain": [
       "<Figure size 640x480 with 1 Axes>"
      ]
     },
     "metadata": {},
     "output_type": "display_data"
    }
   ],
   "source": [
    "from scipy.integrate import odeint\n",
    "import numpy as np\n",
    "import matplotlib.pyplot as plt\n",
    "\n",
    "k = 2.2\n",
    "\n",
    "\n",
    "def myode(y, t):\n",
    "    \"ode defining exponential growth\"\n",
    "    return k * y\n",
    "\n",
    "\n",
    "y0 = 3\n",
    "tspan = np.linspace(0, 1)\n",
    "y = odeint(myode, y0, tspan)\n",
    "\n",
    "plt.plot(tspan, y)\n",
    "plt.xlabel(\"Time\")\n",
    "plt.ylabel(\"y\");"
   ]
  },
  {
   "cell_type": "markdown",
   "id": "e7f8e341",
   "metadata": {},
   "source": [
    "## Advanced function creation\n",
    "\n"
   ]
  },
  {
   "cell_type": "markdown",
   "id": "5d903b47",
   "metadata": {},
   "source": [
    "Python has some nice features in creating functions. You can create default values for variables, have optional variables and optional keyword variables. In this function f(a,b), `a` and `b` are called positional arguments, and they are required, and must be provided in the same order as the function defines.\n",
    "\n",
    "If we provide a default value for an argument, then the argument is called a keyword argument, and it becomes optional. You can combine positional arguments and keyword arguments, but positional arguments must come first. Here is an example.\n",
    "\n"
   ]
  },
  {
   "cell_type": "code",
   "execution_count": 18,
   "id": "d133f2b4",
   "metadata": {},
   "outputs": [
    {
     "name": "stdout",
     "output_type": "stream",
     "text": [
      "4\n",
      "8\n",
      "16\n"
     ]
    }
   ],
   "source": [
    "def func(a, n=2):\n",
    "    \"compute the nth power of a\"\n",
    "    return a**n\n",
    "\n",
    "\n",
    "# three different ways to call the function\n",
    "print(func(2))\n",
    "print(func(2, 3))\n",
    "print(func(2, n=4))"
   ]
  },
  {
   "cell_type": "markdown",
   "id": "1d575604",
   "metadata": {},
   "source": [
    "In the first call to the function, we only define the argument `a`, which is a mandatory, positional argument. In the second call, we define `a` and `n`, in the order they are defined in the function. Finally, in the third call, we define `a` as a positional argument, and `n` as a keyword argument.\n",
    "\n",
    "If all of the arguments are optional, we can even call the function with no arguments. If you give arguments as positional arguments, they are used in the order defined in the function. If you use keyword arguments, the order is arbitrary.\n",
    "\n"
   ]
  },
  {
   "cell_type": "code",
   "execution_count": 19,
   "id": "0bc1e993",
   "metadata": {},
   "outputs": [
    {
     "name": "stdout",
     "output_type": "stream",
     "text": [
      "1\n",
      "16\n",
      "16\n"
     ]
    }
   ],
   "source": [
    "def func(a=1, n=2):\n",
    "    \"compute the nth power of a\"\n",
    "    return a**n\n",
    "\n",
    "\n",
    "# three different ways to call the function\n",
    "print(func())\n",
    "print(func(2, 4))\n",
    "print(func(n=4, a=2))"
   ]
  },
  {
   "cell_type": "markdown",
   "id": "7dd14fdd",
   "metadata": {},
   "source": [
    "It is occasionally useful to allow an arbitrary number of arguments in a function. Suppose we want a function that can take an arbitrary number of positional arguments and return the sum of all the arguments. We use the syntax `*args` to indicate arbitrary positional arguments. Inside the function the variable `args` is a tuple containing all of the arguments passed to the function.\n",
    "\n"
   ]
  },
  {
   "cell_type": "code",
   "execution_count": 20,
   "id": "f2ec877f",
   "metadata": {},
   "outputs": [
    {
     "name": "stdout",
     "output_type": "stream",
     "text": [
      "10\n"
     ]
    }
   ],
   "source": [
    "def func(*args):\n",
    "    sum = 0\n",
    "    for arg in args:\n",
    "        sum += arg\n",
    "    return sum\n",
    "\n",
    "\n",
    "print(func(1, 2, 3, 4))"
   ]
  },
  {
   "cell_type": "markdown",
   "id": "7a847dea",
   "metadata": {},
   "source": [
    "A more \"functional programming\" version of the last function is given here. This is an advanced approach that is less readable to new users, but more compact and likely more efficient for large numbers of arguments.\n",
    "\n"
   ]
  },
  {
   "cell_type": "code",
   "execution_count": 21,
   "id": "0cf5e595",
   "metadata": {},
   "outputs": [
    {
     "name": "stdout",
     "output_type": "stream",
     "text": [
      "10\n"
     ]
    }
   ],
   "source": [
    "import functools, operator\n",
    "\n",
    "\n",
    "def func(*args):\n",
    "    return functools.reduce(operator.add, args)\n",
    "\n",
    "\n",
    "print(func(1, 2, 3, 4))"
   ]
  },
  {
   "cell_type": "markdown",
   "id": "5ec9df4d",
   "metadata": {},
   "source": [
    "It is possible to have arbitrary keyword arguments. This is a common pattern when you call another function within your function that takes keyword arguments. We use `**kwargs` to indicate that arbitrary keyword arguments can be given to the function. Inside the function, kwargs is variable containing a dictionary of the keywords and values passed in.\n",
    "\n"
   ]
  },
  {
   "cell_type": "code",
   "execution_count": 22,
   "id": "6e641656",
   "metadata": {},
   "outputs": [
    {
     "name": "stdout",
     "output_type": "stream",
     "text": [
      "t1 = 6\n",
      "color = blue\n"
     ]
    }
   ],
   "source": [
    "def func(**kwargs):\n",
    "    for kw in kwargs:\n",
    "        print(\"{0} = {1}\".format(kw, kwargs[kw]))\n",
    "\n",
    "\n",
    "func(t1=6, color=\"blue\")"
   ]
  },
  {
   "cell_type": "markdown",
   "id": "1cccc5f6",
   "metadata": {},
   "source": [
    "A typical example might be:\n",
    "\n"
   ]
  },
  {
   "cell_type": "code",
   "execution_count": 23,
   "id": "d7e39626",
   "metadata": {},
   "outputs": [
    {
     "data": {
      "image/png": "[encoded data removed]",
      "text/plain": [
       "<Figure size 640x480 with 1 Axes>"
      ]
     },
     "metadata": {},
     "output_type": "display_data"
    }
   ],
   "source": [
    "import matplotlib.pyplot as plt\n",
    "\n",
    "\n",
    "def myplot(x, y, fname=None, **kwargs):\n",
    "    \"make plot of x,y. save to fname if not None. Provide kwargs to plot.\"\n",
    "    plt.plot(x, y, **kwargs)\n",
    "    plt.xlabel(\"X\")\n",
    "    plt.ylabel(\"Y\")\n",
    "    plt.title(\"My plot\")\n",
    "    if fname:\n",
    "        plt.savefig(fname)\n",
    "\n",
    "\n",
    "x = [1, 3, 4, 5]\n",
    "y = [3, 6, 9, 12]\n",
    "\n",
    "myplot(x, y, \"images/myfig.png\", color=\"orange\", marker=\"s\")"
   ]
  },
  {
   "cell_type": "code",
   "execution_count": 24,
   "id": "1c8592d3",
   "metadata": {},
   "outputs": [
    {
     "data": {
      "image/png": "[encoded data removed]",
      "text/plain": [
       "<Figure size 640x480 with 1 Axes>"
      ]
     },
     "metadata": {},
     "output_type": "display_data"
    }
   ],
   "source": [
    "# you can use a dictionary as kwargs\n",
    "d = {\"color\": \"magenta\", \"marker\": \"d\"}\n",
    "\n",
    "myplot(x, y, \"images/myfig2.png\", **d)"
   ]
  },
  {
   "cell_type": "markdown",
   "id": "3e307685",
   "metadata": {},
   "source": [
    "In that example we wrap the matplotlib plotting commands in a function, which we can call the way we want to, with arbitrary optional arguments. In this example, you cannot pass keyword arguments that are illegal to the plot command or you will get an error.\n",
    "\n",
    "It is possible to combine all the options at once. I admit it is hard to imagine where this would be really useful, but it can be done!\n",
    "\n"
   ]
  },
  {
   "cell_type": "code",
   "execution_count": 25,
   "id": "76e1fbff",
   "metadata": {},
   "outputs": [
    {
     "name": "stdout",
     "output_type": "stream",
     "text": [
      "kw: mysillykw = hahah\n",
      "17\n"
     ]
    }
   ],
   "source": [
    "import numpy as np\n",
    "\n",
    "\n",
    "def func(a, b=2, *args, **kwargs):\n",
    "    \"return a**b + sum(args) and print kwargs\"\n",
    "    for kw in kwargs:\n",
    "        print(\"kw: {0} = {1}\".format(kw, kwargs[kw]))\n",
    "\n",
    "    return a**b + np.sum(args)\n",
    "\n",
    "\n",
    "print(func(2, 3, 4, 5, mysillykw=\"hahah\"))"
   ]
  },
  {
   "cell_type": "markdown",
   "id": "0aa8e63a",
   "metadata": {},
   "source": [
    "## Lambda Lambda Lambda\n",
    "\n"
   ]
  },
  {
   "cell_type": "markdown",
   "id": "ecf8a91c",
   "metadata": {},
   "source": [
    "Is that some kind of fraternity? of anonymous functions? What is that!? There are many times where you need a callable, small function in python, and it is inconvenient to have to use `def` to create a named function. Lambda functions solve this problem. Let us look at some examples. First, we create a lambda function, and assign it to a variable. Then we show that variable is a function, and that we can call it with an argument.\n",
    "\n"
   ]
  },
  {
   "cell_type": "code",
   "execution_count": 26,
   "id": "09ee6828",
   "metadata": {},
   "outputs": [
    {
     "name": "stdout",
     "output_type": "stream",
     "text": [
      "<function <lambda> at 0x11a14f130>\n",
      "4\n"
     ]
    }
   ],
   "source": [
    "f = lambda x: 2 * x\n",
    "print(f)\n",
    "print(f(2))"
   ]
  },
  {
   "cell_type": "markdown",
   "id": "351b6752",
   "metadata": {},
   "source": [
    "We can have more than one argument:\n",
    "\n"
   ]
  },
  {
   "cell_type": "code",
   "execution_count": 27,
   "id": "c1134681",
   "metadata": {},
   "outputs": [
    {
     "name": "stdout",
     "output_type": "stream",
     "text": [
      "<function <lambda> at 0x11a14f400>\n",
      "5\n"
     ]
    }
   ],
   "source": [
    "f = lambda x, y: x + y\n",
    "print(f)\n",
    "print(f(2, 3))"
   ]
  },
  {
   "cell_type": "markdown",
   "id": "38ce5fdc",
   "metadata": {},
   "source": [
    "And default arguments:\n",
    "\n"
   ]
  },
  {
   "cell_type": "code",
   "execution_count": 28,
   "id": "81f4f3a9",
   "metadata": {},
   "outputs": [
    {
     "name": "stdout",
     "output_type": "stream",
     "text": [
      "<function <lambda> at 0x118f4e0e0>\n",
      "5\n",
      "5\n"
     ]
    }
   ],
   "source": [
    "f = lambda x, y=3: x + y\n",
    "print(f)\n",
    "print(f(2))\n",
    "print(f(4, 1))"
   ]
  },
  {
   "cell_type": "markdown",
   "id": "bc68a83d",
   "metadata": {},
   "source": [
    "It is also possible to have arbitrary numbers of positional arguments. Here is an example that provides the sum of an arbitrary number of arguments.\n",
    "\n"
   ]
  },
  {
   "cell_type": "code",
   "execution_count": 29,
   "id": "fc119ca0",
   "metadata": {},
   "outputs": [
    {
     "name": "stdout",
     "output_type": "stream",
     "text": [
      "<function <lambda> at 0x11a14f130>\n",
      "1\n",
      "3\n",
      "6\n"
     ]
    }
   ],
   "source": [
    "import functools, operator\n",
    "\n",
    "f = lambda *x: functools.reduce(operator.add, x)\n",
    "print(f)\n",
    "\n",
    "print(f(1))\n",
    "print(f(1, 2))\n",
    "print(f(1, 2, 3))"
   ]
  },
  {
   "cell_type": "markdown",
   "id": "7adee5eb",
   "metadata": {},
   "source": [
    "You can also make arbitrary keyword arguments. Here we make a function that simply returns the kwargs as a dictionary. This feature may be helpful in passing kwargs to other functions.\n",
    "\n"
   ]
  },
  {
   "cell_type": "code",
   "execution_count": 30,
   "id": "4463650b",
   "metadata": {},
   "outputs": [
    {
     "name": "stdout",
     "output_type": "stream",
     "text": [
      "{'a': 1, 'b': 3}\n"
     ]
    }
   ],
   "source": [
    "f = lambda **kwargs: kwargs\n",
    "\n",
    "print(f(a=1, b=3))"
   ]
  },
  {
   "cell_type": "markdown",
   "id": "23bfc2f9",
   "metadata": {},
   "source": [
    "Of course, you can combine these options. Here is a function with all the options.\n",
    "\n"
   ]
  },
  {
   "cell_type": "code",
   "execution_count": 31,
   "id": "098ae7e0",
   "metadata": {},
   "outputs": [
    {
     "name": "stdout",
     "output_type": "stream",
     "text": [
      "('required', 3, ('optional-positional',), {'g': 4})\n"
     ]
    }
   ],
   "source": [
    "f = lambda a, b=4, *args, **kwargs: (a, b, args, kwargs)\n",
    "\n",
    "print(f(\"required\", 3, \"optional-positional\", g=4))"
   ]
  },
  {
   "cell_type": "markdown",
   "id": "287dca73",
   "metadata": {},
   "source": [
    "One of the primary limitations of lambda functions is they are limited to single expressions. They also do not have documentation strings, so it can be difficult to understand what they were written for later.\n",
    "\n"
   ]
  },
  {
   "cell_type": "markdown",
   "id": "fb537e76",
   "metadata": {},
   "source": [
    "### Applications of lambda functions\n",
    "\n"
   ]
  },
  {
   "cell_type": "markdown",
   "id": "816ffb4a",
   "metadata": {},
   "source": [
    "Lambda functions are used in places where you need a function, but may not want to define one using `def`. For example, say you want to solve the nonlinear equation $\\sqrt{x} = 2.5$.\n",
    "\n"
   ]
  },
  {
   "cell_type": "code",
   "execution_count": 32,
   "id": "e854e4cc",
   "metadata": {},
   "outputs": [
    {
     "name": "stdout",
     "output_type": "stream",
     "text": [
      " message: The solution converged.\n",
      " success: True\n",
      "  status: 1\n",
      "     fun: [-1.776e-15]\n",
      "       x: [ 6.250e+00]\n",
      "    nfev: 7\n",
      "    fjac: [[-1.000e+00]]\n",
      "       r: [ 2.000e-01]\n",
      "     qtf: [-1.754e-09]\n"
     ]
    }
   ],
   "source": [
    "from scipy.optimize import root\n",
    "import numpy as np\n",
    "\n",
    "sol = root(lambda x: 2.5 - np.sqrt(x), 8)\n",
    "print(sol)"
   ]
  },
  {
   "cell_type": "markdown",
   "id": "04134970",
   "metadata": {},
   "source": [
    "Another time to use lambda functions is if you want to set a particular value of a parameter in a function. Say we have a function with an independent variable, $x$ and a parameter $a$, i.e. $f(x; a)$. If we want to find a solution $f(x; a) = 0$ for some value of $a$, we can use a lambda function to make a function of the single variable $x$. Here is a example.\n",
    "\n"
   ]
  },
  {
   "cell_type": "code",
   "execution_count": 33,
   "id": "cc637a01",
   "metadata": {},
   "outputs": [
    {
     "name": "stdout",
     "output_type": "stream",
     "text": [
      " message: The solution converged.\n",
      " success: True\n",
      "  status: 1\n",
      "     fun: [ 9.770e-15]\n",
      "       x: [ 1.563e+00]\n",
      "    nfev: 8\n",
      "    fjac: [[-1.000e+00]]\n",
      "       r: [-1.280e+00]\n",
      "     qtf: [-4.851e-09]\n"
     ]
    }
   ],
   "source": [
    "import numpy as np\n",
    "\n",
    "\n",
    "def func(x, a):\n",
    "    return a * np.sqrt(x) - 4.0\n",
    "\n",
    "\n",
    "sol = root(lambda x: func(x, 3.2), 3)\n",
    "print(sol)"
   ]
  },
  {
   "cell_type": "markdown",
   "id": "10dbe61f",
   "metadata": {},
   "source": [
    "Any function that takes a function as an argument can use lambda functions. Here we use a lambda function that adds two numbers in the `reduce` function to sum a list of numbers.\n",
    "\n"
   ]
  },
  {
   "cell_type": "code",
   "execution_count": 34,
   "id": "84a26763",
   "metadata": {},
   "outputs": [
    {
     "name": "stdout",
     "output_type": "stream",
     "text": [
      "10\n"
     ]
    }
   ],
   "source": [
    "import functools as ft\n",
    "\n",
    "print(ft.reduce(lambda x, y: x + y, [0, 1, 2, 3, 4]))"
   ]
  },
  {
   "cell_type": "markdown",
   "id": "7441af8e",
   "metadata": {},
   "source": [
    "We can evaluate the integral $\\int_0^2 x^2 dx$ with a lambda function.\n",
    "\n"
   ]
  },
  {
   "cell_type": "code",
   "execution_count": 35,
   "id": "60dd4db2",
   "metadata": {},
   "outputs": [
    {
     "name": "stdout",
     "output_type": "stream",
     "text": [
      "(2.666666666666667, 2.960594732333751e-14)\n"
     ]
    }
   ],
   "source": [
    "from scipy.integrate import quad\n",
    "\n",
    "print(quad(lambda x: x**2, 0, 2))"
   ]
  },
  {
   "cell_type": "markdown",
   "id": "ac86d426",
   "metadata": {},
   "source": [
    "### Summary\n",
    "\n"
   ]
  },
  {
   "cell_type": "markdown",
   "id": "04ca3dfa",
   "metadata": {},
   "source": [
    "Lambda functions can be helpful. They are never necessary. You can always define a function using `def`, but for some small, single-use functions, a lambda function could make sense. Lambda functions have some limitations, including that they are limited to a single expression, and they lack documentation strings.\n",
    "\n"
   ]
  },
  {
   "cell_type": "markdown",
   "id": "171742df",
   "metadata": {},
   "source": [
    "## Creating arrays in python\n",
    "\n"
   ]
  },
  {
   "cell_type": "markdown",
   "id": "4a353676",
   "metadata": {},
   "source": [
    "Often, we will have a set of 1-D arrays, and we would like to construct a 2D array with those vectors as either the rows or columns of the array. This may happen because we have data from different sources we want to combine, or because we organize the code with variables that are easy to read, and then want to combine the variables. Here are examples of doing that to get the vectors as the columns.\n",
    "\n"
   ]
  },
  {
   "cell_type": "code",
   "execution_count": 36,
   "id": "eb7b5876",
   "metadata": {},
   "outputs": [
    {
     "name": "stdout",
     "output_type": "stream",
     "text": [
      "[[1 4]\n",
      " [2 5]\n",
      " [3 6]]\n",
      "[[1 4]\n",
      " [2 5]\n",
      " [3 6]]\n"
     ]
    }
   ],
   "source": [
    "a = np.array([1, 2, 3])\n",
    "b = np.array([4, 5, 6])\n",
    "\n",
    "print(np.column_stack([a, b]))\n",
    "\n",
    "# this means stack the arrays vertically, e.g. on top of each other\n",
    "print(np.vstack([a, b]).T)"
   ]
  },
  {
   "cell_type": "markdown",
   "id": "261f6796",
   "metadata": {},
   "source": [
    "Or rows:\n",
    "\n"
   ]
  },
  {
   "cell_type": "code",
   "execution_count": 37,
   "id": "075f6693",
   "metadata": {},
   "outputs": [
    {
     "name": "stdout",
     "output_type": "stream",
     "text": [
      "[[1 2 3]\n",
      " [4 5 6]]\n",
      "[[1 2 3]\n",
      " [4 5 6]]\n"
     ]
    }
   ],
   "source": [
    "a = np.array([1, 2, 3])\n",
    "b = np.array([4, 5, 6])\n",
    "\n",
    "print(np.row_stack([a, b]))\n",
    "\n",
    "# this means stack the arrays vertically, e.g. on top of each other\n",
    "print(np.vstack([a, b]))"
   ]
  },
  {
   "cell_type": "markdown",
   "id": "2fde0394",
   "metadata": {},
   "source": [
    "The opposite operation is to extract the rows or columns of a 2D array into smaller arrays. We might want to do that to extract a row or column from a calculation for further analysis, or plotting for example. There are splitting functions in numpy. They are somewhat confusing, so we examine some examples. The numpy.hsplit command splits an array \"horizontally\". The best way to think about it is that the \"splits\" move horizontally across the array. In other words, you draw a vertical split, move over horizontally, draw another vertical split, etc&#x2026; You must specify the number of splits that you want, and the array must be evenly divisible by the number of splits.\n",
    "\n"
   ]
  },
  {
   "cell_type": "code",
   "execution_count": 38,
   "id": "a8dbd923",
   "metadata": {},
   "outputs": [
    {
     "name": "stdout",
     "output_type": "stream",
     "text": [
      "[[1 2]\n",
      " [4 5]]\n",
      "[[3 5]\n",
      " [6 9]]\n",
      "[[1]\n",
      " [4]]\n",
      "[[2]\n",
      " [5]]\n",
      "[[3]\n",
      " [6]]\n",
      "[[5]\n",
      " [9]]\n"
     ]
    }
   ],
   "source": [
    "A = np.array([[1, 2, 3, 5], [4, 5, 6, 9]])\n",
    "\n",
    "# split into two parts\n",
    "p1, p2 = np.hsplit(A, 2)\n",
    "print(p1)\n",
    "print(p2)\n",
    "\n",
    "# split into 4 parts\n",
    "p1, p2, p3, p4 = np.hsplit(A, 4)\n",
    "print(p1)\n",
    "print(p2)\n",
    "print(p3)\n",
    "print(p4)"
   ]
  },
  {
   "cell_type": "markdown",
   "id": "2240c2a0",
   "metadata": {},
   "source": [
    "In the numpy.vsplit command the \"splits\" go \"vertically\" down the array. Note that the split commands return 2D arrays.\n",
    "\n"
   ]
  },
  {
   "cell_type": "code",
   "execution_count": 39,
   "id": "c6048c30",
   "metadata": {},
   "outputs": [
    {
     "name": "stdout",
     "output_type": "stream",
     "text": [
      "[[1 2 3 5]]\n",
      "[[4 5 6 9]]\n",
      "(1, 4)\n"
     ]
    }
   ],
   "source": [
    "A = np.array([[1, 2, 3, 5], [4, 5, 6, 9]])\n",
    "\n",
    "# split into two parts\n",
    "p1, p2 = np.vsplit(A, 2)\n",
    "print(p1)\n",
    "print(p2)\n",
    "print(p2.shape)"
   ]
  },
  {
   "cell_type": "markdown",
   "id": "14bcf095",
   "metadata": {},
   "source": [
    "An alternative approach is array unpacking. In this example, we unpack the array into two variables. The array unpacks by row.\n",
    "\n"
   ]
  },
  {
   "cell_type": "code",
   "execution_count": 40,
   "id": "87dfb79a",
   "metadata": {},
   "outputs": [
    {
     "name": "stdout",
     "output_type": "stream",
     "text": [
      "[1 2 3 5]\n",
      "[4 5 6 9]\n"
     ]
    }
   ],
   "source": [
    "A = np.array([[1, 2, 3, 5], [4, 5, 6, 9]])\n",
    "\n",
    "# split into two parts\n",
    "p1, p2 = A\n",
    "print(p1)\n",
    "print(p2)"
   ]
  },
  {
   "cell_type": "markdown",
   "id": "95faeeee",
   "metadata": {},
   "source": [
    "To get the columns, just transpose the array.\n",
    "\n"
   ]
  },
  {
   "cell_type": "code",
   "execution_count": 41,
   "id": "9b3368e9",
   "metadata": {},
   "outputs": [
    {
     "name": "stdout",
     "output_type": "stream",
     "text": [
      "[1 4]\n",
      "[2 5]\n",
      "[3 6]\n",
      "[5 9]\n",
      "(2,)\n"
     ]
    }
   ],
   "source": [
    "A = np.array([[1, 2, 3, 5], [4, 5, 6, 9]])\n",
    "\n",
    "# split into two parts\n",
    "p1, p2, p3, p4 = A.T\n",
    "print(p1)\n",
    "print(p2)\n",
    "print(p3)\n",
    "print(p4)\n",
    "print(p4.shape)"
   ]
  },
  {
   "cell_type": "markdown",
   "id": "d3f1eb9d",
   "metadata": {},
   "source": [
    "Note that now, we have 1D arrays.\n",
    "\n",
    "You can also access rows and columns by indexing. We index an array by [row, column]. To get a row, we specify the row number, and all the columns in that row like this [row, :]. Similarly, to get a column, we specify that we want all rows in that column like this: [:, column]. This approach is useful when you only want a few columns or rows.\n",
    "\n"
   ]
  },
  {
   "cell_type": "code",
   "execution_count": 42,
   "id": "88d6b746",
   "metadata": {},
   "outputs": [
    {
     "name": "stdout",
     "output_type": "stream",
     "text": [
      "[4 5 6 9]\n",
      "[4 5 6 9]\n",
      "[3 6]\n",
      "(2,)\n"
     ]
    }
   ],
   "source": [
    "A = np.array([[1, 2, 3, 5], [4, 5, 6, 9]])\n",
    "\n",
    "# get row 1\n",
    "print(A[1])\n",
    "print(A[1, :])  # row 1, all columns\n",
    "\n",
    "print(A[:, 2])  # get third column\n",
    "print(A[:, 2].shape)"
   ]
  },
  {
   "cell_type": "markdown",
   "id": "703bf845",
   "metadata": {},
   "source": [
    "Note that even when we specify a column, it is returned as a 1D array.\n",
    "\n"
   ]
  },
  {
   "cell_type": "markdown",
   "id": "350c78dd",
   "metadata": {},
   "source": [
    "## Functions on arrays of values\n",
    "\n"
   ]
  },
  {
   "cell_type": "markdown",
   "id": "7a2a80a6",
   "metadata": {},
   "source": [
    "It is common to evaluate a function for a range of values. Let us consider the value of the function $f(x) = \\cos(x)$ over the range of $0 < x < \\pi$. We cannot consider every value in that range, but we can consider say 10 points in the range. The func:numpy.linspace conveniently creates an array of values.\n",
    "\n"
   ]
  },
  {
   "cell_type": "code",
   "execution_count": 43,
   "id": "17e84a7a",
   "metadata": {},
   "outputs": [
    {
     "name": "stdout",
     "output_type": "stream",
     "text": [
      "[0.         0.34906585 0.6981317  1.04719755 1.3962634  1.74532925\n",
      " 2.0943951  2.44346095 2.7925268  3.14159265]\n"
     ]
    }
   ],
   "source": [
    "print(np.linspace(0, np.pi, 10))"
   ]
  },
  {
   "cell_type": "markdown",
   "id": "b0bc7b7c",
   "metadata": {},
   "source": [
    "The main point of using the mod:numpy functions is that they work element-wise on elements of an array. In this example, we compute the $\\cos(x)$ for each element of $x$.\n",
    "\n"
   ]
  },
  {
   "cell_type": "code",
   "execution_count": 44,
   "id": "2262a3f6",
   "metadata": {},
   "outputs": [
    {
     "name": "stdout",
     "output_type": "stream",
     "text": [
      "[ 1.          0.93969262  0.76604444  0.5         0.17364818 -0.17364818\n",
      " -0.5        -0.76604444 -0.93969262 -1.        ]\n"
     ]
    }
   ],
   "source": [
    "x = np.linspace(0, np.pi, 10)\n",
    "print(np.cos(x))"
   ]
  },
  {
   "cell_type": "markdown",
   "id": "a4137e30",
   "metadata": {},
   "source": [
    "You can already see from this output that there is a root to the equation $\\cos(x) = 0$, because there is a change in sign in the output. This is not a very convenient way to view the results; a graph would be better.  We use mod:matplotlib to make figures. Here is an example.\n",
    "\n"
   ]
  },
  {
   "cell_type": "code",
   "execution_count": 45,
   "id": "908eaff9",
   "metadata": {},
   "outputs": [
    {
     "data": {
      "image/png": "[encoded data removed]",
      "text/plain": [
       "<Figure size 640x480 with 1 Axes>"
      ]
     },
     "metadata": {},
     "output_type": "display_data"
    }
   ],
   "source": [
    "import matplotlib.pyplot as plt\n",
    "import numpy as np\n",
    "\n",
    "x = np.linspace(0, np.pi, 10)\n",
    "plt.plot(x, np.cos(x))\n",
    "plt.xlabel(\"x\")\n",
    "plt.ylabel(\"cos(x)\");"
   ]
  },
  {
   "cell_type": "markdown",
   "id": "59f8c050",
   "metadata": {},
   "source": [
    "This figure illustrates graphically what the numbers above show. The function crosses zero at approximately $x = 1.5$. To get a more precise value, we must actually solve the function numerically. We use the function func:scipy.optimize.fsolve to do that. More precisely, we want to solve the equation $f(x) = \\cos(x) = 0$. We create a function that defines that equation, and then use func:scipy.optimize.fsolve to solve it.\n",
    "\n"
   ]
  },
  {
   "cell_type": "code",
   "execution_count": 46,
   "id": "6af2e28b",
   "metadata": {},
   "outputs": [
    {
     "name": "stdout",
     "output_type": "stream",
     "text": [
      " message: The solution converged.\n",
      " success: True\n",
      "  status: 1\n",
      "     fun: [ 6.123e-17]\n",
      "       x: [ 1.571e+00]\n",
      "    nfev: 11\n",
      "    fjac: [[-1.000e+00]]\n",
      "       r: [ 0.000e+00]\n",
      "     qtf: [-6.123e-17]\n",
      "1.5707963267948966\n"
     ]
    }
   ],
   "source": [
    "from scipy.optimize import root\n",
    "import numpy as np\n",
    "\n",
    "\n",
    "def f(x):\n",
    "    return np.cos(x)\n",
    "\n",
    "\n",
    "sol = root(f, x0=1.5)  # the comma after sol makes it return a float\n",
    "print(sol)\n",
    "print(np.pi / 2)"
   ]
  },
  {
   "cell_type": "markdown",
   "id": "3af3f895",
   "metadata": {},
   "source": [
    "We know the solution is &pi;/2.\n",
    "\n"
   ]
  },
  {
   "cell_type": "markdown",
   "id": "df1a4c24",
   "metadata": {},
   "source": [
    "## Some basic data structures in python\n",
    "\n"
   ]
  },
  {
   "cell_type": "markdown",
   "id": "33a40cfc",
   "metadata": {},
   "source": [
    "[Matlab post](http://matlab.cheme.cmu.edu/2011/09/26/some-basic-data-structures-in-matlab/)\n",
    "\n",
    "We often have a need to organize data into structures when solving problems.\n",
    "\n"
   ]
  },
  {
   "cell_type": "markdown",
   "id": "e8cf62db",
   "metadata": {},
   "source": [
    "### the list\n",
    "\n"
   ]
  },
  {
   "cell_type": "markdown",
   "id": "12e4d4f7",
   "metadata": {},
   "source": [
    "A list in python is data separated by commas in square brackets. Here, we might store the following data in a variable to describe the Antoine coefficients for benzene and the range they are relevant for [Tmin Tmax]. Lists are flexible, you can put anything in them, including other lists. We access the elements of the list by indexing:\n",
    "\n"
   ]
  },
  {
   "cell_type": "code",
   "execution_count": 47,
   "id": "8fc7c153",
   "metadata": {},
   "outputs": [
    {
     "name": "stdout",
     "output_type": "stream",
     "text": [
      "benzene\n",
      "[-16, 104]\n",
      "benzene 6.9056\n",
      "[-16, 104]\n"
     ]
    }
   ],
   "source": [
    "c = [\"benzene\", 6.9056, 1211.0, 220.79, [-16, 104]]\n",
    "print(c[0])\n",
    "print(c[-1])\n",
    "\n",
    "a, b = c[0:2]\n",
    "print(a, b)\n",
    "\n",
    "name, A, B, C, Trange = c\n",
    "print(Trange)"
   ]
  },
  {
   "cell_type": "markdown",
   "id": "34ac5bb5",
   "metadata": {},
   "source": [
    "Lists are \"mutable\", which means you can change their values.\n",
    "\n"
   ]
  },
  {
   "cell_type": "code",
   "execution_count": 48,
   "id": "a570673a",
   "metadata": {},
   "outputs": [
    {
     "name": "stdout",
     "output_type": "stream",
     "text": [
      "3 cat\n",
      "[3, 4, 5, [7, 8], 'dog']\n"
     ]
    }
   ],
   "source": [
    "a = [3, 4, 5, [7, 8], \"cat\"]\n",
    "print(a[0], a[-1])\n",
    "a[-1] = \"dog\"\n",
    "print(a)"
   ]
  },
  {
   "cell_type": "markdown",
   "id": "38938005",
   "metadata": {},
   "source": [
    "### tuples\n",
    "\n"
   ]
  },
  {
   "cell_type": "markdown",
   "id": "a7907b5e",
   "metadata": {},
   "source": [
    "Tuples are *immutable*; you cannot change their values. This is handy in cases where it is an error to change the value. A tuple is like a list but it is enclosed in parentheses.\n",
    "\n"
   ]
  },
  {
   "cell_type": "code",
   "execution_count": 49,
   "id": "65a6c4e4",
   "metadata": {},
   "outputs": [
    {
     "name": "stdout",
     "output_type": "stream",
     "text": [
      "3 cat\n"
     ]
    },
    {
     "ename": "TypeError",
     "evalue": "'tuple' object does not support item assignment",
     "output_type": "error",
     "traceback": [
      "\u001b[0;31m---------------------------------------------------------------------------\u001b[0m",
      "\u001b[0;31mTypeError\u001b[0m                                 Traceback (most recent call last)",
      "Cell \u001b[0;32mIn[49], line 3\u001b[0m\n\u001b[1;32m      1\u001b[0m a \u001b[38;5;241m=\u001b[39m (\u001b[38;5;241m3\u001b[39m, \u001b[38;5;241m4\u001b[39m, \u001b[38;5;241m5\u001b[39m, [\u001b[38;5;241m7\u001b[39m, \u001b[38;5;241m8\u001b[39m], \u001b[38;5;124m'\u001b[39m\u001b[38;5;124mcat\u001b[39m\u001b[38;5;124m'\u001b[39m)\n\u001b[1;32m      2\u001b[0m \u001b[38;5;28mprint\u001b[39m(a[\u001b[38;5;241m0\u001b[39m], a[\u001b[38;5;241m-\u001b[39m\u001b[38;5;241m1\u001b[39m])\n\u001b[0;32m----> 3\u001b[0m a[\u001b[38;5;241m-\u001b[39m\u001b[38;5;241m1\u001b[39m] \u001b[38;5;241m=\u001b[39m \u001b[38;5;124m'\u001b[39m\u001b[38;5;124mdog\u001b[39m\u001b[38;5;124m'\u001b[39m\n",
      "\u001b[0;31mTypeError\u001b[0m: 'tuple' object does not support item assignment"
     ]
    }
   ],
   "source": [
    "a = (3, 4, 5, [7, 8], \"cat\")\n",
    "print(a[0], a[-1])\n",
    "a[-1] = \"dog\"  # this is an error"
   ]
  },
  {
   "cell_type": "markdown",
   "id": "9b3e7ca3",
   "metadata": {},
   "source": [
    "### struct\n",
    "\n"
   ]
  },
  {
   "cell_type": "markdown",
   "id": "d10c8f1e",
   "metadata": {},
   "source": [
    "Python does not exactly have the same thing as a struct in Matlab. You can achieve something like it by defining an empty class and then defining attributes of the class. You can check if an object has a particular attribute using hasattr.\n",
    "\n"
   ]
  },
  {
   "cell_type": "code",
   "execution_count": 50,
   "id": "a4c74677",
   "metadata": {},
   "outputs": [
    {
     "name": "stdout",
     "output_type": "stream",
     "text": [
      "benzene\n",
      "True\n",
      "False\n"
     ]
    }
   ],
   "source": [
    "class Antoine:\n",
    "    pass\n",
    "\n",
    "\n",
    "a = Antoine()\n",
    "a.name = \"benzene\"\n",
    "a.Trange = [-16, 104]\n",
    "\n",
    "print(a.name)\n",
    "print(hasattr(a, \"Trange\"))\n",
    "print(hasattr(a, \"A\"))"
   ]
  },
  {
   "cell_type": "markdown",
   "id": "6a2aa349",
   "metadata": {},
   "source": [
    "### dictionaries\n",
    "\n"
   ]
  },
  {
   "cell_type": "markdown",
   "id": "3d369848",
   "metadata": {},
   "source": [
    "The analog of the containers.Map in Matlab is the dictionary in python. Dictionaries are enclosed in curly brackets, and are composed of key:value pairs.\n",
    "\n"
   ]
  },
  {
   "cell_type": "code",
   "execution_count": 51,
   "id": "a5c5875b",
   "metadata": {},
   "outputs": [
    {
     "name": "stdout",
     "output_type": "stream",
     "text": [
      "{'name': 'benzene', 'A': 6.9056, 'B': 1211.0, 'C': 220.79, 'Trange': [-16, 104]}\n",
      "[-16, 104]\n"
     ]
    }
   ],
   "source": [
    "s = {\"name\": \"benzene\", \"A\": 6.9056, \"B\": 1211.0}\n",
    "\n",
    "s[\"C\"] = 220.79\n",
    "s[\"Trange\"] = [-16, 104]\n",
    "\n",
    "print(s)\n",
    "print(s[\"Trange\"])"
   ]
  },
  {
   "cell_type": "code",
   "execution_count": 52,
   "id": "01683ef8",
   "metadata": {},
   "outputs": [
    {
     "name": "stdout",
     "output_type": "stream",
     "text": [
      "False\n",
      "None\n",
      "dict_keys(['name', 'A', 'B'])\n",
      "dict_values(['benzene', 6.9056, 1211.0])\n"
     ]
    }
   ],
   "source": [
    "s = {\"name\": \"benzene\", \"A\": 6.9056, \"B\": 1211.0}\n",
    "\n",
    "print(\"C\" in s)\n",
    "# default value for keys not in the dictionary\n",
    "print(s.get(\"C\", None))\n",
    "\n",
    "print(s.keys())\n",
    "print(s.values())"
   ]
  },
  {
   "cell_type": "markdown",
   "id": "65544900",
   "metadata": {},
   "source": [
    "### Summary\n",
    "\n"
   ]
  },
  {
   "cell_type": "markdown",
   "id": "a7cced76",
   "metadata": {},
   "source": [
    "We have examined four data structures in python. Note that none of these types are arrays/vectors with defined mathematical operations. For those, you need to consider numpy.array.\n",
    "\n"
   ]
  },
  {
   "cell_type": "markdown",
   "id": "010494ea",
   "metadata": {},
   "source": [
    "## Indexing vectors and arrays in Python\n",
    "\n"
   ]
  },
  {
   "cell_type": "markdown",
   "id": "0b05418b",
   "metadata": {},
   "source": [
    "[Matlab post](http://matlab.cheme.cmu.edu/2011/08/24/indexing-vectors-and-arrays-in-matlab/)\n",
    "\n",
    "There are times where you have a lot of data in a vector or array and you want to extract a portion of the data for some analysis. For example, maybe you want to plot column 1 vs column 2, or you want the integral of data between x = 4 and x = 6, but your vector covers 0 < x < 10. Indexing is the way to do these things.\n",
    "\n",
    "A key point to remember is that in python array/vector indices start at 0. Unlike Matlab, which uses parentheses to index a array, we use brackets in python.\n",
    "\n"
   ]
  },
  {
   "cell_type": "code",
   "execution_count": 53,
   "id": "dd8fb27c",
   "metadata": {},
   "outputs": [
    {
     "name": "stdout",
     "output_type": "stream",
     "text": [
      "[-3.14159265 -2.44346095 -1.74532925 -1.04719755 -0.34906585  0.34906585\n",
      "  1.04719755  1.74532925  2.44346095  3.14159265]\n",
      "-3.141592653589793\n",
      "-1.7453292519943295\n",
      "3.141592653589793\n",
      "2.443460952792061\n"
     ]
    }
   ],
   "source": [
    "import numpy as np\n",
    "\n",
    "x = np.linspace(-np.pi, np.pi, 10)\n",
    "print(x)\n",
    "\n",
    "print(x[0])  # first element\n",
    "print(x[2])  # third element\n",
    "print(x[-1])  # last element\n",
    "print(x[-2])  # second to last element"
   ]
  },
  {
   "cell_type": "markdown",
   "id": "da096e34",
   "metadata": {},
   "source": [
    "We can select a range of elements too. The syntax a:b extracts the a<sup>th</sup> to (b-1)<sup>th</sup> elements. The syntax a:b:n starts at a, skips nelements up to the index b.\n",
    "\n"
   ]
  },
  {
   "cell_type": "code",
   "execution_count": 54,
   "id": "1fc1488d",
   "metadata": {},
   "outputs": [
    {
     "name": "stdout",
     "output_type": "stream",
     "text": [
      "[-2.44346095 -1.74532925 -1.04719755]\n",
      "[-3.14159265 -1.74532925 -0.34906585  1.04719755  2.44346095]\n",
      "[-3.14159265 -2.44346095 -1.74532925 -1.04719755 -0.34906585  0.34906585\n",
      "  1.04719755  1.74532925  2.44346095  3.14159265]\n",
      "[ 3.14159265  2.44346095  1.74532925  1.04719755  0.34906585 -0.34906585\n",
      " -1.04719755 -1.74532925 -2.44346095]\n"
     ]
    }
   ],
   "source": [
    "print(x[1:4])  # second to fourth element. Element 5 is not included\n",
    "print(x[0:-1:2])  # every other element\n",
    "print(x[:])  # print the whole vector\n",
    "print(x[-1:0:-1])  # reverse the vector!"
   ]
  },
  {
   "cell_type": "markdown",
   "id": "a750f629",
   "metadata": {},
   "source": [
    "Suppose we want the part of the vector where x > 2. We could do that by inspection, but there is a better way. We can create a mask of boolean (0 or 1) values that specify whether x > 2 or not, and then use the mask as an index.\n",
    "\n"
   ]
  },
  {
   "cell_type": "code",
   "execution_count": 55,
   "id": "90ecc41c",
   "metadata": {},
   "outputs": [
    {
     "name": "stdout",
     "output_type": "stream",
     "text": [
      "[2.44346095 3.14159265]\n"
     ]
    }
   ],
   "source": [
    "print(x[x > 2])"
   ]
  },
  {
   "cell_type": "markdown",
   "id": "fa7e16ea",
   "metadata": {},
   "source": [
    "You can use this to analyze subsections of data, for example to integrate the function y = sin(x) where x > 2.\n",
    "\n"
   ]
  },
  {
   "cell_type": "code",
   "execution_count": 56,
   "id": "f61707d4",
   "metadata": {},
   "outputs": [
    {
     "name": "stdout",
     "output_type": "stream",
     "text": [
      "-1.7950016288086892\n"
     ]
    }
   ],
   "source": [
    "y = np.sin(x)\n",
    "\n",
    "print(np.trapz(x[x > 2], y[x > 2]))"
   ]
  },
  {
   "cell_type": "markdown",
   "id": "a2cb2002",
   "metadata": {},
   "source": [
    "### 2d arrays\n",
    "\n"
   ]
  },
  {
   "cell_type": "markdown",
   "id": "1516873f",
   "metadata": {},
   "source": [
    "In 2d arrays, we use  row, column notation. We use a : to indicate all rows or all columns.\n",
    "\n"
   ]
  },
  {
   "cell_type": "code",
   "execution_count": 57,
   "id": "4b8b6bb1",
   "metadata": {},
   "outputs": [
    {
     "name": "stdout",
     "output_type": "stream",
     "text": [
      "1\n",
      "9\n",
      "[1 2 3]\n",
      "[1 4 7]\n",
      "[[1 2 3]\n",
      " [4 5 6]\n",
      " [7 8 9]]\n"
     ]
    }
   ],
   "source": [
    "a = np.array([[1, 2, 3], [4, 5, 6], [7, 8, 9]])\n",
    "\n",
    "print(a[0, 0])\n",
    "print(a[-1, -1])\n",
    "\n",
    "print(a[0, :])  # row one\n",
    "print(a[:, 0])  # column one\n",
    "print(a[:])"
   ]
  },
  {
   "cell_type": "markdown",
   "id": "eaeea825",
   "metadata": {},
   "source": [
    "### Using indexing to assign values to rows and columns\n",
    "\n"
   ]
  },
  {
   "cell_type": "code",
   "execution_count": 58,
   "id": "595c2da7",
   "metadata": {},
   "outputs": [
    {
     "name": "stdout",
     "output_type": "stream",
     "text": [
      "[[0. 0. 0.]\n",
      " [0. 0. 0.]\n",
      " [0. 0. 0.]]\n",
      "[[ 1.  0.  0.]\n",
      " [ 2.  0.  0.]\n",
      " [ 3.  0. 12.]]\n",
      "[[1. 0. 0.]\n",
      " [2. 0. 0.]\n",
      " [6. 6. 6.]]\n"
     ]
    }
   ],
   "source": [
    "b = np.zeros((3, 3))\n",
    "print(b)\n",
    "\n",
    "b[:, 0] = [1, 2, 3]  # set column 0\n",
    "b[2, 2] = 12  # set a single element\n",
    "print(b)\n",
    "\n",
    "b[2] = 6  # sets everything in row 2 to 6!\n",
    "print(b)"
   ]
  },
  {
   "cell_type": "markdown",
   "id": "ebe15deb",
   "metadata": {},
   "source": [
    "Python does not have the linear assignment method like Matlab does. You can achieve something like that as follows. We flatten the array to 1D, do the linear assignment, and reshape the result back to the 2D array.\n",
    "\n"
   ]
  },
  {
   "cell_type": "code",
   "execution_count": 59,
   "id": "d7c6c7c4",
   "metadata": {},
   "outputs": [
    {
     "name": "stdout",
     "output_type": "stream",
     "text": [
      "[[ 1.  0. 34.]\n",
      " [ 2.  0.  0.]\n",
      " [ 6.  6.  6.]]\n"
     ]
    }
   ],
   "source": [
    "c = b.flatten()\n",
    "c[2] = 34\n",
    "b[:] = c.reshape(b.shape)\n",
    "print(b)"
   ]
  },
  {
   "cell_type": "markdown",
   "id": "6fd4d7c1",
   "metadata": {},
   "source": [
    "### 3D arrays\n",
    "\n"
   ]
  },
  {
   "cell_type": "markdown",
   "id": "b449ff8a",
   "metadata": {},
   "source": [
    "The 3d array is like book of 2D matrices. Each page has a 2D matrix on it. think about the indexing like this: (row, column, page)\n",
    "\n"
   ]
  },
  {
   "cell_type": "code",
   "execution_count": 60,
   "id": "fe0c38de",
   "metadata": {},
   "outputs": [
    {
     "name": "stdout",
     "output_type": "stream",
     "text": [
      "[[[0.27262319 0.01615835 0.91053896]\n",
      "  [0.41618445 0.54875926 0.66423935]\n",
      "  [0.12183699 0.24202743 0.01723552]]\n",
      "\n",
      " [[0.49179222 0.57852352 0.70006908]\n",
      "  [0.97638421 0.86707367 0.94072966]\n",
      "  [0.86051783 0.48750351 0.85237837]]\n",
      "\n",
      " [[0.84298729 0.06447785 0.11406558]\n",
      "  [0.40840905 0.73729567 0.35494378]\n",
      "  [0.05108436 0.92819322 0.74138498]]]\n"
     ]
    }
   ],
   "source": [
    "M = np.random.uniform(size=(3, 3, 3))  # a 3x3x3 array\n",
    "print(M)"
   ]
  },
  {
   "cell_type": "code",
   "execution_count": 61,
   "id": "4cef0947",
   "metadata": {},
   "outputs": [
    {
     "name": "stdout",
     "output_type": "stream",
     "text": [
      "[[0.27262319 0.41618445 0.12183699]\n",
      " [0.49179222 0.97638421 0.86051783]\n",
      " [0.84298729 0.40840905 0.05108436]]\n",
      "[0.27262319 0.49179222 0.84298729]\n",
      "[0.70006908 0.94072966 0.85237837]\n"
     ]
    }
   ],
   "source": [
    "print(M[:, :, 0])  # 2d array on page 0\n",
    "print(M[:, 0, 0])  # column 0 on page 0\n",
    "print(M[1, :, 2])  # row 1 on page 2"
   ]
  },
  {
   "cell_type": "markdown",
   "id": "c65dca9c",
   "metadata": {},
   "source": [
    "### Summary\n",
    "\n"
   ]
  },
  {
   "cell_type": "markdown",
   "id": "fb105ce0",
   "metadata": {},
   "source": [
    "The most common place to use indexing is probably when a function returns an array with the independent variable in column 1 and solution in column 2, and you want to plot the solution. Second is when you want to analyze one part of the solution. There are also applications in numerical methods, for example in assigning values to the elements of a matrix or vector.\n",
    "\n"
   ]
  },
  {
   "cell_type": "markdown",
   "id": "291dfb27",
   "metadata": {},
   "source": [
    "## Controlling the format of printed variables\n",
    "\n"
   ]
  },
  {
   "cell_type": "markdown",
   "id": "2f592180",
   "metadata": {},
   "source": [
    "This was first worked out in this [original Matlab post](http://matlab.cheme.cmu.edu/2011/10/06/sprintfing-to-the-finish/).\n",
    "\n",
    "Often you will want to control the way a variable is printed. You may want to only show a few decimal places, or print in scientific notation, or embed the result in a string. Here are some examples of printing with no control over the format.\n",
    "\n"
   ]
  },
  {
   "cell_type": "code",
   "execution_count": 62,
   "id": "013ac261",
   "metadata": {},
   "outputs": [
    {
     "name": "stdout",
     "output_type": "stream",
     "text": [
      "0.6666666666666666\n",
      "0.3333333333333333\n",
      "0.3333333333333333\n",
      "10.1\n",
      "Avogadro's number is 6.022e23.\n"
     ]
    }
   ],
   "source": [
    "a = 2.0 / 3\n",
    "print(a)\n",
    "print(1 / 3)\n",
    "print(1.0 / 3.0)\n",
    "print(10.1)\n",
    "print(\"Avogadro's number is 6.022e23.\")"
   ]
  },
  {
   "cell_type": "markdown",
   "id": "6be36f44",
   "metadata": {},
   "source": [
    "There is no control over the number of decimals, or spaces around a printed number.\n",
    "\n",
    "In python, we use the format function to control how variables are printed. With the format function you use codes like {*n*:format specifier} to indicate that a formatted string should be used. *n* is the *n<sup>th</sup>* argument passed to format, and there are a variety of format specifiers. Here we examine how to format float numbers. The specifier has the general form \"w.df\" where w is the width of the field, and d is the number of decimals, and f indicates a float number. \"1.3f\" means to print a float number with 3 decimal places. Here is an example.\n",
    "\n"
   ]
  },
  {
   "cell_type": "code",
   "execution_count": 63,
   "id": "328354bf",
   "metadata": {},
   "outputs": [
    {
     "name": "stdout",
     "output_type": "stream",
     "text": [
      "The value of 1/3 to 3 decimal places is 0.333\n"
     ]
    }
   ],
   "source": [
    "print(\"The value of 1/3 to 3 decimal places is {0:1.3f}\".format(1.0 / 3.0))"
   ]
  },
  {
   "cell_type": "markdown",
   "id": "c90a2986",
   "metadata": {},
   "source": [
    "In that example, the 0 in {0:1.3f} refers to the first (and only) argument to the format function. If there is more than one argument, we can refer to them like this:\n",
    "\n"
   ]
  },
  {
   "cell_type": "code",
   "execution_count": 64,
   "id": "b7fad334",
   "metadata": {},
   "outputs": [
    {
     "name": "stdout",
     "output_type": "stream",
     "text": [
      "Value 0 = 0.333, value 1 = 0.167, value 0 = 0.333\n"
     ]
    }
   ],
   "source": [
    "print(\"Value 0 = {0:1.3f}, value 1 = {1:1.3f}, value 0 = {0:1.3f}\".format(1.0 / 3.0, 1.0 / 6.0))"
   ]
  },
  {
   "cell_type": "markdown",
   "id": "f362a218",
   "metadata": {},
   "source": [
    "Note you can refer to the same argument more than once, and in arbitrary order within the string.\n",
    "\n",
    "Suppose you have a list of numbers you want to print out, like this:\n",
    "\n"
   ]
  },
  {
   "cell_type": "code",
   "execution_count": 65,
   "id": "f61a9835",
   "metadata": {},
   "outputs": [
    {
     "name": "stdout",
     "output_type": "stream",
     "text": [
      "The answer is 0.33\n",
      "The answer is 0.17\n",
      "The answer is 0.11\n"
     ]
    }
   ],
   "source": [
    "for x in [1.0 / 3.0, 1.0 / 6.0, 1.0 / 9.0]:\n",
    "    print(\"The answer is {0:1.2f}\".format(x))"
   ]
  },
  {
   "cell_type": "markdown",
   "id": "fb485155",
   "metadata": {},
   "source": [
    "The \"g\" format specifier is a general format that can be used to indicate a precision, or to indicate significant digits. To print a number with a specific number of significant digits we do this:\n",
    "\n"
   ]
  },
  {
   "cell_type": "code",
   "execution_count": 66,
   "id": "8ac760be",
   "metadata": {},
   "outputs": [
    {
     "name": "stdout",
     "output_type": "stream",
     "text": [
      "0.333\n",
      "1.33\n"
     ]
    }
   ],
   "source": [
    "print(\"{0:1.3g}\".format(1.0 / 3.0))\n",
    "print(\"{0:1.3g}\".format(4.0 / 3.0))"
   ]
  },
  {
   "cell_type": "markdown",
   "id": "53b5b434",
   "metadata": {},
   "source": [
    "We can also specify plus or minus signs. Compare the next two outputs.\n",
    "\n"
   ]
  },
  {
   "cell_type": "code",
   "execution_count": 67,
   "id": "4962c720",
   "metadata": {},
   "outputs": [
    {
     "name": "stdout",
     "output_type": "stream",
     "text": [
      "-1.00\n",
      "1.00\n"
     ]
    }
   ],
   "source": [
    "for x in [-1.0, 1.0]:\n",
    "    print(\"{0:1.2f}\".format(x))"
   ]
  },
  {
   "cell_type": "markdown",
   "id": "97e064c6",
   "metadata": {},
   "source": [
    "You can see the decimals do not align. That is because there is a minus sign in front of one number. We can specify to show the sign for positive and negative numbers, or to pad positive numbers to leave space for positive numbers.\n",
    "\n"
   ]
  },
  {
   "cell_type": "code",
   "execution_count": 68,
   "id": "f2064eae",
   "metadata": {},
   "outputs": [
    {
     "name": "stdout",
     "output_type": "stream",
     "text": [
      "-1.00\n",
      "+1.00\n",
      "-1.00\n",
      " 1.00\n"
     ]
    }
   ],
   "source": [
    "for x in [-1.0, 1.0]:\n",
    "    print(\"{0:+1.2f}\".format(x))  # explicit sign\n",
    "\n",
    "for x in [-1.0, 1.0]:\n",
    "    print(\"{0: 1.2f}\".format(x))  # pad positive numbers"
   ]
  },
  {
   "cell_type": "markdown",
   "id": "9aa5b73d",
   "metadata": {},
   "source": [
    "We use the \"e\" or \"E\" format modifier to specify scientific notation.\n",
    "\n"
   ]
  },
  {
   "cell_type": "code",
   "execution_count": 69,
   "id": "6b3bab90",
   "metadata": {},
   "outputs": [
    {
     "name": "stdout",
     "output_type": "stream",
     "text": [
      "2.220446049250313e-16\n",
      "2.220446049250313e-16\n",
      "0.00\n",
      "2.22e-16\n",
      "2.22E-16\n"
     ]
    }
   ],
   "source": [
    "import numpy as np\n",
    "\n",
    "eps = np.finfo(np.double).eps\n",
    "print(eps)\n",
    "print(\"{0}\".format(eps))\n",
    "print(\"{0:1.2f}\".format(eps))\n",
    "print(\"{0:1.2e}\".format(eps))  # exponential notation\n",
    "print(\"{0:1.2E}\".format(eps))  # exponential notation with capital E"
   ]
  },
  {
   "cell_type": "markdown",
   "id": "99dfa9a0",
   "metadata": {},
   "source": [
    "As a float with 2 decimal places, that very small number is practically equal to 0.\n",
    "\n",
    "We can even format percentages. Note you do not need to put the % in your string.\n",
    "\n"
   ]
  },
  {
   "cell_type": "code",
   "execution_count": 70,
   "id": "63420126",
   "metadata": {},
   "outputs": [
    {
     "name": "stdout",
     "output_type": "stream",
     "text": [
      "the fraction 0.78 corresponds to 78%\n"
     ]
    }
   ],
   "source": [
    "print(\"the fraction {0} corresponds to {0:1.0%}\".format(0.78))"
   ]
  },
  {
   "cell_type": "markdown",
   "id": "e5d8cfa3",
   "metadata": {},
   "source": [
    "There are many other options for formatting strings. See [http://docs.python.org/2/library/string.html#formatstrings>](http://docs.python.org/2/library/string.html#formatstrings>)for a full specification of the options.\n",
    "\n"
   ]
  },
  {
   "cell_type": "markdown",
   "id": "0bf47cab",
   "metadata": {},
   "source": [
    "## Advanced string formatting\n",
    "\n"
   ]
  },
  {
   "cell_type": "markdown",
   "id": "f6186756",
   "metadata": {},
   "source": [
    "There are several more advanced ways to include formatted values in a string. In the previous case we examined replacing format specifiers by *positional* arguments in the format command. We can instead use *keyword* arguments.\n",
    "\n"
   ]
  },
  {
   "cell_type": "code",
   "execution_count": 71,
   "id": "251199c6",
   "metadata": {},
   "outputs": [
    {
     "name": "stdout",
     "output_type": "stream",
     "text": [
      "The quick brown fox\n"
     ]
    }
   ],
   "source": [
    "s = \"The {speed} {color} fox\".format(color=\"brown\", speed=\"quick\")\n",
    "print(s)"
   ]
  },
  {
   "cell_type": "markdown",
   "id": "5a899638",
   "metadata": {},
   "source": [
    "If you have a lot of variables already defined in a script, it is convenient to use them in string formatting with the locals command:\n",
    "\n"
   ]
  },
  {
   "cell_type": "code",
   "execution_count": 72,
   "id": "2b1a340b",
   "metadata": {},
   "outputs": [
    {
     "name": "stdout",
     "output_type": "stream",
     "text": [
      "The slow blue fox\n"
     ]
    }
   ],
   "source": [
    "speed = \"slow\"\n",
    "color = \"blue\"\n",
    "\n",
    "print(\"The {speed} {color} fox\".format(**locals()))"
   ]
  },
  {
   "cell_type": "markdown",
   "id": "efcabfa8",
   "metadata": {},
   "source": [
    "If you want to access attributes on an object, you can specify them directly in the format identifier.\n",
    "\n"
   ]
  },
  {
   "cell_type": "code",
   "execution_count": 73,
   "id": "81cb9097",
   "metadata": {},
   "outputs": [
    {
     "name": "stdout",
     "output_type": "stream",
     "text": [
      "a = 3, b = 4, c = 5.00\n"
     ]
    }
   ],
   "source": [
    "class A:\n",
    "    def __init__(self, a, b, c):\n",
    "        self.a = a\n",
    "        self.b = b\n",
    "        self.c = c\n",
    "\n",
    "\n",
    "mya = A(3, 4, 5)\n",
    "\n",
    "print(\"a = {obj.a}, b = {obj.b}, c = {obj.c:1.2f}\".format(obj=mya))"
   ]
  },
  {
   "cell_type": "markdown",
   "id": "cbc5fbc1",
   "metadata": {},
   "source": [
    "You can access values of a dictionary:\n",
    "\n"
   ]
  },
  {
   "cell_type": "code",
   "execution_count": 74,
   "id": "0cbf4a7d",
   "metadata": {},
   "outputs": [
    {
     "name": "stdout",
     "output_type": "stream",
     "text": [
      "the value of a in the dictionary is 56. It works woohoo!\n"
     ]
    }
   ],
   "source": [
    "d = {\"a\": 56, \"test\": \"woohoo!\"}\n",
    "\n",
    "print(\"the value of a in the dictionary is {obj[a]}. It works {obj[test]}\".format(obj=d))"
   ]
  },
  {
   "cell_type": "markdown",
   "id": "d90957f5",
   "metadata": {},
   "source": [
    "And, you can access elements of a list. Note, however you cannot use -1 as an index in this case.\n",
    "\n"
   ]
  },
  {
   "cell_type": "code",
   "execution_count": 75,
   "id": "f2cad199",
   "metadata": {},
   "outputs": [
    {
     "name": "stdout",
     "output_type": "stream",
     "text": [
      "element 0 = 4, and the last element is cat\n"
     ]
    }
   ],
   "source": [
    "L = [4, 5, \"cat\"]\n",
    "\n",
    "print(\"element 0 = {obj[0]}, and the last element is {obj[2]}\".format(obj=L))"
   ]
  },
  {
   "cell_type": "markdown",
   "id": "9214ec74",
   "metadata": {},
   "source": [
    "There are three different ways to \"print\" an object. If an object has a <u><u>format</u></u> function, that is the default used in the format command. It may be helpful to use the `str` or `repr` of an object instead. We get this with !s for `str` and !r for `repr`.\n",
    "\n"
   ]
  },
  {
   "cell_type": "code",
   "execution_count": 76,
   "id": "2302eea9",
   "metadata": {},
   "outputs": [
    {
     "name": "stdout",
     "output_type": "stream",
     "text": [
      "a=3 b=4\n",
      "str: class A, a=3 b=4\n",
      "representing: class A, a=3, b=4\n"
     ]
    }
   ],
   "source": [
    "class A:\n",
    "    def __init__(self, a, b):\n",
    "        self.a = a\n",
    "        self.b = b\n",
    "\n",
    "    def __format__(self, format):\n",
    "        s = \"a={{0:{0}}} b={{1:{0}}}\".format(format)\n",
    "        return s.format(self.a, self.b)\n",
    "\n",
    "    def __str__(self):\n",
    "        return \"str: class A, a={0} b={1}\".format(self.a, self.b)\n",
    "\n",
    "    def __repr__(self):\n",
    "        return \"representing: class A, a={0}, b={1}\".format(self.a, self.b)\n",
    "\n",
    "\n",
    "mya = A(3, 4)\n",
    "\n",
    "print(\"{0}\".format(mya))  # uses __format__\n",
    "print(\"{0!s}\".format(mya))  # uses __str__\n",
    "print(\"{0!r}\".format(mya))  # uses __repr__"
   ]
  },
  {
   "cell_type": "markdown",
   "id": "9c621a85",
   "metadata": {},
   "source": [
    "This covers the majority of string formatting requirements I have come across. If there are more sophisticated needs, they can be met with various string templating python modules. the one I have used most is [Cheetah](http://www.cheetahtemplate.org/).\n",
    "\n",
    "[Addendum <span class=\"timestamp-wrapper\"><span class=\"timestamp\">[2023-06-08 Thu]</span></span>] Since I wrote this, f-strings have become the preferred method for string-formatting.\n",
    "\n"
   ]
  }
 ],
 "metadata": {
  "kernelspec": {
   "display_name": "Python 3 (ipykernel)",
   "language": "python",
   "name": "python3"
  },
  "language_info": {
   "codemirror_mode": {
    "name": "ipython",
    "version": 3
   },
   "file_extension": ".py",
   "mimetype": "text/x-python",
   "name": "python",
   "nbconvert_exporter": "python",
   "pygments_lexer": "ipython3",
   "version": "3.10.11"
  }
 },
 "nbformat": 4,
 "nbformat_minor": 5
}

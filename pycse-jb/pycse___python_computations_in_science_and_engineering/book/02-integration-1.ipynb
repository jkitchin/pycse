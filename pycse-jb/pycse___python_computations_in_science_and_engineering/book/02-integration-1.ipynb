{
 "cells": [
  {
   "cell_type": "markdown",
   "id": "11e3d287",
   "metadata": {},
   "source": [
    "# Integration in Python\n",
    "\n",
    "- KEYWORDS: integration, trapz, cumtrapz, quad\n"
   ]
  },
  {
   "cell_type": "markdown",
   "id": "3d52ba25",
   "metadata": {},
   "source": [
    "Integration is used for many purposes in scientific problem solving. It can:\n",
    "\n",
    "1.  Represent the area under a curve or between curves\n",
    "2.  Solve differential equations\n",
    "\n",
    "We may have data that represents a function that needs to be integrated, or a function we want to integrate, or a differential equation we want to solve. We may also have data that represents a some function, and that we wish to integrate.\n",
    "\n",
    "Historically, we would have to look up or remember the formula for an integral, e.g. in a book like the 16<sup>th</sup> ed. CRC Standard Mathematical Tables, or tabulated in a page like [http://integral-table.com/downloads/single-page-integral-table.pdf](http://integral-table.com/downloads/single-page-integral-table.pdf):\n",
    "\n",
    "There are a limited number of known analytical integrals, and for everything else, we have to resort to numerical/computational approaches to evaluate them.\n",
    "\n"
   ]
  },
  {
   "cell_type": "markdown",
   "id": "fd310ce5",
   "metadata": {},
   "source": [
    "## Numerical integration of data\n",
    "\n"
   ]
  },
  {
   "cell_type": "markdown",
   "id": "bec6e1ca",
   "metadata": {},
   "source": [
    "Data can be used to represent functions. Suppose we have the function $y=x^2$, and 5 $x$ values evenly spaced from 0 to 4. We can represent this function numerically with data like this.\n",
    "\n"
   ]
  },
  {
   "cell_type": "code",
   "execution_count": null,
   "id": "008e38a2",
   "metadata": {},
   "outputs": [],
   "source": [
    "import numpy as np\n",
    "\n",
    "x = np.linspace(1, 4, 5)\n",
    "y = x**2\n",
    "\n",
    "import matplotlib.pyplot as plt\n",
    "\n",
    "plt.plot(x, y, \"bo--\")  # plot with blue circles connected by a dashed line\n",
    "plt.xlabel(\"x\")\n",
    "plt.ylabel(\"y\");"
   ]
  },
  {
   "cell_type": "markdown",
   "id": "d6a7baf5",
   "metadata": {},
   "source": [
    "If we want the area under this curve, it is represented by:\n",
    "\n",
    "$A = \\int_0^4 x^2 dx$\n",
    "\n",
    "We could analytically evaluate this as:\n",
    "\n",
    "$A = \\frac{1}{3} (4^3 - 1^3)$.\n",
    "\n",
    "Here is the analytical answer for future reference:\n",
    "\n"
   ]
  },
  {
   "cell_type": "code",
   "execution_count": null,
   "id": "afae4f8a",
   "metadata": {},
   "outputs": [],
   "source": [
    "1 / 3 * (4**3 - 1**3)"
   ]
  },
  {
   "cell_type": "markdown",
   "id": "8c94fbd1",
   "metadata": {},
   "source": [
    "It will not always be the case that we can evaluate the integrals analytically, and sometimes we just have the data, and not the analytical function it represents (e.g. if you have measured the data).\n",
    "\n",
    "The classical way to compute the area under this curve is to use the trapezoid method. We know the area of a trapezoid is $A = 0.5 * width * (y1 + y2)$. In this example, we have four trapezoids to compute the areas of.\n",
    "\n",
    "To make this easier to compute, we need a few new ideas. First, it would be convenient to know how many elements are in the array `x`.\n",
    "\n"
   ]
  },
  {
   "cell_type": "code",
   "execution_count": null,
   "id": "17945205",
   "metadata": {},
   "outputs": [],
   "source": [
    "len(x)"
   ]
  },
  {
   "cell_type": "markdown",
   "id": "7f3deaa8",
   "metadata": {},
   "source": [
    "Second, we need to know how to compute the area of a trapezoid defined by the points in `x` and `y`. The area of the first trapezoid is defined by:\n",
    "\n"
   ]
  },
  {
   "cell_type": "code",
   "execution_count": null,
   "id": "bf36454e",
   "metadata": {},
   "outputs": [],
   "source": [
    "0.5 * (y[0] + y[1]) * (x[1] - x[0])"
   ]
  },
  {
   "cell_type": "markdown",
   "id": "1d1bad12",
   "metadata": {},
   "source": [
    "What we would like to do is to loop over each trapezoid, compute the area, and accumulate it in a variable. Here is how we use a `for` loop to iterate from a value starting at 1 to the length of the array `x`. Note that although the length is 5, the last value of `i` is 4. The loop goes up to, but not including the last value of the range.\n",
    "\n"
   ]
  },
  {
   "cell_type": "code",
   "execution_count": null,
   "id": "2725a7fc",
   "metadata": {},
   "outputs": [],
   "source": [
    "for i in range(1, len(x)):\n",
    "    print(i)\n",
    "\n",
    "print(\"done\")"
   ]
  },
  {
   "cell_type": "code",
   "execution_count": null,
   "id": "5de5568b",
   "metadata": {},
   "outputs": [],
   "source": [
    "x = np.linspace(1, 4, 1000)\n",
    "y = x**2\n",
    "area = 0.0  # variable we will accumulate the area in\n",
    "\n",
    "for i in range(1, len(x)):\n",
    "    y1 = y[i - 1]\n",
    "    y2 = y[i]\n",
    "    width = x[i] - x[i - 1]\n",
    "    area += 0.5 * width * (y1 + y2)  # increment the area variable\n",
    "\n",
    "print(f\"The estimated area is {area}.\")\n",
    "print(f\"The exact area is {1 / 3 * (x[-1] ** 3 - x[0] ** 3)}\")"
   ]
  },
  {
   "cell_type": "code",
   "execution_count": null,
   "id": "fcb37370",
   "metadata": {},
   "outputs": [],
   "source": [
    "plt.plot(x, y, \"bo-\");"
   ]
  },
  {
   "cell_type": "markdown",
   "id": "a79baf62",
   "metadata": {},
   "source": [
    "Why don't these agree? The trapezoid method is an approximation of the integral. In this case the straight lines connecting the points *overestimate* the value of the function, and so the area under this curve is overestimated.\n",
    "\n",
    "**Exercise**: Increase the number of points slowly and see how the estimate converges to the exact value.\n",
    "\n"
   ]
  },
  {
   "cell_type": "markdown",
   "id": "344c2cda",
   "metadata": {},
   "source": [
    "### numpy.trapz\n",
    "\n"
   ]
  },
  {
   "cell_type": "markdown",
   "id": "a6e209bc",
   "metadata": {},
   "source": [
    "It is somewhat tedious to write the loop above, making sure you get the indexing right, etc. The trapezoid method is defined in numpy. See the help for how to use it:\n",
    "\n"
   ]
  },
  {
   "cell_type": "markdown",
   "id": "94a4300d",
   "metadata": {},
   "source": [
    "Now, we can perform the integration with just one line:\n",
    "\n"
   ]
  },
  {
   "cell_type": "code",
   "execution_count": null,
   "id": "a0d9573b",
   "metadata": {},
   "outputs": [],
   "source": [
    "import numpy as np\n",
    "\n",
    "x = np.linspace(1, 4, 5)\n",
    "y = x**2\n",
    "np.trapz(y, x)"
   ]
  },
  {
   "cell_type": "markdown",
   "id": "53891ba9",
   "metadata": {},
   "source": [
    "The trapezoid method is only exact for lines. For everything else, it is an approximation. For functions (or regions) that are concave up, the trapezoid method will over-estimate the integral, and for regions that are concave down, the method will underestimate the true integral.\n",
    "\n",
    "The [error](https://en.wikipedia.org/wiki/Trapezoidal_rule#Error_analysis) in this method is formally:\n",
    "\n",
    "$error = - \\frac{(b - a)^3}{12 N^2} f''(\\xi)$\n",
    "\n",
    "In this formula, $\\xi$ is some number between $a$ and $b$, in other words the error is related to the second derivative of the function evaluated somewhere in the interval.\n",
    "\n",
    "Practically, we only use this method for integrating data where we do not know the function it represents, so we cannot reliably estimate the error in the integral.\n",
    "\n"
   ]
  },
  {
   "cell_type": "markdown",
   "id": "d50c58a5",
   "metadata": {},
   "source": [
    "### Simpson method https://docs.scipy.org/doc/scipy-0.18.1/reference/generated/scipy.integrate.simps.html#scipy.integrate.simps\n",
    "\n"
   ]
  },
  {
   "cell_type": "markdown",
   "id": "403aac0f",
   "metadata": {},
   "source": [
    "There are more advanced approximations to integration than the trapezoid method. With the trapezoid method, you essentially assume linear interpolation between the points, and in the limit of infinite points that are close together, this is reasonable. We rarely get to that limit however.\n",
    "\n",
    "Instead of linear interpolation, we can use quadratic interpolation, where one uses the point and its neighbors to compute the equation of a parabola that goes through them, and then analytically computes the area under the parabola over the relevant interval. This is the basis of [Simpson's method](https://en.wikipedia.org/wiki/Simpson's_rule). There is an excellent animation of Simpson's Rule at that page.\n",
    "\n",
    "Note in this case, since we integrate a parabola, the result is exact. It will not be exact in general, but this method is generally expected to be more accurate than the trapezoid method for well-behaved data because it represents the local curvature better than lines do.\n",
    "\n"
   ]
  },
  {
   "cell_type": "code",
   "execution_count": null,
   "id": "009d10d4",
   "metadata": {},
   "outputs": [],
   "source": [
    "from scipy.integrate import simps\n",
    "\n",
    "simps(y, x)"
   ]
  },
  {
   "cell_type": "markdown",
   "id": "8f3a2fc0",
   "metadata": {},
   "source": [
    "### Applications\n",
    "\n"
   ]
  },
  {
   "cell_type": "markdown",
   "id": "f01ecd8c",
   "metadata": {},
   "source": [
    "#### Estimating the volume of a solid\n",
    "\n"
   ]
  },
  {
   "cell_type": "markdown",
   "id": "6eea030a",
   "metadata": {},
   "source": [
    "We can use integrals to compute the volume of solids. If we know how the cross-sectional area of a solid varies in some direction, we simply evaluate the following integral:\n",
    "\n",
    "$\\int_{x0}^{x1} A(x) dx$\n",
    "\n",
    "For a sphere, we can derive:\n",
    "\n",
    "$A(x) = \\pi (1 - x^2)$\n",
    "\n"
   ]
  },
  {
   "cell_type": "code",
   "execution_count": null,
   "id": "3767ed69",
   "metadata": {},
   "outputs": [],
   "source": [
    "R = 1\n",
    "x = np.linspace(-R, R)\n",
    "y = np.pi * (1 - x**2)\n",
    "\n",
    "approx_V = simps(y, x)\n",
    "exact_V = 4 / 3 * np.pi * R**3\n",
    "\n",
    "print(f\"\"\"Approximate volume = {approx_V:1.4f}\n",
    "Exact volume = {exact_V:1.4f}\"\"\")"
   ]
  },
  {
   "cell_type": "markdown",
   "id": "0ad7abc0",
   "metadata": {},
   "source": [
    "With 50 points, the estimate is pretty good. Try increasing the number of points to improve the estimate.\n",
    "\n"
   ]
  },
  {
   "cell_type": "markdown",
   "id": "3942a3be",
   "metadata": {},
   "source": [
    "#### Estimating the volume of a plug flow reactor\n",
    "\n"
   ]
  },
  {
   "cell_type": "markdown",
   "id": "236bd1d6",
   "metadata": {},
   "source": [
    "Adapted from Fogler example 2.7. The volume of a plug flow reactor is defined by this integral:\n",
    "\n",
    "$\\int_{X0}^{X1} \\frac{F_{A0}}{-r_A} dX$\n",
    "\n",
    "where $F_{A0}$ is the inlet molar flow of species A, $X$ is the conversion, and $-r_A$ is the rate of generation of species A per unit volume. $r_A$  is a function of conversion. We often do not know what the function is, but we can measure the rate of generation. Below is some tabulated data of the rate of generation of species A as a function of conversion.\n",
    "\n",
    "| X|-r\\_A (kmol / m^3 / hr)|\n",
    "|---|---|\n",
    "| 0|39|\n",
    "| 0.2|53|\n",
    "| 0.4|59|\n",
    "| 0.6|38|\n",
    "| 0.65|25|\n",
    "\n",
    "Use this data to estimate the volume of the reactor required to achieve a conversion of 0.65.\n",
    "\n"
   ]
  },
  {
   "cell_type": "code",
   "execution_count": null,
   "id": "a2bfc787",
   "metadata": {},
   "outputs": [],
   "source": [
    "X = np.array([0, 0.2, 0.4, 0.6, 0.65])\n",
    "\n",
    "ra = -np.array([39, 53, 59, 38, 25])\n",
    "\n",
    "Fa0 = 50  # kmol / hr.\n",
    "\n",
    "V = simps(Fa0 / -ra, X)\n",
    "\n",
    "print(f\"The required volume is {V:1.3f} m^3.\")"
   ]
  },
  {
   "cell_type": "markdown",
   "id": "36467755",
   "metadata": {},
   "source": [
    "How does the volume depend on conversion? Let's plot the integrand first so we can get a sense for how the area might change with conversion.\n",
    "\n"
   ]
  },
  {
   "cell_type": "code",
   "execution_count": null,
   "id": "24bbd3b3",
   "metadata": {},
   "outputs": [],
   "source": [
    "plt.plot(X, Fa0 / -ra)\n",
    "plt.xlabel(\"Conversion\")\n",
    "plt.ylabel(\"$F_{A0} / -r_A$\")\n",
    "plt.xlim([0, 0.65])\n",
    "plt.ylim([0, 2])"
   ]
  },
  {
   "cell_type": "markdown",
   "id": "56984c2a",
   "metadata": {},
   "source": [
    "We could iterate over the conversions and print the volume for each value. This is a little wasteful since we recompute the areas in each iteration, but here it is so fast it does not matter.\n",
    "\n",
    "Before jumping into the integration an loop, Let's review array slicing. It allows us to select portions of arrays for analysis.\n",
    "\n"
   ]
  },
  {
   "cell_type": "code",
   "execution_count": null,
   "id": "237cbd0e",
   "metadata": {},
   "outputs": [],
   "source": [
    "# X[start:below_end]\n",
    "X = np.array([0, 0.2, 0.4, 0.6, 0.65])\n",
    "X[0:3]  # This selects points with indices 0-2"
   ]
  },
  {
   "cell_type": "markdown",
   "id": "72a5338c",
   "metadata": {},
   "source": [
    "We use -1 for the last element (-2 for second to last element, etc). Note that this *does not* include the last element.\n",
    "\n"
   ]
  },
  {
   "cell_type": "code",
   "execution_count": null,
   "id": "2a2ce0b2",
   "metadata": {},
   "outputs": [],
   "source": [
    "X[1:-1]"
   ]
  },
  {
   "cell_type": "markdown",
   "id": "2a08b8c1",
   "metadata": {},
   "source": [
    "To get to the last element, we do not specify an end value like this:\n",
    "\n"
   ]
  },
  {
   "cell_type": "code",
   "execution_count": null,
   "id": "d170415b",
   "metadata": {},
   "outputs": [],
   "source": [
    "X[1:]"
   ]
  },
  {
   "cell_type": "markdown",
   "id": "fa1003bb",
   "metadata": {},
   "source": [
    "So, back to the integration. We need to use slices of the array for each integration step.\n",
    "\n"
   ]
  },
  {
   "cell_type": "code",
   "execution_count": null,
   "id": "4ed83262",
   "metadata": {},
   "outputs": [],
   "source": [
    "y = Fa0 / -ra\n",
    "\n",
    "volumes = []  # empty list to store values in\n",
    "\n",
    "for i in range(0, len(X)):\n",
    "    vol = np.trapz(y[0 : i + 1], X[0 : i + 1])\n",
    "    volumes += [vol]  # here we accumulate the vol into our list\n",
    "    print(f\"At X={X[i]:3.2f} V={vol:1.3f} m^3\")\n",
    "\n",
    "plt.plot(X, volumes)\n",
    "plt.xlabel(\"X\")\n",
    "plt.ylabel(\"V (m^3)\")"
   ]
  },
  {
   "cell_type": "code",
   "execution_count": null,
   "id": "a8d7c658",
   "metadata": {},
   "outputs": [],
   "source": [
    "y = Fa0 / -ra\n",
    "\n",
    "volumes = np.empty(len(y))  # empty list to store values in\n",
    "\n",
    "for i in range(0, len(X)):\n",
    "    vol = np.trapz(y[0 : i + 1], X[0 : i + 1])\n",
    "    volumes[i] = vol  # store volume by index\n",
    "    print(f\"At X={X[i]:3.2f} V={vol:1.3f} m^3\")\n",
    "\n",
    "print(volumes)\n",
    "plt.plot(X, volumes)\n",
    "plt.xlabel(\"X\")\n",
    "plt.ylabel(\"V (m^3)\")"
   ]
  },
  {
   "cell_type": "markdown",
   "id": "7a72c749",
   "metadata": {},
   "source": [
    "An alternative approach is to use a cumulative trapezoid function. This is defined in `scipy.integrate`. The main benefit of this approach is that it is faster, as it does not recompute the areas, and the code is shorter, so there are less places to make mistakes!\n",
    "\n"
   ]
  },
  {
   "cell_type": "code",
   "execution_count": null,
   "id": "c1241b17",
   "metadata": {},
   "outputs": [],
   "source": [
    "import scipy as sp\n",
    "\n",
    "cumV = sp.integrate.cumtrapz(Fa0 / -ra, X)\n",
    "\n",
    "plt.plot(X[1:], cumV, \"bo-\")\n",
    "plt.xlabel(\"Conversion\")\n",
    "plt.ylabel(\"Volume (m$^3$)\")\n",
    "\n",
    "cumV"
   ]
  },
  {
   "cell_type": "markdown",
   "id": "8aff6726",
   "metadata": {},
   "source": [
    "What if you want to know the volume required for an intermediate conversion? For that you need interpolation. We will cover that later in the course when we talk more about dealing with data.\n",
    "\n"
   ]
  },
  {
   "cell_type": "markdown",
   "id": "9762d151",
   "metadata": {},
   "source": [
    "## Numerical quadrature - or integration of functions\n",
    "\n"
   ]
  },
  {
   "cell_type": "markdown",
   "id": "20f00458",
   "metadata": {},
   "source": [
    "When you have a function and you know its analytical form we can use quadrature to estimate integrals of it. In quadrature, we approximate the integral as a weighted sum of function values. By increasing the number values used, we can systematically improve the integral estimates.\n",
    "\n",
    "To motivate the idea, let's consider the function integral of $y(x) = 7 x^3 - 8 x^2 - 3x +3$ from -1 to 1.\n",
    "\n",
    "This is a third order polynomial, so we can in this case replace the integral with a sum of two points:\n",
    "\n",
    "$\\int f(x) dx = w_1 f(x_1) + w_2 f(x_2)$\n",
    "\n",
    "provided we can find the weights, and the right values of $x$ to use. These are derived and tabulated (e.g. at [https://en.wikipedia.org/wiki/Gaussian_quadrature](https://en.wikipedia.org/wiki/Gaussian_quadrature)), which tells us for this case, the weights are simply equal to one, and we should use $\\pm \\sqrt{1/3}$ for x.\n",
    "\n"
   ]
  },
  {
   "cell_type": "code",
   "execution_count": null,
   "id": "2ce3070d",
   "metadata": {},
   "outputs": [],
   "source": [
    "import numpy as np\n",
    "import matplotlib.pyplot as plt\n",
    "\n",
    "x = np.linspace(-1, 1)\n",
    "\n",
    "\n",
    "def f(x):\n",
    "    return 7 * x**3 - 8 * x**2 - 3 * x + 3\n",
    "\n",
    "\n",
    "plt.plot(x, f(x))\n",
    "\n",
    "print(\"gaussian quadrature: \", f(np.sqrt(1 / 3)) + f(-np.sqrt(1 / 3)))\n",
    "\n",
    "\n",
    "def integral(x):\n",
    "    return 7 / 4 * x**4 - 1 / 3 * 8 * x**3 - 3 / 2 * x**2 + 3 * x\n",
    "\n",
    "\n",
    "integral(1) - integral(-1)"
   ]
  },
  {
   "cell_type": "markdown",
   "id": "ebdd0ded",
   "metadata": {},
   "source": [
    "This example is special in several ways:\n",
    "\n",
    "1.  The formula was derived for n<sup>th</sup> order polynomials, here we had a 3rd order polynomial, so n-1 points are needed to exactly compute the integral. The formula is not exact for non-polynomial functions.\n",
    "    For non-poynomial functions, the formula is an approximation to the integral and you have to use more than two points to estimate the integral. When you use more points, the weights change, but they can be looked up in the table, or computed.\n",
    "\n",
    "I show this example mostly to motivate the idea that given a function, you can perform an integral by evaluating the function at special points, and weighting those function values appropriately. In practice, we don't do this manually. It has been coded already into robust libraries that we can reuse.\n",
    "\n",
    "`scipy.integrate` provides the [quad](https://docs.scipy.org/doc/scipy-0.18.1/reference/generated/scipy.integrate.quad.html#scipy.integrate.quad) function. This is a Python wrapper around a sophisticated [Fortran library](https://en.wikipedia.org/wiki/QUADPACK) for integrating functions. These routines use an adaptive method to compute the integral and provide an upper bound on the error of the computed integral. The beauty of this interface is we can use a reliable, proven library written in Fortran inside of Python. We do not have to write and compile a Fortran program ourselves.\n",
    "\n"
   ]
  },
  {
   "cell_type": "code",
   "execution_count": null,
   "id": "de716ce6",
   "metadata": {},
   "outputs": [],
   "source": [
    "from scipy.integrate import quad"
   ]
  },
  {
   "cell_type": "markdown",
   "id": "743092f7",
   "metadata": {},
   "source": [
    "We return to our simple integral, which should equal 21.\n",
    "\n"
   ]
  },
  {
   "cell_type": "code",
   "execution_count": null,
   "id": "e9ac662d",
   "metadata": {},
   "outputs": [],
   "source": [
    "4**3 / 3 - 1 / 3  # analytical integral of x^2 from 1 to 4."
   ]
  },
  {
   "cell_type": "markdown",
   "id": "46f56366",
   "metadata": {},
   "source": [
    "To use the quad function, we define a function, and use it as the first argument in the quad function. The quad function returns the integral value, and estimated error.\n",
    "\n"
   ]
  },
  {
   "cell_type": "code",
   "execution_count": null,
   "id": "d0022054",
   "metadata": {},
   "outputs": [],
   "source": [
    "def f(x):\n",
    "    return x**2\n",
    "\n",
    "\n",
    "a, b = 1, 4\n",
    "I, err = quad(f, a, b)\n",
    "I\n",
    "from IPython.display import Latex\n",
    "\n",
    "Latex(f\"$\\int_{a}^{b} x^2 dx = {I}$\")"
   ]
  },
  {
   "cell_type": "markdown",
   "id": "39557372",
   "metadata": {},
   "source": [
    "We can recompute the volume of a sphere much more precisely, and easily now. Recall $A(x) = \\pi (1 - x^2)$ and that $V = \\int_{-1}^{1} A(x) dx$. Here is the implementation.\n",
    "\n"
   ]
  },
  {
   "cell_type": "code",
   "execution_count": null,
   "id": "d05477bc",
   "metadata": {},
   "outputs": [],
   "source": [
    "def cross_section(x):\n",
    "    return np.pi * (1 - x**2)\n",
    "\n",
    "\n",
    "quad(cross_section, -1, 1)"
   ]
  },
  {
   "cell_type": "markdown",
   "id": "cd21ce09",
   "metadata": {},
   "source": [
    "We can integrate to infinity.\n",
    "\n",
    "$\\int_{-\\infty}^{\\infty} \\frac{1}{x^2 + 1} = \\pi$.\n",
    "\n",
    "Let us verify this. You can use &plusmn; &infin; as limits.\n",
    "\n"
   ]
  },
  {
   "cell_type": "code",
   "execution_count": null,
   "id": "d02a620d",
   "metadata": {},
   "outputs": [],
   "source": [
    "def f(x):\n",
    "    return 1 / (x**2 + 1)\n",
    "\n",
    "\n",
    "quad(f, -np.inf, np.inf)"
   ]
  },
  {
   "cell_type": "markdown",
   "id": "89805c1c",
   "metadata": {},
   "source": [
    "Not all integrals are finite. For example\n",
    "\n",
    "$\\int_1^\\infty \\frac{dx}{x} = \\infty$\n",
    "\n",
    "Here we get an IntegrationWarning that a maximum number of subdivisions has been achieved.\n",
    "\n"
   ]
  },
  {
   "cell_type": "code",
   "execution_count": null,
   "id": "0f71ab59",
   "metadata": {},
   "outputs": [],
   "source": [
    "def f(x):\n",
    "    return 1 / x\n",
    "\n",
    "\n",
    "quad(f, 1, np.inf)"
   ]
  },
  {
   "cell_type": "markdown",
   "id": "19508698",
   "metadata": {},
   "source": [
    "Math is fun though, this subtly different function is integrable:\n",
    "\n"
   ]
  },
  {
   "cell_type": "code",
   "execution_count": null,
   "id": "853d8a11",
   "metadata": {},
   "outputs": [],
   "source": [
    "def f(x):\n",
    "    return 1 / x**2\n",
    "\n",
    "\n",
    "quad(f, 1, np.infty)"
   ]
  },
  {
   "cell_type": "markdown",
   "id": "5d22d80b",
   "metadata": {},
   "source": [
    "And this function is integrable, despite the singularity at x=0.\n",
    "\n"
   ]
  },
  {
   "cell_type": "code",
   "execution_count": null,
   "id": "fc1c1fd1",
   "metadata": {},
   "outputs": [],
   "source": [
    "def f(x):\n",
    "    return 1 / np.sqrt(x)\n",
    "\n",
    "\n",
    "quad(f, 0, 1)"
   ]
  },
  {
   "cell_type": "markdown",
   "id": "5b3b2f82",
   "metadata": {},
   "source": [
    "### Find the volume of a PFR\n",
    "\n"
   ]
  },
  {
   "cell_type": "markdown",
   "id": "065b4c26",
   "metadata": {},
   "source": [
    "For a single reaction that consumes a species A at a rate of $-r_A = k C_A$, a mole balance leads to an equation for the volume as a function of conversion $X$ as:\n",
    "\n",
    "$V = \\int_0^X \\frac{F_{A0}}{-r_A(X)} dX$\n",
    "\n",
    "$F_{A0}$ is the inlet molar flow of species A, which is equal to the inlet concentration times the inlet volumetric flow. The concentration of A in the reactor is a function of the conversion, and is given by  $C_A = C_{A0} (1 - X)$. If $k = 0.23$ 1/min, $C_{A0} = 1$ mol/L, and the volumetric flow is 1 L/min, what is the reactor volume required to achieve a conversion of 50%?\n",
    "\n"
   ]
  },
  {
   "cell_type": "code",
   "execution_count": null,
   "id": "0814339c",
   "metadata": {},
   "outputs": [],
   "source": [
    "from scipy.integrate import quad\n",
    "\n",
    "k = 0.23\n",
    "Ca0 = 1.0\n",
    "v0 = 1.0\n",
    "\n",
    "Fa0 = v0 * Ca0\n",
    "\n",
    "\n",
    "def rA(X):\n",
    "    Ca = Ca0 * (1 - X)\n",
    "    return -k * Ca\n",
    "\n",
    "\n",
    "def integrand(X):\n",
    "    return Fa0 / -rA(X)\n",
    "\n",
    "\n",
    "vol, err = quad(integrand, 0, 0.5)\n",
    "print(f\"The required volume is {vol:1.3f} L\")"
   ]
  },
  {
   "cell_type": "markdown",
   "id": "5d35d7dc",
   "metadata": {},
   "source": [
    "### Diffusion\n",
    "\n"
   ]
  },
  {
   "cell_type": "markdown",
   "id": "f8385633",
   "metadata": {},
   "source": [
    "When the surface concentration of a solute is constant, and the solute diffused into a semi-infinite solid, the concentration of the solute in the solid varies with space and time according to:\n",
    "$C_A(x, t) = C_{As} - (C_{As} - C_{A0}) erf\\left(\\frac{x}{\\sqrt{4 D t}}\\right)$.\n",
    "\n",
    "$C_{As}$ is the concentration of the diffusing species at $x=0$, and $C_{A0}$ is the initial concentration of the species in the semi-infinite body.\n",
    "\n",
    "and $erf(x) = \\frac{2}{\\sqrt{\\pi}} \\int_0^x e^-{\\xi^2} d\\xi$\n",
    "\n",
    "This integral arises from the solution to the differential equation describing diffusion. The integral does not have an analytical solution, but it can be solved numerically.\n",
    "\n",
    "Suppose we have a steel sample #1 that initially contains 0.02% Carbon in it, and it is put in contact with another steel containing 1.2% carbon. If the diffusion coefficient of carbon is 1.54e-6 cm^2/s, what will the concentration of carbon in sample #1 be after 24 hours at a distance of 0.15 cm from the interface?\n",
    "\n"
   ]
  },
  {
   "cell_type": "code",
   "execution_count": null,
   "id": "30d03c66",
   "metadata": {},
   "outputs": [],
   "source": [
    "Cas = 1.2\n",
    "Ca0 = 0.02\n",
    "D = 1.54e-6  # cm^2/s\n",
    "X = 0.15  # cm\n",
    "t = 24 * 60 * 60  # time in seconds\n",
    "\n",
    "\n",
    "xi = X / np.sqrt(4 * D * t)\n",
    "\n",
    "\n",
    "def erf_integrand(xi):\n",
    "    return 2 / np.sqrt(np.pi) * np.exp(-(xi**2))\n",
    "\n",
    "\n",
    "erfx, err = quad(erf_integrand, 0, xi)\n",
    "\n",
    "Cx = Cas - (Cas - Ca0) * erfx\n",
    "print(f\"The concentration of carbon at X = {X} cm after {t / 3600} hours is {Cx:1.2f}%.\")"
   ]
  },
  {
   "cell_type": "markdown",
   "id": "0f32fb33",
   "metadata": {},
   "source": [
    "The [error function](https://en.wikipedia.org/wiki/Error_function), $erf(x)$ is such an important function it is implemented as a special function in scipy.special.\n",
    "\n"
   ]
  },
  {
   "cell_type": "code",
   "execution_count": null,
   "id": "8dfe8617",
   "metadata": {},
   "outputs": [],
   "source": [
    "from scipy.special import erf\n",
    "\n",
    "Cx_wspecial = Cas - (Cas - Ca0) * erf(xi)\n",
    "print(f\"The concentration of carbon at X = {X} cm after {t / 3600} hours is {Cx_wspecial:1.2f}%.\")"
   ]
  },
  {
   "cell_type": "markdown",
   "id": "3be66bb8",
   "metadata": {},
   "source": [
    "## Summary\n",
    "\n"
   ]
  },
  {
   "cell_type": "markdown",
   "id": "723233ed",
   "metadata": {
    "lines_to_next_cell": 2
   },
   "source": [
    "The main points of this lecture were on\n",
    "\n",
    "-   Numerical integration of data\n",
    "    -   I recommend you rely on library implementations of the trapezoid method or Simpson's method where possible.\n",
    "    -   `numpy.trapz`, `scipy.integrate.cumtrapz`, and `scipy.integrate.simps`.\n",
    "\n",
    "-   Integration of functions by quadrature\n",
    "    -   quadrature uses a weighted sum of function evaluations to estimate the integrals.\n",
    "    -   I recommend you rely on a library implementation of a quadrature\n",
    "        -   e.g. `scipy.integrate.quad`.\n",
    "        -   These libraries provide sophisticated convergence algorithms and error estimates\n",
    "\n",
    "Next time we will consider using integration to obtain solutions to differential equations.\n",
    "\n"
   ]
  }
 ],
 "metadata": {
  "kernelspec": {
   "display_name": "Python 3 (ipykernel)",
   "language": "python",
   "name": "python3"
  }
 },
 "nbformat": 4,
 "nbformat_minor": 5
}
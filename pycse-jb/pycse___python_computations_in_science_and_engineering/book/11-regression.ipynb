{
 "cells": [
  {
   "cell_type": "markdown",
   "id": "f941d650",
   "metadata": {},
   "source": [
    "# Nonlinear regression\n",
    "\n",
    "- KEYWORDS: scipy.optimize.minimize, scipy.optimize.curve_fit, pycse.nlinfit\n"
   ]
  },
  {
   "cell_type": "markdown",
   "id": "416e94df",
   "metadata": {},
   "source": [
    "## Regression of data is a form of function minimization\n",
    "\n"
   ]
  },
  {
   "cell_type": "markdown",
   "id": "a1d67db0",
   "metadata": {},
   "source": [
    "When we say regression, we really mean find some parameters of a model that best reproduces some known data. By \"best reproduces\" we mean the sum of all the errors between the values predicted by the model, and the real data is minimized.\n",
    "\n",
    "Suppose we have the following data that shows how the energy of a material depends on the volume of the material.\n",
    "\n"
   ]
  },
  {
   "cell_type": "code",
   "execution_count": null,
   "id": "4a229dd6",
   "metadata": {},
   "outputs": [],
   "source": [
    "import numpy as np\n",
    "import matplotlib.pyplot as plt\n",
    "\n",
    "volumes = np.array([13.71, 14.82, 16.0, 17.23, 18.52])\n",
    "energies = np.array([-56.29, -56.41, -56.46, -56.463, -56.41])\n",
    "\n",
    "plt.plot(volumes, energies, \"bo\")\n",
    "plt.xlabel(\"V\")\n",
    "plt.ylabel(\"E\");"
   ]
  },
  {
   "cell_type": "markdown",
   "id": "be70e56b",
   "metadata": {},
   "source": [
    "In Materials Science we often want to fit an equation of state to this data. We will use this equation:\n",
    "\n",
    "$E = E_0 + \\frac{B_0 V}{B_0'}\\left(\\frac{(V_0 / V)^{B_0'}}{B_0' - 1} + 1 \\right) - \\frac{V_0 B_0}{B_0' - 1}$\n",
    "\n",
    "from [https://journals.aps.org/prb/pdf/10.1103/PhysRevB.28.5480](https://journals.aps.org/prb/pdf/10.1103/PhysRevB.28.5480). In this model there are four parameters:\n",
    "\n",
    "| name|desc|\n",
    "|---|---|\n",
    "| E\\_0|energy at the minimim|\n",
    "| B\\_0|bulk modulus|\n",
    "| B\\_0'|first derivative of the bulk modulus|\n",
    "| V\\_0|volume at the energy minimum|\n",
    "\n",
    "We would like to find the value of these parameters that best fits the data above. That means, find the set of parameters that minimize the sum of the squared errors between the model and data.\n",
    "\n",
    "First we need a function that will use the parameters and return the energy for a given volume.\n",
    "\n"
   ]
  },
  {
   "cell_type": "code",
   "execution_count": null,
   "id": "34d3b9fd",
   "metadata": {},
   "outputs": [],
   "source": [
    "def Murnaghan(parameters, vol):\n",
    "    \"From PRB 28,5480 (1983)\"\n",
    "    E0, B0, BP, V0 = parameters\n",
    "    # the backslash here means the line is contined on the next line.\n",
    "    # or use () around the whole expression\n",
    "    E = E0 + B0 * vol / BP * (((V0 / vol) ** BP) / (BP - 1) + 1) - V0 * B0 / (BP - 1.0)\n",
    "\n",
    "    return E"
   ]
  },
  {
   "cell_type": "code",
   "execution_count": null,
   "id": "518390f9",
   "metadata": {},
   "outputs": [],
   "source": [
    "import numpy as np\n",
    "\n",
    "Murnaghan((-56.45, 2, 1.2, 16.7), np.linspace(14, 18))"
   ]
  },
  {
   "cell_type": "markdown",
   "id": "451c6c86",
   "metadata": {},
   "source": [
    "Next, we need a function that computes the summed squared errors for a set of parameters. The use of squared errors is preferable in many cases to the absolute values because it has a continuous derivative. We will learn more about this later.\n",
    "\n"
   ]
  },
  {
   "cell_type": "code",
   "execution_count": null,
   "id": "8f0b36f3",
   "metadata": {},
   "outputs": [],
   "source": [
    "def objective(pars):\n",
    "    err = energies - Murnaghan(pars, volumes)\n",
    "    return np.sum(err**2)  # we return the summed squared error directly"
   ]
  },
  {
   "cell_type": "code",
   "execution_count": null,
   "id": "a472038b",
   "metadata": {},
   "outputs": [],
   "source": [
    "objective((-56.45, 2, 1.52, 16.0))"
   ]
  },
  {
   "cell_type": "markdown",
   "id": "672ee385",
   "metadata": {},
   "source": [
    "Finally,  we need an initial guess to start the minimization. As with all minimization problems, this can be the most difficult step. It is always a good idea to use properties of the model and data where possible to make these guesses. We have no way to plot anything in four dimensions, so we use analysis instead.\n",
    "\n",
    "We can derive some of these from the data we have. First, we can get the minimum in energy and the corresponding volume that we know from the data. These are not the final answer, but they are a good guess for it.\n",
    "\n",
    "The B<sub>0</sub> parameter is related to the curvature at the minimum, which is the second derivative. We get that from repeated calls to `numpy.gradient`. Finally, $B_0'$ is related to the derivative of $B$ at the minimum, so we estimate that too.\n",
    "\n"
   ]
  },
  {
   "cell_type": "code",
   "execution_count": null,
   "id": "8c3164c6",
   "metadata": {},
   "outputs": [],
   "source": [
    "imin = np.argmin(energies)\n",
    "dedv = np.gradient(energies, volumes)\n",
    "B = np.gradient(dedv, volumes)\n",
    "Bp = np.gradient(B, volumes)\n",
    "\n",
    "\n",
    "x0 = [energies[imin], B[imin], Bp[imin], volumes[imin]]\n",
    "\n",
    "x0"
   ]
  },
  {
   "cell_type": "markdown",
   "id": "1c7b6ab6",
   "metadata": {},
   "source": [
    "Finally, we are ready to fit our function. As usual, we also plot the data and the fit for visual inspection.\n",
    "\n"
   ]
  },
  {
   "cell_type": "code",
   "execution_count": null,
   "id": "b6b090bc",
   "metadata": {},
   "outputs": [],
   "source": [
    "from scipy.optimize import minimize\n",
    "\n",
    "sol = minimize(objective, x0)\n",
    "print(sol)\n",
    "\n",
    "plt.plot(volumes, energies, \"bo\", label=\"Data\")\n",
    "vfit = np.linspace(min(volumes), max(volumes))\n",
    "plt.plot(vfit, Murnaghan(sol.x, vfit), label=\"fit\")\n",
    "plt.legend()\n",
    "plt.xlabel(\"V\")\n",
    "plt.ylabel(\"E\");"
   ]
  },
  {
   "cell_type": "markdown",
   "id": "de12a9d6",
   "metadata": {},
   "source": [
    "That looks pretty good. We should ask ourselves, how do we know we got a minimum? We should see that the objective function is really at a minimum *for each of the parameters*. Here, we show that it is a minimum for the first parameter.\n",
    "\n"
   ]
  },
  {
   "cell_type": "code",
   "execution_count": null,
   "id": "3291fdcc",
   "metadata": {},
   "outputs": [],
   "source": [
    "E0_range = np.linspace(0.9 * sol.x[0], 1.1 * sol.x[0])\n",
    "\n",
    "_, b, c, d = sol.x\n",
    "\n",
    "errs = [objective([e0, b, c, d]) for e0 in E0_range]\n",
    "\n",
    "plt.plot(E0_range, errs)\n",
    "plt.axvline(sol.x[0], c=\"k\", ls=\"--\")\n",
    "plt.xlabel(\"E0\")\n",
    "plt.ylabel(\"summed squared error\");"
   ]
  },
  {
   "cell_type": "markdown",
   "id": "f5085b86",
   "metadata": {},
   "source": [
    "You can see visually that the error goes up on each side of the parameter estimate.\n",
    "\n",
    "**exercise** Repeat this analysis for the other three parameters.\n",
    "\n",
    "Later when we learn about linear algebra, we will learn that if you can show the eigenvalues of the Hessian of the objective function is positive definite, that also means you are at a minimum. It means the error goes up in any direction away from the minimum.\n",
    "\n",
    "Usually we do some regression to find one of these:\n",
    "\n",
    "1.  Parameters for the model - because the parameters mean something\n",
    "2.  Properties of the model - because the properties mean something\n",
    "\n",
    "In this particular case, we can do both. Some of the parameters are directly meaningful, like the E0, and V0 are the energy at the minimum, and the corresponding volume. B0 is also meaningful, it is called the bulk modulus, and it is a material property.\n",
    "\n",
    "Now that we have a model though we can also define properties of it, e.g. *in this case* we have from thermodynamics that $P = -dE/dV$. We can use our model to define this derivative. I use `scipy.misc.derivative` for this for convenience. The only issue with it is the energy function has arguments that are not in the right order for the derivative, so I make a proxy function here that just reverses the order of the arguments.\n",
    "\n"
   ]
  },
  {
   "cell_type": "code",
   "execution_count": null,
   "id": "199d28f6",
   "metadata": {
    "lines_to_next_cell": 1
   },
   "outputs": [],
   "source": [
    "from scipy.misc import derivative"
   ]
  },
  {
   "cell_type": "code",
   "execution_count": null,
   "id": "34c98c97",
   "metadata": {},
   "outputs": [],
   "source": [
    "def proxy(V0, pars0):\n",
    "    return Murnaghan(pars0, V0)\n",
    "\n",
    "\n",
    "Murnaghan(sol.x, 16.5), proxy(16.5, sol.x)"
   ]
  },
  {
   "cell_type": "code",
   "execution_count": null,
   "id": "5887f5f3",
   "metadata": {},
   "outputs": [],
   "source": [
    "from scipy.misc import derivative\n",
    "\n",
    "pars = sol.x\n",
    "\n",
    "\n",
    "def P(V):\n",
    "    def proxy(V0, pars0):\n",
    "        return Murnaghan(pars0, V0)\n",
    "\n",
    "    dEdV = derivative(proxy, V, args=(pars,), dx=1e-6)\n",
    "    return -dEdV\n",
    "\n",
    "\n",
    "# Some examples\n",
    "P(16), P(pars[-1]), P(18)"
   ]
  },
  {
   "cell_type": "markdown",
   "id": "b6889118",
   "metadata": {},
   "source": [
    "The result above shows that it takes positive pressure to compress the material, the pressure is zero at the minimum, and it takes negative pressure to cause it to expand.\n",
    "\n",
    "This example is just meant to illustrate what one can do with a model once you have it.\n",
    "\n"
   ]
  },
  {
   "cell_type": "markdown",
   "id": "d7a961b3",
   "metadata": {},
   "source": [
    "## Parameter confidence intervals\n",
    "\n"
   ]
  },
  {
   "cell_type": "markdown",
   "id": "3030e716",
   "metadata": {},
   "source": [
    "We have left out an important topic in the discussion above: How certain are we of the parameters we estimated? This is a complicated question that requires moderately sophisticated statistics to answer. We will build up to the solution in steps.\n",
    "\n",
    "First, we recall that in a statistical sense we are *estimating* the values of the parameters. Specifically, we estimate the *mean* of the parameters, from a fixed number of data points.\n",
    "\n",
    "Let's say we have made 10 measurements that have an average of 16.1, and a standard deviation of 0.01. What is the range of values that we are 95% confident the next measurement will fall in?\n",
    "\n",
    "We have to take into account the fact that we only have 10 measurements to make the estimation from, so the estimate is more uncertain than if we have 100 or 1000 measurements. The student t-tables tell us precisely how much more uncertain depending on the confidence level you want.\n",
    "\n",
    "The point here is not for you to memorize or derive these formulas, only to illustrate that the uncertainty is not simply the standard deviation. It also includes the effect of the sample size.\n",
    "\n"
   ]
  },
  {
   "cell_type": "code",
   "execution_count": null,
   "id": "9c41543e",
   "metadata": {},
   "outputs": [],
   "source": [
    "from scipy.stats.distributions import t\n",
    "\n",
    "n = 10  # number of measurements\n",
    "dof = n - 1  # degrees of freedom\n",
    "avg_x = 16.1  # average measurement\n",
    "std_x = 0.01  # standard deviation of measurements\n",
    "\n",
    "# Find 95% prediction interval for next measurement\n",
    "alpha = 1.0 - 0.95\n",
    "\n",
    "pred_interval = t.ppf(1 - alpha / 2.0, dof) * std_x / np.sqrt(n)\n",
    "\n",
    "plus_side = avg_x + pred_interval\n",
    "minus_side = avg_x - pred_interval\n",
    "print(pred_interval)\n",
    "print(\n",
    "    f\"We are 95% confident the next measurement will be between {minus_side:1.3f} and {plus_side:1.3f}\"\n",
    ")"
   ]
  },
  {
   "cell_type": "markdown",
   "id": "20a41f37",
   "metadata": {},
   "source": [
    "To consider the uncertainty in model parameters, we need some way to estimate the standard deviation of the parameters. `scipy.optimize.minimize` does not provide much help with that. We will instead turn to `scipy.optimize.curve_fit`. This function will return information that is helpful in estimating the uncertainty. It is like `scipy.optimize.minimize` in the sense that it minimizes the summed squared errors between a model described in a function, and data defined in variables. Note in particular the docstring for the output variable pcov, which tells you how to compute the standard deviation errors on the parameters.\n",
    "\n"
   ]
  },
  {
   "cell_type": "code",
   "execution_count": null,
   "id": "4882e893",
   "metadata": {
    "lines_to_next_cell": 2
   },
   "outputs": [],
   "source": [
    "import numpy as np\n",
    "from scipy.optimize import curve_fit"
   ]
  },
  {
   "cell_type": "markdown",
   "id": "e3cff884",
   "metadata": {},
   "source": [
    "### An example with curve_fit\n",
    "\n"
   ]
  },
  {
   "cell_type": "markdown",
   "id": "0ce5614a",
   "metadata": {},
   "source": [
    "Given the data below, fit the following curve:\n",
    "\n",
    "$y(x) = \\frac{a x}{b + x}$ to it.\n",
    "\n",
    "That means, estimate the values of $a, b$ that best fit the data.\n",
    "\n"
   ]
  },
  {
   "cell_type": "code",
   "execution_count": null,
   "id": "c20dfd78",
   "metadata": {},
   "outputs": [],
   "source": [
    "import matplotlib.pyplot as plt\n",
    "\n",
    "x = np.array([0.5, 0.387, 0.24, 0.136, 0.04, 0.011])\n",
    "y = np.array([1.255, 1.25, 1.189, 1.124, 0.783, 0.402])\n",
    "\n",
    "plt.plot(x, y, \"bo\")\n",
    "plt.xlabel(\"x\")\n",
    "plt.ylabel(\"y\");"
   ]
  },
  {
   "cell_type": "markdown",
   "id": "496339c3",
   "metadata": {},
   "source": [
    "What should we use for an initial guess? At $x=0$, $y = 0$, which isn't that helpful. At large $x$, we have $y=a$. From the data, we can guess that $a \\approx 1.2$. For small x, we have $y = a/b x$. So, if we estimate the slope, we can estimate b. We arrive at these guesses by thoughtful inspection of the data, and the model that we use to fit it.\n",
    "\n"
   ]
  },
  {
   "cell_type": "code",
   "execution_count": null,
   "id": "1d044afb",
   "metadata": {},
   "outputs": [],
   "source": [
    "x"
   ]
  },
  {
   "cell_type": "code",
   "execution_count": null,
   "id": "0e858625",
   "metadata": {},
   "outputs": [],
   "source": [
    "a0 = 1.2\n",
    "m = np.gradient(y, x, edge_order=2)  # m = a / b  ->  b = a / m\n",
    "\n",
    "b0 = a0 / m[-1]\n",
    "a0, b0"
   ]
  },
  {
   "cell_type": "markdown",
   "id": "397278e0",
   "metadata": {},
   "source": [
    "Now for the fitting.\n",
    "\n"
   ]
  },
  {
   "cell_type": "code",
   "execution_count": null,
   "id": "64f79e6e",
   "metadata": {},
   "outputs": [],
   "source": []
  },
  {
   "cell_type": "code",
   "execution_count": null,
   "id": "25cfaa51",
   "metadata": {},
   "outputs": [],
   "source": [
    "# this is the function we want to fit to our data\n",
    "def func(x, a, b):\n",
    "    return a * x / (b + x)\n",
    "\n",
    "\n",
    "initial_guess = [a0, b0]\n",
    "pars, pcov = curve_fit(func, x, y, p0=initial_guess)\n",
    "\n",
    "print(pars)\n",
    "print(pcov)"
   ]
  },
  {
   "cell_type": "markdown",
   "id": "79644b66",
   "metadata": {},
   "source": [
    "*Always* check the fit visually.\n",
    "\n"
   ]
  },
  {
   "cell_type": "code",
   "execution_count": null,
   "id": "2e87adc3",
   "metadata": {},
   "outputs": [],
   "source": [
    "plt.plot(x, y, \"bo\")\n",
    "xfit = np.linspace(0, 0.5)\n",
    "plt.plot(xfit, func(xfit, *pars))\n",
    "plt.xlabel(\"x\")\n",
    "plt.ylabel(\"y\")\n",
    "plt.legend([\"data\", \"fit\"])\n",
    "plt.ylim([0, 2]);"
   ]
  },
  {
   "cell_type": "markdown",
   "id": "e5637e98",
   "metadata": {},
   "source": [
    "**exercise** Try different initial guesses and find one that does not look this good.\n",
    "\n"
   ]
  },
  {
   "cell_type": "markdown",
   "id": "da919fa3",
   "metadata": {},
   "source": [
    "### Uncertainty estimation\n",
    "\n"
   ]
  },
  {
   "cell_type": "markdown",
   "id": "b3047bc4",
   "metadata": {},
   "source": [
    "Recall from the documentation of curve\\_fit that the standard deviation of each parameter is defined by:\n",
    "\n"
   ]
  },
  {
   "cell_type": "code",
   "execution_count": null,
   "id": "8571cd14",
   "metadata": {},
   "outputs": [],
   "source": [
    "pcov"
   ]
  },
  {
   "cell_type": "code",
   "execution_count": null,
   "id": "d1d7be6f",
   "metadata": {},
   "outputs": [],
   "source": [
    "np.diag(pcov)"
   ]
  },
  {
   "cell_type": "code",
   "execution_count": null,
   "id": "d434c89f",
   "metadata": {},
   "outputs": [],
   "source": [
    "np.sqrt(np.diag(pcov))"
   ]
  },
  {
   "cell_type": "markdown",
   "id": "ad15f2c9",
   "metadata": {},
   "source": [
    "We can use these to estimate confidence intervals on the two parameters. Note that here we still use the student-t multipliers to account for the uncertainty caused by having a small data set.\n",
    "\n"
   ]
  },
  {
   "cell_type": "code",
   "execution_count": null,
   "id": "8af0574a",
   "metadata": {},
   "outputs": [],
   "source": [
    "from scipy.stats.distributions import t\n",
    "\n",
    "alpha = 0.05  # 95% confidence interval = 100*(1-alpha)\n",
    "\n",
    "n = len(y)  # number of data points\n",
    "p = len(pars)  # number of parameters\n",
    "\n",
    "dof = max(0, n - p)  # number of degrees of freedom\n",
    "\n",
    "# student-t value for the dof and confidence level\n",
    "tval = t.ppf(1.0 - alpha / 2.0, dof)\n",
    "\n",
    "SERRS = np.sqrt(np.diag(pcov))\n",
    "for i in range(2):\n",
    "    p = pars[i]\n",
    "    sigma = SERRS[i]\n",
    "    ci = sigma * tval\n",
    "    print(f\"{p:1.3f} +/- {ci:1.3f}\")\n",
    "\n",
    "for i, p, var in zip(range(n), pars, np.diag(pcov)):\n",
    "    sigma = var**0.5\n",
    "    print(f\"p{i}: {p:1.3f} [{p - sigma * tval:1.3f}  {p + sigma * tval:1.3f}]\")"
   ]
  },
  {
   "cell_type": "markdown",
   "id": "68b419f0",
   "metadata": {},
   "source": [
    "The interpretation of this is that we do not know exactly what the parameters are, but we can be 95% confident that they fall in these ranges. These ranges do not include zero, so that is an indication that the parameters are significant.\n",
    "\n",
    "It is *not expected* that you learn all the details above. They have been coded into the \"Python computations in science and engineering\" [pycse](https://kitchingroup.cheme.cmu.edu/pycse/) package. This is not part of Anaconda; you have to install it yourself. You can `pip install pycse`."
   ]
  },
  {
   "cell_type": "markdown",
   "id": "a2b581a0",
   "metadata": {},
   "source": [
    "After that, you can import the nlinfit command and use it to get confidence intervals directly.\n",
    "\n"
   ]
  },
  {
   "cell_type": "code",
   "execution_count": null,
   "id": "ec44d783",
   "metadata": {
    "lines_to_next_cell": 2
   },
   "outputs": [],
   "source": [
    "from pycse import nlinfit"
   ]
  },
  {
   "cell_type": "code",
   "execution_count": null,
   "id": "289a52fe",
   "metadata": {},
   "outputs": [],
   "source": [
    "pars, pars_ci, se = nlinfit(func, x, y, [a0, b0], alpha=0.00001)\n",
    "\n",
    "for i, par in enumerate(pars):\n",
    "    print(f\"{par:1.3f}, {np.round(pars_ci[i], 3)}, {se[i]:1.4f}\")"
   ]
  },
  {
   "cell_type": "markdown",
   "id": "259b8aa6",
   "metadata": {},
   "source": [
    "It is important to realize that:\n",
    "\n",
    "1.  The size of the confidence interval depends on the number of parameters, data points, and desired confidence level.\n",
    "2.  The root of this is the minimization of an error function.\n",
    "\n"
   ]
  },
  {
   "cell_type": "markdown",
   "id": "5154264f",
   "metadata": {},
   "source": [
    "### What about uncertainty on the predictions?\n",
    "\n"
   ]
  },
  {
   "cell_type": "markdown",
   "id": "e250431f",
   "metadata": {},
   "source": [
    "Consider the fit again, and extrapolate it to larger $x$:\n",
    "\n"
   ]
  },
  {
   "cell_type": "code",
   "execution_count": null,
   "id": "bdfd5914",
   "metadata": {},
   "outputs": [],
   "source": [
    "plt.plot(x, y, \"bo\")\n",
    "xfit = np.linspace(0, 5)\n",
    "plt.plot(xfit, func(xfit, *pars))\n",
    "plt.xlabel(\"x\")\n",
    "plt.ylabel(\"y\")\n",
    "plt.legend([\"data\", \"fit\"])\n",
    "func(xfit, *pars)[-1]"
   ]
  },
  {
   "cell_type": "markdown",
   "id": "3a34c02b",
   "metadata": {},
   "source": [
    "We estimate the model plateaus at about y=1.32, but what is an appropriate estimate of the error in this? There are uncertainties in the model parameters, so there must be uncertainty in the predictions. To estimate this, we first look at how to generate a distribution of random numbers with a normal distribution around some mean with some standard error.\n",
    "\n"
   ]
  },
  {
   "cell_type": "code",
   "execution_count": null,
   "id": "2d3f0419",
   "metadata": {},
   "outputs": [],
   "source": [
    "p0_mean = pars[0]\n",
    "p0_se = se[0]\n",
    "\n",
    "p0_dist = np.random.normal(p0_mean, p0_se, 5000)\n",
    "plt.hist(p0_dist, bins=20);"
   ]
  },
  {
   "cell_type": "markdown",
   "id": "591f27a5",
   "metadata": {},
   "source": [
    "So the idea is we can generate a distribution of the parameters\n",
    "\n"
   ]
  },
  {
   "cell_type": "code",
   "execution_count": null,
   "id": "b0134a3b",
   "metadata": {},
   "outputs": [],
   "source": [
    "p1_dist = np.random.normal(pars[1], se[1], 5000)\n",
    "\n",
    "y5 = [func(5, p0, p1) for p0, p1 in zip(p0_dist, p1_dist)]\n",
    "plt.hist(y5)\n",
    "\n",
    "np.mean(y5), np.std(y5), se[1]"
   ]
  },
  {
   "cell_type": "markdown",
   "id": "2c0eeeab",
   "metadata": {},
   "source": [
    "Well, in 20/20 hindsight, we might have guessed the uncertainty in the asymptote would be just like the uncertainty in the $a$ parameter. In this case, it is appropriate to use three significant figures given the uncertainty on the answer. A useful guideline is that the 95% confidence interval is about &plusmn; 2 &sigma;. At &plusmn; 1 &sigma; you only have about a 60% confidence interval.\n",
    "\n"
   ]
  },
  {
   "cell_type": "code",
   "execution_count": null,
   "id": "b6b5cefc",
   "metadata": {},
   "outputs": [],
   "source": [
    "print(f\"At x=5, y={np.mean(y5):1.3f} +- {2 * np.std(y5):1.3f} at about the 95% confidence level.\")"
   ]
  },
  {
   "cell_type": "markdown",
   "id": "20f3c8d7",
   "metadata": {},
   "source": [
    "So we are not that uncertain after all in this case.\n",
    "\n",
    "This method of error propagation is not perfect as it assumes the errors between the parameters are independent, and that they are normally distributed. However, the method is very simple to do, and simply relies on sampling the parameters from their respective distributions, and letting the results propagate naturally through the model. You do need to check for convergence with the sample size. This method is called a Monte Carlo propagation of errors.\n",
    "\n"
   ]
  },
  {
   "cell_type": "markdown",
   "id": "393166f9",
   "metadata": {},
   "source": [
    "## Summary\n",
    "\n"
   ]
  },
  {
   "cell_type": "markdown",
   "id": "c5ef4128",
   "metadata": {
    "lines_to_next_cell": 2
   },
   "source": [
    "We covered a lot of ground today. The key points are:\n",
    "\n",
    "1.  Regression is a minimization of an accumulated error function.\n",
    "2.  If you need uncertainty on the parameters from a regression, use `pycse.nlinfit`.\n",
    "3.  If you need uncertainty on model predictions, you can either simulate it, or derive it. We will learn more about deriving it later.\n",
    "\n"
   ]
  }
 ],
 "metadata": {
  "kernelspec": {
   "display_name": "Python 3 (ipykernel)",
   "language": "python",
   "name": "python3"
  }
 },
 "nbformat": 4,
 "nbformat_minor": 5
}
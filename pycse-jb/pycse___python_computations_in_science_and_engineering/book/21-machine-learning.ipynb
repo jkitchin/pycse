{
 "cells": [
  {
   "cell_type": "markdown",
   "id": "b24f0876",
   "metadata": {},
   "source": [
    "# Introduction to machine learning\n",
    "\n",
    "- KEYWORDS: autograd\n"
   ]
  },
  {
   "cell_type": "markdown",
   "id": "9c5e7db2",
   "metadata": {},
   "source": [
    "## Flexible nonlinear models for regression\n",
    "\n"
   ]
  },
  {
   "cell_type": "markdown",
   "id": "de64db8d",
   "metadata": {},
   "source": [
    "Today we are going to take a meandering path to using autograd to train a neural network for regression. First let us consider this very general looking nonlinear model that we might fit to data. There are 10 parameters in it, so we should expect we can get it to fit some data pretty well.\n",
    "\n",
    "$y = b1 + w10 \\tanh(w00 x + b00) + w11 \\tanh(w01 x + b01) + w12 \\tanh(w02 x + b02)$\n",
    "\n",
    "For now let us not concern ourselves with how we chose this particular model. We will return to the choices later.\n",
    "\n",
    "We will use it to fit data that is generated from $y = x^\\frac{1}{3}$. First, we just do a least\\_squares fit. This function is similar to `scipy.optimize.curve_fit`.\n",
    "\n"
   ]
  },
  {
   "cell_type": "code",
   "execution_count": 1,
   "id": "f7d4292c",
   "metadata": {},
   "outputs": [
    {
     "data": {
      "text/plain": [
       "\u001b[0;31mSignature:\u001b[0m\n",
       "\u001b[0mleast_squares\u001b[0m\u001b[0;34m(\u001b[0m\u001b[0;34m\u001b[0m\n",
       "\u001b[0;34m\u001b[0m    \u001b[0mfun\u001b[0m\u001b[0;34m,\u001b[0m\u001b[0;34m\u001b[0m\n",
       "\u001b[0;34m\u001b[0m    \u001b[0mx0\u001b[0m\u001b[0;34m,\u001b[0m\u001b[0;34m\u001b[0m\n",
       "\u001b[0;34m\u001b[0m    \u001b[0mjac\u001b[0m\u001b[0;34m=\u001b[0m\u001b[0;34m'2-point'\u001b[0m\u001b[0;34m,\u001b[0m\u001b[0;34m\u001b[0m\n",
       "\u001b[0;34m\u001b[0m    \u001b[0mbounds\u001b[0m\u001b[0;34m=\u001b[0m\u001b[0;34m(\u001b[0m\u001b[0;34m-\u001b[0m\u001b[0minf\u001b[0m\u001b[0;34m,\u001b[0m \u001b[0minf\u001b[0m\u001b[0;34m)\u001b[0m\u001b[0;34m,\u001b[0m\u001b[0;34m\u001b[0m\n",
       "\u001b[0;34m\u001b[0m    \u001b[0mmethod\u001b[0m\u001b[0;34m=\u001b[0m\u001b[0;34m'trf'\u001b[0m\u001b[0;34m,\u001b[0m\u001b[0;34m\u001b[0m\n",
       "\u001b[0;34m\u001b[0m    \u001b[0mftol\u001b[0m\u001b[0;34m=\u001b[0m\u001b[0;36m1e-08\u001b[0m\u001b[0;34m,\u001b[0m\u001b[0;34m\u001b[0m\n",
       "\u001b[0;34m\u001b[0m    \u001b[0mxtol\u001b[0m\u001b[0;34m=\u001b[0m\u001b[0;36m1e-08\u001b[0m\u001b[0;34m,\u001b[0m\u001b[0;34m\u001b[0m\n",
       "\u001b[0;34m\u001b[0m    \u001b[0mgtol\u001b[0m\u001b[0;34m=\u001b[0m\u001b[0;36m1e-08\u001b[0m\u001b[0;34m,\u001b[0m\u001b[0;34m\u001b[0m\n",
       "\u001b[0;34m\u001b[0m    \u001b[0mx_scale\u001b[0m\u001b[0;34m=\u001b[0m\u001b[0;36m1.0\u001b[0m\u001b[0;34m,\u001b[0m\u001b[0;34m\u001b[0m\n",
       "\u001b[0;34m\u001b[0m    \u001b[0mloss\u001b[0m\u001b[0;34m=\u001b[0m\u001b[0;34m'linear'\u001b[0m\u001b[0;34m,\u001b[0m\u001b[0;34m\u001b[0m\n",
       "\u001b[0;34m\u001b[0m    \u001b[0mf_scale\u001b[0m\u001b[0;34m=\u001b[0m\u001b[0;36m1.0\u001b[0m\u001b[0;34m,\u001b[0m\u001b[0;34m\u001b[0m\n",
       "\u001b[0;34m\u001b[0m    \u001b[0mdiff_step\u001b[0m\u001b[0;34m=\u001b[0m\u001b[0;32mNone\u001b[0m\u001b[0;34m,\u001b[0m\u001b[0;34m\u001b[0m\n",
       "\u001b[0;34m\u001b[0m    \u001b[0mtr_solver\u001b[0m\u001b[0;34m=\u001b[0m\u001b[0;32mNone\u001b[0m\u001b[0;34m,\u001b[0m\u001b[0;34m\u001b[0m\n",
       "\u001b[0;34m\u001b[0m    \u001b[0mtr_options\u001b[0m\u001b[0;34m=\u001b[0m\u001b[0;34m{\u001b[0m\u001b[0;34m}\u001b[0m\u001b[0;34m,\u001b[0m\u001b[0;34m\u001b[0m\n",
       "\u001b[0;34m\u001b[0m    \u001b[0mjac_sparsity\u001b[0m\u001b[0;34m=\u001b[0m\u001b[0;32mNone\u001b[0m\u001b[0;34m,\u001b[0m\u001b[0;34m\u001b[0m\n",
       "\u001b[0;34m\u001b[0m    \u001b[0mmax_nfev\u001b[0m\u001b[0;34m=\u001b[0m\u001b[0;32mNone\u001b[0m\u001b[0;34m,\u001b[0m\u001b[0;34m\u001b[0m\n",
       "\u001b[0;34m\u001b[0m    \u001b[0mverbose\u001b[0m\u001b[0;34m=\u001b[0m\u001b[0;36m0\u001b[0m\u001b[0;34m,\u001b[0m\u001b[0;34m\u001b[0m\n",
       "\u001b[0;34m\u001b[0m    \u001b[0margs\u001b[0m\u001b[0;34m=\u001b[0m\u001b[0;34m(\u001b[0m\u001b[0;34m)\u001b[0m\u001b[0;34m,\u001b[0m\u001b[0;34m\u001b[0m\n",
       "\u001b[0;34m\u001b[0m    \u001b[0mkwargs\u001b[0m\u001b[0;34m=\u001b[0m\u001b[0;34m{\u001b[0m\u001b[0;34m}\u001b[0m\u001b[0;34m,\u001b[0m\u001b[0;34m\u001b[0m\n",
       "\u001b[0;34m\u001b[0m\u001b[0;34m)\u001b[0m\u001b[0;34m\u001b[0m\u001b[0;34m\u001b[0m\u001b[0m\n",
       "\u001b[0;31mDocstring:\u001b[0m\n",
       "Solve a nonlinear least-squares problem with bounds on the variables.\n",
       "\n",
       "Given the residuals f(x) (an m-D real function of n real\n",
       "variables) and the loss function rho(s) (a scalar function), `least_squares`\n",
       "finds a local minimum of the cost function F(x)::\n",
       "\n",
       "    minimize F(x) = 0.5 * sum(rho(f_i(x)**2), i = 0, ..., m - 1)\n",
       "    subject to lb <= x <= ub\n",
       "\n",
       "The purpose of the loss function rho(s) is to reduce the influence of\n",
       "outliers on the solution.\n",
       "\n",
       "Parameters\n",
       "----------\n",
       "fun : callable\n",
       "    Function which computes the vector of residuals, with the signature\n",
       "    ``fun(x, *args, **kwargs)``, i.e., the minimization proceeds with\n",
       "    respect to its first argument. The argument ``x`` passed to this\n",
       "    function is an ndarray of shape (n,) (never a scalar, even for n=1).\n",
       "    It must allocate and return a 1-D array_like of shape (m,) or a scalar.\n",
       "    If the argument ``x`` is complex or the function ``fun`` returns\n",
       "    complex residuals, it must be wrapped in a real function of real\n",
       "    arguments, as shown at the end of the Examples section.\n",
       "x0 : array_like with shape (n,) or float\n",
       "    Initial guess on independent variables. If float, it will be treated\n",
       "    as a 1-D array with one element.\n",
       "jac : {'2-point', '3-point', 'cs', callable}, optional\n",
       "    Method of computing the Jacobian matrix (an m-by-n matrix, where\n",
       "    element (i, j) is the partial derivative of f[i] with respect to\n",
       "    x[j]). The keywords select a finite difference scheme for numerical\n",
       "    estimation. The scheme '3-point' is more accurate, but requires\n",
       "    twice as many operations as '2-point' (default). The scheme 'cs'\n",
       "    uses complex steps, and while potentially the most accurate, it is\n",
       "    applicable only when `fun` correctly handles complex inputs and\n",
       "    can be analytically continued to the complex plane. Method 'lm'\n",
       "    always uses the '2-point' scheme. If callable, it is used as\n",
       "    ``jac(x, *args, **kwargs)`` and should return a good approximation\n",
       "    (or the exact value) for the Jacobian as an array_like (np.atleast_2d\n",
       "    is applied), a sparse matrix (csr_matrix preferred for performance) or\n",
       "    a `scipy.sparse.linalg.LinearOperator`.\n",
       "bounds : 2-tuple of array_like or `Bounds`, optional\n",
       "    There are two ways to specify bounds:\n",
       "\n",
       "        1. Instance of `Bounds` class\n",
       "        2. Lower and upper bounds on independent variables. Defaults to no\n",
       "           bounds. Each array must match the size of `x0` or be a scalar,\n",
       "           in the latter case a bound will be the same for all variables.\n",
       "           Use ``np.inf`` with an appropriate sign to disable bounds on all\n",
       "           or some variables.\n",
       "method : {'trf', 'dogbox', 'lm'}, optional\n",
       "    Algorithm to perform minimization.\n",
       "\n",
       "        * 'trf' : Trust Region Reflective algorithm, particularly suitable\n",
       "          for large sparse problems with bounds. Generally robust method.\n",
       "        * 'dogbox' : dogleg algorithm with rectangular trust regions,\n",
       "          typical use case is small problems with bounds. Not recommended\n",
       "          for problems with rank-deficient Jacobian.\n",
       "        * 'lm' : Levenberg-Marquardt algorithm as implemented in MINPACK.\n",
       "          Doesn't handle bounds and sparse Jacobians. Usually the most\n",
       "          efficient method for small unconstrained problems.\n",
       "\n",
       "    Default is 'trf'. See Notes for more information.\n",
       "ftol : float or None, optional\n",
       "    Tolerance for termination by the change of the cost function. Default\n",
       "    is 1e-8. The optimization process is stopped when ``dF < ftol * F``,\n",
       "    and there was an adequate agreement between a local quadratic model and\n",
       "    the true model in the last step.\n",
       "\n",
       "    If None and 'method' is not 'lm', the termination by this condition is\n",
       "    disabled. If 'method' is 'lm', this tolerance must be higher than\n",
       "    machine epsilon.\n",
       "xtol : float or None, optional\n",
       "    Tolerance for termination by the change of the independent variables.\n",
       "    Default is 1e-8. The exact condition depends on the `method` used:\n",
       "\n",
       "        * For 'trf' and 'dogbox' : ``norm(dx) < xtol * (xtol + norm(x))``.\n",
       "        * For 'lm' : ``Delta < xtol * norm(xs)``, where ``Delta`` is\n",
       "          a trust-region radius and ``xs`` is the value of ``x``\n",
       "          scaled according to `x_scale` parameter (see below).\n",
       "\n",
       "    If None and 'method' is not 'lm', the termination by this condition is\n",
       "    disabled. If 'method' is 'lm', this tolerance must be higher than\n",
       "    machine epsilon.\n",
       "gtol : float or None, optional\n",
       "    Tolerance for termination by the norm of the gradient. Default is 1e-8.\n",
       "    The exact condition depends on a `method` used:\n",
       "\n",
       "        * For 'trf' : ``norm(g_scaled, ord=np.inf) < gtol``, where\n",
       "          ``g_scaled`` is the value of the gradient scaled to account for\n",
       "          the presence of the bounds [STIR]_.\n",
       "        * For 'dogbox' : ``norm(g_free, ord=np.inf) < gtol``, where\n",
       "          ``g_free`` is the gradient with respect to the variables which\n",
       "          are not in the optimal state on the boundary.\n",
       "        * For 'lm' : the maximum absolute value of the cosine of angles\n",
       "          between columns of the Jacobian and the residual vector is less\n",
       "          than `gtol`, or the residual vector is zero.\n",
       "\n",
       "    If None and 'method' is not 'lm', the termination by this condition is\n",
       "    disabled. If 'method' is 'lm', this tolerance must be higher than\n",
       "    machine epsilon.\n",
       "x_scale : array_like or 'jac', optional\n",
       "    Characteristic scale of each variable. Setting `x_scale` is equivalent\n",
       "    to reformulating the problem in scaled variables ``xs = x / x_scale``.\n",
       "    An alternative view is that the size of a trust region along jth\n",
       "    dimension is proportional to ``x_scale[j]``. Improved convergence may\n",
       "    be achieved by setting `x_scale` such that a step of a given size\n",
       "    along any of the scaled variables has a similar effect on the cost\n",
       "    function. If set to 'jac', the scale is iteratively updated using the\n",
       "    inverse norms of the columns of the Jacobian matrix (as described in\n",
       "    [JJMore]_).\n",
       "loss : str or callable, optional\n",
       "    Determines the loss function. The following keyword values are allowed:\n",
       "\n",
       "        * 'linear' (default) : ``rho(z) = z``. Gives a standard\n",
       "          least-squares problem.\n",
       "        * 'soft_l1' : ``rho(z) = 2 * ((1 + z)**0.5 - 1)``. The smooth\n",
       "          approximation of l1 (absolute value) loss. Usually a good\n",
       "          choice for robust least squares.\n",
       "        * 'huber' : ``rho(z) = z if z <= 1 else 2*z**0.5 - 1``. Works\n",
       "          similarly to 'soft_l1'.\n",
       "        * 'cauchy' : ``rho(z) = ln(1 + z)``. Severely weakens outliers\n",
       "          influence, but may cause difficulties in optimization process.\n",
       "        * 'arctan' : ``rho(z) = arctan(z)``. Limits a maximum loss on\n",
       "          a single residual, has properties similar to 'cauchy'.\n",
       "\n",
       "    If callable, it must take a 1-D ndarray ``z=f**2`` and return an\n",
       "    array_like with shape (3, m) where row 0 contains function values,\n",
       "    row 1 contains first derivatives and row 2 contains second\n",
       "    derivatives. Method 'lm' supports only 'linear' loss.\n",
       "f_scale : float, optional\n",
       "    Value of soft margin between inlier and outlier residuals, default\n",
       "    is 1.0. The loss function is evaluated as follows\n",
       "    ``rho_(f**2) = C**2 * rho(f**2 / C**2)``, where ``C`` is `f_scale`,\n",
       "    and ``rho`` is determined by `loss` parameter. This parameter has\n",
       "    no effect with ``loss='linear'``, but for other `loss` values it is\n",
       "    of crucial importance.\n",
       "max_nfev : None or int, optional\n",
       "    Maximum number of function evaluations before the termination.\n",
       "    If None (default), the value is chosen automatically:\n",
       "\n",
       "        * For 'trf' and 'dogbox' : 100 * n.\n",
       "        * For 'lm' :  100 * n if `jac` is callable and 100 * n * (n + 1)\n",
       "          otherwise (because 'lm' counts function calls in Jacobian\n",
       "          estimation).\n",
       "\n",
       "diff_step : None or array_like, optional\n",
       "    Determines the relative step size for the finite difference\n",
       "    approximation of the Jacobian. The actual step is computed as\n",
       "    ``x * diff_step``. If None (default), then `diff_step` is taken to be\n",
       "    a conventional \"optimal\" power of machine epsilon for the finite\n",
       "    difference scheme used [NR]_.\n",
       "tr_solver : {None, 'exact', 'lsmr'}, optional\n",
       "    Method for solving trust-region subproblems, relevant only for 'trf'\n",
       "    and 'dogbox' methods.\n",
       "\n",
       "        * 'exact' is suitable for not very large problems with dense\n",
       "          Jacobian matrices. The computational complexity per iteration is\n",
       "          comparable to a singular value decomposition of the Jacobian\n",
       "          matrix.\n",
       "        * 'lsmr' is suitable for problems with sparse and large Jacobian\n",
       "          matrices. It uses the iterative procedure\n",
       "          `scipy.sparse.linalg.lsmr` for finding a solution of a linear\n",
       "          least-squares problem and only requires matrix-vector product\n",
       "          evaluations.\n",
       "\n",
       "    If None (default), the solver is chosen based on the type of Jacobian\n",
       "    returned on the first iteration.\n",
       "tr_options : dict, optional\n",
       "    Keyword options passed to trust-region solver.\n",
       "\n",
       "        * ``tr_solver='exact'``: `tr_options` are ignored.\n",
       "        * ``tr_solver='lsmr'``: options for `scipy.sparse.linalg.lsmr`.\n",
       "          Additionally,  ``method='trf'`` supports  'regularize' option\n",
       "          (bool, default is True), which adds a regularization term to the\n",
       "          normal equation, which improves convergence if the Jacobian is\n",
       "          rank-deficient [Byrd]_ (eq. 3.4).\n",
       "\n",
       "jac_sparsity : {None, array_like, sparse matrix}, optional\n",
       "    Defines the sparsity structure of the Jacobian matrix for finite\n",
       "    difference estimation, its shape must be (m, n). If the Jacobian has\n",
       "    only few non-zero elements in *each* row, providing the sparsity\n",
       "    structure will greatly speed up the computations [Curtis]_. A zero\n",
       "    entry means that a corresponding element in the Jacobian is identically\n",
       "    zero. If provided, forces the use of 'lsmr' trust-region solver.\n",
       "    If None (default), then dense differencing will be used. Has no effect\n",
       "    for 'lm' method.\n",
       "verbose : {0, 1, 2}, optional\n",
       "    Level of algorithm's verbosity:\n",
       "\n",
       "        * 0 (default) : work silently.\n",
       "        * 1 : display a termination report.\n",
       "        * 2 : display progress during iterations (not supported by 'lm'\n",
       "          method).\n",
       "\n",
       "args, kwargs : tuple and dict, optional\n",
       "    Additional arguments passed to `fun` and `jac`. Both empty by default.\n",
       "    The calling signature is ``fun(x, *args, **kwargs)`` and the same for\n",
       "    `jac`.\n",
       "\n",
       "Returns\n",
       "-------\n",
       "result : OptimizeResult\n",
       "    `OptimizeResult` with the following fields defined:\n",
       "\n",
       "        x : ndarray, shape (n,)\n",
       "            Solution found.\n",
       "        cost : float\n",
       "            Value of the cost function at the solution.\n",
       "        fun : ndarray, shape (m,)\n",
       "            Vector of residuals at the solution.\n",
       "        jac : ndarray, sparse matrix or LinearOperator, shape (m, n)\n",
       "            Modified Jacobian matrix at the solution, in the sense that J^T J\n",
       "            is a Gauss-Newton approximation of the Hessian of the cost function.\n",
       "            The type is the same as the one used by the algorithm.\n",
       "        grad : ndarray, shape (m,)\n",
       "            Gradient of the cost function at the solution.\n",
       "        optimality : float\n",
       "            First-order optimality measure. In unconstrained problems, it is\n",
       "            always the uniform norm of the gradient. In constrained problems,\n",
       "            it is the quantity which was compared with `gtol` during iterations.\n",
       "        active_mask : ndarray of int, shape (n,)\n",
       "            Each component shows whether a corresponding constraint is active\n",
       "            (that is, whether a variable is at the bound):\n",
       "\n",
       "                *  0 : a constraint is not active.\n",
       "                * -1 : a lower bound is active.\n",
       "                *  1 : an upper bound is active.\n",
       "\n",
       "            Might be somewhat arbitrary for 'trf' method as it generates a\n",
       "            sequence of strictly feasible iterates and `active_mask` is\n",
       "            determined within a tolerance threshold.\n",
       "        nfev : int\n",
       "            Number of function evaluations done. Methods 'trf' and 'dogbox' do\n",
       "            not count function calls for numerical Jacobian approximation, as\n",
       "            opposed to 'lm' method.\n",
       "        njev : int or None\n",
       "            Number of Jacobian evaluations done. If numerical Jacobian\n",
       "            approximation is used in 'lm' method, it is set to None.\n",
       "        status : int\n",
       "            The reason for algorithm termination:\n",
       "\n",
       "                * -1 : improper input parameters status returned from MINPACK.\n",
       "                *  0 : the maximum number of function evaluations is exceeded.\n",
       "                *  1 : `gtol` termination condition is satisfied.\n",
       "                *  2 : `ftol` termination condition is satisfied.\n",
       "                *  3 : `xtol` termination condition is satisfied.\n",
       "                *  4 : Both `ftol` and `xtol` termination conditions are satisfied.\n",
       "\n",
       "        message : str\n",
       "            Verbal description of the termination reason.\n",
       "        success : bool\n",
       "            True if one of the convergence criteria is satisfied (`status` > 0).\n",
       "\n",
       "See Also\n",
       "--------\n",
       "leastsq : A legacy wrapper for the MINPACK implementation of the\n",
       "          Levenberg-Marquadt algorithm.\n",
       "curve_fit : Least-squares minimization applied to a curve-fitting problem.\n",
       "\n",
       "Notes\n",
       "-----\n",
       "Method 'lm' (Levenberg-Marquardt) calls a wrapper over least-squares\n",
       "algorithms implemented in MINPACK (lmder, lmdif). It runs the\n",
       "Levenberg-Marquardt algorithm formulated as a trust-region type algorithm.\n",
       "The implementation is based on paper [JJMore]_, it is very robust and\n",
       "efficient with a lot of smart tricks. It should be your first choice\n",
       "for unconstrained problems. Note that it doesn't support bounds. Also,\n",
       "it doesn't work when m < n.\n",
       "\n",
       "Method 'trf' (Trust Region Reflective) is motivated by the process of\n",
       "solving a system of equations, which constitute the first-order optimality\n",
       "condition for a bound-constrained minimization problem as formulated in\n",
       "[STIR]_. The algorithm iteratively solves trust-region subproblems\n",
       "augmented by a special diagonal quadratic term and with trust-region shape\n",
       "determined by the distance from the bounds and the direction of the\n",
       "gradient. This enhancements help to avoid making steps directly into bounds\n",
       "and efficiently explore the whole space of variables. To further improve\n",
       "convergence, the algorithm considers search directions reflected from the\n",
       "bounds. To obey theoretical requirements, the algorithm keeps iterates\n",
       "strictly feasible. With dense Jacobians trust-region subproblems are\n",
       "solved by an exact method very similar to the one described in [JJMore]_\n",
       "(and implemented in MINPACK). The difference from the MINPACK\n",
       "implementation is that a singular value decomposition of a Jacobian\n",
       "matrix is done once per iteration, instead of a QR decomposition and series\n",
       "of Givens rotation eliminations. For large sparse Jacobians a 2-D subspace\n",
       "approach of solving trust-region subproblems is used [STIR]_, [Byrd]_.\n",
       "The subspace is spanned by a scaled gradient and an approximate\n",
       "Gauss-Newton solution delivered by `scipy.sparse.linalg.lsmr`. When no\n",
       "constraints are imposed the algorithm is very similar to MINPACK and has\n",
       "generally comparable performance. The algorithm works quite robust in\n",
       "unbounded and bounded problems, thus it is chosen as a default algorithm.\n",
       "\n",
       "Method 'dogbox' operates in a trust-region framework, but considers\n",
       "rectangular trust regions as opposed to conventional ellipsoids [Voglis]_.\n",
       "The intersection of a current trust region and initial bounds is again\n",
       "rectangular, so on each iteration a quadratic minimization problem subject\n",
       "to bound constraints is solved approximately by Powell's dogleg method\n",
       "[NumOpt]_. The required Gauss-Newton step can be computed exactly for\n",
       "dense Jacobians or approximately by `scipy.sparse.linalg.lsmr` for large\n",
       "sparse Jacobians. The algorithm is likely to exhibit slow convergence when\n",
       "the rank of Jacobian is less than the number of variables. The algorithm\n",
       "often outperforms 'trf' in bounded problems with a small number of\n",
       "variables.\n",
       "\n",
       "Robust loss functions are implemented as described in [BA]_. The idea\n",
       "is to modify a residual vector and a Jacobian matrix on each iteration\n",
       "such that computed gradient and Gauss-Newton Hessian approximation match\n",
       "the true gradient and Hessian approximation of the cost function. Then\n",
       "the algorithm proceeds in a normal way, i.e., robust loss functions are\n",
       "implemented as a simple wrapper over standard least-squares algorithms.\n",
       "\n",
       ".. versionadded:: 0.17.0\n",
       "\n",
       "References\n",
       "----------\n",
       ".. [STIR] M. A. Branch, T. F. Coleman, and Y. Li, \"A Subspace, Interior,\n",
       "          and Conjugate Gradient Method for Large-Scale Bound-Constrained\n",
       "          Minimization Problems,\" SIAM Journal on Scientific Computing,\n",
       "          Vol. 21, Number 1, pp 1-23, 1999.\n",
       ".. [NR] William H. Press et. al., \"Numerical Recipes. The Art of Scientific\n",
       "        Computing. 3rd edition\", Sec. 5.7.\n",
       ".. [Byrd] R. H. Byrd, R. B. Schnabel and G. A. Shultz, \"Approximate\n",
       "          solution of the trust region problem by minimization over\n",
       "          two-dimensional subspaces\", Math. Programming, 40, pp. 247-263,\n",
       "          1988.\n",
       ".. [Curtis] A. Curtis, M. J. D. Powell, and J. Reid, \"On the estimation of\n",
       "            sparse Jacobian matrices\", Journal of the Institute of\n",
       "            Mathematics and its Applications, 13, pp. 117-120, 1974.\n",
       ".. [JJMore] J. J. More, \"The Levenberg-Marquardt Algorithm: Implementation\n",
       "            and Theory,\" Numerical Analysis, ed. G. A. Watson, Lecture\n",
       "            Notes in Mathematics 630, Springer Verlag, pp. 105-116, 1977.\n",
       ".. [Voglis] C. Voglis and I. E. Lagaris, \"A Rectangular Trust Region\n",
       "            Dogleg Approach for Unconstrained and Bound Constrained\n",
       "            Nonlinear Optimization\", WSEAS International Conference on\n",
       "            Applied Mathematics, Corfu, Greece, 2004.\n",
       ".. [NumOpt] J. Nocedal and S. J. Wright, \"Numerical optimization,\n",
       "            2nd edition\", Chapter 4.\n",
       ".. [BA] B. Triggs et. al., \"Bundle Adjustment - A Modern Synthesis\",\n",
       "        Proceedings of the International Workshop on Vision Algorithms:\n",
       "        Theory and Practice, pp. 298-372, 1999.\n",
       "\n",
       "Examples\n",
       "--------\n",
       "In this example we find a minimum of the Rosenbrock function without bounds\n",
       "on independent variables.\n",
       "\n",
       ">>> import numpy as np\n",
       ">>> def fun_rosenbrock(x):\n",
       "...     return np.array([10 * (x[1] - x[0]**2), (1 - x[0])])\n",
       "\n",
       "Notice that we only provide the vector of the residuals. The algorithm\n",
       "constructs the cost function as a sum of squares of the residuals, which\n",
       "gives the Rosenbrock function. The exact minimum is at ``x = [1.0, 1.0]``.\n",
       "\n",
       ">>> from scipy.optimize import least_squares\n",
       ">>> x0_rosenbrock = np.array([2, 2])\n",
       ">>> res_1 = least_squares(fun_rosenbrock, x0_rosenbrock)\n",
       ">>> res_1.x\n",
       "array([ 1.,  1.])\n",
       ">>> res_1.cost\n",
       "9.8669242910846867e-30\n",
       ">>> res_1.optimality\n",
       "8.8928864934219529e-14\n",
       "\n",
       "We now constrain the variables, in such a way that the previous solution\n",
       "becomes infeasible. Specifically, we require that ``x[1] >= 1.5``, and\n",
       "``x[0]`` left unconstrained. To this end, we specify the `bounds` parameter\n",
       "to `least_squares` in the form ``bounds=([-np.inf, 1.5], np.inf)``.\n",
       "\n",
       "We also provide the analytic Jacobian:\n",
       "\n",
       ">>> def jac_rosenbrock(x):\n",
       "...     return np.array([\n",
       "...         [-20 * x[0], 10],\n",
       "...         [-1, 0]])\n",
       "\n",
       "Putting this all together, we see that the new solution lies on the bound:\n",
       "\n",
       ">>> res_2 = least_squares(fun_rosenbrock, x0_rosenbrock, jac_rosenbrock,\n",
       "...                       bounds=([-np.inf, 1.5], np.inf))\n",
       ">>> res_2.x\n",
       "array([ 1.22437075,  1.5       ])\n",
       ">>> res_2.cost\n",
       "0.025213093946805685\n",
       ">>> res_2.optimality\n",
       "1.5885401433157753e-07\n",
       "\n",
       "Now we solve a system of equations (i.e., the cost function should be zero\n",
       "at a minimum) for a Broyden tridiagonal vector-valued function of 100000\n",
       "variables:\n",
       "\n",
       ">>> def fun_broyden(x):\n",
       "...     f = (3 - x) * x + 1\n",
       "...     f[1:] -= x[:-1]\n",
       "...     f[:-1] -= 2 * x[1:]\n",
       "...     return f\n",
       "\n",
       "The corresponding Jacobian matrix is sparse. We tell the algorithm to\n",
       "estimate it by finite differences and provide the sparsity structure of\n",
       "Jacobian to significantly speed up this process.\n",
       "\n",
       ">>> from scipy.sparse import lil_matrix\n",
       ">>> def sparsity_broyden(n):\n",
       "...     sparsity = lil_matrix((n, n), dtype=int)\n",
       "...     i = np.arange(n)\n",
       "...     sparsity[i, i] = 1\n",
       "...     i = np.arange(1, n)\n",
       "...     sparsity[i, i - 1] = 1\n",
       "...     i = np.arange(n - 1)\n",
       "...     sparsity[i, i + 1] = 1\n",
       "...     return sparsity\n",
       "...\n",
       ">>> n = 100000\n",
       ">>> x0_broyden = -np.ones(n)\n",
       "...\n",
       ">>> res_3 = least_squares(fun_broyden, x0_broyden,\n",
       "...                       jac_sparsity=sparsity_broyden(n))\n",
       ">>> res_3.cost\n",
       "4.5687069299604613e-23\n",
       ">>> res_3.optimality\n",
       "1.1650454296851518e-11\n",
       "\n",
       "Let's also solve a curve fitting problem using robust loss function to\n",
       "take care of outliers in the data. Define the model function as\n",
       "``y = a + b * exp(c * t)``, where t is a predictor variable, y is an\n",
       "observation and a, b, c are parameters to estimate.\n",
       "\n",
       "First, define the function which generates the data with noise and\n",
       "outliers, define the model parameters, and generate data:\n",
       "\n",
       ">>> from numpy.random import default_rng\n",
       ">>> rng = default_rng()\n",
       ">>> def gen_data(t, a, b, c, noise=0., n_outliers=0, seed=None):\n",
       "...     rng = default_rng(seed)\n",
       "...\n",
       "...     y = a + b * np.exp(t * c)\n",
       "...\n",
       "...     error = noise * rng.standard_normal(t.size)\n",
       "...     outliers = rng.integers(0, t.size, n_outliers)\n",
       "...     error[outliers] *= 10\n",
       "...\n",
       "...     return y + error\n",
       "...\n",
       ">>> a = 0.5\n",
       ">>> b = 2.0\n",
       ">>> c = -1\n",
       ">>> t_min = 0\n",
       ">>> t_max = 10\n",
       ">>> n_points = 15\n",
       "...\n",
       ">>> t_train = np.linspace(t_min, t_max, n_points)\n",
       ">>> y_train = gen_data(t_train, a, b, c, noise=0.1, n_outliers=3)\n",
       "\n",
       "Define function for computing residuals and initial estimate of\n",
       "parameters.\n",
       "\n",
       ">>> def fun(x, t, y):\n",
       "...     return x[0] + x[1] * np.exp(x[2] * t) - y\n",
       "...\n",
       ">>> x0 = np.array([1.0, 1.0, 0.0])\n",
       "\n",
       "Compute a standard least-squares solution:\n",
       "\n",
       ">>> res_lsq = least_squares(fun, x0, args=(t_train, y_train))\n",
       "\n",
       "Now compute two solutions with two different robust loss functions. The\n",
       "parameter `f_scale` is set to 0.1, meaning that inlier residuals should\n",
       "not significantly exceed 0.1 (the noise level used).\n",
       "\n",
       ">>> res_soft_l1 = least_squares(fun, x0, loss='soft_l1', f_scale=0.1,\n",
       "...                             args=(t_train, y_train))\n",
       ">>> res_log = least_squares(fun, x0, loss='cauchy', f_scale=0.1,\n",
       "...                         args=(t_train, y_train))\n",
       "\n",
       "And, finally, plot all the curves. We see that by selecting an appropriate\n",
       "`loss`  we can get estimates close to optimal even in the presence of\n",
       "strong outliers. But keep in mind that generally it is recommended to try\n",
       "'soft_l1' or 'huber' losses first (if at all necessary) as the other two\n",
       "options may cause difficulties in optimization process.\n",
       "\n",
       ">>> t_test = np.linspace(t_min, t_max, n_points * 10)\n",
       ">>> y_true = gen_data(t_test, a, b, c)\n",
       ">>> y_lsq = gen_data(t_test, *res_lsq.x)\n",
       ">>> y_soft_l1 = gen_data(t_test, *res_soft_l1.x)\n",
       ">>> y_log = gen_data(t_test, *res_log.x)\n",
       "...\n",
       ">>> import matplotlib.pyplot as plt\n",
       ">>> plt.plot(t_train, y_train, 'o')\n",
       ">>> plt.plot(t_test, y_true, 'k', linewidth=2, label='true')\n",
       ">>> plt.plot(t_test, y_lsq, label='linear loss')\n",
       ">>> plt.plot(t_test, y_soft_l1, label='soft_l1 loss')\n",
       ">>> plt.plot(t_test, y_log, label='cauchy loss')\n",
       ">>> plt.xlabel(\"t\")\n",
       ">>> plt.ylabel(\"y\")\n",
       ">>> plt.legend()\n",
       ">>> plt.show()\n",
       "\n",
       "In the next example, we show how complex-valued residual functions of\n",
       "complex variables can be optimized with ``least_squares()``. Consider the\n",
       "following function:\n",
       "\n",
       ">>> def f(z):\n",
       "...     return z - (0.5 + 0.5j)\n",
       "\n",
       "We wrap it into a function of real variables that returns real residuals\n",
       "by simply handling the real and imaginary parts as independent variables:\n",
       "\n",
       ">>> def f_wrap(x):\n",
       "...     fx = f(x[0] + 1j*x[1])\n",
       "...     return np.array([fx.real, fx.imag])\n",
       "\n",
       "Thus, instead of the original m-D complex function of n complex\n",
       "variables we optimize a 2m-D real function of 2n real variables:\n",
       "\n",
       ">>> from scipy.optimize import least_squares\n",
       ">>> res_wrapped = least_squares(f_wrap, (0.1, 0.1), bounds=([0, 0], [1, 1]))\n",
       ">>> z = res_wrapped.x[0] + res_wrapped.x[1]*1j\n",
       ">>> z\n",
       "(0.49999999999925893+0.49999999999925893j)\n",
       "\u001b[0;31mFile:\u001b[0m      ~/anaconda3/lib/python3.10/site-packages/scipy/optimize/_lsq/least_squares.py\n",
       "\u001b[0;31mType:\u001b[0m      function"
      ]
     },
     "metadata": {},
     "output_type": "display_data"
    }
   ],
   "source": [
    "import autograd.numpy as np\n",
    "from autograd import jacobian\n",
    "\n",
    "from scipy.optimize import least_squares\n",
    "\n",
    "least_squares?"
   ]
  },
  {
   "cell_type": "markdown",
   "id": "0093a41a",
   "metadata": {},
   "source": [
    "Here is the data we are going to work with.\n",
    "\n"
   ]
  },
  {
   "cell_type": "code",
   "execution_count": 2,
   "id": "fce94bd1",
   "metadata": {},
   "outputs": [
    {
     "data": {
      "image/png": "[encoded data removed]",
      "text/plain": [
       "<Figure size 640x480 with 1 Axes>"
      ]
     },
     "metadata": {},
     "output_type": "display_data"
    }
   ],
   "source": [
    "# Some generated data\n",
    "X = np.linspace(0, 1)\n",
    "Y = X ** (1.0 / 3.0)\n",
    "\n",
    "import matplotlib.pyplot as plt\n",
    "\n",
    "plt.plot(X, Y, \"b.\")\n",
    "plt.xlabel(\"x\")\n",
    "plt.ylabel(\"y\");"
   ]
  },
  {
   "cell_type": "markdown",
   "id": "707004d8",
   "metadata": {},
   "source": [
    "We have to define a function for our model, and then another one for the residuals. For now, we stick with a syntax we are familiar with, and one that works with `least_squares`.\n",
    "\n"
   ]
  },
  {
   "cell_type": "code",
   "execution_count": 3,
   "id": "c072176f",
   "metadata": {},
   "outputs": [],
   "source": [
    "def model(x, *pars):\n",
    "    b1, w10, w00, b00, w11, w01, b01, w12, w02, b02 = pars\n",
    "    pred = (\n",
    "        b1\n",
    "        + w10 * np.tanh(w00 * x + b00)\n",
    "        + w11 * np.tanh(w01 * x + b01)\n",
    "        + w12 * np.tanh(w02 * x + b02)\n",
    "    )\n",
    "    return pred\n",
    "\n",
    "\n",
    "def resid(pars):\n",
    "    return Y - model(X, *pars)"
   ]
  },
  {
   "cell_type": "markdown",
   "id": "8794bbb5",
   "metadata": {},
   "source": [
    "Finally, we call `least_squares` to get the parameters. We have a nonlinear model, and are using a nonlinear optimizer, so we need an initial guess to get started. Here we use normally distributed random numbers for the guess.\n",
    "\n"
   ]
  },
  {
   "cell_type": "code",
   "execution_count": 4,
   "id": "c803d1ef",
   "metadata": {},
   "outputs": [
    {
     "data": {
      "text/plain": [
       "\u001b[0;31mSignature:\u001b[0m \u001b[0mnp\u001b[0m\u001b[0;34m.\u001b[0m\u001b[0mrandom\u001b[0m\u001b[0;34m.\u001b[0m\u001b[0mrandn\u001b[0m\u001b[0;34m(\u001b[0m\u001b[0;34m*\u001b[0m\u001b[0margs\u001b[0m\u001b[0;34m,\u001b[0m \u001b[0;34m**\u001b[0m\u001b[0mkwargs\u001b[0m\u001b[0;34m)\u001b[0m\u001b[0;34m\u001b[0m\u001b[0;34m\u001b[0m\u001b[0m\n",
       "\u001b[0;31mDocstring:\u001b[0m\n",
       "randn(d0, d1, ..., dn)\n",
       "\n",
       "Return a sample (or samples) from the \"standard normal\" distribution.\n",
       "\n",
       ".. note::\n",
       "    This is a convenience function for users porting code from Matlab,\n",
       "    and wraps `standard_normal`. That function takes a\n",
       "    tuple to specify the size of the output, which is consistent with\n",
       "    other NumPy functions like `numpy.zeros` and `numpy.ones`.\n",
       "\n",
       ".. note::\n",
       "    New code should use the ``standard_normal`` method of a ``default_rng()``\n",
       "    instance instead; please see the :ref:`random-quick-start`.\n",
       "\n",
       "If positive int_like arguments are provided, `randn` generates an array\n",
       "of shape ``(d0, d1, ..., dn)``, filled\n",
       "with random floats sampled from a univariate \"normal\" (Gaussian)\n",
       "distribution of mean 0 and variance 1. A single float randomly sampled\n",
       "from the distribution is returned if no argument is provided.\n",
       "\n",
       "Parameters\n",
       "----------\n",
       "d0, d1, ..., dn : int, optional\n",
       "    The dimensions of the returned array, must be non-negative.\n",
       "    If no argument is given a single Python float is returned.\n",
       "\n",
       "Returns\n",
       "-------\n",
       "Z : ndarray or float\n",
       "    A ``(d0, d1, ..., dn)``-shaped array of floating-point samples from\n",
       "    the standard normal distribution, or a single such float if\n",
       "    no parameters were supplied.\n",
       "\n",
       "See Also\n",
       "--------\n",
       "standard_normal : Similar, but takes a tuple as its argument.\n",
       "normal : Also accepts mu and sigma arguments.\n",
       "random.Generator.standard_normal: which should be used for new code.\n",
       "\n",
       "Notes\n",
       "-----\n",
       "For random samples from :math:`N(\\mu, \\sigma^2)`, use:\n",
       "\n",
       "``sigma * np.random.randn(...) + mu``\n",
       "\n",
       "Examples\n",
       "--------\n",
       ">>> np.random.randn()\n",
       "2.1923875335537315  # random\n",
       "\n",
       "Two-by-four array of samples from N(3, 6.25):\n",
       "\n",
       ">>> 3 + 2.5 * np.random.randn(2, 4)\n",
       "array([[-4.49401501,  4.00950034, -1.81814867,  7.29718677],   # random\n",
       "       [ 0.39924804,  4.68456316,  4.99394529,  4.84057254]])  # random\n",
       "\u001b[0;31mFile:\u001b[0m      ~/anaconda3/lib/python3.10/site-packages/autograd/tracer.py\n",
       "\u001b[0;31mType:\u001b[0m      function"
      ]
     },
     "metadata": {},
     "output_type": "display_data"
    }
   ],
   "source": [
    "np.random.randn?"
   ]
  },
  {
   "cell_type": "code",
   "execution_count": 5,
   "id": "9be6fc8e",
   "metadata": {},
   "outputs": [
    {
     "data": {
      "text/plain": [
       "'The maximum number of function evaluations is exceeded.'"
      ]
     },
     "execution_count": 5,
     "metadata": {},
     "output_type": "execute_result"
    }
   ],
   "source": [
    "pars = least_squares(resid, x0=np.random.randn(10) * 0.1)\n",
    "pars.message"
   ]
  },
  {
   "cell_type": "code",
   "execution_count": 6,
   "id": "c0efbe6b",
   "metadata": {},
   "outputs": [
    {
     "data": {
      "text/plain": [
       "     message: The maximum number of function evaluations is exceeded.\n",
       "     success: False\n",
       "      status: 0\n",
       "         fun: [-3.945e-05  4.977e-04 ...  8.600e-04  1.220e-03]\n",
       "           x: [-8.764e+01  1.711e+01  5.471e+01  2.479e+00 -3.893e+01\n",
       "               -5.101e-01 -2.252e+00  3.291e+01  5.331e+00  2.857e+00]\n",
       "        cost: 1.3737066783634003e-05\n",
       "         jac: [[-1.000e+00 -9.860e-01 ...  0.000e+00 -4.319e-01]\n",
       "               [-1.000e+00 -9.985e-01 ... -7.100e-03 -3.479e-01]\n",
       "               ...\n",
       "               [-1.000e+00 -1.000e+00 ... -1.243e-05 -1.269e-05]\n",
       "               [-1.000e+00 -1.000e+00 ... -1.020e-05 -1.018e-05]]\n",
       "        grad: [ 2.865e-04  2.863e-04  1.358e-08  6.574e-06 -2.821e-04\n",
       "               -1.079e-04 -3.376e-04  2.861e-04  1.450e-06  2.122e-05]\n",
       "  optimality: 0.00033759465968217725\n",
       " active_mask: [ 0.000e+00  0.000e+00  0.000e+00  0.000e+00  0.000e+00\n",
       "                0.000e+00  0.000e+00  0.000e+00  0.000e+00  0.000e+00]\n",
       "        nfev: 1000\n",
       "        njev: 803"
      ]
     },
     "execution_count": 6,
     "metadata": {},
     "output_type": "execute_result"
    }
   ],
   "source": [
    "pars"
   ]
  },
  {
   "cell_type": "markdown",
   "id": "a8cc261e",
   "metadata": {},
   "source": [
    "At first, that looks bad, like we did not succeed. The cost function is small though:\n",
    "\n"
   ]
  },
  {
   "cell_type": "code",
   "execution_count": 7,
   "id": "527787b3",
   "metadata": {},
   "outputs": [
    {
     "data": {
      "text/plain": [
       "1.3737066783634003e-05"
      ]
     },
     "execution_count": 7,
     "metadata": {},
     "output_type": "execute_result"
    }
   ],
   "source": [
    "pars.cost"
   ]
  },
  {
   "cell_type": "markdown",
   "id": "afba9a4e",
   "metadata": {},
   "source": [
    "Also, it looks like the gradients at the end-point are all close to zero.\n",
    "\n"
   ]
  },
  {
   "cell_type": "code",
   "execution_count": 8,
   "id": "ec9a3467",
   "metadata": {},
   "outputs": [
    {
     "data": {
      "text/plain": [
       "array([ 0.,  0.,  0.,  0., -0., -0., -0.,  0.,  0.,  0.])"
      ]
     },
     "execution_count": 8,
     "metadata": {},
     "output_type": "execute_result"
    }
   ],
   "source": [
    "np.set_printoptions(precision=3, suppress=True)\n",
    "pars.grad"
   ]
  },
  {
   "cell_type": "markdown",
   "id": "581456b6",
   "metadata": {},
   "source": [
    "Finally, we can see that although our model is not positive definite at the endpoint, the non-zero eigenvalues are greater than zero.\n",
    "\n"
   ]
  },
  {
   "cell_type": "code",
   "execution_count": 9,
   "id": "9b848ec9",
   "metadata": {},
   "outputs": [
    {
     "data": {
      "text/plain": [
       "array([531.831,  12.332,   0.626,   0.163,   0.022,   0.   ,   0.   ,\n",
       "         0.   ,   0.   ,   0.   ])"
      ]
     },
     "execution_count": 9,
     "metadata": {},
     "output_type": "execute_result"
    }
   ],
   "source": [
    "from autograd import hessian\n",
    "\n",
    "\n",
    "def sse(params):\n",
    "    return np.sum(resid(params) ** 2)\n",
    "\n",
    "\n",
    "H = hessian(sse)\n",
    "np.linalg.eigvals(H(pars.x))"
   ]
  },
  {
   "cell_type": "markdown",
   "id": "61438688",
   "metadata": {},
   "source": [
    "The zeros suggest our model is too complex, that it has more parameters than are required. We leave this point for future consideration. Also note that the Hessian is singular:\n",
    "\n"
   ]
  },
  {
   "cell_type": "code",
   "execution_count": 10,
   "id": "0898210c",
   "metadata": {},
   "outputs": [
    {
     "data": {
      "text/plain": [
       "1.3821417482399895e-32"
      ]
     },
     "execution_count": 10,
     "metadata": {},
     "output_type": "execute_result"
    }
   ],
   "source": [
    "np.linalg.det(H(pars.x))"
   ]
  },
  {
   "cell_type": "markdown",
   "id": "f241aeb8",
   "metadata": {},
   "source": [
    "That means we cannot use any method that requires an inverse Hessian to help with the optimization.\n",
    "\n",
    "Finally, we can graphically show that this model works ok.\n",
    "\n"
   ]
  },
  {
   "cell_type": "code",
   "execution_count": 11,
   "id": "b29c0133",
   "metadata": {},
   "outputs": [
    {
     "data": {
      "image/png": "[encoded data removed]",
      "text/plain": [
       "<Figure size 640x480 with 1 Axes>"
      ]
     },
     "metadata": {},
     "output_type": "display_data"
    }
   ],
   "source": [
    "plt.plot(X, Y, \"b.\", X, model(X, *pars.x))\n",
    "plt.legend([\"data\", \"fit\"])\n",
    "plt.xlabel(\"x\")\n",
    "plt.ylabel(\"y\");"
   ]
  },
  {
   "cell_type": "markdown",
   "id": "adb23ed6",
   "metadata": {},
   "source": [
    "Evidently, we just have not reached the required tolerances for least\\_squares to claim success.\n",
    "\n",
    "Let's inspect the parameter values. They vary by some orders of magnitude, and surprisingly are all negative.\n",
    "\n",
    "**Exercise** Run this sequence several times with new initializations. You should get equally good fits, but different parameters. These models are not unique. That is one thing many people do not like about machine learning.\n",
    "\n"
   ]
  },
  {
   "cell_type": "code",
   "execution_count": 12,
   "id": "97c9f1d9",
   "metadata": {},
   "outputs": [
    {
     "data": {
      "text/plain": [
       "array([-87.639,  17.106,  54.714,   2.479, -38.931,  -0.51 ,  -2.252,\n",
       "        32.911,   5.331,   2.857])"
      ]
     },
     "execution_count": 12,
     "metadata": {},
     "output_type": "execute_result"
    }
   ],
   "source": [
    "pars.x"
   ]
  },
  {
   "cell_type": "code",
   "execution_count": 13,
   "id": "37d193e5",
   "metadata": {},
   "outputs": [
    {
     "data": {
      "text/plain": [
       "array([-87.639,  17.106,  54.714,   2.479, -38.931,  -0.51 ,  -2.252,\n",
       "        32.911,   5.331,   2.857])"
      ]
     },
     "execution_count": 13,
     "metadata": {},
     "output_type": "execute_result"
    }
   ],
   "source": [
    "pars.x"
   ]
  },
  {
   "cell_type": "markdown",
   "id": "657ffcf0",
   "metadata": {},
   "source": [
    "We have fitted a nonlinear model to the data, and so we should not expect it to extrapolate reliably. We can show this is the case explicitly:\n",
    "\n"
   ]
  },
  {
   "cell_type": "code",
   "execution_count": 14,
   "id": "aefed1a2",
   "metadata": {},
   "outputs": [
    {
     "data": {
      "image/png": "[encoded data removed]",
      "text/plain": [
       "<Figure size 640x480 with 1 Axes>"
      ]
     },
     "metadata": {},
     "output_type": "display_data"
    }
   ],
   "source": [
    "EX = np.linspace(0, 10)\n",
    "EY = model(EX, *pars.x)\n",
    "DY = EX ** (1 / 3)\n",
    "\n",
    "plt.plot(EX, DY, \"b.\", EX, EY)\n",
    "plt.legend([\"Real function\", \"Model\"])\n",
    "plt.xlabel(\"x\")\n",
    "plt.ylabel(\"y\");"
   ]
  },
  {
   "cell_type": "markdown",
   "id": "a655c9d9",
   "metadata": {},
   "source": [
    "You can see that this model saturates for large $x$. That might be anticipated from knowledge of the tanh function, it also saturates at large values of $x$.\n",
    "\n"
   ]
  },
  {
   "cell_type": "code",
   "execution_count": 15,
   "id": "46590cf6",
   "metadata": {},
   "outputs": [
    {
     "data": {
      "image/png": "[encoded data removed]",
      "text/plain": [
       "<Figure size 640x480 with 1 Axes>"
      ]
     },
     "metadata": {},
     "output_type": "display_data"
    }
   ],
   "source": [
    "tx = np.linspace(-5, 5)\n",
    "plt.plot(tx, np.tanh(tx))\n",
    "plt.xlabel(\"x\")\n",
    "plt.ylabel(\"y\");"
   ]
  },
  {
   "cell_type": "markdown",
   "id": "b0dae958",
   "metadata": {},
   "source": [
    "Up to here, this is mostly review for us. It is just a nonlinear regression (admittedly to a strange looking function), and analysis of the resulting model. Note that the model is very flexible, and it can be used to fit a variety of other functions.\n",
    "\n",
    "I did not pull that model out of nowhere. Let's rewrite it in a few steps. If we think of `tanh` as a function that operates element-wise on a vector, we could write that equation more compactly at:\n",
    "\n",
    "                                  [w00 * x + b01]\n",
    "    y = [w10, w11, w12] @ np.tanh([w01 * x + b01]) + b1\n",
    "                                  [w02 * x + b02]\n",
    "\n",
    "We can rewrite this one more time in matrix notation:\n",
    "\n",
    "    y = w1 @ np.tanh(w0 @ x + b0) + b1\n",
    "\n",
    "Another way to read these equations is that we have an input of $x$. We multiply the input by a vector weights ($\\mathbf{w0}$), add a vector of offsets (biases), $\\mathbf{b0}$, *activate* that by the nonlinear `tanh` function, then multiply that by a new set of weights, and add a final bias. We typically call this kind of model a *neural network*. There is an input layer, one hidden layer with 3 neurons that are activated by `tanh`, and one output layer with linear activation.\n",
    "\n",
    "A conventional graphical representation of this function as a neural network is shown here:\n",
    "![nn.png](./nn.png)\n",
    "\n",
    "These models are called neural networks because they were originally modeled after neurons. Neurons take input, and if the input is large enough the neuron is activated and has an output. The `tanh` function approximates this behavior in a smooth, differentiable way. Remarkably, neural networks have been shown to be universal function approximators and hence they are extremely useful.\n",
    "\n",
    "When you use a neural network, you have several choices to make:\n",
    "\n",
    "1.  How many layers? Here we used one layer, but it is possible to have many layers where the output of the first layer goes to the second layer, etc.  This increases the flexibility of the network.\n",
    "2.  How many neurons should be in each layer? The more neurons you use, the more parameters there will be. This increases the flexibility of the network.\n",
    "3.  What activation function to use. The classics are tanh and sigmoid functions, but almost any nonlinear function can be used.\n",
    "\n",
    "In machine learning lingo, these choices are called *hyperparameters*. These are parameters that determine the size of the model, but they are fixed, and not fitted as part of the model. It is mostly *art and experience* that is how these choices are made. There are many advanced methods for doing this more systematically, but they are computationally expensive and beyond the scope of this class.\n",
    "\n"
   ]
  },
  {
   "cell_type": "markdown",
   "id": "9e408968",
   "metadata": {},
   "source": [
    "### Another interpretation of neural networks\n",
    "\n"
   ]
  },
  {
   "cell_type": "markdown",
   "id": "51fcef4a",
   "metadata": {},
   "source": [
    "In this section we consider another interpretation of what a neural network is. We start with a partial Fourier series expansion of a periodic function ([http://mathworld.wolfram.com/FourierSeries.html](http://mathworld.wolfram.com/FourierSeries.html)). This expansion can fit any even periodic function in the infinite limit, and can approximate that function otherwise.\n",
    "\n",
    "$f(x) = \\frac{1}{2} a_0 + \\sum_{n=1}^{\\infty} a_n \\cos(n x)$\n",
    "\n",
    "We use a partial series (leaving out the sin terms) just for simplicity of notation here. Next, we write this in a vector form. In the Fourier series, the $a_n$ have formal definitions: $a_n = \\int_{-\\pi}^{\\pi} f(x) cos(n x) dx$.  Let $\\mathbf{a} = [a_0, a_1, a_2, ..., a_n]$, and $\\mathbf{n} = [1, 2, .., n]$ Then, we can replace the sum as $\\mathbf{a} \\cdot \\cos(\\mathbf{n} x)$. We can for now imagine that $n$ could go to $\\infty$, but it is not critical; if we truncate the expansion, then we just have an approximate expansion.\n",
    "\n",
    "To get to a neural network, we relax a few things. First, we let $n$ take on continuous values that are determined by fitting, not just integer values. Second, we let $a_n$ become a fitting parameter, rather than computing it from the definition. Third, we allow other functions than $\\cos$ to \"activate\" the layers. In this sense, we can see that a single layer neural network is like an expansion in a basis set of the activation functions, with a more flexible definition of their form.\n",
    "\n",
    "A network can have multiple layers, and we interpret these as a composition of functions, e.g. f(g(x)), where the second layer serves to nonlinearly transform the output of the first layer.  Thus, \"deep learning\" provides a nonlinear transform of your input space to a new space with different dimensionality where the output is linear in this new space.\n",
    "\n"
   ]
  },
  {
   "cell_type": "markdown",
   "id": "3702dc55",
   "metadata": {},
   "source": [
    "## Modern machine learning with neural networks\n",
    "\n"
   ]
  },
  {
   "cell_type": "markdown",
   "id": "fd40abc7",
   "metadata": {},
   "source": [
    "Modern machine learning does not use the algorithms described above to fit neural networks. Most use a gradient descent based algorithm, which means we need easy access to gradient functions. The standard approaches use automatic differentiation to get these. Autograd was designed in part for building neural networks. Now we will  reformulate this regression as a neural network. This code is lightly adapted from [https://github.com/HIPS/autograd/blob/master/examples/neural_net_regression.py](https://github.com/HIPS/autograd/blob/master/examples/neural_net_regression.py).\n",
    "\n",
    "First we define a neural network function. This code is more general than what we described before, and can accommodate multiple layers.\n",
    "\n"
   ]
  },
  {
   "cell_type": "code",
   "execution_count": 16,
   "id": "605f48e3",
   "metadata": {},
   "outputs": [],
   "source": [
    "def nn(params, inputs, activation=np.tanh):\n",
    "    \"\"\"a neural network.\n",
    "    params is a list of (weights, bias) for each layer.\n",
    "    inputs goes into the nn. Each row corresponds to one output label.\n",
    "    activation is the nonlinear activation function.\n",
    "    \"\"\"\n",
    "    for W, b in params[:-1]:\n",
    "        outputs = np.dot(inputs, W) + b\n",
    "        inputs = activation(outputs)\n",
    "    # no activation on the last layer\n",
    "    W, b = params[-1]\n",
    "    return np.dot(inputs, W) + b"
   ]
  },
  {
   "cell_type": "markdown",
   "id": "a8898697",
   "metadata": {},
   "source": [
    "The next function initializes the weights and biases for each layer in our network. It is standard practice to initialize them to small random numbers to avoid any unintentional symmetries that might occur from a systematic initialization (e.g. all ones or zeros). This code is kind of tricky, but it is very convenient. The size of the arrays are computable. For example, we have one input into a 3 neuron layer, which requires an array of three weights and three biases. Then these get combined back into one output, so we need  again three weights, but now only one bias. In a matrix multiply sense we have: (N, 1) @ (1, 3) @ (3, 1) = (N, 1). This function just automates building this even when there are multiple layers, inputs and outputs.\n",
    "\n"
   ]
  },
  {
   "cell_type": "code",
   "execution_count": 17,
   "id": "d0a2e4f1",
   "metadata": {},
   "outputs": [],
   "source": [
    "import autograd.numpy.random as npr\n",
    "\n",
    "\n",
    "def init_random_params(scale, layer_sizes, rs=npr.RandomState(0)):\n",
    "    \"\"\"Build a list of (weights, biases) tuples, one for each layer.\"\"\"\n",
    "    return [\n",
    "        (\n",
    "            rs.randn(insize, outsize) * scale,  # weight matrix\n",
    "            rs.randn(outsize) * scale,\n",
    "        )  # bias vector\n",
    "        for insize, outsize in zip(layer_sizes[:-1], layer_sizes[1:])\n",
    "    ]"
   ]
  },
  {
   "cell_type": "markdown",
   "id": "0751f5b1",
   "metadata": {},
   "source": [
    "To use this, we specify the layer\\_sizes, e.g. layer\\_sizes=[1, 3, 1] which means one input, 3 neurons in the first layer, and one output.\n",
    "\n"
   ]
  },
  {
   "cell_type": "code",
   "execution_count": 18,
   "id": "7d2fa627",
   "metadata": {},
   "outputs": [
    {
     "name": "stdout",
     "output_type": "stream",
     "text": [
      "w0: (1, 3), b0: (3,)\n",
      "w1: (3, 1), b1: (1,)\n",
      "[(array([[0.176, 0.04 , 0.098]]), array([ 0.224,  0.187, -0.098])), (array([[ 0.095],\n",
      "       [-0.015],\n",
      "       [-0.01 ]]), array([0.041]))]\n"
     ]
    }
   ],
   "source": [
    "params = init_random_params(0.1, layer_sizes=[1, 3, 1])\n",
    "for i, wb in enumerate(params):\n",
    "    W, b = wb\n",
    "    print(\"w{0}: {1}, b{0}: {2}\".format(i, W.shape, b.shape))\n",
    "\n",
    "print(params)"
   ]
  },
  {
   "cell_type": "markdown",
   "id": "e909ecbc",
   "metadata": {},
   "source": [
    "You can see w0 is a column vector of weights, and there are three biases in b0. W1 in contrast, is a row vector of weights, with one bias. So 10 parameters in total, like we had before. We will create an objective function of the mean squared error again. There is a subtle point here too. The input data will go in with a specific shape of (N, 1) where N is the number of x-points. Our input is from `np.linspace` as a 1D array. So, we build a 2D array with the 1D array as the first row, and then transpose it to get it into a column.\n",
    "\n",
    "Another subtle detail is the objective function has an optional step argument. We will see shortly this is a required argument for the optimizer algorithm.\n",
    "\n"
   ]
  },
  {
   "cell_type": "code",
   "execution_count": 19,
   "id": "fd0811be",
   "metadata": {},
   "outputs": [],
   "source": [
    "def objective(params, step=None):\n",
    "    pred = nn(params, np.array([X]).T)\n",
    "    err = np.array([Y]).T - pred\n",
    "    return np.mean(err**2)"
   ]
  },
  {
   "cell_type": "markdown",
   "id": "555a619d",
   "metadata": {},
   "source": [
    "Finally, we are ready to do some optimization. We use the [Adam optimizer](https://machinelearningmastery.com/adam-optimization-algorithm-for-deep-learning/). The details are not super important at this point, suffice to say it is a gradient descent algorithm. We use `autograd.grad` to provide that gradient of the objective function. One more important point here is the `step_size` argument. This is sometimes also called the *learning rate* in ML jargon. This parameter determines how fast the optimization converges. If it is too small, the rate of convergence is slow. If it is too large, then the convergence may not be stable. This is another *hyperparameter* that affects the model.\n",
    "\n",
    "We do the training iteratively, taking N steps per iteration. If you run this set of blocks many times, you will get different results from different random initial guesses. Sometimes, the optimization can get trapped in local minima. It takes experience to recognize and diagnose problems with these.\n",
    "\n"
   ]
  },
  {
   "cell_type": "code",
   "execution_count": 20,
   "id": "d1e830d2",
   "metadata": {},
   "outputs": [
    {
     "name": "stdout",
     "output_type": "stream",
     "text": [
      "Step 0: 0.02252298981875618\n",
      "Step 100: 0.00010016662197145314\n",
      "Tolerance reached at epoch 198, stopping\n"
     ]
    }
   ],
   "source": [
    "from autograd.misc.optimizers import adam\n",
    "from autograd import grad\n",
    "\n",
    "N = 50\n",
    "MAX_EPOCHS = 500\n",
    "\n",
    "for i in range(MAX_EPOCHS):\n",
    "    params = adam(grad(objective), params, step_size=0.01, num_iters=N)\n",
    "    if i % 100 == 0:  # print every 100th step\n",
    "        print(f\"Step {i}: {objective(params)}\")\n",
    "    if objective(params, _) < 2e-5:\n",
    "        print(f\"Tolerance reached at epoch {i}, stopping\")\n",
    "        break"
   ]
  },
  {
   "cell_type": "markdown",
   "id": "39edf896",
   "metadata": {},
   "source": [
    "Now we can compare the output of this to our previous fit.\n",
    "\n"
   ]
  },
  {
   "cell_type": "code",
   "execution_count": 21,
   "id": "60aba12e",
   "metadata": {},
   "outputs": [
    {
     "name": "stdout",
     "output_type": "stream",
     "text": [
      "w0: [[33.09   2.896 -0.893]], b0: [0.612 0.254 0.482]\n",
      "w1: [[ 0.711]\n",
      " [ 0.434]\n",
      " [-0.414]], b1: [-0.306]\n",
      "[-87.639  17.106  54.714   2.479 -38.931  -0.51   -2.252  32.911   5.331\n",
      "   2.857]\n"
     ]
    }
   ],
   "source": [
    "for i, wb in enumerate(params):\n",
    "    W, b = wb\n",
    "    print(\"w{0}: {1}, b{0}: {2}\".format(i, W, b))\n",
    "print(pars.x)  # from least_squares"
   ]
  },
  {
   "cell_type": "markdown",
   "id": "f2b4d90b",
   "metadata": {},
   "source": [
    "A crucial point is they don't appear related at all. They aren't. There are many sets of parameters that lead to similar fits. These parameters don't have any particular meaning. This is another thing some researchers do not like about neural networks. They are usually not interpretable as physical parameters.\n",
    "\n",
    "As before, this model cannot extrapolate (or generalize as ML researchers say). That is because the activation functions all saturate to a constant value. The network **does not learn** anything but a representation of the data in the region the regression is done.\n",
    "\n"
   ]
  },
  {
   "cell_type": "code",
   "execution_count": 22,
   "id": "90383306",
   "metadata": {},
   "outputs": [
    {
     "data": {
      "image/png": "[encoded data removed]",
      "text/plain": [
       "<Figure size 640x480 with 1 Axes>"
      ]
     },
     "metadata": {},
     "output_type": "display_data"
    }
   ],
   "source": [
    "X2 = np.linspace(0, 10)\n",
    "Y2 = X2 ** (1 / 3)\n",
    "Z2 = nn(params, X2.reshape([-1, 1]))\n",
    "\n",
    "plt.plot(X2, Y2, \"b.\", label=\"analytical\")\n",
    "plt.plot(X2, Z2, label=\"NN\")\n",
    "plt.fill_between(X2 < 1, 0, 1.4, facecolor=\"gray\", alpha=0.5)\n",
    "plt.xlabel(\"x\")\n",
    "plt.ylabel(\"y\");"
   ]
  },
  {
   "cell_type": "markdown",
   "id": "bcc0eb66",
   "metadata": {},
   "source": [
    "## Summary\n",
    "\n"
   ]
  },
  {
   "cell_type": "markdown",
   "id": "4f6d77e0",
   "metadata": {
    "lines_to_next_cell": 2
   },
   "source": [
    "Today we pulled together many ideas about nonlinear models, regression, and optimization as an introduction to modern machine learning. ML is little more than building computational models from data. It is usually using flexible, universal function approximators, e.g. neural networks, and all modern ML relies on automatic differentiation to do the regression.\n",
    "\n",
    "ML code is much more verbose than the simpler regression models we used previously. There is often data scaling that is done in advance, and *regularization* that is used to reduce overfitting. There are whole courses and now degrees on these topics. You are now at a starting point to study these topics.\n",
    "\n"
   ]
  }
 ],
 "metadata": {
  "kernelspec": {
   "display_name": "Python 3 (ipykernel)",
   "language": "python",
   "name": "python3"
  },
  "language_info": {
   "codemirror_mode": {
    "name": "ipython",
    "version": 3
   },
   "file_extension": ".py",
   "mimetype": "text/x-python",
   "name": "python",
   "nbconvert_exporter": "python",
   "pygments_lexer": "ipython3",
   "version": "3.10.11"
  }
 },
 "nbformat": 4,
 "nbformat_minor": 5
}

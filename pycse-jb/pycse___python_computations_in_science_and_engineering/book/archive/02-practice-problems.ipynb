{
 "cells": [
  {
   "cell_type": "markdown",
   "metadata": {},
   "source": [
    "These problems will help you practice solving integration problems. They are optional, and they will not be graded. Some of them are from past quizzes and exams. You should eventually be able to solve these kinds of problems in about 20 minutes.\n",
    "\n"
   ]
  },
  {
   "cell_type": "markdown",
   "metadata": {},
   "source": [
    "## Integrating a batch reactor design equation\n",
    "\n"
   ]
  },
  {
   "cell_type": "markdown",
   "metadata": {},
   "source": [
    "For a constant volume batch reactor where $A \\rightarrow B$ at a rate of $-r_A = k C_A^2$, we derive the following design equation for the length of time required to achieve a particular level of conversion :\n",
    "\n",
    "$t(X) = \\frac{1}{k C_{A0}} \\int_{X=0}^X \\frac{dX}{(1-X)^2}$\n",
    "\n",
    "if $k = 10^{-3}$ L/mol/s and $C_{A0}$ = 1 mol/L, estimate the time to achieve 90% conversion.\n",
    "\n",
    "*The answer is 9000 seconds.*\n",
    "\n"
   ]
  },
  {
   "cell_type": "code",
   "execution_count": 1,
   "metadata": {},
   "outputs": [],
   "source": []
  },
  {
   "cell_type": "markdown",
   "metadata": {},
   "source": [
    "## Integration of the heat capacity\n",
    "\n"
   ]
  },
  {
   "cell_type": "markdown",
   "metadata": {},
   "source": [
    "From thermodynamics, the heat capacity is defined as $C_p = \\left(\\frac{dH}{dT}\\right)_P$. That means we can calculate the heat required to change the temperature of some material from the following integral:\n",
    "\n",
    "$H_2 - H_1 = Q = \\int_{T_1}^{T_2} C_p(T) dT$\n",
    "\n",
    "In the range of 298-1200K, the heat capacity of CO<sub>2</sub> is given by a [Shomate polynomial](https://webbook.nist.gov/cgi/cbook.cgi?ID=C124389&Units=SI&Mask=1#Thermo-Gas):\n",
    "\n",
    "$C_p(t) = A + B t + C t^2 + D t^3 + E/t^2$ with units of J/mol/K.\n",
    "\n",
    "where $t = T / 1000$, and $T$ is the temperature in K. The constants in the equation are\n",
    "\n",
    "| |value|\n",
    "|---|---|\n",
    "| A|24.99735|\n",
    "| B|55.18696|\n",
    "| C|-33.69137|\n",
    "| D|7.948387|\n",
    "| E|-0.136638|\n",
    "| F|-403.6075|\n",
    "| G|228.2431|\n",
    "| H|-393.5224|\n",
    "\n"
   ]
  },
  {
   "cell_type": "markdown",
   "metadata": {},
   "source": [
    "### Integrate the heat capacity\n",
    "\n"
   ]
  },
  {
   "cell_type": "markdown",
   "metadata": {},
   "source": [
    "Use this information to compute the energy (Q in kJ/mol) required to raise the temperature of CO<sub>2</sub> from 300K to 600K. You should use `scipy.integrate.quad` to perform the integration.\n",
    "\n",
    "*The change in enthalpy is 12.841 kJ/mol.*\n",
    "\n"
   ]
  },
  {
   "cell_type": "code",
   "execution_count": 1,
   "metadata": {},
   "outputs": [],
   "source": []
  },
  {
   "cell_type": "markdown",
   "metadata": {},
   "source": [
    "## Generalized factorial function\n",
    "\n"
   ]
  },
  {
   "cell_type": "markdown",
   "metadata": {},
   "source": [
    "The &Gamma; function is defined by:\n",
    "\n",
    "$\\Gamma(x) = \\int_0^\\infty e^{-t}t^{x-1} dt$\n",
    "\n",
    "It is a generalized factorial function. When the arguments to the function are integers, the following relation is true:\n",
    "\n",
    "$\\Gamma(n + 1) = n!$\n",
    "\n",
    "Show that this is true for the first 10 integers starting from 0. You can use the `math.factorial` function.\n",
    "\n"
   ]
  },
  {
   "cell_type": "code",
   "execution_count": 1,
   "metadata": {},
   "outputs": [
    {
     "name": "stdout",
     "output_type": "stream",
     "text": [
      "# Out[87]:\n",
      "# text/plain\n",
      "24"
     ]
    }
   ],
   "source": [
    "from math import factorial\n",
    "\n",
    "factorial(4)"
   ]
  },
  {
   "cell_type": "markdown",
   "metadata": {},
   "source": [
    "## Legendre polynomials\n",
    "\n"
   ]
  },
  {
   "cell_type": "markdown",
   "metadata": {},
   "source": [
    "The Legendre polynomials are defined by:\n",
    "\n",
    "$P_n(x) = \\sum_{m=0}^M (-1)^m \\frac{(2n - 2m)!}{2^n m! (n-m)!(n - 2m)!} x^{n-2m}$\n",
    "\n",
    "where $M= n/2$ if n is even or $(n-1) / 2$ if $n$ is odd. $m!$ means \"the factorial of m\", for example, 4! = 1 \\* 2 \\* 3 \\* 4 = 24. You can compute it like this:\n",
    "\n"
   ]
  },
  {
   "cell_type": "code",
   "execution_count": 1,
   "metadata": {},
   "outputs": [
    {
     "name": "stdout",
     "output_type": "stream",
     "text": [
      "# Out[1]:\n",
      "# text/plain\n",
      "24"
     ]
    }
   ],
   "source": [
    "from math import factorial\n",
    "\n",
    "factorial(4)"
   ]
  },
  {
   "cell_type": "markdown",
   "metadata": {},
   "source": [
    "Here is a helpful function to compute $M$:\n",
    "\n"
   ]
  },
  {
   "cell_type": "code",
   "execution_count": 1,
   "metadata": {},
   "outputs": [
    {
     "name": "stdout",
     "output_type": "stream",
     "text": [
      "# Out[22]:"
     ]
    }
   ],
   "source": [
    "import numpy as np\n",
    "\n",
    "\n",
    "def M(n):\n",
    "    if np.mod(n, 2) == 0:  # this means n is even.\n",
    "        return int(n / 2)\n",
    "    else:\n",
    "        return int((n - 1) / 2)"
   ]
  },
  {
   "cell_type": "markdown",
   "metadata": {},
   "source": [
    "Write a function that computes `P(x, n)`, and plot the function for `n=3` and `n=4` on the range of x=-1 to x=1.\n",
    "\n"
   ]
  },
  {
   "cell_type": "code",
   "execution_count": 1,
   "metadata": {},
   "outputs": [],
   "source": []
  },
  {
   "cell_type": "markdown",
   "metadata": {},
   "source": [
    "These polynomials are *orthogonal* on the domain of x=-1 to 1, which means:\n",
    "\n",
    "$\\int_{-1}^{1} P_3(x) P_4(x) dx = 0$\n",
    "\n",
    "Show that is true using your function.\n",
    "\n"
   ]
  },
  {
   "cell_type": "code",
   "execution_count": 1,
   "metadata": {},
   "outputs": [],
   "source": []
  },
  {
   "cell_type": "markdown",
   "metadata": {},
   "source": [
    "## Statistics\n",
    "\n"
   ]
  },
  {
   "cell_type": "markdown",
   "metadata": {},
   "source": [
    "The normal distribution is defined by:\n",
    "\n",
    "$f(x) = \\frac{1}{\\sigma \\sqrt{2 \\pi}} e^{-0.5 (x - \\mu)^2/\\sigma^2}$\n",
    "\n",
    "In this equation, &mu; is the average, and &sigma; is the standard deviation of the distribution. For this problem, let &mu;=0, and &sigma;=1.\n",
    "\n",
    "One property of this distribution is that $\\int_{-\\infty}^{\\infty}  f(x) dx = 1$. Show that this is true by evaluating the integral.\n",
    "\n"
   ]
  },
  {
   "cell_type": "code",
   "execution_count": 1,
   "metadata": {},
   "outputs": [],
   "source": []
  },
  {
   "cell_type": "markdown",
   "metadata": {},
   "source": [
    "There is a guideline that &plusmn; 2&sigma; represents 95% of the distribution, i.e. it defines a 95% confidence interval. Find an approximate solution by trial and error for $x$ to this equation, which represents a symmetric fraction of the distribution that covers 95% of the area. Compare your answer to the guideline.\n",
    "\n",
    "$0.95 = \\int_{-x}^{x} f(x) dx$\n",
    "\n",
    "*Hint, x is close to 2.*\n",
    "\n"
   ]
  },
  {
   "cell_type": "code",
   "execution_count": 1,
   "metadata": {},
   "outputs": [],
   "source": []
  },
  {
   "cell_type": "markdown",
   "metadata": {},
   "source": [
    "The mean of a continuous distribution is defined by $\\mu = \\int_{-\\infty}^{\\infty} x f(x) dx$. Show that the average of the normal distribution as defined above is zero by evaluating this integral.\n",
    "\n"
   ]
  },
  {
   "cell_type": "code",
   "execution_count": 1,
   "metadata": {},
   "outputs": [],
   "source": []
  },
  {
   "cell_type": "markdown",
   "metadata": {},
   "source": [
    "The variance, $\\sigma^2$ is defined by $\\sigma^2 = \\int_{-\\infty}^{\\infty} (x - \\mu)^2 f(x) dx$. Show that the variance of the normal distribution as defined above is one by evaluating this integral. Note that &mu;=0 by the definitions above.\n",
    "\n"
   ]
  },
  {
   "cell_type": "code",
   "execution_count": 1,
   "metadata": {},
   "outputs": [],
   "source": []
  },
  {
   "cell_type": "markdown",
   "metadata": {},
   "source": [
    "## Related topics\n",
    "\n"
   ]
  },
  {
   "cell_type": "markdown",
   "metadata": {},
   "source": [
    "Review the functions at [https://docs.scipy.org/doc/scipy/reference/integrate.html>](https://docs.scipy.org/doc/scipy/reference/integrate.html>)to learn more about what kinds of integration routines exist.\n",
    "\n"
   ]
  }
 ],
 "metadata": {
  "kernelspec": {
   "display_name": "Python 3 (ipykernel)",
   "language": "python",
   "name": "python3"
  },
  "language_info": {
   "codemirror_mode": {
    "name": "ipython",
    "version": 3
   },
   "file_extension": ".py",
   "mimetype": "text/x-python",
   "name": "python",
   "nbconvert_exporter": "python",
   "pygments_lexer": "ipython3",
   "version": "3.10.11"
  },
  "org": null
 },
 "nbformat": 4,
 "nbformat_minor": 4
}

{
 "cells": [
  {
   "cell_type": "markdown",
   "metadata": {},
   "source": [
    "- KEYWORDS: numpy.linalg.solve, numpy.linalg.lstsq\n"
   ]
  },
  {
   "cell_type": "markdown",
   "metadata": {},
   "source": [
    "## Followup on showing the normal equation minimizes SSE\n\n"
   ]
  },
  {
   "cell_type": "markdown",
   "metadata": {},
   "source": [
    "We examined this regression problem in class today.\n\n"
   ]
  },
  {
   "cell_type": "code",
   "execution_count": 1,
   "metadata": {},
   "outputs": [
    {
     "name": "stdout",
     "output_type": "stream",
     "text": "# Out [18]:\n# output\n[ 4.99902597e-02 -2.97846320e-04  1.34348485e-06 -3.48484848e-09\n  3.69696970e-12]\n\n# text/plain\n[<matplotlib.lines.Line2D at 0x10c5c8048>]\n\n# text/plain\n<Figure size 432x288 with 1 Axes>\n\n# image/png"
    },
    {
     "data": {
      "image/png": "[encoded data removed]",
      "text/plain": "<matplotlib.figure.Figure>"
     },
     "metadata": {},
     "output_type": "display_data"
    }
   ],
   "source": [
    "import numpy as np\n",
    "\n",
    "time = np.array([0.0, 50.0, 100.0, 150.0, 200.0, 250.0, 300.0])\n",
    "Ca = np.array([50.0, 38.0, 30.6, 25.6, 22.2, 19.5, 17.4]) * 1e-3\n",
    "\n",
    "X = np.column_stack([time**0, time, time**2, time**3, time**4])\n",
    "\n",
    "a = np.linalg.solve(X.T @ X, X.T @ Ca)\n",
    "print(a)\n",
    "\n",
    "%matplotlib inline\n",
    "import matplotlib.pyplot as plt\n",
    "\n",
    "plt.plot(time, Ca, \"bo\")\n",
    "plt.plot(time, X @ a)"
   ]
  },
  {
   "cell_type": "markdown",
   "metadata": {},
   "source": [
    "That looks good. We should be able to show that the derivative of the summed squared errors with respect to each parameter is zero at the minimum. Let's try using numdifftools for this. I showed you this in class, and we saw a little surprise.\n\n"
   ]
  },
  {
   "cell_type": "code",
   "execution_count": 1,
   "metadata": {},
   "outputs": [
    {
     "name": "stdout",
     "output_type": "stream",
     "text": "# Out [3]:\n# text/plain\narray([[-3.19189120e-16,  9.38367549e-15,  4.62079277e-10,\n        -3.28306822e-04, -9.60000000e+00]])"
    }
   ],
   "source": [
    "import numdifftools as nd\n",
    "\n",
    "\n",
    "def SSE(pars):\n",
    "    errs = X @ pars - Ca\n",
    "    return errs @ errs\n",
    "\n",
    "\n",
    "J = nd.Jacobian(SSE)\n",
    "J(a)"
   ]
  },
  {
   "cell_type": "markdown",
   "metadata": {},
   "source": [
    "The first two of these values are very small, but they progressively get larger. That should be concerning, but let's remember numdifftools uses finite differences. It could be that this is not sufficiently accurate for this purpose, especially for a term like $t^4$ in it.\n\nOne way to test this is to derive an analytical derivative.\n\n$SSE = \\sum (X @ pars - Ca)^2$\n\nso we can work out the following derivative using the chain rule,\n\n$\\frac{dSSE}{dpars} = 2 \\sum (X @ pars - Ca) @ X$\n\nAnd evaluating this leads to *much smaller* derivatives.\n\n"
   ]
  },
  {
   "cell_type": "code",
   "execution_count": 1,
   "metadata": {},
   "outputs": [
    {
     "name": "stdout",
     "output_type": "stream",
     "text": "# Out [7]:\n# text/plain\narray([-3.12250226e-16,  1.17961196e-14, -1.83886240e-12, -1.55776547e-09,\n       -1.20649929e-07])"
    }
   ],
   "source": [
    "2 * (X @ a - Ca) @ X"
   ]
  },
  {
   "cell_type": "markdown",
   "metadata": {},
   "source": [
    "I am not a huge fan of working out those derivatives, so let's double check our work with autograd, which provides exact derivatives using automatic differentiation. We will learn more about autograd soon.\n\n"
   ]
  },
  {
   "cell_type": "code",
   "execution_count": 1,
   "metadata": {},
   "outputs": [
    {
     "name": "stdout",
     "output_type": "stream",
     "text": "# Out [8]:\n# text/plain\narray([-3.12250226e-16,  1.17961196e-14, -1.83886240e-12, -1.55776547e-09,\n       -1.20649929e-07])"
    }
   ],
   "source": [
    "from autograd import jacobian\n",
    "\n",
    "Ja = jacobian(SSE)\n",
    "Ja(a)"
   ]
  },
  {
   "cell_type": "markdown",
   "metadata": {},
   "source": [
    "These both agree, suggesting the analytical derivative is correct. So, why do the errors get larger in these terms? This is caused by catastrophic accumulation of errors that arises from adding and subtracting large and small numbers.\n\n"
   ]
  },
  {
   "cell_type": "code",
   "execution_count": 1,
   "metadata": {},
   "outputs": [
    {
     "name": "stdout",
     "output_type": "stream",
     "text": "# Out [10]:\n# text/plain\n(0.0, 8100000000.0)"
    }
   ],
   "source": [
    "X.min(), X.max()"
   ]
  },
  {
   "cell_type": "markdown",
   "metadata": {},
   "source": [
    "### Is the Hessian positive definite?\n\n"
   ]
  },
  {
   "cell_type": "markdown",
   "metadata": {},
   "source": [
    "As before we can see that the Hessian is positive definite, but as before we should be skeptical here if the Hessian in numdifftools is sufficiently accurate, especially since we see 18 orders of magnitude among the eigenvalues.\n\n"
   ]
  },
  {
   "cell_type": "code",
   "execution_count": 1,
   "metadata": {},
   "outputs": [
    {
     "name": "stdout",
     "output_type": "stream",
     "text": "# Out [12]:\n# text/plain\narray([1.67392305e+20, 2.87547709e+13, 5.43139168e+07, 2.02420036e+00,\n       9.28150756e+02])"
    }
   ],
   "source": [
    "H = nd.Hessian(SSE)\n",
    "np.linalg.eigvals(H(a))"
   ]
  },
  {
   "cell_type": "markdown",
   "metadata": {},
   "source": [
    "The Jacobian was defined as:\n\n$\\frac{dSSE}{dpars} = 2 \\sum (X @ pars - Ca) @ X$\n\nThe analytical Hessian is defined by:\n\n$\\frac{dSSE^2}{d^pars} = 2 X^T X$\n\nWe evaluate that to see that here the Hessian happens to be quite accurate. You can see why, it does not depend on the parameters at all, so there are not errors associated with finite differences.\n\n"
   ]
  },
  {
   "cell_type": "code",
   "execution_count": 1,
   "metadata": {},
   "outputs": [
    {
     "name": "stdout",
     "output_type": "stream",
     "text": "# Out [17]:\n# text/plain\narray([1.67392305e+20, 2.87547709e+13, 5.43139168e+07, 2.02418206e+00,\n       9.28150368e+02])"
    }
   ],
   "source": [
    "np.linalg.eigvals(2 * X.T @ X)"
   ]
  },
  {
   "cell_type": "markdown",
   "metadata": {},
   "source": [
    "Here we confirm this with autograd again.\n\n"
   ]
  },
  {
   "cell_type": "code",
   "execution_count": 1,
   "metadata": {},
   "outputs": [
    {
     "name": "stdout",
     "output_type": "stream",
     "text": "# Out [14]:\n# text/plain\narray([1.67392305e+20, 2.87547709e+13, 5.43139168e+07, 2.02418206e+00,\n       9.28150368e+02])"
    }
   ],
   "source": [
    "from autograd import hessian\n",
    "\n",
    "Ha = hessian(SSE)\n",
    "np.linalg.eigvals(Ha(a))"
   ]
  },
  {
   "cell_type": "markdown",
   "metadata": {},
   "source": [
    "## pycse.regress\n\n"
   ]
  },
  {
   "cell_type": "markdown",
   "metadata": {},
   "source": [
    "Somehow, I neglected to introduce the `pycse.regress` function which is the linear regression analog of `pycse.nlinfit`. It is a thin wrapper around `np.linalg.lstsq` that does the confidence interval computation for you.\n\n"
   ]
  },
  {
   "cell_type": "code",
   "execution_count": 1,
   "metadata": {},
   "outputs": [
    {
     "name": "stdout",
     "output_type": "stream",
     "text": "# Out [20]:\n# output\n[ 4.99902596e-02 -2.97846320e-04  1.34348484e-06 -3.48484840e-09\n  3.69696954e-12]\n/Users/jkitchin/vc/projects/gumroad-books/pycse/pycse/PYCSE.py:62: FutureWarning: `rcond` parameter will change to the default of machine precision times ``max(M, N)`` where M and N are the input matrix dimensions.\nTo use the future default and silence this warning we advise to pass `rcond=None`, to keep using the old, explicitly pass `rcond=-1`.\n  b, res, rank, s = np.linalg.lstsq(A, y)"
    }
   ],
   "source": [
    "from pycse import regress\n",
    "\n",
    "p, pint, se = regress(X, Ca, 0.05)\n",
    "print(p)"
   ]
  },
  {
   "cell_type": "markdown",
   "metadata": {},
   "source": [
    "Note in these confidence intervals, The last two contain zero, indicating they are very uncertain. This is a little different than what is in the notes. That is because `regress` uses one less degree of freedom than I did in the notes which makes the CI a little larger. The argument for doing that is related to how the parameters are counted and whether you count the intercept as a parameter or not. `regress` may be overcounting the parameters in this case, leading to a larger CI than needed. When you have a lot of data, this error is negligible.\n\n"
   ]
  },
  {
   "cell_type": "code",
   "execution_count": 1,
   "metadata": {},
   "outputs": [
    {
     "name": "stdout",
     "output_type": "stream",
     "text": "# Out [21]:\n# output\n[[ 4.90747573e-02  5.09057619e-02]\n [-3.49867290e-04 -2.45825350e-04]\n [ 5.40268319e-07  2.14670135e-06]\n [-7.67338629e-09  7.03689494e-10]\n [-3.23368759e-12  1.06276267e-11]]"
    }
   ],
   "source": [
    "print(pint)"
   ]
  }
 ],
 "metadata": {
  "kernelspec": {
   "display_name": "Python 3",
   "language": "python",
   "name": "python3"
  },
  "language_info": {
   "codemirror_mode": {
    "name": "ipython",
    "version": 3
   },
   "file_extension": ".py",
   "mimetype": "text/x-python",
   "name": "python",
   "nbconvert_exporter": "python",
   "pygments_lexer": "ipython3",
   "version": "3.5.2"
  },
  "org": {
   "KEYWORDS": "numpy.linalg.solve, numpy.linalg.lstsq"
  }
 },
 "nbformat": 4,
 "nbformat_minor": 0
}
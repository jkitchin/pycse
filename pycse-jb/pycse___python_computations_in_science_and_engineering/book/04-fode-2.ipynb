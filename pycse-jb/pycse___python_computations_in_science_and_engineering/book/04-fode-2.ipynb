{
 "cells": [
  {
   "cell_type": "markdown",
   "id": "38ae9165",
   "metadata": {},
   "source": [
    "# Systems of first-order differential equations\n",
    "\n",
    "- KEYWORDS: solve_ivp, meshgrid, quiver\n"
   ]
  },
  {
   "cell_type": "markdown",
   "id": "e287db0c",
   "metadata": {},
   "source": [
    "## Families of solutions to FODEs\n",
    "\n"
   ]
  },
  {
   "cell_type": "markdown",
   "id": "85eafc12",
   "metadata": {},
   "source": [
    "Consider $y' = x - y$.\n",
    "\n",
    "We can interpret this equation as one that defines a direction field. That is, at any given point (x, y) we can compute the derivative of a solution at that point. We will consider how to make a plot that shows this field, and that will help us estimate what solutions to the ODE might look like for different initial values.\n",
    "\n",
    "To do this, we should compute the derivative on an array of regularly spaced points in both $x$ and $y$, and then making a plot of that data.\n",
    "\n",
    "We need to see a couple of new ideas to make this plot efficiently. What we want is a 2-d plot of a regular grid of (x, y) points, and at each of those points the derivative (dx/dx, dy/dx).\n",
    "\n",
    "First, we will need to create four arrays:\n",
    "\n",
    "1.  a 2d array of all the x-positions\n",
    "2.  a 2d array of all the y-positions\n",
    "3.  a 2d array of the dx/dx = 1 values\n",
    "4.  a 2d array of the dy/dx values.\n",
    "\n",
    "We want to generate the x, y arrays. We use `np.meshgrid` for this. The simplest way to do it is to use `np.linspace` to create 1-D arrays with the spacing we want, and then use `np.meshgrid` to generate the 2D arrays. Let's say we want a uniform grid over the range of x from 0 to 1, and over the range of y from 0 to 3, with 5 points in each direction.\n",
    "\n"
   ]
  },
  {
   "cell_type": "code",
   "execution_count": null,
   "id": "383411a8",
   "metadata": {},
   "outputs": [],
   "source": [
    "import numpy as np\n",
    "\n",
    "x = np.linspace(0, 1, 5)  # 1d arrays\n",
    "y = np.linspace(0, 3, 5)  # 1d arrays\n",
    "\n",
    "X, Y = np.meshgrid(x, y)  # 2d arrays\n",
    "X, Y"
   ]
  },
  {
   "cell_type": "markdown",
   "id": "dbd72299",
   "metadata": {},
   "source": [
    "Now, we have X, Y arrays that map out all the (x, y) pairs we want to consider. So, the (x, y) pair in the second row and third column of the array is:\n",
    "\n"
   ]
  },
  {
   "cell_type": "code",
   "execution_count": null,
   "id": "3cbd2685",
   "metadata": {},
   "outputs": [],
   "source": [
    "(X[1, 2], Y[1, 2])"
   ]
  },
  {
   "cell_type": "code",
   "execution_count": null,
   "id": "7a0ae0cb",
   "metadata": {},
   "outputs": [],
   "source": [
    "X[0, :]"
   ]
  },
  {
   "cell_type": "code",
   "execution_count": null,
   "id": "76b6a634",
   "metadata": {},
   "outputs": [],
   "source": [
    "X[:, 1]"
   ]
  },
  {
   "cell_type": "markdown",
   "id": "ee17dc0f",
   "metadata": {},
   "source": [
    "These are arrays, so we can do math with them.\n",
    "\n"
   ]
  },
  {
   "cell_type": "code",
   "execution_count": null,
   "id": "11650c77",
   "metadata": {},
   "outputs": [],
   "source": [
    "X - Y"
   ]
  },
  {
   "cell_type": "code",
   "execution_count": null,
   "id": "beaef2a0",
   "metadata": {},
   "outputs": [],
   "source": [
    "np.sqrt(X**2 + Y**2)  # Another example of math"
   ]
  },
  {
   "cell_type": "code",
   "execution_count": null,
   "id": "a2c5745c",
   "metadata": {},
   "outputs": [],
   "source": [
    "X**0"
   ]
  },
  {
   "cell_type": "markdown",
   "id": "c74f725c",
   "metadata": {},
   "source": [
    "Now we are ready to compute a distance field for the FODE. We will consider the range from -1 to 1 in both x and y, and then plot the results with `matplotlib.pyplot.quiver`.\n",
    "\n"
   ]
  },
  {
   "cell_type": "code",
   "execution_count": null,
   "id": "1e152dff",
   "metadata": {
    "lines_to_next_cell": 1
   },
   "outputs": [],
   "source": [
    "import matplotlib.pyplot as plt"
   ]
  },
  {
   "cell_type": "markdown",
   "id": "a2675ccb",
   "metadata": {},
   "source": [
    "We define the ode function, create the grids, and then make the plot.\n",
    "\n"
   ]
  },
  {
   "cell_type": "code",
   "execution_count": null,
   "id": "b51dc69e",
   "metadata": {},
   "outputs": [],
   "source": [
    "def yprime(x, y):\n",
    "    return x - y\n",
    "\n",
    "\n",
    "x = np.linspace(-1, 1, 20)\n",
    "y = np.linspace(-1, 1, 20)\n",
    "\n",
    "X, Y = np.meshgrid(x, y)\n",
    "U = np.ones(X.shape)  # dx/dx\n",
    "V = yprime(X, Y)  # dy/dx\n",
    "\n",
    "# This normalizes the arrows so they are all the same length\n",
    "N = np.sqrt(U**2 + V**2)\n",
    "U /= N  # equivalent to U = U / N\n",
    "V /= N\n",
    "\n",
    "plt.quiver(X, Y, U, V)\n",
    "plt.xlabel(\"x\")\n",
    "plt.ylabel(\"y\");"
   ]
  },
  {
   "cell_type": "markdown",
   "id": "7e63a67b",
   "metadata": {},
   "source": [
    "If you pick a point, the arrows show you which way the solution goes from there. You just follow the arrows to get an approximate solution to this equation. Let's consider some specific solutions. Suppose we start with the initial condition that $y(-1) = 0$. You can trace the arrows to estimate where the solution goes.\n",
    "\n",
    "Let us use a numerical solver to see how it works.\n",
    "\n"
   ]
  },
  {
   "cell_type": "code",
   "execution_count": null,
   "id": "601c56fd",
   "metadata": {},
   "outputs": [],
   "source": [
    "from scipy.integrate import solve_ivp\n",
    "\n",
    "sol = solve_ivp(yprime, (-1, 1), (0,), t_eval=np.linspace(-1, 1))\n",
    "sol.message  # you should at least check this message to see if it worked."
   ]
  },
  {
   "cell_type": "markdown",
   "id": "87dabc48",
   "metadata": {},
   "source": [
    "Now, we plot the solution\n",
    "\n"
   ]
  },
  {
   "cell_type": "code",
   "execution_count": null,
   "id": "8dbaaa0f",
   "metadata": {},
   "outputs": [],
   "source": [
    "plt.plot(sol.t, sol.y[0], \"r\", lw=2)\n",
    "plt.quiver(X, Y, U, V)\n",
    "plt.plot(-1, 0, \"ks\")\n",
    "plt.xlabel(\"x\")\n",
    "plt.ylabel(\"y\")"
   ]
  },
  {
   "cell_type": "markdown",
   "id": "69f52b1b",
   "metadata": {},
   "source": [
    "Here are some more examples.\n",
    "\n"
   ]
  },
  {
   "cell_type": "code",
   "execution_count": null,
   "id": "253060b8",
   "metadata": {},
   "outputs": [],
   "source": [
    "sol2 = solve_ivp(yprime, (-0.5, 1), (0.5,), t_eval=np.linspace(-0.5, 1))\n",
    "sol3 = solve_ivp(yprime, (0.0, 1), (-1,), t_eval=np.linspace(0.0, 1))\n",
    "sol4 = solve_ivp(yprime, (0.0, 1), (1,), t_eval=np.linspace(0.0, 1))\n",
    "\n",
    "plt.plot(sol2.t, sol2.y[0], \"r\", lw=2)\n",
    "plt.plot(sol3.t, sol3.y[0], \"g\", lw=2)\n",
    "plt.plot(sol4.t, sol4.y[0], \"b\", lw=2)\n",
    "\n",
    "# overlay the direction field\n",
    "plt.quiver(X, Y, U, V)\n",
    "plt.xlabel(\"x\")\n",
    "plt.ylabel(\"y\");"
   ]
  },
  {
   "cell_type": "markdown",
   "id": "cb0970bb",
   "metadata": {},
   "source": [
    "You can see the solution looks different depending on the initial condition, but in each case the solution follows the direction field.\n",
    "\n",
    "Direction field plots can be very helpful to visualize what nearby solutions might look like, or to get a qualitative idea of what a solution might look like, or to see if anything unusual happens in the solution space. We will see them again when we consider systems of differential equations.\n",
    "\n",
    "**Exercise:** Make a direction field plot for $y'=-y$ for the range of x from 0 to 4. What does the direction field tell you? How does this compare to what you know from the solution?\n",
    "\n"
   ]
  },
  {
   "cell_type": "code",
   "execution_count": null,
   "id": "a43619e9",
   "metadata": {},
   "outputs": [],
   "source": [
    "x1 = np.linspace(0, 4, 15)\n",
    "y1 = np.linspace(0, 4, 15)\n",
    "X1, Y1 = np.meshgrid(x1, y1)\n",
    "U = X1**0\n",
    "V = -Y1\n",
    "N = np.sqrt(U**2 + V**2)\n",
    "U /= N\n",
    "V /= N\n",
    "plt.quiver(X1, Y1, U, V);"
   ]
  },
  {
   "cell_type": "markdown",
   "id": "cc931492",
   "metadata": {},
   "source": [
    "## Systems of first-order differential equations\n",
    "\n"
   ]
  },
  {
   "cell_type": "markdown",
   "id": "e51bfbb8",
   "metadata": {},
   "source": [
    "Many engineering systems are governed by *systems of coupled* differential equations. This usually means there are two or more independent variables and outputs, and the rate of change of the outputs depends on two or more of the independent variables.\n",
    "\n",
    "Let's consider the following tank mixing problem. You have two tanks: Tank A has 30 gallons containing 55 ounces of dissolved salt, and Tank B has 20 gallons containing 26 ounces of salt. Additionally,\n",
    "\n",
    "-   Water with a salt concentration of 1 oz/gal flows into Tank A at a rate of 1.5 gal/min.\n",
    "-   Water with a salt concentration of 3 oz/gal flows into Tank B at a rate of 1 gal/min\n",
    "-   Water flows from Tank A to Tank B at a rate of 3 gal/min.\n",
    "-   Water flows from Tank B to Tank A at a rate of 1.5 gal/min\n",
    "-   Water drains from Tank B at a rate of 2.5 gal/min.\n",
    "\n",
    "![two-tank-mixing.png](two-tank-mixing.png)\n",
    "\n",
    "Plot the concentration of salt in Tank A and B as a function of time.\n",
    "\n",
    "First, we can define initial conditions.\n",
    "\n"
   ]
  },
  {
   "cell_type": "code",
   "execution_count": null,
   "id": "52b0e018",
   "metadata": {},
   "outputs": [],
   "source": [
    "V_A = 30  # gal\n",
    "V_B = 20  # gal\n",
    "\n",
    "S_A0 = 55 / V_A  # oz/gallon in Tank A at T=0\n",
    "S_B0 = 26 / V_B  # oz/gallon in Tank B at T=0\n",
    "\n",
    "S_A0, S_B0"
   ]
  },
  {
   "cell_type": "markdown",
   "id": "3d31e026",
   "metadata": {},
   "source": [
    "Now, let's define the flow rates and check the net volumetric flow into each tank.\n",
    "\n"
   ]
  },
  {
   "cell_type": "code",
   "execution_count": null,
   "id": "f001f11c",
   "metadata": {},
   "outputs": [],
   "source": [
    "f_A = 1.5  # volumetric flow into A gal/min\n",
    "C_A = 1  # salt concentration in flow oz/gal\n",
    "\n",
    "f_B = 1.0  # volumetric flow into B, gal/min\n",
    "C_B = 3  # salt concentration into B, oz/gal\n",
    "\n",
    "f_AB = 3  # flow from A to B, gal/min\n",
    "f_BA = 1.5  # flow from B to A, gal/min\n",
    "\n",
    "f_Bexit = 2.5  # flow out of B\n",
    "\n",
    "print(f\"Net flow into A = {f_A - f_AB + f_BA} gal/min\")\n",
    "print(f\"Net flow into B = {f_B + f_AB - f_BA - f_Bexit} gal/min\")"
   ]
  },
  {
   "cell_type": "markdown",
   "id": "9a4019f0",
   "metadata": {},
   "source": [
    "You can see the net volumetric flow in each tank is 0, so we do not have to worry about the volumes changing.\n",
    "\n",
    "We seek solutions for $S_A(t)$ and $S_B(t)$ where $S_x(t)$ represents the concentration (in oz/gal). Since these change with time, we need to solve the mass balances:\n",
    "\n",
    "$\\frac{dS_A}{dt} = \\frac{1}{V_A}(f_A C_A - f_{AB} S_A(t) + f_{BA} S_B(t))$\n",
    "\n",
    "and\n",
    "\n",
    "$\\frac{dS_B}{dt} = \\frac{1}{V_B}(f_B C_B + f_{AB} S_A(t) - F_{BA} S_B(t) - F_{Bexit} S_B(t))$\n",
    "\n",
    "Before we get into the solution, what should we expect to happen here? The concentration of salt into tank A is less than the initial concentration, and the initial concentration in Tank B is also lower than in Tank A, so we expect the concentration in Tank A to start decreasing. Similarly, we expect the concentration in Tank B to start rising since the concentration in each incoming stream is higher than the initial concentration.\n",
    "\n",
    "At some point, the two tanks will reach a steady state, but it is not evident how we will approach that steady state. Since the concentration of one stream is higher than all the other concentrations, it is possible for the concentration to go up and then down.\n",
    "\n"
   ]
  },
  {
   "cell_type": "code",
   "execution_count": null,
   "id": "516eb453",
   "metadata": {},
   "outputs": [],
   "source": [
    "def dSdt(t, S):\n",
    "    S_A = S[0]\n",
    "    S_B = S[1]  # split out for readability\n",
    "    dSadt = (f_A * C_A - f_AB * S_A + f_BA * S_B) / V_A\n",
    "    dSbdt = (f_B * C_B + f_AB * S_A - f_BA * S_B - f_Bexit * S_B) / V_B\n",
    "    return np.array([dSadt, dSbdt])\n",
    "\n",
    "\n",
    "dSdt(0, [1.8, 2.0])"
   ]
  },
  {
   "cell_type": "code",
   "execution_count": null,
   "id": "cb5e704e",
   "metadata": {},
   "outputs": [],
   "source": [
    "from scipy.integrate import solve_ivp\n",
    "\n",
    "S0 = np.array([S_A0, S_B0])  # initial conditions\n",
    "tspan = np.array([0, 200])\n",
    "\n",
    "# there is a new syntax here. *tspan means to \"unpack\" tspan into this position\n",
    "# it is equivalent to:\n",
    "# teval = np.linspace(tspan[0], tspan[1], 100)\n",
    "teval = np.linspace(*tspan, 50)\n",
    "\n",
    "sol = solve_ivp(dSdt, tspan, S0, t_eval=teval)\n",
    "sol.message"
   ]
  },
  {
   "cell_type": "markdown",
   "id": "4814517d",
   "metadata": {},
   "source": [
    "The shape of our solution is two rows by 50 columns.\n",
    "\n"
   ]
  },
  {
   "cell_type": "code",
   "execution_count": null,
   "id": "f12dba1b",
   "metadata": {},
   "outputs": [],
   "source": [
    "sol.y.shape"
   ]
  },
  {
   "cell_type": "markdown",
   "id": "3087f30b",
   "metadata": {},
   "source": [
    "One way to plot these solutions is this, where we extract out each row of the solution:\n",
    "\n"
   ]
  },
  {
   "cell_type": "code",
   "execution_count": null,
   "id": "5fbe2c11",
   "metadata": {},
   "outputs": [],
   "source": [
    "import matplotlib.pyplot as plt\n",
    "\n",
    "plt.plot(sol.t, sol.y[0] * V_A, label=\"Tank A\")\n",
    "plt.plot(sol.t, sol.y[1] * V_B, label=\"Tank B\")\n",
    "plt.xlabel(\"t (min)\")\n",
    "plt.ylabel(\"Mass of salt (oz)\")\n",
    "plt.legend();"
   ]
  },
  {
   "cell_type": "markdown",
   "id": "e61dcbf4",
   "metadata": {},
   "source": [
    "Another way is to convert the solution to an array where the data we want to plot is in columns. We can achieve this by *transposing* the array to convert it from 2 rows with 50 columns to 50 rows with 2 columns.\n",
    "\n"
   ]
  },
  {
   "cell_type": "code",
   "execution_count": null,
   "id": "7fb87499",
   "metadata": {},
   "outputs": [],
   "source": [
    "sol.y.T"
   ]
  },
  {
   "cell_type": "markdown",
   "id": "64093505",
   "metadata": {},
   "source": [
    "Now, we can also multiply each row by the volumes to get the mass of salt in each tank.\n",
    "\n"
   ]
  },
  {
   "cell_type": "code",
   "execution_count": null,
   "id": "757e8b14",
   "metadata": {},
   "outputs": [],
   "source": [
    "plt.plot(sol.t, sol.y.T * [V_A, V_B])\n",
    "plt.xlabel(\"t (min)\")\n",
    "plt.ylabel(\"Mass of salt (oz)\")\n",
    "plt.legend([\"Tank A\", \"Tank B\"]);"
   ]
  },
  {
   "cell_type": "markdown",
   "id": "cd1d9d91",
   "metadata": {},
   "source": [
    "This works because you can plot an array where the values to be plotted are all in columns.\n",
    "\n"
   ]
  },
  {
   "cell_type": "markdown",
   "id": "fecf628a",
   "metadata": {},
   "source": [
    "### Brief review\n",
    "\n"
   ]
  },
  {
   "cell_type": "markdown",
   "id": "cc449940",
   "metadata": {},
   "source": [
    "For systems of first order differential equations, you need to:\n",
    "\n",
    "1.  Define a function $y'(t, y)$ where $y$ will be an array of values. The function must return an array that is the same shape as $y$. For example, if you have two equations, $y$ will contain the two function values, and $y'$ must return two derivative values.\n",
    "2.  You also need two initial conditions, one for each function, at the same value of $t$.\n",
    "3.  The solution from solve\\_ivp will return an array for the y-values, with each function in *a row* of that array. You can either extract the rows to plot them, or transpose the array and plot them all.\n",
    "\n"
   ]
  },
  {
   "cell_type": "markdown",
   "id": "cef4a85d",
   "metadata": {},
   "source": [
    "### Predator-prey model example\n",
    "\n"
   ]
  },
  {
   "cell_type": "markdown",
   "id": "ac94d4be",
   "metadata": {},
   "source": [
    "The Lotka-Volterra model can be used to simulate predator-prey populations. Suppose we have $u$ preys (e.g. rabbits) and $v$ predators (e.g. foxes). Then, we can do a \"mass balance\" on each species as\n",
    "\n",
    "$\\frac{du}{dt} = a u - b u v$\n",
    "\n",
    "$\\frac{dv}{dt} = -c v + d b u v$\n",
    "\n",
    "Here $a$ is the natural growth rate of rabbits with no foxes. $b$ is the rate that foxes eat rabbits. $c$ is the rate that foxes die, and $d$ describes how many new foxes result from the rabbits that are eaten. Suppose we start with 10 rabbits and 5 foxes. Plot the number of each species from t=0 to t=15.\n",
    "\n"
   ]
  },
  {
   "cell_type": "code",
   "execution_count": null,
   "id": "eb228d1f",
   "metadata": {},
   "outputs": [],
   "source": [
    "a = 1.0\n",
    "b = 0.1\n",
    "c = 1.5\n",
    "d = 0.75\n",
    "\n",
    "Y0 = np.array([0.01, 0.01])  # initial conditions\n",
    "tspan = (0, 15000)  # timespan to integrate over\n",
    "teval = np.linspace(*tspan, 15000)  # points to evaluate the solution on\n",
    "\n",
    "\n",
    "def dXdt(t, X):\n",
    "    rabbits, foxes = X\n",
    "    drabbitdt = a * rabbits - b * rabbits * foxes\n",
    "    dfoxesdt = -c * foxes + d * b * rabbits * foxes\n",
    "    return np.array([drabbitdt, dfoxesdt])\n",
    "\n",
    "\n",
    "# hard to read alternative : Please do not do this.\n",
    "def ode(t, X):\n",
    "    return [a * X[0] - b * X[0] * X[1], -c * X[1] + d * b * X[0] * X[1]]\n",
    "\n",
    "\n",
    "from scipy.integrate import solve_ivp\n",
    "\n",
    "sol = solve_ivp(dXdt, tspan, Y0, t_eval=teval)\n",
    "sol.message"
   ]
  },
  {
   "cell_type": "code",
   "execution_count": null,
   "id": "cd0d4a5a",
   "metadata": {},
   "outputs": [],
   "source": [
    "plt.plot(sol.t, sol.y.T)\n",
    "plt.legend([\"rabbits\", \"foxes\"], loc=\"upper right\")\n",
    "plt.xlabel(\"t\")\n",
    "plt.ylabel(\"count\")\n",
    "plt.xlim(tspan);"
   ]
  },
  {
   "cell_type": "markdown",
   "id": "290d17c4",
   "metadata": {},
   "source": [
    "This is a classic boom/bust cycle of predator/prey.\n",
    "\n"
   ]
  },
  {
   "cell_type": "markdown",
   "id": "5ad820a5",
   "metadata": {},
   "source": [
    "### Qualitative method for systems of ODEs\n",
    "\n"
   ]
  },
  {
   "cell_type": "markdown",
   "id": "abcf388c",
   "metadata": {},
   "source": [
    "We can consider direction fields for systems of ODEs to examine the qualitative behavior of solutions when there are two equations. The key here is to compute for each point (rabbit, fox) we compute (drabbit/dt, dfox/dt), and then plot these.\n",
    "\n"
   ]
  },
  {
   "cell_type": "code",
   "execution_count": null,
   "id": "f1a28a21",
   "metadata": {},
   "outputs": [],
   "source": [
    "r = np.linspace(0.01, 240, 20)  # rabbit grid\n",
    "f = np.linspace(0.01, 240, 20)  # fox grid\n",
    "\n",
    "R, F = np.meshgrid(r, f)  # 2D arrays of (rabbit, fox) points\n",
    "\n",
    "DR, DF = dXdt(None, [R, F])  # These are dR/dt and dF/dt\n",
    "\n",
    "# This normalizes the arrows so they are all the same length and just show the direction\n",
    "N = np.sqrt(DR**2 + DF**2)\n",
    "\n",
    "DR /= N\n",
    "DF /= N\n",
    "\n",
    "plt.quiver(R, F, DR, DF)\n",
    "plt.xlabel(\"Number of rabbits\")\n",
    "plt.ylabel(\"Number of foxes\")\n",
    "plt.plot(sol.y[0], sol.y[1], \"b.\");"
   ]
  },
  {
   "cell_type": "markdown",
   "id": "af99549a",
   "metadata": {},
   "source": [
    "In this view, we have a *limit cycle* which just shows the number of rabbits and foxes goes up and down periodically as you travel around the solution curve. Time is parametric in this plot. It starts at t=0 at the initial state, and increases as you go around the cycle.\n",
    "\n"
   ]
  },
  {
   "cell_type": "markdown",
   "id": "f3d1edda",
   "metadata": {},
   "source": [
    "## Summary\n",
    "\n"
   ]
  },
  {
   "cell_type": "markdown",
   "id": "7e4f0c0d",
   "metadata": {
    "lines_to_next_cell": 2
   },
   "source": [
    "Systems of first order differential equations are solved the same way as single first order differential equations. The main difference is the system must be defined as:\n",
    "\n",
    "$Y'(t) = f(x, Y)$\n",
    "\n",
    "where $Y'$ is a vector/array of first derivatives, and $Y$ is a vector/array of function values.\n",
    "\n",
    "You still use `scipy.integrate.solve_ivp` to solve the equations, but you need an initial condition for each equation.\n",
    "\n",
    "<div class=\"alert alert-warning\">\n",
    "There are other ode integrators in scipy that have different function signatures than `scipy.integrate.solve_ivp`.\n",
    "\n",
    "For example, `scipy.integrate.odeint` requires functions like $y' = f(y, t)$ which is the opposite of `scipy.integrate.solve_ivp`. You **have** to keep track of which one you are using.\n",
    "\n",
    "`scipy.integrate.odeint` is older than `scipy.integrate.solve_ivp`, but it has fewer features (e.g. no events, fewer solver options).\n",
    "</div>\n",
    "\n"
   ]
  }
 ],
 "metadata": {
  "kernelspec": {
   "display_name": "Python 3 (ipykernel)",
   "language": "python",
   "name": "python3"
  }
 },
 "nbformat": 4,
 "nbformat_minor": 5
}
{
 "cells": [
  {
   "cell_type": "markdown",
   "id": "558ff361",
   "metadata": {},
   "source": [
    "# Boundary value problems\n",
    "\n",
    "- KEYWORDS: scipy.integrate.solve_bvp, numpy.polyfit\n"
   ]
  },
  {
   "cell_type": "markdown",
   "id": "d107c6ee",
   "metadata": {},
   "source": [
    "## Solving nonlinear BVPs by finite differences\n",
    "\n"
   ]
  },
  {
   "cell_type": "markdown",
   "id": "767ec71c",
   "metadata": {},
   "source": [
    "Adapted from Example 8.7 in <span class=\"underline\">Numerical Methods in Engineering with Python</span> by Jaan Kiusalaas.\n",
    "\n",
    "We want to solve $y''(x) = -3 y(x) y'(x)$ with $y(0) = 0$ and $y(2) = 1$.\n",
    "\n",
    "This is a boundary value problem *not an initial value problem*. First we consider using a finite difference method. We discretize the region and approximate the derivatives as:\n",
    "\n",
    "$y''(x) \\approx \\frac{y_{i-1} - 2 y_i + y_{i+1}}{h^2} $\n",
    "\n",
    "$y'(x) \\approx \\frac{y_{i+1} - y_{i-1}}{2 h} $\n",
    "\n",
    "We define a function $y''(x) = F(x, y, y')$. At each node in our discretized region, we will have an equation that looks like $y''(x) - F(x, y, y') = 0$, which will be nonlinear in the unknown solution $y$. The set of equations to solve is:\n",
    "\n",
    "\\begin{eqnarray}\n",
    "y_0 - \\alpha &=& 0 \\\\\n",
    "\\frac{y_{i-1} - 2 y_i + y_{i+1}}{h^2} + (3 y_i) (\\frac{y_{i+1} - y_{i-1}}{2 h}) &=& 0 \\\\\n",
    "y_L - \\beta &=&0\n",
    "\\end{eqnarray}\n",
    "\n",
    "Since we use a nonlinear solver, we will have to provide an initial guess to the solution. We will in this case assume a line. In other cases, a bad initial guess may lead to no solution.\n",
    "\n"
   ]
  },
  {
   "cell_type": "code",
   "execution_count": null,
   "id": "5b089d30",
   "metadata": {},
   "outputs": [],
   "source": [
    "import numpy as np\n",
    "from scipy.optimize import fsolve\n",
    "import matplotlib.pyplot as plt\n",
    "\n",
    "x1 = 0.0\n",
    "x2 = 2.0\n",
    "\n",
    "alpha = 0.0\n",
    "beta = 1.0"
   ]
  },
  {
   "cell_type": "markdown",
   "id": "a489e701",
   "metadata": {},
   "source": [
    "We need to specify a grid of points to discretize the solution on. We will start with a small grid because it is easy to visualize, but note that the grid spacing determines how good the approximation to the derivative is, so we will have to return here to see what the impact of our spacing is.\n",
    "\n"
   ]
  },
  {
   "cell_type": "code",
   "execution_count": null,
   "id": "852313b7",
   "metadata": {},
   "outputs": [],
   "source": [
    "N = 100\n",
    "X, h = np.linspace(x1, x2, N, retstep=True)\n",
    "X, h"
   ]
  },
  {
   "cell_type": "markdown",
   "id": "117a1ee4",
   "metadata": {},
   "source": [
    "Now, we can define functions for the differential equation, and for the nonlinear equations.\n",
    "\n"
   ]
  },
  {
   "cell_type": "code",
   "execution_count": null,
   "id": "90c09249",
   "metadata": {},
   "outputs": [],
   "source": [
    "def residuals(y):\n",
    "    \"When we have the right values of y, this function will be zero.\"\n",
    "\n",
    "    res = np.zeros(y.shape)  # we need a zero for each node\n",
    "\n",
    "    res[0] = y[0] - alpha  # this is the boundary value y(alpha) = 0\n",
    "\n",
    "    for i in range(1, N - 1):\n",
    "        x = X[i]  # This is not actually used\n",
    "        # Approximation of y'' from the current point\n",
    "        YPP = (y[i - 1] - 2 * y[i] + y[i + 1]) / h**2\n",
    "\n",
    "        # Approximation of y'\n",
    "        YP = (y[i + 1] - y[i - 1]) / (2 * h)\n",
    "\n",
    "        # y'' + 3 * y * y' = 0\n",
    "        res[i] = YPP + 3 * y[i] * YP\n",
    "\n",
    "    res[-1] = y[-1] - beta  # y(beta) = 0\n",
    "\n",
    "    return res"
   ]
  },
  {
   "cell_type": "markdown",
   "id": "53610053",
   "metadata": {},
   "source": [
    "We need a guess, and here we guess a line. It is always a good idea to plot your guess just to make sure it does what you want. Here, we want it to have the right boundary values.\n",
    "\n"
   ]
  },
  {
   "cell_type": "code",
   "execution_count": null,
   "id": "32b0fd13",
   "metadata": {},
   "outputs": [],
   "source": [
    "X"
   ]
  },
  {
   "cell_type": "code",
   "execution_count": null,
   "id": "a4bd5461",
   "metadata": {},
   "outputs": [],
   "source": [
    "# we need an initial guess\n",
    "init = alpha + (beta - alpha) / (x2 - x1) * X\n",
    "plt.plot(X, init);"
   ]
  },
  {
   "cell_type": "markdown",
   "id": "eef04259",
   "metadata": {},
   "source": [
    "We should check our residuals function. We mostly want to see that it runs, and produces the right shaped output.\n",
    "\n"
   ]
  },
  {
   "cell_type": "code",
   "execution_count": null,
   "id": "fa05bf5a",
   "metadata": {},
   "outputs": [],
   "source": [
    "len(residuals(init))"
   ]
  },
  {
   "cell_type": "markdown",
   "id": "05281cf8",
   "metadata": {
    "lines_to_next_cell": 2
   },
   "source": [
    "Now, we solve the BVP.\n",
    "\n"
   ]
  },
  {
   "cell_type": "code",
   "execution_count": null,
   "id": "11e99202",
   "metadata": {},
   "outputs": [],
   "source": [
    "Y, info, status, msg = fsolve(residuals, init, full_output=1)\n",
    "print(msg)\n",
    "\n",
    "plt.plot(X, Y)\n",
    "plt.xlabel(\"x\")\n",
    "plt.ylabel(\"y\");"
   ]
  },
  {
   "cell_type": "code",
   "execution_count": null,
   "id": "1de2e8f6",
   "metadata": {
    "lines_to_next_cell": 2
   },
   "outputs": [],
   "source": [
    "np.allclose(residuals(Y), 0.0, atol=1e-7), np.mean(np.abs(residuals(Y)))"
   ]
  },
  {
   "cell_type": "code",
   "execution_count": null,
   "id": "c4d0e4d6",
   "metadata": {},
   "outputs": [],
   "source": [
    "np.min(residuals(Y)), np.max(residuals(Y))"
   ]
  },
  {
   "cell_type": "markdown",
   "id": "ae8186b6",
   "metadata": {
    "lines_to_next_cell": 2
   },
   "source": [
    "The solution is has some apparent discontinuities because we only used about 10 points. How can you tell if the solution is correct? We can estimate the derivatives, and see how well they fit the equation. We look for:\n",
    "\n",
    "$y'' + 3 y y' = 0$ for all $x$.\n",
    "\n"
   ]
  },
  {
   "cell_type": "code",
   "execution_count": null,
   "id": "4d3a04f7",
   "metadata": {},
   "outputs": [],
   "source": [
    "yp = np.gradient(Y, X, edge_order=2)\n",
    "ypp = np.gradient(yp, X, edge_order=2)\n",
    "\n",
    "plt.plot(X, ypp + 3 * Y * yp)\n",
    "plt.xlabel(\"x\")\n",
    "plt.ylabel(\"residuals\");"
   ]
  },
  {
   "cell_type": "markdown",
   "id": "38656ce8",
   "metadata": {},
   "source": [
    "This result doesn't look great at the origin, but remember:\n",
    "\n",
    "1.  we used a coarse grid, so the derivative *approximations* are probably not that accurate\n",
    "2.  Numerical derivatives at the end-points are less accurate than in the middle.\n",
    "\n",
    "**exercise** Go back and repeat this for a finer grid, e.g. with 50, 100 points.\n",
    "\n",
    "The approach described here is pretty general. Here, we were able to solve a second-order BVP by discretizing it, approximating the derivatives at the points, and solving the corresponding nonlinear algebra equations. This approach can be extended in a variety of ways, including to systems of equations, and to 2D or 3D systems (where this approach is called finite-element). You will see these kinds of problems extensively in the spring semster in the Transport class.\n",
    "\n",
    "As we have seen before, however, there are functions in `scipy` that can help solve these problems.\n",
    "\n"
   ]
  },
  {
   "cell_type": "markdown",
   "id": "4a8143f5",
   "metadata": {},
   "source": [
    "## Introduction to solve_bvp\n",
    "\n"
   ]
  },
  {
   "cell_type": "code",
   "execution_count": null,
   "id": "f84b8fbd",
   "metadata": {},
   "outputs": [],
   "source": [
    "from scipy.integrate import solve_bvp\n",
    "\n",
    "solve_bvp?"
   ]
  },
  {
   "cell_type": "markdown",
   "id": "232cd93f",
   "metadata": {},
   "source": [
    "### A worked bvp problem\n",
    "\n"
   ]
  },
  {
   "cell_type": "markdown",
   "id": "e4e93f81",
   "metadata": {},
   "source": [
    "In the pressure driven flow of a fluid with viscosity $\\mu$ between two stationary plates separated by distance $d$ and driven by a pressure drop $\\Delta P/\\Delta x$, the governing equations on the velocity $u$ of the fluid are (assuming flow in the x-direction with the velocity varying only in the y-direction):\n",
    "\n",
    "$$\\frac{\\Delta P}{\\Delta x} = \\mu \\frac{d^2u}{dy^2}$$\n",
    "\n",
    "with boundary conditions $u(y=0) = 0$ and $u(y=d) = 0$, i.e. the no-slip condition at the edges of the plate.\n",
    "\n",
    "we convert this second order BVP to a system of ODEs by letting $u_1 = u$, $u_2 = u_1'$ and then $u_2' = u_1''$. This leads to:\n",
    "\n",
    "$\\frac{d u_1}{dy} = u_2$\n",
    "\n",
    "$\\frac{d u_2}{dy} = \\frac{1}{\\mu}\\frac{\\Delta P}{\\Delta x}$\n",
    "\n",
    "with boundary conditions $u_1(y=0) = 0$ and $u_1(y=d) = 0$.\n",
    "\n",
    "for this problem we let the plate separation be d=0.1, the viscosity $\\mu = 1$, and $\\frac{\\Delta P}{\\Delta x} = -100$.\n",
    "\n"
   ]
  },
  {
   "cell_type": "code",
   "execution_count": null,
   "id": "88ece2a7",
   "metadata": {},
   "outputs": [],
   "source": [
    "import numpy as np\n",
    "\n",
    "d = 0.1\n",
    "mu = 1\n",
    "deltaPdeltax = -100"
   ]
  },
  {
   "cell_type": "markdown",
   "id": "ac9bda41",
   "metadata": {},
   "source": [
    "The function defining the BVP has to return an array that has a row for each equation, and a column for each value in the grid.\n",
    "\n"
   ]
  },
  {
   "cell_type": "code",
   "execution_count": null,
   "id": "9cb63f78",
   "metadata": {},
   "outputs": [],
   "source": [
    "def bvp(y, U):\n",
    "    u1, u2 = U\n",
    "    du1dy = u2  # this will be an array of values of u2(y)\n",
    "    du2dy = np.ones(y.shape) / mu * deltaPdeltax\n",
    "    # Both rows must be arrays.\n",
    "    return [du1dy, du2dy]"
   ]
  },
  {
   "cell_type": "markdown",
   "id": "89fbc9ec",
   "metadata": {},
   "source": [
    "The boundary condition function will get the whole numeric solution at each boundary. We want $u1(a) = 0$ and $u1(b)=0$.\n",
    "\n"
   ]
  },
  {
   "cell_type": "code",
   "execution_count": null,
   "id": "df59cf6b",
   "metadata": {},
   "outputs": [],
   "source": [
    "def bc(Ua, Ub):\n",
    "    u1a, u2a = Ua\n",
    "    u1b, u2b = Ub\n",
    "    return [u1a, u1b]  # These will be zero at the solution"
   ]
  },
  {
   "cell_type": "markdown",
   "id": "de1a357c",
   "metadata": {},
   "source": [
    "Next, we need an initial guess for u1 and u2 on a grid of points. You have to make some decisions here. You need a guess that is reasonably close, but not hard to construct. Here, we anticipate a solution that looks parabolic, and that goes through the points: (0, 0), (d, 0), and some point at (d / 2, ?), where ? represents the point of maximum velocity in middle. We can easily get this polynomial with np.polyfit.\n",
    "\n"
   ]
  },
  {
   "cell_type": "markdown",
   "id": "9fe727be",
   "metadata": {},
   "source": [
    "We don't know what the maximum velocity is, so we make a guess, say 0.5. Then, we get the parameters, and apply them to an array of y values.\n",
    "\n"
   ]
  },
  {
   "cell_type": "code",
   "execution_count": null,
   "id": "8f2e9733",
   "metadata": {},
   "outputs": [],
   "source": [
    "pars = np.polyfit(\n",
    "    [0, d / 2, d],  # x-points\n",
    "    [0, 0.5, 0],  # y-points\n",
    "    2,\n",
    ")  # polynomial order\n",
    "pars  # parabola coefficients for U1"
   ]
  },
  {
   "cell_type": "markdown",
   "id": "c80006a2",
   "metadata": {},
   "source": [
    "Now, we can define a Y grid and define the guess for the first U1.\n",
    "\n"
   ]
  },
  {
   "cell_type": "code",
   "execution_count": null,
   "id": "639b5b2c",
   "metadata": {},
   "outputs": [],
   "source": [
    "Y = np.linspace(0, d)\n",
    "\n",
    "U1 = np.polyval(pars, Y)\n",
    "plt.plot(Y, U1)\n",
    "plt.xlabel(\"Y\")\n",
    "plt.ylabel(\"U1\")\n",
    "Y.shape, U1.shape"
   ]
  },
  {
   "cell_type": "markdown",
   "id": "688a978f",
   "metadata": {},
   "source": [
    "We also need a guess for U2, and in this case we know that $u2 = u1'$, so we just use that.\n",
    "\n"
   ]
  },
  {
   "cell_type": "code",
   "execution_count": null,
   "id": "452424a5",
   "metadata": {},
   "outputs": [],
   "source": [
    "du1 = np.polyder(pars)\n",
    "U2 = np.polyval(du1, Y)\n",
    "plt.plot(Y, U2)\n",
    "# U2 = np.gradient(U1, Y, edge_order=2)\n",
    "\n",
    "# Combine the two rows into one initial guess for U\n",
    "U = np.array([U1, U2])\n",
    "print(U.shape)"
   ]
  },
  {
   "cell_type": "markdown",
   "id": "1caa9c58",
   "metadata": {},
   "source": [
    "You should *always* visualize the guess to make sure it does what you want. It is **hard** to make these!\n",
    "\n"
   ]
  },
  {
   "cell_type": "code",
   "execution_count": null,
   "id": "eeb00b55",
   "metadata": {},
   "outputs": [],
   "source": [
    "import matplotlib.pyplot as plt\n",
    "\n",
    "plt.plot(Y, U[0], label=\"u1\")\n",
    "plt.gca().tick_params(\"y\", colors=\"b\")\n",
    "plt.ylabel(\"u1\")\n",
    "\n",
    "plt.twinx()  # makes graphs share the x-axis, and adds a second y-axis\n",
    "plt.plot(Y, U[1], \"r\", label=\"u2\")\n",
    "plt.gca().tick_params(\"y\", colors=\"r\")\n",
    "plt.ylabel(\"u2\");"
   ]
  },
  {
   "cell_type": "markdown",
   "id": "c2f95999",
   "metadata": {},
   "source": [
    "Now, we are ready to solve the BVP.\n",
    "\n"
   ]
  },
  {
   "cell_type": "code",
   "execution_count": null,
   "id": "fd1bbe13",
   "metadata": {},
   "outputs": [],
   "source": [
    "from scipy.integrate import solve_bvp\n",
    "\n",
    "sol = solve_bvp(bvp, bc, Y, U)\n",
    "print(sol.message)\n",
    "plt.plot(sol.x, sol.y[0])\n",
    "plt.xlabel(\"y\")\n",
    "plt.ylabel(\"U\");"
   ]
  },
  {
   "cell_type": "markdown",
   "id": "0513a3eb",
   "metadata": {},
   "source": [
    "**exercise** Try using different guesses, e.g. lines, or triangle shapes, etc. What else looks like this shape? Half a cycle of a sin wave? A semi-circle?\n",
    "\n",
    "**exercise** How can you show this is a solution to the BVP?\n",
    "\n"
   ]
  },
  {
   "cell_type": "markdown",
   "id": "49379323",
   "metadata": {},
   "source": [
    "### Concentration profile in a particle\n",
    "\n"
   ]
  },
  {
   "cell_type": "markdown",
   "id": "27ec48f8",
   "metadata": {},
   "source": [
    "Another typical boundary value problem in chemical engineering is the concentration profile inside a catalyst particle. Here is the dimensionless equation for a second order reaction in a slab. Note here we have a boundary condition on the derivative at the origin. This kind of condition means either there is no flux at this position, or that the slab is symmetric about this position.\n",
    "\n",
    "$\\frac{d^2c}{dx^2} = \\Phi^2 c^2$\n",
    "\n",
    "with $c'(0)$ = 0 and $c(1) = 1$\n",
    "\n",
    "We again convert this to a system of first order differential equations like this:\n",
    "\n",
    "Let c1 = c, c1' = c', and c2 = c1', so c2' = c1'' = c''\n",
    "\n",
    "Then we have:\n",
    "\n",
    "$c1' = c2$\n",
    "\n",
    "$c2' = \\Phi^2 c1^2$\n",
    "\n",
    "with boundary conditions $c1'(0) = 0$ and $c1(1) = 1$.\n",
    "\n",
    "We begin with the required functions:\n",
    "\n"
   ]
  },
  {
   "cell_type": "code",
   "execution_count": null,
   "id": "54979674",
   "metadata": {},
   "outputs": [],
   "source": [
    "Phi = 100  # Constant given for the problem\n",
    "\n",
    "\n",
    "def bvp(x, C):\n",
    "    c1, c2 = C  # these are two rows for all the values of x\n",
    "    dc1dx = c2\n",
    "    dc2dx = Phi**2 * c1**2\n",
    "    return [dc1dx, dc2dx]\n",
    "\n",
    "\n",
    "def bc(Ca, Cb):\n",
    "    c1a, c2a = Ca\n",
    "    c1b, c2b = Cb\n",
    "\n",
    "    # Now, evaluate the derivatives at the first boundary condition\n",
    "    c1prime, c2prime = bvp(0, [c1a, c2a])\n",
    "    return [\n",
    "        c1prime,  # will all equal zero. Alternatively use c2a\n",
    "        c1b - 1,\n",
    "    ]  # c1(b) = 1"
   ]
  },
  {
   "cell_type": "markdown",
   "id": "ba48981f",
   "metadata": {},
   "source": [
    "We need an initial guess. We make a naive one, that $c(x) = 1$ in the slab, i.e. there is no reaction. As usual, we visualize the guess to be sure it does what we intended.\n",
    "\n"
   ]
  },
  {
   "cell_type": "code",
   "execution_count": null,
   "id": "c91f252c",
   "metadata": {},
   "outputs": [],
   "source": [
    "X = np.linspace(0, 1)\n",
    "\n",
    "C1 = X**1200  # np.ones(X.shape)\n",
    "C2 = np.gradient(C1, X)\n",
    "\n",
    "plt.plot(X, C1);"
   ]
  },
  {
   "cell_type": "markdown",
   "id": "f554fbcb",
   "metadata": {},
   "source": [
    "Now we solve the system.\n",
    "\n"
   ]
  },
  {
   "cell_type": "code",
   "execution_count": null,
   "id": "22a4212f",
   "metadata": {},
   "outputs": [],
   "source": [
    "C = [C1, C2]\n",
    "sol = solve_bvp(bvp, bc, X, C)\n",
    "print(sol.message)\n",
    "len(sol.x)"
   ]
  },
  {
   "cell_type": "code",
   "execution_count": null,
   "id": "a6b131ea",
   "metadata": {},
   "outputs": [],
   "source": [
    "plt.plot(sol.x, sol.y[0])\n",
    "plt.xlabel(\"x\")\n",
    "plt.ylabel(\"C\")\n",
    "plt.xlim([0, 1])\n",
    "plt.ylim([0, 1]);"
   ]
  },
  {
   "cell_type": "code",
   "execution_count": null,
   "id": "af14c672",
   "metadata": {},
   "outputs": [],
   "source": [
    "plt.plot(X, X**8)  # Alternative initial guess\n",
    "len(X)"
   ]
  },
  {
   "cell_type": "code",
   "execution_count": null,
   "id": "1d47fa71",
   "metadata": {},
   "outputs": [],
   "source": [
    "c = sol.y[0]\n",
    "len(c)"
   ]
  },
  {
   "cell_type": "markdown",
   "id": "2c308a4d",
   "metadata": {},
   "source": [
    "You can see the solution looks nothing like our initial guess. In this case, a high thiele modulus means most of the reaction happens near the catalyst surface, and the interior of the slab has hardly any reactant in it. This solution is consistent with that.\n",
    "\n",
    "The effectiveness factor for this system is defined by:\n",
    "\n",
    "$E = \\int_0^1 c^2 dx$\n",
    "\n",
    "We can estimate this with the trapezoid or Simpson's method (remember that the solution is a vector of numbers).\n",
    "\n"
   ]
  },
  {
   "cell_type": "code",
   "execution_count": null,
   "id": "5f600e49",
   "metadata": {},
   "outputs": [],
   "source": [
    "c = sol.y[0]\n",
    "print(np.trapz(c**2, sol.x))\n",
    "\n",
    "from scipy.integrate import simps\n",
    "\n",
    "print(simps(c**2, sol.x))"
   ]
  },
  {
   "cell_type": "markdown",
   "id": "d5f36853",
   "metadata": {},
   "source": [
    "Or, we can use the dense\\_output of the solution with quad.\n",
    "\n"
   ]
  },
  {
   "cell_type": "code",
   "execution_count": null,
   "id": "5cc5e120",
   "metadata": {
    "lines_to_next_cell": 2
   },
   "outputs": [],
   "source": [
    "from scipy.integrate import quad\n",
    "\n",
    "\n",
    "def integrand(x):\n",
    "    c1, c2 = sol.sol(x)\n",
    "    return c1**2\n",
    "\n",
    "\n",
    "quad(integrand, 0, 1)"
   ]
  },
  {
   "cell_type": "markdown",
   "id": "590ec8e9",
   "metadata": {},
   "source": [
    "**excercise** Repeat this example for different values of &Phi;.\n",
    "\n",
    "**exercise** Try different kinds of guesses. Think of a guess that has the properties of the boundary conditions, e.g. c'(0) = 0, and c(1) = 1.\n",
    "\n",
    "**exercise** Evaluate the quality of the solution based on the equations.\n",
    "\n"
   ]
  },
  {
   "cell_type": "markdown",
   "id": "d011e2a2",
   "metadata": {},
   "source": [
    "## Summary\n",
    "\n"
   ]
  },
  {
   "cell_type": "markdown",
   "id": "071a8b4c",
   "metadata": {
    "lines_to_next_cell": 2
   },
   "source": [
    "Today, we leveraged the ability to solve systems of nonlinear algebraic equations to solve boundary value problems by discretizing them on a grid, approximating them at the grid points, and then solving the resulting nonlinear equations.\n",
    "\n",
    "We also learned about the solve\\_bvp function, which is in scipy.integrate to solve systems of first-order boundary value problems.\n",
    "\n",
    "Next time, we will return to nonlinear algebra to see how the algorithms can be used to find minima and maxima.\n",
    "\n"
   ]
  }
 ],
 "metadata": {
  "kernelspec": {
   "display_name": "Python 3 (ipykernel)",
   "language": "python",
   "name": "python3"
  }
 },
 "nbformat": 4,
 "nbformat_minor": 5
}
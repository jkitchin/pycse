{
 "cells": [
  {
   "cell_type": "markdown",
   "metadata": {},
   "source": [
    "# Supyrvisor Demo: Automatic Function Retry with Error Fixing\n",
    "\n",
    "The `supyrvisor` module provides decorators that automatically retry function calls with modified arguments when errors are detected. This is useful for:\n",
    "\n",
    "- Automatically fixing numerical convergence issues\n",
    "- Retrying failed API calls with adjusted parameters\n",
    "- Handling edge cases that can be fixed algorithmically\n",
    "\n",
    "This module provides two decorator patterns:\n",
    "1. **`supervisor`**: Original pattern using args/kwargs\n",
    "2. **`manager`**: Modern pattern using normalized argument dictionaries"
   ]
  },
  {
   "cell_type": "code",
   "execution_count": 11,
   "metadata": {},
   "outputs": [],
   "source": [
    "import numpy as np\n",
    "from pycse.supyrvisor import (\n",
    "    supervisor,\n",
    "    manager,\n",
    "    check_result,\n",
    "    check_exception,\n",
    "    TooManyErrorsException,\n",
    ")"
   ]
  },
  {
   "cell_type": "markdown",
   "metadata": {},
   "source": [
    "## Example 1: Basic `supervisor` Usage - Fixing Convergence Issues\n",
    "\n",
    "Let's create a function that solves a numerical problem but might need parameter adjustment."
   ]
  },
  {
   "cell_type": "code",
   "execution_count": 12,
   "metadata": {},
   "outputs": [
    {
     "name": "stdout",
     "output_type": "stream",
     "text": [
      "Convergence issue detected. Trying with tolerance=0.0025, max_iter=200\n",
      "Proposed fix in check_convergence: ((0.0025,), {'max_iter': 200})\n",
      "Convergence issue detected. Trying with tolerance=0.00125, max_iter=400\n",
      "Proposed fix in check_convergence: ((0.00125,), {'max_iter': 400})\n",
      "Convergence issue detected. Trying with tolerance=0.000625, max_iter=800\n",
      "Proposed fix in check_convergence: ((0.000625,), {'max_iter': 800})\n",
      "Convergence issue detected. Trying with tolerance=0.0003125, max_iter=1600\n",
      "Proposed fix in check_convergence: ((0.0003125,), {'max_iter': 1600})\n",
      "\n",
      "Final result: {'error': 0.000625, 'iterations': 1600, 'tolerance': 0.0003125}\n"
     ]
    }
   ],
   "source": [
    "def check_convergence(args, kwargs, result):\n",
    "    \"\"\"Check if the result converged, and if not, propose a fix.\"\"\"\n",
    "    tolerance, max_iterations = args[0], kwargs.get(\"max_iter\", 100)\n",
    "\n",
    "    # If result is not accurate enough, try with smaller tolerance\n",
    "    if abs(result[\"error\"]) > 1e-3:\n",
    "        new_tolerance = tolerance / 2\n",
    "        new_max_iter = max_iterations * 2\n",
    "        print(\n",
    "            f\"Convergence issue detected. Trying with tolerance={new_tolerance}, max_iter={new_max_iter}\"\n",
    "        )\n",
    "        return (new_tolerance,), {\"max_iter\": new_max_iter}\n",
    "\n",
    "    return None  # All good, no need to rerun\n",
    "\n",
    "\n",
    "# Need max_errors=4 to get tolerance below 1e-4 (0.1 -> 0.05 -> 0.025 -> 0.0125 -> 0.00625)\n",
    "@supervisor(check_funcs=[check_convergence], max_errors=10, verbose=True)\n",
    "def solve_iteratively(tolerance, max_iter=100):\n",
    "    \"\"\"Simulate an iterative solver.\"\"\"\n",
    "    # Simulate that we need small tolerance to converge\n",
    "    if tolerance < 1e-4:\n",
    "        error = tolerance / 10  # Good convergence\n",
    "    else:\n",
    "        error = tolerance * 2  # Poor convergence\n",
    "\n",
    "    return {\"error\": error, \"iterations\": max_iter, \"tolerance\": tolerance}\n",
    "\n",
    "\n",
    "# This will automatically retry with better parameters\n",
    "result = solve_iteratively(0.005)\n",
    "print(f\"\\nFinal result: {result}\")"
   ]
  },
  {
   "cell_type": "markdown",
   "metadata": {},
   "source": [
    "## Example 2: Exception Handling with `supervisor`\n",
    "\n",
    "Let's handle exceptions that can be fixed by adjusting parameters."
   ]
  },
  {
   "cell_type": "code",
   "execution_count": 13,
   "metadata": {},
   "outputs": [
    {
     "name": "stdout",
     "output_type": "stream",
     "text": [
      "Test 1: Division by zero\n",
      "Caught ZeroDivisionError! Adjusting y from 0 to 0.001\n",
      "Proposed fix in fix_division_by_zero: ((10, 0.001), {})\n",
      "Result: 100.0\n",
      "\n",
      "Test 2: Normal computation\n",
      "Result: 2.0\n"
     ]
    }
   ],
   "source": [
    "def fix_division_by_zero(args, kwargs, exception):\n",
    "    \"\"\"Fix division by zero by adjusting the denominator.\"\"\"\n",
    "    if isinstance(exception, ZeroDivisionError):\n",
    "        x, y = args\n",
    "        print(f\"Caught ZeroDivisionError! Adjusting y from {y} to 0.001\")\n",
    "        return (x, 0.001), {}\n",
    "    return None\n",
    "\n",
    "\n",
    "@supervisor(exception_funcs=[fix_division_by_zero], max_errors=5, verbose=True)\n",
    "def compute_sqrt_ratio(x, y):\n",
    "    \"\"\"Compute sqrt(x/y) - may fail with division by zero.\"\"\"\n",
    "    if y == 0:\n",
    "        raise ZeroDivisionError(\"Cannot divide by zero\")\n",
    "    result = np.sqrt(x / y)\n",
    "    return result\n",
    "\n",
    "\n",
    "# Test with division by zero\n",
    "print(\"Test 1: Division by zero\")\n",
    "result1 = compute_sqrt_ratio(10, 0)\n",
    "print(f\"Result: {result1}\\n\")\n",
    "\n",
    "# Test with normal values\n",
    "print(\"Test 2: Normal computation\")\n",
    "result2 = compute_sqrt_ratio(16, 4)\n",
    "print(f\"Result: {result2}\")"
   ]
  },
  {
   "cell_type": "markdown",
   "metadata": {},
   "source": [
    "## Example 3: Modern `manager` Pattern with Checker Decorators\n",
    "\n",
    "The `manager` decorator uses a cleaner pattern with `@check_result` and `@check_exception` decorators."
   ]
  },
  {
   "cell_type": "code",
   "execution_count": 14,
   "metadata": {},
   "outputs": [
    {
     "name": "stdout",
     "output_type": "stream",
     "text": [
      "  Computing: (-8 + 0) * 1.0 = -8.0\n",
      "Negative result -8.0. Increasing offset to 5\n",
      "Proposed fix in wrapper: {'x': -8, 'offset': 5, 'scale': 1.0}\n",
      "  Computing: (-8 + 5) * 1.0 = -3.0\n",
      "Negative result -3.0. Increasing offset to 10\n",
      "Proposed fix in wrapper: {'x': -8, 'offset': 10, 'scale': 1.0}\n",
      "  Computing: (-8 + 10) * 1.0 = 2.0\n",
      "\n",
      "Final result: 2.0\n"
     ]
    }
   ],
   "source": [
    "@check_result\n",
    "def check_positive_result(arguments, result):\n",
    "    \"\"\"Ensure result is positive, otherwise increase the offset.\"\"\"\n",
    "    if result < 0:\n",
    "        current_offset = arguments.get(\"offset\", 0)\n",
    "        new_offset = current_offset + 5\n",
    "        print(f\"Negative result {result}. Increasing offset to {new_offset}\")\n",
    "        new_args = arguments.copy()\n",
    "        new_args[\"offset\"] = new_offset\n",
    "        return new_args\n",
    "    return None\n",
    "\n",
    "\n",
    "@manager(checkers=[check_positive_result], max_errors=5, verbose=True)\n",
    "def compute_value(x, offset=0, scale=1.0):\n",
    "    \"\"\"Compute a scaled and offset value.\"\"\"\n",
    "    result = (x + offset) * scale\n",
    "    print(f\"  Computing: ({x} + {offset}) * {scale} = {result}\")\n",
    "    return result\n",
    "\n",
    "\n",
    "# This will automatically adjust offset until result is positive\n",
    "result = compute_value(-8, offset=0)\n",
    "print(f\"\\nFinal result: {result}\")"
   ]
  },
  {
   "cell_type": "markdown",
   "metadata": {},
   "source": [
    "## Example 4: File Processing with Automatic Error Recovery"
   ]
  },
  {
   "cell_type": "code",
   "execution_count": 15,
   "metadata": {},
   "outputs": [
    {
     "name": "stdout",
     "output_type": "stream",
     "text": [
      "JSON decode error. Retrying with ast.literal_eval\n",
      "Proposed fix in wrapper: {'data_str': \"{'name': 'test', 'value': 42}\", 'use_ast': True, 'add_defaults': False}\n",
      "Missing required_field. Adding default value.\n",
      "Proposed fix in wrapper: {'data_str': \"{'name': 'test', 'value': 42}\", 'use_ast': True, 'add_defaults': True}\n",
      "\n",
      "Parsed result: {'name': 'test', 'value': 42, 'required_field': 'default_value'}\n"
     ]
    }
   ],
   "source": [
    "import json\n",
    "import ast\n",
    "\n",
    "\n",
    "@check_exception\n",
    "def fix_json_decode_error(arguments, exception):\n",
    "    \"\"\"If JSON parsing fails, try alternative parsing strategies.\"\"\"\n",
    "    if isinstance(exception, json.JSONDecodeError):\n",
    "        # Try with a more lenient approach using ast.literal_eval\n",
    "        new_args = arguments.copy()\n",
    "        new_args[\"use_ast\"] = True\n",
    "        print(\"JSON decode error. Retrying with ast.literal_eval\")\n",
    "        return new_args\n",
    "    return None\n",
    "\n",
    "\n",
    "@check_result\n",
    "def validate_data(arguments, result):\n",
    "    \"\"\"Validate the parsed data has required fields.\"\"\"\n",
    "    if result is not None and \"required_field\" not in result:\n",
    "        # Add default value and reprocess\n",
    "        print(\"Missing required_field. Adding default value.\")\n",
    "        new_args = arguments.copy()\n",
    "        new_args[\"add_defaults\"] = True\n",
    "        return new_args\n",
    "    return None\n",
    "\n",
    "\n",
    "@manager(checkers=[fix_json_decode_error, validate_data], max_errors=3, verbose=True)\n",
    "def load_config(data_str, use_ast=False, add_defaults=False):\n",
    "    \"\"\"Load configuration from JSON string.\"\"\"\n",
    "    if use_ast:\n",
    "        # More lenient parsing using ast.literal_eval\n",
    "        parsed = ast.literal_eval(data_str)\n",
    "    else:\n",
    "        parsed = json.loads(data_str)\n",
    "\n",
    "    if add_defaults:\n",
    "        parsed.setdefault(\"required_field\", \"default_value\")\n",
    "\n",
    "    return parsed\n",
    "\n",
    "\n",
    "# Test with invalid JSON that becomes valid with ast.literal_eval\n",
    "malformed_json = \"{'name': 'test', 'value': 42}\"  # Single quotes, not valid JSON\n",
    "result = load_config(malformed_json)\n",
    "print(f\"\\nParsed result: {result}\")"
   ]
  },
  {
   "cell_type": "markdown",
   "metadata": {},
   "source": [
    "## Example 5: Numerical Optimization with Adaptive Parameters"
   ]
  },
  {
   "cell_type": "code",
   "execution_count": 16,
   "metadata": {},
   "outputs": [
    {
     "name": "stdout",
     "output_type": "stream",
     "text": [
      "  Optimizing with method: BFGS\n",
      "Optimization failed with BFGS. Trying Nelder-Mead\n",
      "Proposed fix in wrapper: {'x0': [0, 0], 'method': 'Nelder-Mead'}\n",
      "  Optimizing with method: Nelder-Mead\n",
      "Optimization failed with Nelder-Mead. Trying Powell\n",
      "Proposed fix in wrapper: {'x0': [0, 0], 'method': 'Powell'}\n",
      "  Optimizing with method: Powell\n",
      "Optimization failed with Powell. Trying CG\n",
      "Proposed fix in wrapper: {'x0': [0, 0], 'method': 'CG'}\n",
      "  Optimizing with method: CG\n",
      "\n",
      "Optimization result:\n",
      "  Success: False\n",
      "  Final x: [0.79046814 0.6184045 ]\n",
      "  Function value: 0.04804500539743658\n"
     ]
    }
   ],
   "source": [
    "from scipy.optimize import minimize\n",
    "\n",
    "\n",
    "@check_result\n",
    "def check_optimization_success(arguments, result):\n",
    "    \"\"\"Check if optimization succeeded, adjust method if not.\"\"\"\n",
    "    if not result.success:\n",
    "        current_method = arguments.get(\"method\", \"BFGS\")\n",
    "\n",
    "        # Try different methods in sequence\n",
    "        method_sequence = [\"BFGS\", \"Nelder-Mead\", \"Powell\", \"CG\"]\n",
    "\n",
    "        try:\n",
    "            current_idx = method_sequence.index(current_method)\n",
    "            if current_idx < len(method_sequence) - 1:\n",
    "                new_method = method_sequence[current_idx + 1]\n",
    "                print(f\"Optimization failed with {current_method}. Trying {new_method}\")\n",
    "                new_args = arguments.copy()\n",
    "                new_args[\"method\"] = new_method\n",
    "                return new_args\n",
    "        except ValueError:\n",
    "            pass\n",
    "\n",
    "    return None\n",
    "\n",
    "\n",
    "@manager(checkers=[check_optimization_success], max_errors=4, verbose=True)\n",
    "def optimize_function(x0, method=\"BFGS\"):\n",
    "    \"\"\"Optimize a test function.\"\"\"\n",
    "\n",
    "    # Rosenbrock function - difficult to optimize\n",
    "    def rosenbrock(x):\n",
    "        return (1 - x[0]) ** 2 + 100 * (x[1] - x[0] ** 2) ** 2\n",
    "\n",
    "    print(f\"  Optimizing with method: {method}\")\n",
    "    result = minimize(\n",
    "        rosenbrock, x0, method=method, options={\"maxiter\": 10}\n",
    "    )  # Low maxiter to force failures\n",
    "    return result\n",
    "\n",
    "\n",
    "# This will try different optimization methods until one succeeds\n",
    "result = optimize_function([0, 0])\n",
    "print(\"\\nOptimization result:\")\n",
    "print(f\"  Success: {result.success}\")\n",
    "print(f\"  Final x: {result.x}\")\n",
    "print(f\"  Function value: {result.fun}\")"
   ]
  },
  {
   "cell_type": "markdown",
   "metadata": {},
   "source": [
    "## Example 6: Maximum Errors Limit"
   ]
  },
  {
   "cell_type": "code",
   "execution_count": 17,
   "metadata": {},
   "outputs": [
    {
     "name": "stdout",
     "output_type": "stream",
     "text": [
      "  Attempt 0\n",
      "  Checker called, proposing fix...\n",
      "Proposed fix in wrapper: {'attempt': 1}\n",
      "  Attempt 1\n",
      "  Checker called, proposing fix...\n",
      "Proposed fix in wrapper: {'attempt': 2}\n",
      "  Attempt 2\n",
      "  Checker called, proposing fix...\n",
      "Proposed fix in wrapper: {'attempt': 3}\n",
      "\n",
      "Caught expected exception: Maximum number of errors (3) reached\n"
     ]
    }
   ],
   "source": [
    "@check_result\n",
    "def always_fail(arguments, result):\n",
    "    \"\"\"A checker that always proposes a fix (for demonstration).\"\"\"\n",
    "    print(\"  Checker called, proposing fix...\")\n",
    "    new_args = arguments.copy()\n",
    "    new_args[\"attempt\"] = arguments.get(\"attempt\", 0) + 1\n",
    "    return new_args\n",
    "\n",
    "\n",
    "@manager(checkers=[always_fail], max_errors=3, verbose=True)\n",
    "def will_exceed_max_errors(attempt=0):\n",
    "    \"\"\"This function will hit max_errors limit.\"\"\"\n",
    "    print(f\"  Attempt {attempt}\")\n",
    "    return f\"attempt_{attempt}\"\n",
    "\n",
    "\n",
    "# This will raise TooManyErrorsException\n",
    "try:\n",
    "    result = will_exceed_max_errors()\n",
    "except TooManyErrorsException as e:\n",
    "    print(f\"\\nCaught expected exception: {e}\")"
   ]
  },
  {
   "cell_type": "markdown",
   "metadata": {},
   "source": [
    "## Example 7: Combining Multiple Checkers"
   ]
  },
  {
   "cell_type": "code",
   "execution_count": 18,
   "metadata": {},
   "outputs": [
    {
     "name": "stdout",
     "output_type": "stream",
     "text": [
      "  Generated value: 24.9080237694725 (bounds: [-50, 150], integer: False)\n",
      "\n",
      "Final result: 24.9080237694725\n"
     ]
    }
   ],
   "source": [
    "@check_result\n",
    "def check_range(arguments, result):\n",
    "    \"\"\"Ensure result is in valid range.\"\"\"\n",
    "    if result < 0:\n",
    "        new_args = arguments.copy()\n",
    "        new_args[\"lower_bound\"] = arguments.get(\"lower_bound\", 0) + 1\n",
    "        print(f\"Result too low: {result}. Increasing lower_bound\")\n",
    "        return new_args\n",
    "    elif result > 100:\n",
    "        new_args = arguments.copy()\n",
    "        new_args[\"upper_bound\"] = arguments.get(\"upper_bound\", 100) - 10\n",
    "        print(f\"Result too high: {result}. Decreasing upper_bound\")\n",
    "        return new_args\n",
    "    return None\n",
    "\n",
    "\n",
    "@check_result\n",
    "def check_integer(arguments, result):\n",
    "    \"\"\"Ensure result is close to an integer.\"\"\"\n",
    "    if abs(result - round(result)) > 0.1:\n",
    "        new_args = arguments.copy()\n",
    "        new_args[\"force_integer\"] = True\n",
    "        print(f\"Result not close to integer: {result}. Forcing integer output\")\n",
    "        return new_args\n",
    "    return None\n",
    "\n",
    "\n",
    "@manager(checkers=[check_range, check_integer], max_errors=5, verbose=True)\n",
    "def compute_bounded_value(seed, lower_bound=0, upper_bound=100, force_integer=False):\n",
    "    \"\"\"Compute a value within bounds.\"\"\"\n",
    "    np.random.seed(seed)\n",
    "    value = np.random.uniform(lower_bound, upper_bound)\n",
    "\n",
    "    if force_integer:\n",
    "        value = round(value)\n",
    "\n",
    "    print(\n",
    "        f\"  Generated value: {value} (bounds: [{lower_bound}, {upper_bound}], integer: {force_integer})\"\n",
    "    )\n",
    "    return value\n",
    "\n",
    "\n",
    "# This will adjust bounds until result is in valid range and near integer\n",
    "result = compute_bounded_value(42, lower_bound=-50, upper_bound=150)\n",
    "print(f\"\\nFinal result: {result}\")"
   ]
  },
  {
   "cell_type": "markdown",
   "metadata": {},
   "source": [
    "## Summary\n",
    "\n",
    "The `supyrvisor` module provides powerful automatic error recovery:\n",
    "\n",
    "### Key Features:\n",
    "- **Automatic retry**: Functions are automatically retried with modified parameters\n",
    "- **Two patterns**: `supervisor` (args/kwargs) and `manager` (argument dict)\n",
    "- **Flexible checking**: Separate handlers for results and exceptions\n",
    "- **Safety limits**: `max_errors` prevents infinite loops\n",
    "- **Debugging support**: `verbose=True` shows all retry attempts\n",
    "\n",
    "### When to Use:\n",
    "- Numerical algorithms that need parameter tuning\n",
    "- API calls that may need retry with different parameters\n",
    "- Data processing with fallback strategies\n",
    "- Any function where errors can be fixed algorithmically\n",
    "\n",
    "### Best Practices:\n",
    "1. Always set `max_errors` to prevent infinite loops\n",
    "2. Use `verbose=True` during development\n",
    "3. Make checkers return `None` when no fix is needed\n",
    "4. Keep checker logic simple and focused\n",
    "5. Use `manager` pattern for new code (cleaner API)"
   ]
  }
 ],
 "metadata": {
  "kernelspec": {
   "display_name": "Python 3 (ipykernel)",
   "language": "python",
   "name": "python3"
  },
  "language_info": {
   "codemirror_mode": {
    "name": "ipython",
    "version": 3
   },
   "file_extension": ".py",
   "mimetype": "text/x-python",
   "name": "python",
   "nbconvert_exporter": "python",
   "pygments_lexer": "ipython3",
   "version": "3.12.11"
  }
 },
 "nbformat": 4,
 "nbformat_minor": 4
}

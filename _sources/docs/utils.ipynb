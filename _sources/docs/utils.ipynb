{
 "cells": [
  {
   "cell_type": "markdown",
   "id": "2ad4014a-0623-44f3-add5-935906c182e5",
   "metadata": {},
   "source": [
    "pycse.utils\n",
    "===========\n",
    "\n",
    "These are some convenience utilities.\n",
    "\n",
    "# Float comparisons\n",
    "\n",
    "[Floating point math](https://0.30000000000000004.com/) is hard."
   ]
  },
  {
   "cell_type": "code",
   "execution_count": 1,
   "id": "3fa54541-7d84-4d1c-8c0b-e77f8b6e2b66",
   "metadata": {},
   "outputs": [
    {
     "data": {
      "text/plain": [
       "False"
      ]
     },
     "execution_count": 1,
     "metadata": {},
     "output_type": "execute_result"
    }
   ],
   "source": [
    "0.3 == 0.1 + 0.2"
   ]
  },
  {
   "cell_type": "markdown",
   "id": "594cd67c-db22-4b42-9db3-5c290444114d",
   "metadata": {},
   "source": [
    "pycse.utils provides several floating point comparison operators:\n",
    "\n",
    "- feq  a == b\n",
    "- flt  a < b\n",
    "- fgt  a > b\n",
    "- fle  a <= b\n",
    "- fge  a >= b"
   ]
  },
  {
   "cell_type": "code",
   "execution_count": 2,
   "id": "afe75de4-23b9-4f92-bdc9-c6cecadb725d",
   "metadata": {},
   "outputs": [
    {
     "data": {
      "text/plain": [
       "True"
      ]
     },
     "execution_count": 2,
     "metadata": {},
     "output_type": "execute_result"
    }
   ],
   "source": [
    "from pycse.utils import feq\n",
    "\n",
    "feq(0.3, 0.1 + 0.2)"
   ]
  },
  {
   "cell_type": "markdown",
   "id": "8593f8ba-066b-494f-b640-2dae11dab7c7",
   "metadata": {},
   "source": [
    "# Temporarily ignore errors\n",
    "\n",
    "This context manager wraps code in a try/except/finally clause so you can ignore some errors."
   ]
  },
  {
   "cell_type": "code",
   "execution_count": 3,
   "id": "3a934b12-ba76-4062-9726-9fc214f1f62b",
   "metadata": {
    "tags": [
     "raises-exception"
    ]
   },
   "outputs": [
    {
     "ename": "ZeroDivisionError",
     "evalue": "division by zero",
     "output_type": "error",
     "traceback": [
      "\u001b[0;31m---------------------------------------------------------------------------\u001b[0m",
      "\u001b[0;31mZeroDivisionError\u001b[0m                         Traceback (most recent call last)",
      "Cell \u001b[0;32mIn[3], line 1\u001b[0m\n\u001b[0;32m----> 1\u001b[0m \u001b[38;5;241;43m1\u001b[39;49m\u001b[43m \u001b[49m\u001b[38;5;241;43m/\u001b[39;49m\u001b[43m \u001b[49m\u001b[38;5;241;43m0\u001b[39;49m\n",
      "\u001b[0;31mZeroDivisionError\u001b[0m: division by zero"
     ]
    }
   ],
   "source": [
    "1 / 0"
   ]
  },
  {
   "cell_type": "code",
   "execution_count": 6,
   "id": "bd6a1f4c-4d8c-4c33-9967-6e6ffce261d9",
   "metadata": {},
   "outputs": [
    {
     "name": "stdout",
     "output_type": "stream",
     "text": [
      "caught division by zero\n",
      "done\n"
     ]
    }
   ],
   "source": [
    "from pycse.utils import ignore_exception\n",
    "\n",
    "with ignore_exception(ZeroDivisionError):\n",
    "    1 / 0"
   ]
  },
  {
   "cell_type": "markdown",
   "id": "a64198cd-1ea8-4ffa-8943-18cf99705631",
   "metadata": {},
   "source": [
    "# Read a Google Sheet into a pandas Dataframe\n",
    "\n",
    "You can use a url to a Google Sheet that is publicly visible to read it into a pandas Dataframe."
   ]
  },
  {
   "cell_type": "code",
   "execution_count": 8,
   "id": "0eecfb05-efff-408d-bc51-e424738eb7ac",
   "metadata": {},
   "outputs": [
    {
     "data": {
      "text/html": [
       "<div>\n",
       "<style scoped>\n",
       "    .dataframe tbody tr th:only-of-type {\n",
       "        vertical-align: middle;\n",
       "    }\n",
       "\n",
       "    .dataframe tbody tr th {\n",
       "        vertical-align: top;\n",
       "    }\n",
       "\n",
       "    .dataframe thead th {\n",
       "        text-align: right;\n",
       "    }\n",
       "</style>\n",
       "<table border=\"1\" class=\"dataframe\">\n",
       "  <thead>\n",
       "    <tr style=\"text-align: right;\">\n",
       "      <th></th>\n",
       "      <th>x</th>\n",
       "      <th>y</th>\n",
       "    </tr>\n",
       "  </thead>\n",
       "  <tbody>\n",
       "    <tr>\n",
       "      <th>0</th>\n",
       "      <td>1</td>\n",
       "      <td>2</td>\n",
       "    </tr>\n",
       "    <tr>\n",
       "      <th>1</th>\n",
       "      <td>2</td>\n",
       "      <td>4</td>\n",
       "    </tr>\n",
       "    <tr>\n",
       "      <th>2</th>\n",
       "      <td>3</td>\n",
       "      <td>6</td>\n",
       "    </tr>\n",
       "  </tbody>\n",
       "</table>\n",
       "</div>"
      ],
      "text/plain": [
       "   x  y\n",
       "0  1  2\n",
       "1  2  4\n",
       "2  3  6"
      ]
     },
     "execution_count": 8,
     "metadata": {},
     "output_type": "execute_result"
    }
   ],
   "source": [
    "from pycse.utils import read_gsheet\n",
    "\n",
    "read_gsheet(\"https://docs.google.com/spreadsheets/d/1Qh4H5lHw_HOScAZqvII1VRPwCpPEJTHwkbo3a323azg/\")"
   ]
  },
  {
   "cell_type": "code",
   "execution_count": null,
   "id": "c6b4d8c0-0f88-4f8c-904e-5c4d36a02011",
   "metadata": {},
   "outputs": [],
   "source": []
  }
 ],
 "metadata": {
  "kernelspec": {
   "display_name": "Python 3 (ipykernel)",
   "language": "python",
   "name": "python3"
  },
  "language_info": {
   "codemirror_mode": {
    "name": "ipython",
    "version": 3
   },
   "file_extension": ".py",
   "mimetype": "text/x-python",
   "name": "python",
   "nbconvert_exporter": "python",
   "pygments_lexer": "ipython3",
   "version": "3.10.11"
  }
 },
 "nbformat": 4,
 "nbformat_minor": 5
}

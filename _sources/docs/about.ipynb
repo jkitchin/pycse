{
 "cells": [
  {
   "cell_type": "markdown",
   "id": "210e3b7d-fd10-4aa5-b67e-f1bcbc4cb9c8",
   "metadata": {},
   "source": [
    "About pycse\n",
    "===========\n",
    "\n",
    "This notebook documents the Python setup used to build this book. "
   ]
  },
  {
   "cell_type": "code",
   "execution_count": 1,
   "id": "19e98f2c-f9a3-42f0-a71e-5dfe8fa95626",
   "metadata": {},
   "outputs": [
    {
     "name": "stdout",
     "output_type": "stream",
     "text": [
      "uname_result(system='Darwin', node='Johns-iMac-4.local', release='22.5.0', version='Darwin Kernel Version 22.5.0: Mon Apr 24 20:51:50 PDT 2023; root:xnu-8796.121.2~5/RELEASE_X86_64', machine='x86_64')\n",
      "Darwin\n",
      "('64bit', '')\n",
      "x86_64\n",
      "Johns-iMac-4.local\n",
      "macOS-13.4-x86_64-i386-64bit\n",
      "i386\n",
      "('main', 'May 10 2023 19:07:22')\n",
      "3.10.11\n"
     ]
    }
   ],
   "source": [
    "import platform\n",
    "\n",
    "print(platform.uname())\n",
    "print(platform.system())\n",
    "print(platform.architecture())\n",
    "print(platform.machine())\n",
    "print(platform.node())\n",
    "print(platform.platform())\n",
    "print(platform.processor())\n",
    "print(platform.python_build())\n",
    "print(platform.python_version())"
   ]
  },
  {
   "cell_type": "markdown",
   "id": "c3a644d2-a135-498d-901b-a696c469335d",
   "metadata": {},
   "source": [
    "# About the Python packages"
   ]
  },
  {
   "cell_type": "code",
   "execution_count": 2,
   "id": "07fe4a84-9a45-43cf-b698-3ee36c8639e1",
   "metadata": {},
   "outputs": [
    {
     "name": "stdout",
     "output_type": "stream",
     "text": [
      "Python: 3.10.11 | packaged by conda-forge | (main, May 10 2023, 19:07:22) [Clang 14.0.6 ]\n",
      "numpy: 1.23.5\n",
      "scipy: 1.10.0\n",
      "matplotlib: 3.7.0\n"
     ]
    }
   ],
   "source": [
    "import sys\n",
    "import numpy\n",
    "import scipy\n",
    "import matplotlib\n",
    "\n",
    "print(f\"\"\"Python: {sys.version}\n",
    "numpy: {numpy.version.version}\n",
    "scipy: {scipy.version.version}\n",
    "matplotlib: {matplotlib.__version__}\"\"\")"
   ]
  },
  {
   "cell_type": "code",
   "execution_count": 4,
   "id": "f41bc888-717a-4e9b-a401-070d6773a575",
   "metadata": {},
   "outputs": [
    {
     "data": {
      "text/plain": [
       "'2.1.9'"
      ]
     },
     "execution_count": 4,
     "metadata": {},
     "output_type": "execute_result"
    }
   ],
   "source": [
    "import pycse\n",
    "\n",
    "pycse.__version__"
   ]
  },
  {
   "cell_type": "code",
   "execution_count": 6,
   "id": "c9968f88-97b3-4830-a367-5816efea9f02",
   "metadata": {},
   "outputs": [
    {
     "data": {
      "text/plain": [
       "'3.1.7'"
      ]
     },
     "execution_count": 6,
     "metadata": {},
     "output_type": "execute_result"
    }
   ],
   "source": [
    "import uncertainties\n",
    "\n",
    "uncertainties.__version__"
   ]
  },
  {
   "cell_type": "code",
   "execution_count": 8,
   "id": "b0b5cbf3-0f11-49ca-8b34-94e742ef1992",
   "metadata": {},
   "outputs": [
    {
     "data": {
      "text/plain": [
       "'0.9.41'"
      ]
     },
     "execution_count": 8,
     "metadata": {},
     "output_type": "execute_result"
    }
   ],
   "source": [
    "import numdifftools\n",
    "\n",
    "numdifftools.__version__"
   ]
  },
  {
   "cell_type": "code",
   "execution_count": 9,
   "id": "7b678be7-3e95-4208-b2fa-921ec76034dc",
   "metadata": {},
   "outputs": [
    {
     "data": {
      "text/plain": [
       "'1.5.3'"
      ]
     },
     "execution_count": 9,
     "metadata": {},
     "output_type": "execute_result"
    }
   ],
   "source": [
    "import pandas\n",
    "\n",
    "pandas.__version__"
   ]
  },
  {
   "cell_type": "code",
   "execution_count": 10,
   "id": "86330390-3aad-4f4a-8142-c1eea24048fb",
   "metadata": {},
   "outputs": [
    {
     "data": {
      "text/plain": [
       "'1.11.1'"
      ]
     },
     "execution_count": 10,
     "metadata": {},
     "output_type": "execute_result"
    }
   ],
   "source": [
    "import sympy\n",
    "\n",
    "sympy.__version__"
   ]
  }
 ],
 "metadata": {
  "kernelspec": {
   "display_name": "Python 3 (ipykernel)",
   "language": "python",
   "name": "python3"
  },
  "language_info": {
   "codemirror_mode": {
    "name": "ipython",
    "version": 3
   },
   "file_extension": ".py",
   "mimetype": "text/x-python",
   "name": "python",
   "nbconvert_exporter": "python",
   "pygments_lexer": "ipython3",
   "version": "3.10.11"
  }
 },
 "nbformat": 4,
 "nbformat_minor": 5
}

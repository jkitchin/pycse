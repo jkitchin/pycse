{
 "cells": [
  {
   "cell_type": "markdown",
   "id": "e3db59f9-d81a-4eef-8254-c12d6fd17fab",
   "metadata": {},
   "source": [
    "pycse - Beginner mode\n",
    "=====================\n",
    "\n",
    "There are some concepts in Python that are tricky for beginners. pycse.beginner is a somewhat experimental package to eliminate some of these issues. I don't actually use it a lot, and I am not sure it is better than taking time to learn it another way. It exists in pycse though, so I document it here."
   ]
  },
  {
   "cell_type": "code",
   "execution_count": 1,
   "id": "60173a93-e49f-4365-a19d-aa2f50dfb61a",
   "metadata": {},
   "outputs": [],
   "source": [
    "from pycse.beginner import *"
   ]
  },
  {
   "cell_type": "markdown",
   "id": "98ed0863-dafe-4bc6-b172-1e53e6fb2748",
   "metadata": {},
   "source": [
    "# Avoiding indexing in lists\n",
    "\n",
    "Indexing can be tricky at first. There is syntax you have to learn, and you have to get comfortably with the idea that indexing starts at 0 in Python.\n",
    "\n",
    "This is not critical though, and there are functional approaches in pycse to avoid this and to use more natural names."
   ]
  },
  {
   "cell_type": "code",
   "execution_count": 2,
   "id": "61add788-01b1-474e-bc36-baf276c6bd07",
   "metadata": {},
   "outputs": [],
   "source": [
    "a = [1, 2, 3, 4, 5, 6, 7, 8, 9]"
   ]
  },
  {
   "cell_type": "markdown",
   "id": "88e60ddd-a6d7-4c9f-9cca-72e354538e26",
   "metadata": {},
   "source": [
    "pycse.beginner defines functions for getting the first through fifth elements by name, and getting the nth element."
   ]
  },
  {
   "cell_type": "code",
   "execution_count": 3,
   "id": "e66c1ca8-55f6-46e7-bd6f-d7467ac5d6c0",
   "metadata": {},
   "outputs": [
    {
     "data": {
      "text/plain": [
       "1"
      ]
     },
     "execution_count": 3,
     "metadata": {},
     "output_type": "execute_result"
    }
   ],
   "source": [
    "first(a)"
   ]
  },
  {
   "cell_type": "code",
   "execution_count": 4,
   "id": "0f92671e-6a2d-41ae-af4e-6ef4c479842f",
   "metadata": {},
   "outputs": [
    {
     "data": {
      "text/plain": [
       "2"
      ]
     },
     "execution_count": 4,
     "metadata": {},
     "output_type": "execute_result"
    }
   ],
   "source": [
    "second(a)"
   ]
  },
  {
   "cell_type": "code",
   "execution_count": 5,
   "id": "b7d727d4-5f82-4e06-863f-a81e0b86cee2",
   "metadata": {},
   "outputs": [
    {
     "data": {
      "text/plain": [
       "3"
      ]
     },
     "execution_count": 5,
     "metadata": {},
     "output_type": "execute_result"
    }
   ],
   "source": [
    "third(a)"
   ]
  },
  {
   "cell_type": "code",
   "execution_count": 6,
   "id": "18e294f0-2e9e-43de-a970-d4a01808942a",
   "metadata": {},
   "outputs": [
    {
     "data": {
      "text/plain": [
       "4"
      ]
     },
     "execution_count": 6,
     "metadata": {},
     "output_type": "execute_result"
    }
   ],
   "source": [
    "fourth(a)"
   ]
  },
  {
   "cell_type": "code",
   "execution_count": 7,
   "id": "87a5de7e-40c3-47ef-ab3b-e3c27938318f",
   "metadata": {},
   "outputs": [
    {
     "data": {
      "text/plain": [
       "5"
      ]
     },
     "execution_count": 7,
     "metadata": {},
     "output_type": "execute_result"
    }
   ],
   "source": [
    "fifth(a)"
   ]
  },
  {
   "cell_type": "markdown",
   "id": "99c7ea9e-4f01-4950-8bc3-98e8b5fde1a9",
   "metadata": {},
   "source": [
    "You can get the \"nth\" item, with the caveat that n starts at 0."
   ]
  },
  {
   "cell_type": "code",
   "execution_count": 9,
   "id": "11d4a359-0939-4be7-a655-4dcb1256db59",
   "metadata": {},
   "outputs": [
    {
     "data": {
      "text/plain": [
       "9"
      ]
     },
     "execution_count": 9,
     "metadata": {},
     "output_type": "execute_result"
    }
   ],
   "source": [
    "nth(a, 8)"
   ]
  },
  {
   "cell_type": "markdown",
   "id": "77926102-d0ce-48d0-9f11-dab87ebfcb40",
   "metadata": {},
   "source": [
    "# functional approach to slicing\n",
    "\n",
    "You often want to \"cut\" a list, e.g. to get the list from some start position to stop position, optionally skipping items. Here we get the items from index=5 on. Remember that index=5 actually is the 6th position."
   ]
  },
  {
   "cell_type": "code",
   "execution_count": 10,
   "id": "8659cb1c-a63e-4fd2-ba38-21b893227cfb",
   "metadata": {},
   "outputs": [
    {
     "data": {
      "text/plain": [
       "[6, 7, 8, 9]"
      ]
     },
     "execution_count": 10,
     "metadata": {},
     "output_type": "execute_result"
    }
   ],
   "source": [
    "cut(a, 5)"
   ]
  },
  {
   "cell_type": "code",
   "execution_count": 12,
   "id": "5833bb6e-d184-44a6-976a-5ddb49a444cc",
   "metadata": {},
   "outputs": [
    {
     "data": {
      "text/plain": [
       "[6, 7]"
      ]
     },
     "execution_count": 12,
     "metadata": {},
     "output_type": "execute_result"
    }
   ],
   "source": [
    "# get index 5..7\n",
    "# as with Python, the stop position is not inclusive. It means up to but not including the stop.\n",
    "cut(a, start=5, stop=7)"
   ]
  },
  {
   "cell_type": "code",
   "execution_count": 14,
   "id": "aa350d33-12d7-4f86-b88f-28ebb5962964",
   "metadata": {},
   "outputs": [
    {
     "data": {
      "text/plain": [
       "[1, 3, 5, 7, 9]"
      ]
     },
     "execution_count": 14,
     "metadata": {},
     "output_type": "execute_result"
    }
   ],
   "source": [
    "# get every other element starting at index=0\n",
    "cut(a, step=2)"
   ]
  },
  {
   "cell_type": "markdown",
   "id": "e2869821-36e1-4241-b6b1-126eeac17a0d",
   "metadata": {},
   "source": [
    "# Other pieces of a list\n",
    "\n",
    "These functions are inspired by similar functions in the programming language lisp."
   ]
  },
  {
   "cell_type": "code",
   "execution_count": 15,
   "id": "3da9b503-82a2-43bc-b03d-38594f6b2910",
   "metadata": {},
   "outputs": [
    {
     "data": {
      "text/plain": [
       "9"
      ]
     },
     "execution_count": 15,
     "metadata": {},
     "output_type": "execute_result"
    }
   ],
   "source": [
    "last(a)"
   ]
  },
  {
   "cell_type": "code",
   "execution_count": 16,
   "id": "89753ac6-e69b-47b7-8c2f-764de1465957",
   "metadata": {},
   "outputs": [
    {
     "data": {
      "text/plain": [
       "[2, 3, 4, 5, 6, 7, 8, 9]"
      ]
     },
     "execution_count": 16,
     "metadata": {},
     "output_type": "execute_result"
    }
   ],
   "source": [
    "# everything past the first element\n",
    "rest(a)"
   ]
  },
  {
   "cell_type": "code",
   "execution_count": 18,
   "id": "33cac3aa-e40a-4a51-af03-7e0cb14b81e6",
   "metadata": {},
   "outputs": [
    {
     "data": {
      "text/plain": [
       "[1, 2, 3, 4, 5, 6, 7, 8]"
      ]
     },
     "execution_count": 18,
     "metadata": {},
     "output_type": "execute_result"
    }
   ],
   "source": [
    "# everything but the last element\n",
    "butlast(a)"
   ]
  },
  {
   "cell_type": "markdown",
   "id": "e417a043-39c2-4d46-9049-3df5675cbd27",
   "metadata": {},
   "source": [
    "# More user-friendly functions\n",
    "\n",
    "Many numerical methods are not very user-friendly for new programmers. These functions provide (in my opinion) nicer user-interfaces."
   ]
  },
  {
   "cell_type": "markdown",
   "id": "3c9ccbd8-e82a-4ea2-b125-9fd2b6576b69",
   "metadata": {},
   "source": [
    "## A better fsolve\n",
    "\n",
    "Let us solve $x^2 = -2.5$. This does not have a real answer. To solve this we have to create a function that will be zero, and use fsolve."
   ]
  },
  {
   "cell_type": "code",
   "execution_count": 25,
   "id": "0a23de60-47cf-4261-98ee-116bc60bf4a0",
   "metadata": {},
   "outputs": [],
   "source": [
    "def f(x):\n",
    "    return x**2 + 2.5"
   ]
  },
  {
   "cell_type": "markdown",
   "id": "6b424671-6c78-4595-b194-2f21032e40fb",
   "metadata": {},
   "source": [
    "fsolve simply gives you a warning, and an answer that does not work."
   ]
  },
  {
   "cell_type": "code",
   "execution_count": 26,
   "id": "ca9cefff-a651-4c61-908c-60a4d8488b44",
   "metadata": {},
   "outputs": [
    {
     "data": {
      "text/plain": [
       "array([-0.00090143])"
      ]
     },
     "execution_count": 26,
     "metadata": {},
     "output_type": "execute_result"
    }
   ],
   "source": [
    "from scipy.optimize import fsolve\n",
    "\n",
    "fsolve(f, 2.5)"
   ]
  },
  {
   "cell_type": "markdown",
   "id": "d46fba97-9083-480a-b881-21a9d543c9f7",
   "metadata": {
    "tags": [
     "raises-exception"
    ]
   },
   "source": [
    "nsolve actually raises an exception so you know it did not solve correctly."
   ]
  },
  {
   "cell_type": "code",
   "execution_count": 27,
   "id": "a9c8073a-8493-4f6d-9576-50e579c13ee2",
   "metadata": {
    "tags": [
     "raises-exception"
    ]
   },
   "outputs": [
    {
     "ename": "Exception",
     "evalue": "nsolve did not finish cleanly: The iteration is not making good progress, as measured by the \n  improvement from the last ten iterations.",
     "output_type": "error",
     "traceback": [
      "\u001b[0;31m---------------------------------------------------------------------------\u001b[0m",
      "\u001b[0;31mException\u001b[0m                                 Traceback (most recent call last)",
      "Cell \u001b[0;32mIn[27], line 1\u001b[0m\n\u001b[0;32m----> 1\u001b[0m \u001b[43mnsolve\u001b[49m\u001b[43m(\u001b[49m\u001b[43mf\u001b[49m\u001b[43m,\u001b[49m\u001b[43m \u001b[49m\u001b[43mnp\u001b[49m\u001b[38;5;241;43m.\u001b[39;49m\u001b[43msqrt\u001b[49m\u001b[43m(\u001b[49m\u001b[38;5;241;43m2.5\u001b[39;49m\u001b[43m)\u001b[49m\u001b[43m)\u001b[49m\n",
      "File \u001b[0;32m~/Dropbox/python/pycse/pycse/beginner.py:147\u001b[0m, in \u001b[0;36mnsolve\u001b[0;34m(objective, x0, *args, **kwargs)\u001b[0m\n\u001b[1;32m    143\u001b[0m     kwargs[\u001b[38;5;124m\"\u001b[39m\u001b[38;5;124mfull_output\u001b[39m\u001b[38;5;124m\"\u001b[39m] \u001b[38;5;241m=\u001b[39m \u001b[38;5;241m1\u001b[39m\n\u001b[1;32m    145\u001b[0m ans, _, flag, msg \u001b[38;5;241m=\u001b[39m _fsolve(objective, x0, \u001b[38;5;241m*\u001b[39margs, \u001b[38;5;241m*\u001b[39m\u001b[38;5;241m*\u001b[39mkwargs)\n\u001b[0;32m--> 147\u001b[0m \u001b[38;5;28;01mif\u001b[39;00m flag \u001b[38;5;241m!=\u001b[39m \u001b[38;5;241m1\u001b[39m:\n\u001b[1;32m    148\u001b[0m     \u001b[38;5;28;01mraise\u001b[39;00m \u001b[38;5;167;01mException\u001b[39;00m(\u001b[38;5;124m\"\u001b[39m\u001b[38;5;124mnsolve did not finish cleanly: \u001b[39m\u001b[38;5;132;01m{}\u001b[39;00m\u001b[38;5;124m\"\u001b[39m\u001b[38;5;241m.\u001b[39mformat(msg))\n\u001b[1;32m    150\u001b[0m \u001b[38;5;28;01mif\u001b[39;00m \u001b[38;5;28mlen\u001b[39m(ans) \u001b[38;5;241m==\u001b[39m \u001b[38;5;241m1\u001b[39m:\n",
      "\u001b[0;31mException\u001b[0m: nsolve did not finish cleanly: The iteration is not making good progress, as measured by the \n  improvement from the last ten iterations."
     ]
    }
   ],
   "source": [
    "nsolve(f, np.sqrt(2.5))"
   ]
  },
  {
   "cell_type": "markdown",
   "id": "9f2c0fa9-dee2-4323-9a22-5c8d214baafc",
   "metadata": {},
   "source": [
    "# Simpler integration\n",
    "\n",
    "The quad function in scipy returns both the integral of a function and an estimated error. When you start out, this is more complex than preferred, so we change the behavior to only compute the integral, and to raise an exception if the result is not sufficiently accurate.\n",
    "\n",
    "Here we evaluate $\\int_0^1 x^2 dx$."
   ]
  },
  {
   "cell_type": "code",
   "execution_count": 28,
   "id": "efeeb026-122a-4712-ad45-32f6960a8222",
   "metadata": {},
   "outputs": [
    {
     "data": {
      "text/plain": [
       "0.33333333333333337"
      ]
     },
     "execution_count": 28,
     "metadata": {},
     "output_type": "execute_result"
    }
   ],
   "source": [
    "def f(x):\n",
    "    return x**2\n",
    "\n",
    "\n",
    "integrate(f, 0, 1)"
   ]
  }
 ],
 "metadata": {
  "kernelspec": {
   "display_name": "Python 3 (ipykernel)",
   "language": "python",
   "name": "python3"
  },
  "language_info": {
   "codemirror_mode": {
    "name": "ipython",
    "version": 3
   },
   "file_extension": ".py",
   "mimetype": "text/x-python",
   "name": "python",
   "nbconvert_exporter": "python",
   "pygments_lexer": "ipython3",
   "version": "3.10.11"
  }
 },
 "nbformat": 4,
 "nbformat_minor": 5
}

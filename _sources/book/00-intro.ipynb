{
 "cells": [
  {
   "cell_type": "markdown",
   "id": "d4242076",
   "metadata": {},
   "source": [
    "# Introduction to Python and Jupyter\n",
    "- KEYWORDS: introduction\n"
   ]
  },
  {
   "cell_type": "markdown",
   "id": "f93b64d4",
   "metadata": {},
   "source": [
    "## Python\n",
    "\n"
   ]
  },
  {
   "cell_type": "markdown",
   "id": "9cbc0f61",
   "metadata": {},
   "source": [
    "I will use Python exclusively in class, every day. Python is free, and better than anything else for what we will do in this class. I have used it in research for more than a decade, and it is one of the most popular programming languages around today.\n",
    "\n",
    "I assume most of you have not used Python before. We will start small, and continuously build up skills in using it. You will see it a lot, and you should practice using it. It is an opportunity to learn something new!\n",
    "\n",
    "For a lot of examples of using Python for scientific computing, see [http://kitchingroup.cheme.cmu.edu/pycse/](http://kitchingroup.cheme.cmu.edu/pycse/).\n",
    "\n"
   ]
  },
  {
   "cell_type": "markdown",
   "id": "0362e533",
   "metadata": {},
   "source": [
    "## Jupyter notebook introduction\n",
    "\n"
   ]
  },
  {
   "cell_type": "markdown",
   "id": "801273e2",
   "metadata": {},
   "source": [
    "Jupyter notebooks are an interactive, browser-based tool for running Python. We will use them exclusively in this class. We will quickly build up the skills required to solve engineering problems. We will not learn everything about programming, mathematical modeling or engineering processes. My goal is to get you thinking about a very general computational way of thinking about these problems, and to learn how to use computation as a way to augment your analytical skills.\n",
    "\n",
    "I will lecture from the notebooks, and show you how I use them. The notes will be available to you during class for you to work along with me.\n",
    "\n"
   ]
  },
  {
   "cell_type": "code",
   "execution_count": 1,
   "id": "800c3d63",
   "metadata": {},
   "outputs": [
    {
     "name": "stdout",
     "output_type": "stream",
     "text": [
      "Hello World! Welcome to the pycse course!\n"
     ]
    }
   ],
   "source": [
    "print(\"Hello World! Welcome to the pycse course!\")\n",
    "# Type C-Enter to run this cell\n",
    "# Type shift-Enter to run this cell and got to the next one or create a new one."
   ]
  },
  {
   "cell_type": "markdown",
   "id": "709e8fa7",
   "metadata": {},
   "source": [
    "What is the value of $a$ that satisfies the equation $a + 4 = 5$?\n",
    "\n",
    "We can document our solution here, e.g. we find $x$ by algebra. If we subtract 4 from each side of the equation, $a$ will be isolated, and equal to the value of the right hand side of the equation.\n",
    "\n",
    "<div class=\"alert alert-warning\">\n",
    "You can double-click on any text block to see what the Markdown is that generates it. Type C-Enter to re-render the cell.\n",
    "</div>\n",
    "\n",
    "You can add text if you want, and re-execute the cell with C-enter\n",
    "\n",
    "Here is the code that implements that explanation:\n",
    "\n"
   ]
  },
  {
   "cell_type": "code",
   "execution_count": 2,
   "id": "1b717cb4",
   "metadata": {},
   "outputs": [
    {
     "name": "stdout",
     "output_type": "stream",
     "text": [
      "The solution is 1\n"
     ]
    }
   ],
   "source": [
    "a = 5 - 4\n",
    "print(f\"The solution is {a}\")"
   ]
  },
  {
   "cell_type": "markdown",
   "id": "fd18693c",
   "metadata": {},
   "source": [
    "### numpy\n",
    "\n"
   ]
  },
  {
   "cell_type": "markdown",
   "id": "8a3b7c7a",
   "metadata": {},
   "source": [
    "[numpy](http://www.numpy.org) is a Python library for arrays. We have to import this library to access the functionality in it. The conventional way to import this library is:\n",
    "\n",
    "<div class=\"alert alert-warning\">\n",
    "Remember this cell. You will use it almost every time.\n",
    "</div>\n",
    "\n"
   ]
  },
  {
   "cell_type": "code",
   "execution_count": 3,
   "id": "ac4e88d3",
   "metadata": {},
   "outputs": [],
   "source": [
    "import numpy as np"
   ]
  },
  {
   "cell_type": "markdown",
   "id": "ad50e81b",
   "metadata": {
    "lines_to_next_cell": 2
   },
   "source": [
    "To see help on the numpy library, run this cell:\n",
    "\n"
   ]
  },
  {
   "cell_type": "markdown",
   "id": "d186a405",
   "metadata": {
    "lines_to_next_cell": 2
   },
   "source": [
    "Now, we can access functions in the numpy module using \"dot notation\". For example, let us start by creating an array of linearly spaced points using the linspace function. \n",
    "\n"
   ]
  },
  {
   "cell_type": "markdown",
   "id": "1b830d59",
   "metadata": {},
   "source": [
    "<div class=\"alert alert-warning\">\n",
    "np.pi is a constant for the number $\\pi$\n",
    "</div>\n",
    "\n"
   ]
  },
  {
   "cell_type": "code",
   "execution_count": 4,
   "id": "3adcb4c4",
   "metadata": {},
   "outputs": [
    {
     "data": {
      "text/plain": [
       "array([0.        , 0.16110732, 0.32221463, 0.48332195, 0.64442926,\n",
       "       0.80553658, 0.96664389, 1.12775121, 1.28885852, 1.44996584,\n",
       "       1.61107316, 1.77218047, 1.93328779, 2.0943951 , 2.25550242,\n",
       "       2.41660973, 2.57771705, 2.73882436, 2.89993168, 3.061039  ,\n",
       "       3.22214631, 3.38325363, 3.54436094, 3.70546826, 3.86657557,\n",
       "       4.02768289, 4.1887902 , 4.34989752, 4.51100484, 4.67211215,\n",
       "       4.83321947, 4.99432678, 5.1554341 , 5.31654141, 5.47764873,\n",
       "       5.63875604, 5.79986336, 5.96097068, 6.12207799, 6.28318531])"
      ]
     },
     "execution_count": 4,
     "metadata": {},
     "output_type": "execute_result"
    }
   ],
   "source": [
    "x = np.linspace(0, 2 * np.pi, 40)\n",
    "x"
   ]
  },
  {
   "cell_type": "markdown",
   "id": "70608b32",
   "metadata": {},
   "source": [
    "Most mathematical operations are element-wise on arrays.\n",
    "\n"
   ]
  },
  {
   "cell_type": "code",
   "execution_count": 5,
   "id": "4a37987e",
   "metadata": {},
   "outputs": [
    {
     "data": {
      "text/plain": [
       "array([0.00000000e+00, 2.59555671e-02, 1.03822269e-01, 2.33600104e-01,\n",
       "       4.15289074e-01, 6.48889178e-01, 9.34400417e-01, 1.27182279e+00,\n",
       "       1.66115630e+00, 2.10240094e+00, 2.59555671e+00, 3.14062362e+00,\n",
       "       3.73760167e+00, 4.38649084e+00, 5.08729116e+00, 5.84000260e+00,\n",
       "       6.64462519e+00, 7.50115890e+00, 8.40960375e+00, 9.36995973e+00,\n",
       "       1.03822269e+01, 1.14464051e+01, 1.25624945e+01, 1.37304950e+01,\n",
       "       1.49504067e+01, 1.62222295e+01, 1.75459634e+01, 1.89216084e+01,\n",
       "       2.03491646e+01, 2.18286320e+01, 2.33600104e+01, 2.49433000e+01,\n",
       "       2.65785007e+01, 2.82656126e+01, 3.00046356e+01, 3.17955697e+01,\n",
       "       3.36384150e+01, 3.55331714e+01, 3.74798389e+01, 3.94784176e+01])"
      ]
     },
     "execution_count": 5,
     "metadata": {},
     "output_type": "execute_result"
    }
   ],
   "source": [
    "x * x"
   ]
  },
  {
   "cell_type": "markdown",
   "id": "935205b1",
   "metadata": {},
   "source": [
    "We can define new variables\n",
    "\n"
   ]
  },
  {
   "cell_type": "code",
   "execution_count": 6,
   "id": "41792e0a",
   "metadata": {},
   "outputs": [
    {
     "data": {
      "text/plain": [
       "(40,)"
      ]
     },
     "execution_count": 6,
     "metadata": {},
     "output_type": "execute_result"
    }
   ],
   "source": [
    "y1 = np.sin(x)\n",
    "y2 = np.cos(x)\n",
    "y2.shape"
   ]
  },
  {
   "cell_type": "code",
   "execution_count": 7,
   "id": "fa30508c",
   "metadata": {},
   "outputs": [
    {
     "name": "stdout",
     "output_type": "stream",
     "text": [
      "[0, 1, 2]\n",
      "[0 1 2]\n"
     ]
    }
   ],
   "source": [
    "a = [0, 1, 2]\n",
    "print(a)\n",
    "print(np.array([0, 1, 2]))"
   ]
  },
  {
   "cell_type": "code",
   "execution_count": 8,
   "id": "e249d5d6",
   "metadata": {},
   "outputs": [
    {
     "data": {
      "text/plain": [
       "array([2, 3, 4])"
      ]
     },
     "execution_count": 8,
     "metadata": {},
     "output_type": "execute_result"
    }
   ],
   "source": [
    "2 * a\n",
    "2 + np.array(a)"
   ]
  },
  {
   "cell_type": "code",
   "execution_count": 9,
   "id": "a74afd1f",
   "metadata": {},
   "outputs": [
    {
     "data": {
      "text/plain": [
       "(array([0.        , 0.84147098, 0.90929743]),\n",
       " array([0.        , 0.84147098, 0.90929743]))"
      ]
     },
     "execution_count": 9,
     "metadata": {},
     "output_type": "execute_result"
    }
   ],
   "source": [
    "np.sin([0, 1, 2]), np.sin(a)"
   ]
  },
  {
   "cell_type": "markdown",
   "id": "1bd7aca8",
   "metadata": {},
   "source": [
    "### plotting\n",
    "\n"
   ]
  },
  {
   "cell_type": "markdown",
   "id": "6efdd917",
   "metadata": {},
   "source": [
    "We can make plots using [matplotlib](https://matplotlib.org). First we need this line. This line imports the plotting library. \n",
    "\n",
    "<div class=\"alert alert-warning\">\n",
    "Remember this cell. You will use it almost every time you make a plot.\n",
    "</div>\n",
    "\n"
   ]
  },
  {
   "cell_type": "code",
   "execution_count": 10,
   "id": "5bc20f9a",
   "metadata": {
    "lines_to_next_cell": 2
   },
   "outputs": [],
   "source": [
    "import matplotlib.pyplot as plt"
   ]
  },
  {
   "cell_type": "markdown",
   "id": "e14b92ec",
   "metadata": {},
   "source": [
    "You call functions in the plt library to create plots. These are automatically saved in the notebook.\n",
    "\n"
   ]
  },
  {
   "cell_type": "code",
   "execution_count": 11,
   "id": "8d686e0a",
   "metadata": {},
   "outputs": [
    {
     "data": {
      "image/png": "[encoded data removed]",
      "text/plain": [
       "<Figure size 640x480 with 1 Axes>"
      ]
     },
     "metadata": {},
     "output_type": "display_data"
    }
   ],
   "source": [
    "plt.plot(y1, y2, \"g-.\")\n",
    "plt.xlabel(\"y1\")\n",
    "plt.ylabel(\"y2\")\n",
    "plt.legend([\"y1\", \"y2\"])\n",
    "plt.axis(\"equal\");\n",
    "# Always include axis labels and legends when appropriate"
   ]
  },
  {
   "cell_type": "markdown",
   "id": "49d878f4",
   "metadata": {},
   "source": [
    "### scipy\n",
    "\n"
   ]
  },
  {
   "cell_type": "markdown",
   "id": "b6a813cb",
   "metadata": {},
   "source": [
    "[scipy](https://www.scipy.org) contains numerous libraries for a broad range of scientific computing needs.\n",
    "\n",
    "Suppose we want to perform the [following integral](https://docs.scipy.org/doc/scipy/reference/tutorial/integrate.html#general-integration-quad): $I = \\int_0^{4.5} J_{2.5}(x) dx$. The function $J_{2.5}$ is a special function known as a Bessel function. scipy provides both the integration function, and an implementation of the special function we can use.\n",
    "\n"
   ]
  },
  {
   "cell_type": "code",
   "execution_count": 12,
   "id": "b7815abb",
   "metadata": {},
   "outputs": [],
   "source": [
    "from scipy.integrate import quad\n",
    "from scipy.special import jv"
   ]
  },
  {
   "cell_type": "markdown",
   "id": "0a0ed3a8",
   "metadata": {},
   "source": [
    "To evaluate this integral, we have to define a function for the integrand, and use the quad function to compute the integral. The quad function returns two values, the value of the integral, and an estimate of the maximum error in the integral.\n",
    "\n"
   ]
  },
  {
   "cell_type": "code",
   "execution_count": 13,
   "id": "e643599a",
   "metadata": {},
   "outputs": [
    {
     "data": {
      "image/png": "[encoded data removed]",
      "text/plain": [
       "<Figure size 640x480 with 1 Axes>"
      ]
     },
     "metadata": {},
     "output_type": "display_data"
    }
   ],
   "source": [
    "# This is how we define a function. There is a function name, and arguments\n",
    "# The function returns the output of the jv function.\n",
    "def integrand(x):\n",
    "    return jv(2.5, x)\n",
    "\n",
    "\n",
    "integrand([0, 0.5])\n",
    "\n",
    "x1 = np.linspace(0, 4.5)\n",
    "plt.plot(x1, integrand(x1));"
   ]
  },
  {
   "cell_type": "code",
   "execution_count": 14,
   "id": "208a1436",
   "metadata": {},
   "outputs": [
    {
     "data": {
      "text/plain": [
       "{'neval': 63,\n",
       " 'last': 2,\n",
       " 'iord': array([1, 2, 0, 0, 0, 0, 0, 0, 0, 0, 0, 0, 0, 0, 0, 0, 0, 0, 0, 0, 0, 0,\n",
       "        0, 0, 0, 0, 0, 0, 0, 0, 0, 0, 0, 0, 0, 0, 0, 0, 0, 0, 0, 0, 0, 0,\n",
       "        0, 0, 0, 0, 0, 0], dtype=int32),\n",
       " 'alist': array([0.00000000e+00, 2.25000000e+00, 7.67216743e-04, 2.10783652e-03,\n",
       "        4.30872995e-03, 7.48622952e-03, 1.17307690e-02, 1.71108947e-02,\n",
       "        2.36754402e-02, 3.14548611e-02, 4.04621596e-02, 5.06936098e-02,\n",
       "        6.21293999e-02, 7.47342567e-02, 8.84580927e-02, 1.03236700e-01,\n",
       "        1.18992502e-01, 1.35635383e-01, 1.53063574e-01, 1.71164629e-01,\n",
       "        1.89816457e-01, 2.08888426e-01, 2.28242527e-01, 2.47734592e-01,\n",
       "        2.67215554e-01, 2.86532742e-01, 3.05531217e-01, 3.24055105e-01,\n",
       "        3.41948956e-01, 3.59059092e-01, 3.75234941e-01, 3.90330352e-01,\n",
       "        4.04204875e-01, 4.16724997e-01, 4.27765321e-01, 4.37209691e-01,\n",
       "        4.44952235e-01, 4.50898336e-01, 4.54965507e-01, 4.57084178e-01,\n",
       "        4.57198376e-01, 4.55266300e-01, 4.51260786e-01, 4.45169648e-01,\n",
       "        4.36995911e-01, 4.26757911e-01, 4.14489286e-01, 4.00238834e-01,\n",
       "        3.84070253e-01, 3.66061764e-01]),\n",
       " 'blist': array([2.25, 4.5 , 0.  , 0.  , 0.  , 0.  , 0.  , 0.  , 0.  , 0.  , 0.  ,\n",
       "        0.  , 0.  , 0.  , 0.  , 0.  , 0.  , 0.  , 0.  , 0.  , 0.  , 0.  ,\n",
       "        0.  , 0.  , 0.  , 0.  , 0.  , 0.  , 0.  , 0.  , 0.  , 0.  , 0.  ,\n",
       "        0.  , 0.  , 0.  , 0.  , 0.  , 0.  , 0.  , 0.  , 0.  , 0.  , 0.  ,\n",
       "        0.  , 0.  , 0.  , 0.  , 0.  , 0.  ]),\n",
       " 'rlist': array([0.20571887, 0.91209907, 0.        , 0.        , 0.        ,\n",
       "        0.        , 0.        , 0.        , 0.        , 0.        ,\n",
       "        0.        , 0.        , 0.        , 0.        , 0.        ,\n",
       "        0.        , 0.        , 0.        , 0.        , 0.        ,\n",
       "        0.        , 0.        , 0.        , 0.        , 0.        ,\n",
       "        0.        , 0.        , 0.        , 0.        , 0.        ,\n",
       "        0.        , 0.        , 0.        , 0.        , 0.        ,\n",
       "        0.        , 0.        , 0.        , 0.        , 0.        ,\n",
       "        0.        , 0.        , 0.        , 0.        , 0.        ,\n",
       "        0.        , 0.        , 0.        , 0.        , 0.        ]),\n",
       " 'elist': array([7.86630709e-09, 1.01263339e-14, 0.00000000e+00, 0.00000000e+00,\n",
       "        0.00000000e+00, 0.00000000e+00, 0.00000000e+00, 0.00000000e+00,\n",
       "        0.00000000e+00, 0.00000000e+00, 0.00000000e+00, 0.00000000e+00,\n",
       "        0.00000000e+00, 0.00000000e+00, 0.00000000e+00, 0.00000000e+00,\n",
       "        0.00000000e+00, 0.00000000e+00, 0.00000000e+00, 0.00000000e+00,\n",
       "        0.00000000e+00, 0.00000000e+00, 0.00000000e+00, 0.00000000e+00,\n",
       "        0.00000000e+00, 0.00000000e+00, 0.00000000e+00, 0.00000000e+00,\n",
       "        0.00000000e+00, 0.00000000e+00, 0.00000000e+00, 0.00000000e+00,\n",
       "        0.00000000e+00, 0.00000000e+00, 0.00000000e+00, 0.00000000e+00,\n",
       "        0.00000000e+00, 0.00000000e+00, 0.00000000e+00, 0.00000000e+00,\n",
       "        0.00000000e+00, 0.00000000e+00, 0.00000000e+00, 0.00000000e+00,\n",
       "        0.00000000e+00, 0.00000000e+00, 0.00000000e+00, 0.00000000e+00,\n",
       "        0.00000000e+00, 0.00000000e+00])}"
      ]
     },
     "execution_count": 14,
     "metadata": {},
     "output_type": "execute_result"
    }
   ],
   "source": [
    "I, err, info = quad(integrand, 0, 4.5, full_output=1)\n",
    "\n",
    "info"
   ]
  },
  {
   "cell_type": "code",
   "execution_count": 15,
   "id": "51f5e695",
   "metadata": {},
   "outputs": [
    {
     "data": {
      "text/plain": [
       "-1.3991438186112692e-05"
      ]
     },
     "execution_count": 15,
     "metadata": {},
     "output_type": "execute_result"
    }
   ],
   "source": [
    "x1 = np.linspace(0, 4.5, 150)\n",
    "(np.trapz(integrand(x1), x1) - I) / I"
   ]
  },
  {
   "cell_type": "markdown",
   "id": "37ff7cf8",
   "metadata": {},
   "source": [
    "## Summary\n",
    "\n"
   ]
  },
  {
   "cell_type": "markdown",
   "id": "869b39b8",
   "metadata": {
    "lines_to_next_cell": 2
   },
   "source": [
    "Today we introduced several ideas about using Jupyter notebooks to run Python computations. The main points are:\n",
    "\n",
    "1.  Code is run in code cells\n",
    "2.  You have to import some functions from libraries\n",
    "3.  numpy, scipy and matplotlib are three of the main scientific programming libraries we will use a lot.\n",
    "4.  We saw some ways to get help on functions\n",
    "\n",
    "Next time we will dig into defining functions more deeply, and how to print formatted strings containing results.\n",
    "\n"
   ]
  }
 ],
 "metadata": {
  "kernelspec": {
   "display_name": "Python 3 (ipykernel)",
   "language": "python",
   "name": "python3"
  },
  "language_info": {
   "codemirror_mode": {
    "name": "ipython",
    "version": 3
   },
   "file_extension": ".py",
   "mimetype": "text/x-python",
   "name": "python",
   "nbconvert_exporter": "python",
   "pygments_lexer": "ipython3",
   "version": "3.10.11"
  }
 },
 "nbformat": 4,
 "nbformat_minor": 5
}

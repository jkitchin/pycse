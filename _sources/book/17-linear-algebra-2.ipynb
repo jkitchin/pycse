{
 "cells": [
  {
   "cell_type": "markdown",
   "id": "28b16653",
   "metadata": {},
   "source": [
    "# Interpolation\n",
    "\n",
    "- KEYWORDS: numpy.linalg.solve, scipy.interpolate.interp1d, numpy.linalg.eigvals, numpy.linalg.eig, numpy.argsort\n"
   ]
  },
  {
   "cell_type": "markdown",
   "id": "75d0c5d1",
   "metadata": {},
   "source": [
    "## Interpolating between data points\n",
    "\n"
   ]
  },
  {
   "cell_type": "markdown",
   "id": "3e67d7f4",
   "metadata": {},
   "source": [
    "It is a common need to interpolate between data points, especially when we don't have knowledge of the function relating the data. There are a variety of approaches you can use for interpolation. We will consider a few approaches that use linear algebra here. Given $N$ points, construct an $N^{th}$ order polynomial that goes through all the points, and that can be used to estimate new values between the points.\n",
    "\n",
    "First we consider some data.\n",
    "\n"
   ]
  },
  {
   "cell_type": "code",
   "execution_count": null,
   "id": "88fc538f",
   "metadata": {},
   "outputs": [],
   "source": [
    "import numpy as np\n",
    "\n",
    "x = np.array([1.2, 2.9, 4.1])\n",
    "y = np.array([4.4, 5.5, 8.9])\n",
    "\n",
    "import matplotlib.pyplot as plt\n",
    "\n",
    "plt.plot(x, y);"
   ]
  },
  {
   "cell_type": "markdown",
   "id": "f218c19b",
   "metadata": {
    "lines_to_next_cell": 2
   },
   "source": [
    "We would like an equation like $y(x) = a_2 x^2 + a_1 x + a_0$. If we write these out for each data point we get:\n",
    "\n",
    "$y_0 = a_2 x_0^2 + a_1 x_0 + a_0$\n",
    "\n",
    "$y_1 = a_2 x_1^2 + a_1 x_1 + a_0$\n",
    "\n",
    "and so on. Here, the things we don't know are the parameters $\\mathbf{a} [a_2, a_1, a_0]$. We can write these as:\n",
    "\n",
    "$\\mathbf{X} \\mathbf{a} = \\mathbf{y}$\n",
    "\n",
    "Where $\\mathbf{X} = [\\mathbf{x^2}, \\mathbf{x}, \\mathbf{1}]$, and is called a Vandermonde matrix. We can readily create these with `numpy.vander`.\n",
    "\n"
   ]
  },
  {
   "cell_type": "code",
   "execution_count": null,
   "id": "9872bd1e",
   "metadata": {},
   "outputs": [],
   "source": [
    "np.vander([2, 3, 4], 3)"
   ]
  },
  {
   "cell_type": "markdown",
   "id": "8f0ca87b",
   "metadata": {},
   "source": [
    "The first column is $x^2$, the second column is $x$, and the last column is all ones. To compute the polynomial coefficients, we just make the $\\mathbf{X}$ array and solve the equations.\n",
    "\n"
   ]
  },
  {
   "cell_type": "code",
   "execution_count": null,
   "id": "22858d34",
   "metadata": {},
   "outputs": [],
   "source": [
    "X = np.vander(x, 3)\n",
    "a = np.linalg.solve(X, y)\n",
    "a"
   ]
  },
  {
   "cell_type": "code",
   "execution_count": null,
   "id": "cb3ed8f2",
   "metadata": {},
   "outputs": [],
   "source": [
    "np.polyfit(x, y, 2)"
   ]
  },
  {
   "cell_type": "markdown",
   "id": "5a5cebec",
   "metadata": {},
   "source": [
    "Now, we can use the parameters to compute new values.\n",
    "\n"
   ]
  },
  {
   "cell_type": "code",
   "execution_count": null,
   "id": "6503e829",
   "metadata": {},
   "outputs": [],
   "source": [
    "xfit = np.linspace(-2, 5)\n",
    "Y = np.vander(xfit, 3) @ a\n",
    "\n",
    "plt.plot(x, y, \"bo\", xfit, Y)\n",
    "plt.legend([\"data\", \"fit\"]);"
   ]
  },
  {
   "cell_type": "markdown",
   "id": "b6240865",
   "metadata": {},
   "source": [
    "What we have done here is fit an N<sup>th</sup> order polynomial to $N$ data points. There is a possibility that we have overfit this data, and extrapolation is not reliable. However, interpolation by this method may be useful. We will return to this for larger data sets where $N$ is much larger than the order of the polynomial when we talk about linear regression next week.\n",
    "\n"
   ]
  },
  {
   "cell_type": "markdown",
   "id": "7451d314",
   "metadata": {},
   "source": [
    "### Interpolation libraries\n",
    "\n"
   ]
  },
  {
   "cell_type": "markdown",
   "id": "72babe83",
   "metadata": {},
   "source": [
    "There are several interpolating functions available in [scipy.interpolate](https://docs.scipy.org/doc/scipy/reference/interpolate.html). These are usually more flexible and convenient than writing your own interpolating code. They are more sophisticated, and have some *features* you should be aware of.\n",
    "\n"
   ]
  },
  {
   "cell_type": "code",
   "execution_count": null,
   "id": "302dd8b9",
   "metadata": {
    "lines_to_next_cell": 2
   },
   "outputs": [],
   "source": [
    "from scipy.interpolate import interp1d"
   ]
  },
  {
   "cell_type": "markdown",
   "id": "09b5c443",
   "metadata": {},
   "source": [
    "Linear interpolation is the default, and we have to explicitly allow extrapolation.\n",
    "\n"
   ]
  },
  {
   "cell_type": "code",
   "execution_count": null,
   "id": "3b10274b",
   "metadata": {},
   "outputs": [],
   "source": [
    "xfit = np.linspace(0, 5)\n",
    "Y = interp1d(x, y, kind=\"quadratic\", bounds_error=False)\n",
    "print(Y(xfit))\n",
    "plt.plot(x, y, \"bo\", xfit, Y(xfit))\n",
    "from scipy.optimize import minimize\n",
    "\n",
    "minimize(Y, 8)"
   ]
  },
  {
   "cell_type": "code",
   "execution_count": null,
   "id": "db4d1f8b",
   "metadata": {},
   "outputs": [],
   "source": [
    "def obj(x):\n",
    "    return Y(x) - 7\n",
    "\n",
    "\n",
    "from scipy.optimize import fsolve\n",
    "\n",
    "fsolve(obj, 7)"
   ]
  },
  {
   "cell_type": "markdown",
   "id": "dfb0b255",
   "metadata": {},
   "source": [
    "We can also specify quadratic spline interpolation.\n",
    "\n"
   ]
  },
  {
   "cell_type": "code",
   "execution_count": null,
   "id": "9be25d12",
   "metadata": {},
   "outputs": [],
   "source": [
    "Y = interp1d(x, y, kind=\"quadratic\", bounds_error=False, fill_value=\"extrapolate\")\n",
    "\n",
    "plt.plot(x, y, \"bo\", xfit, Y(xfit));"
   ]
  },
  {
   "cell_type": "markdown",
   "id": "23a0c107",
   "metadata": {},
   "source": [
    "With more data points you can also use cubic interpolation, which fits a cubic polynomial between the points, and ensures smoothness and continuity of the derivatives at the endpoints.\n",
    "\n",
    "Note that you have to make some decisions about how to interpolate. These functions can introduce *wiggles* that are not real. Especially when there are step or sharp changes  in values.\n",
    "\n"
   ]
  },
  {
   "cell_type": "code",
   "execution_count": null,
   "id": "82a99f6d",
   "metadata": {},
   "outputs": [],
   "source": [
    "x = np.array([1, 2, 3, 4, 5, 6, 7])\n",
    "y = np.array([1, 2, 1, 1, 0, 0, 0])\n",
    "\n",
    "s = interp1d(x, y, kind=\"cubic\")\n",
    "X = np.linspace(1, 7)\n",
    "Y = s(X)\n",
    "\n",
    "plt.plot(x, y, \"bo\", X, Y);"
   ]
  },
  {
   "cell_type": "code",
   "execution_count": null,
   "id": "f6b7a30f",
   "metadata": {},
   "outputs": [],
   "source": [
    "def f(xx):\n",
    "    z = interp1d(x, y, kind=\"linear\")(xx) * (xx >= 5)\n",
    "    z += interp1d(x, y, kind=\"cubic\")(xx) * (xx < 5)\n",
    "    return z\n",
    "\n",
    "\n",
    "plt.plot(X, f(X));"
   ]
  },
  {
   "cell_type": "code",
   "execution_count": null,
   "id": "4a7f103e",
   "metadata": {},
   "outputs": [],
   "source": [
    "plt.plot(x, y, \"bo\")\n",
    "\n",
    "xfit = np.linspace(0, 7)\n",
    "p3 = np.polyfit(x, y, 3)  # polyfit is a global fit of one polynomial\n",
    "plt.plot(xfit, np.polyval(p3, xfit));"
   ]
  },
  {
   "cell_type": "markdown",
   "id": "820a0945",
   "metadata": {},
   "source": [
    "Interpolation is a kind of data driven model for developing a mathematical model from data that can be used to predict new values. These models are not based on physics, but they can be used for predicting new values, estimating derivatives, integrals, etc. Of course, you must be careful with extrapolation; all polynomials tend to &plusmn; infinity eventually, which is probably not physically relevant in most cases.\n",
    "\n",
    "There are multidimensional interpolation functions in `scipy.interpolate`,\n",
    "\n"
   ]
  },
  {
   "cell_type": "markdown",
   "id": "1097d36d",
   "metadata": {},
   "source": [
    "## Eigenvalues\n",
    "\n"
   ]
  },
  {
   "cell_type": "markdown",
   "id": "6b89be34",
   "metadata": {},
   "source": [
    "Eigenvalues and eigenvectors form an important class of linear algebra problems. They are an unusual class of problems though. Recall that we can interpret the equation $\\mathbf{A}\\mathbf{x} = \\mathbf{b}$ as a linear transformation of the vector $\\mathbf{x}$ into the vector $\\mathbf{b}$. This will in general lead to rotation and stretching of the input vector. *Sometimes* though the new vector $\\mathbf{b}$ is simply a rescaling of the original vector, i.e. $\\mathbf{b} = \\lambda \\mathbf{x}$. &lambda; is the scaling factor, and it just changes the magnitude of the $\\mathbf{x}$ vector. In this case, we call &lambda; an \\eigenvalue\\\\, and $\\mathbf{x}$ and \\eigenvector\\\\ of the matrix $\\mathbf{A}$.\n",
    "\n",
    "When you see a problem in the form:\n",
    "\n",
    "$\\mathbf{A}\\mathbf{x} = \\lambda \\mathbf{x}$\n",
    "\n",
    "It is called an eigenvalue problem. It is conventional to write it in the following form:\n",
    "\n",
    "$(\\mathbf{A} - \\lambda \\mathbf{I})\\mathbf{x} = \\mathbf{0}$\n",
    "\n",
    "Based on this equation, since $\\mathbf{x}$ can be anything, it is necessary for the determinant of the matrix on the left to be zero. The eigenvalues of $\\mathbf{A}$ are the ones that are solutions to\n",
    "\n",
    "$det(\\mathbf{A} - \\lambda \\mathbf{I}) = 0$\n",
    "\n",
    "Computing the determinant leads to a *characteristic polynomial* in &lambda;, and the roots of this polynomial are the eigenvalues of the matrix.\n",
    "\n",
    "For an $N \\times N$ array there will be $N$ eigenvalues, although some may be degenerate. The eigenvalues can be real or complex. For some matrices, we know some properties of the eigenvalues. We will consider some of them here.\n",
    "\n",
    "For example, the eigenvalues of a symmetric matrix are always real. We can make a symmetric matrix with some algebra:\n",
    "\n"
   ]
  },
  {
   "cell_type": "code",
   "execution_count": null,
   "id": "7a5b5049",
   "metadata": {},
   "outputs": [],
   "source": [
    "A = np.random.rand(3, 3)\n",
    "A += A.T  # This makes a symmetric matrix\n",
    "A"
   ]
  },
  {
   "cell_type": "markdown",
   "id": "494c628d",
   "metadata": {},
   "source": [
    "We get the eigenvalues with `numpy.linalg.eigvals`.\n",
    "\n"
   ]
  },
  {
   "cell_type": "code",
   "execution_count": null,
   "id": "25ebf97d",
   "metadata": {},
   "outputs": [],
   "source": [
    "A = np.random.rand(3, 3)\n",
    "A += A.T  # This makes a symmetric matrix\n",
    "np.linalg.eigvals(A)  # these should always be real"
   ]
  },
  {
   "cell_type": "code",
   "execution_count": null,
   "id": "26130be8",
   "metadata": {},
   "outputs": [],
   "source": [
    "np.linalg.eigvals(\n",
    "    np.random.rand(3, 3)\n",
    ")  # not a symmetric matrix, can have complex eigenvalues, or all real values"
   ]
  },
  {
   "cell_type": "markdown",
   "id": "0615c6d4",
   "metadata": {},
   "source": [
    "You can see these are all real.\n",
    "\n",
    "The *trace* of a matrix is the sum of the diagonal elements. You can do this manually, or use `numpy.trace`.\n",
    "\n"
   ]
  },
  {
   "cell_type": "code",
   "execution_count": null,
   "id": "b82260bc",
   "metadata": {},
   "outputs": [],
   "source": [
    "np.sum(np.diag(A)), np.trace(A)"
   ]
  },
  {
   "cell_type": "markdown",
   "id": "797feb1d",
   "metadata": {},
   "source": [
    "It is a property that the sum of the eigenvalues is equal to the trace:\n",
    "\n",
    "$trace \\mathbf{A} = \\sum \\lambda_k$\n",
    "\n"
   ]
  },
  {
   "cell_type": "code",
   "execution_count": null,
   "id": "5c292b51",
   "metadata": {},
   "outputs": [],
   "source": [
    "np.sum(np.linalg.eigvals(A))"
   ]
  },
  {
   "cell_type": "markdown",
   "id": "bbd33939",
   "metadata": {},
   "source": [
    "It is also true that the product of the eigenvalues is equal to the determinant:\n",
    "\n",
    "$det \\mathbf{A} = \\prod \\lambda_k$\n",
    "\n"
   ]
  },
  {
   "cell_type": "code",
   "execution_count": null,
   "id": "5fec8837",
   "metadata": {},
   "outputs": [],
   "source": [
    "np.prod(np.linalg.eigvals(A)), np.linalg.det(A)"
   ]
  },
  {
   "cell_type": "markdown",
   "id": "091c33aa",
   "metadata": {},
   "source": [
    "We can also see the eigenvectors. The `numpy.linalg.eig` function returns *both* eigenvalues and eigenvectors. The eigenvectors are in *columns*\n",
    "\n"
   ]
  },
  {
   "cell_type": "code",
   "execution_count": null,
   "id": "70a4be2f",
   "metadata": {},
   "outputs": [],
   "source": []
  },
  {
   "cell_type": "code",
   "execution_count": null,
   "id": "09bcda8f",
   "metadata": {},
   "outputs": [],
   "source": [
    "e, v = np.linalg.eig(A)  # e is the eigenvalues, v are the eigenvectors\n",
    "e, v"
   ]
  },
  {
   "cell_type": "markdown",
   "id": "17c518df",
   "metadata": {},
   "source": [
    "These eigenvectors have the property that the are normalized to unit length:\n",
    "\n"
   ]
  },
  {
   "cell_type": "code",
   "execution_count": null,
   "id": "48174b68",
   "metadata": {},
   "outputs": [],
   "source": [
    "# Both rows and columns have norm = 1\n",
    "np.linalg.norm(v[0]), np.linalg.norm(v[:, 0])"
   ]
  },
  {
   "cell_type": "code",
   "execution_count": null,
   "id": "c60326ea",
   "metadata": {},
   "outputs": [],
   "source": [
    "A @ v[0], e[0] * v[0]  # This is the row"
   ]
  },
  {
   "cell_type": "code",
   "execution_count": null,
   "id": "38137cb8",
   "metadata": {},
   "outputs": [],
   "source": [
    "A @ v[:, 0], e[0] * v[:, 0]  # this is the column. A x = lambda x\n",
    "# This is correct, the eigenvectors are in the columns."
   ]
  },
  {
   "cell_type": "code",
   "execution_count": null,
   "id": "2ee457bc",
   "metadata": {},
   "outputs": [],
   "source": [
    "[np.linalg.norm(v[:, i]) for i in [0, 1, 2]]"
   ]
  },
  {
   "cell_type": "markdown",
   "id": "81a0071a",
   "metadata": {},
   "source": [
    "The eigenvectors are in columns in the order corresponding to the order of the eigenvalues (these are not necessarily sorted). Here, we show that the eigenvalue/eigenvector pairs satisfy $\\mathbf{A} \\mathbf{v} = \\lambda \\mathbf{v}$.\n",
    "\n"
   ]
  },
  {
   "cell_type": "code",
   "execution_count": null,
   "id": "9cdd05e7",
   "metadata": {},
   "outputs": [],
   "source": [
    "[\n",
    "    np.allclose(A @ v[:, 0], e[0] * v[:, 0]),\n",
    "    np.allclose(A @ v[:, 1], e[1] * v[:, 1]),\n",
    "    np.allclose(A @ v[:, 2], e[2] * v[:, 2]),\n",
    "]"
   ]
  },
  {
   "cell_type": "markdown",
   "id": "403f5913",
   "metadata": {},
   "source": [
    "If you mix and match these, they do not satisfy the equations.\n",
    "\n"
   ]
  },
  {
   "cell_type": "code",
   "execution_count": null,
   "id": "89b8eced",
   "metadata": {},
   "outputs": [],
   "source": [
    "[\n",
    "    np.allclose(A @ v[:, 0], e[1] * v[:, 2]),\n",
    "    np.allclose(A @ v[:, 1], e[0] * v[:, 1]),\n",
    "    np.allclose(A @ v[:, 2], e[2] * v[:, 0]),\n",
    "]"
   ]
  },
  {
   "cell_type": "markdown",
   "id": "c418893f",
   "metadata": {},
   "source": [
    "The eigenvalues are not sorted. It is often useful to know the smallest, or largest eigenvalue, and to have the eigenvalues sorted. The tricky point to consider is the eigenvectors have to be sorted in the same order. It is also tricky that the eigenvectors are stored in columns, but sorting is done on rows. You can simply transpose the eigenvector array, sort on rows, and then transpose it back to columns.\n",
    "\n"
   ]
  },
  {
   "cell_type": "code",
   "execution_count": null,
   "id": "5a911251",
   "metadata": {},
   "outputs": [],
   "source": [
    "i = np.argsort(e)\n",
    "\n",
    "sorted_e = e[i]\n",
    "sorted_v = v.T[i].T\n",
    "sorted_e, sorted_v"
   ]
  },
  {
   "cell_type": "markdown",
   "id": "842ebe0a",
   "metadata": {},
   "source": [
    "*As always* it is a good idea to check that we did not mess up:\n",
    "\n"
   ]
  },
  {
   "cell_type": "code",
   "execution_count": null,
   "id": "dfd37738",
   "metadata": {},
   "outputs": [],
   "source": [
    "for i, se in enumerate(sorted_e):\n",
    "    sv = sorted_v[:, i]\n",
    "    print(np.allclose(A @ sv, se * sv))"
   ]
  },
  {
   "cell_type": "markdown",
   "id": "8337fd7f",
   "metadata": {},
   "source": [
    "### Application to roots of a polynomial\n",
    "\n"
   ]
  },
  {
   "cell_type": "markdown",
   "id": "20c13869",
   "metadata": {},
   "source": [
    "The eigenvalues of a matrix are related to the roots of the characteristic polynomial of the matrix. We can leverage this to find the roots of a polynomial by constructing a matrix that has as its characteristic polynomial the polynomial we want the roots for. Then, the roots of the polynomial are just the eigenvalues of that matrix.\n",
    "\n",
    "This example is adapted from [http://www.math.utah.edu/~gustafso/s2018/2270/labs/lab7-polyroot-qrmethod.pdf](http://www.math.utah.edu/~gustafso/s2018/2270/labs/lab7-polyroot-qrmethod.pdf)\n",
    "\n",
    "First, we construct the *companion matrix*. For the polynomial $p(x) = a_0 + a_1 x + ... + a_{n-1} x^{n-1} + x^n$ we construct:\n",
    "\n",
    "$C = \\left[\\begin{array}{ccccc}\n",
    " 0 & 1 & 0 & ... & 0\\\\\n",
    " 0 & 0 & 1 & ... & 0\\\\\n",
    " ... & ... & ... & \\ddots & \\vdots \\\\\n",
    " 0 & 0 & 0 & ... & 1\\\\\n",
    " -a_0 & -a_1 & -a_2 & ... & -a_{n-1}\n",
    " \\end{array}\\right]$\n",
    "\n",
    "Then, the eigenvalues of this matrix are equal to the roots of the polynomial. This matrix has ones on the diagonal above the main diagonal, and the coefficients up to the leading power on the bottom row. Note the coefficients are in the opposite order as we usually define them for `np.roots`.\n",
    "\n",
    "The main diagonal has `N` elements in it, and the diagonal above that has `N-2` elements in it.\n",
    "\n",
    "There are a few ways to reverse the coefficients, here we use `numpy.flipud` which reverses the elements.\n",
    "\n",
    "Let $p(x) = 4 x^2 + 3x - 1$. We write the coefficient vector in the same order as used in np.roots.\n",
    "\n"
   ]
  },
  {
   "cell_type": "code",
   "execution_count": null,
   "id": "a77df81d",
   "metadata": {},
   "outputs": [],
   "source": [
    "p = np.array([4, 3, -1])\n",
    "N = len(p)\n",
    "\n",
    "C = np.diag(np.ones(N - 2), 1)\n",
    "C"
   ]
  },
  {
   "cell_type": "code",
   "execution_count": null,
   "id": "0566dd83",
   "metadata": {},
   "outputs": [],
   "source": [
    "np.flipud(-p[1:] / p[0])"
   ]
  },
  {
   "cell_type": "code",
   "execution_count": null,
   "id": "1e759d75",
   "metadata": {},
   "outputs": [],
   "source": [
    "-p[1:] / p[0]"
   ]
  },
  {
   "cell_type": "code",
   "execution_count": null,
   "id": "4b1a9529",
   "metadata": {},
   "outputs": [],
   "source": [
    "C[-1, :] = np.flipud(-p[1:] / p[0])\n",
    "C"
   ]
  },
  {
   "cell_type": "markdown",
   "id": "ebc47b4d",
   "metadata": {},
   "source": [
    "Now the roots are found as the eigenvalues of the matrix.\n",
    "\n"
   ]
  },
  {
   "cell_type": "code",
   "execution_count": null,
   "id": "00e2909e",
   "metadata": {},
   "outputs": [],
   "source": [
    "np.linalg.eigvals(C), np.roots(p)"
   ]
  },
  {
   "cell_type": "markdown",
   "id": "978d8d50",
   "metadata": {},
   "source": [
    "This is essentially what the `np.roots` function does, although it uses a slightly different way to define the companion matrix.\n",
    "\n"
   ]
  },
  {
   "cell_type": "code",
   "execution_count": null,
   "id": "031c2ecb",
   "metadata": {},
   "outputs": [],
   "source": [
    "import numpy as np"
   ]
  },
  {
   "cell_type": "code",
   "execution_count": null,
   "id": "1882f1ba",
   "metadata": {},
   "outputs": [],
   "source": [
    "p = [4, 3, -1]\n",
    "np.roots(p)"
   ]
  },
  {
   "cell_type": "markdown",
   "id": "fc55e875",
   "metadata": {},
   "source": [
    "The order of the roots is not important; they may or may not be sorted.\n",
    "\n"
   ]
  },
  {
   "cell_type": "markdown",
   "id": "c55d3aa7",
   "metadata": {},
   "source": [
    "### Applications to optimization\n",
    "\n"
   ]
  },
  {
   "cell_type": "markdown",
   "id": "590b0526",
   "metadata": {},
   "source": [
    "We can use eigenvalues to detect what kind of stationary point (f'(x) = 0) we are at. We have to know the [Hessian matrix](https://en.wikipedia.org/wiki/Hessian_matrix) at the stationary point. The eigenvalues of this matrix tell us about the stationary point.\n",
    "\n",
    "1.  If all the eigenvalues are all positive, the matrix is called positive definite, and it means the stationary point is a minimum.\n",
    "2.  If all the eigenvalues are negative, the matrix is called negative definite, and it means the stationary point is a maximum.\n",
    "3.  If the signs of the eigenvalues are mixed then the stationary point is a saddle point.\n",
    "4.  If there are zeros, it is inconclusive, and further analysis is needed.\n",
    "\n",
    "Let's consider an example:\n",
    "\n"
   ]
  },
  {
   "cell_type": "code",
   "execution_count": null,
   "id": "d9dcd212",
   "metadata": {},
   "outputs": [],
   "source": [
    "from scipy.optimize import minimize\n",
    "\n",
    "\n",
    "def f(X):\n",
    "    x, y = X\n",
    "    return 2 * x**2 + 2 * x * y + 2 * y**2 - 6 * x\n",
    "\n",
    "\n",
    "sol = minimize(f, [0, 0])\n",
    "sol"
   ]
  },
  {
   "cell_type": "markdown",
   "id": "86b98481",
   "metadata": {},
   "source": [
    "We get an estimate of the inverse hessian here, so we convert it to a hessian first.\n",
    "\n"
   ]
  },
  {
   "cell_type": "code",
   "execution_count": null,
   "id": "2db81bdd",
   "metadata": {},
   "outputs": [],
   "source": [
    "h = np.linalg.inv(sol[\"hess_inv\"])\n",
    "h"
   ]
  },
  {
   "cell_type": "markdown",
   "id": "4a3751ed",
   "metadata": {},
   "source": [
    "Now we check the eigenvalues:\n",
    "\n"
   ]
  },
  {
   "cell_type": "code",
   "execution_count": null,
   "id": "3317c586",
   "metadata": {},
   "outputs": [],
   "source": [
    "np.linalg.eigvals(h)"
   ]
  },
  {
   "cell_type": "markdown",
   "id": "a39811ea",
   "metadata": {},
   "source": [
    "We have two positive eigenvalues, so the Hessian is positive definite, and we are at a minimum.\n",
    "\n",
    "We can also use tools to compute the Hessian more directly (of course you can derive the partial derivatives by hand also):\n",
    "\n"
   ]
  },
  {
   "cell_type": "code",
   "execution_count": null,
   "id": "9e522435",
   "metadata": {},
   "outputs": [],
   "source": [
    "import numdifftools as nd\n",
    "\n",
    "H = nd.Hessian(f)\n",
    "np.linalg.eigvals(H(sol.x))"
   ]
  },
  {
   "cell_type": "markdown",
   "id": "2a7cc0c6",
   "metadata": {},
   "source": [
    "Note the order of the eigenvalues is not important.\n",
    "\n",
    "We will see more about numerical tools for computing Hessians and derivatives next.\n",
    "\n"
   ]
  },
  {
   "cell_type": "markdown",
   "id": "465cbd20",
   "metadata": {},
   "source": [
    "## Summary\n",
    "\n"
   ]
  },
  {
   "cell_type": "markdown",
   "id": "515f2bd5",
   "metadata": {
    "lines_to_next_cell": 2
   },
   "source": [
    "Today we introduced the ideas behind interpolation which is a data-drive approach to model building that involves locally fitting functions to a few data points. We also introduced eigenvalues and eigenvectors, and some applications of how they are used.\n",
    "\n",
    "Next week we will conclude linear algebra with linear regression.\n",
    "\n"
   ]
  }
 ],
 "metadata": {
  "kernelspec": {
   "display_name": "Python 3 (ipykernel)",
   "language": "python",
   "name": "python3"
  }
 },
 "nbformat": 4,
 "nbformat_minor": 5
}
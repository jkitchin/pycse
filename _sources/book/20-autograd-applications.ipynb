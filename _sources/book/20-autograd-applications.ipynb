{
 "cells": [
  {
   "cell_type": "markdown",
   "id": "81dd4301",
   "metadata": {},
   "source": [
    "# Introduction to automatic differentiation\n",
    "\n",
    "- KEYWORDS: autograd\n",
    "\n",
    "```{note}\n",
    "autograd has largely been replaced by jax and pytorch today (2023). autograd is still the easiest starting point in my opinion, so I am leaving this as it is.\n",
    "```"
   ]
  },
  {
   "cell_type": "markdown",
   "id": "26c1ed56",
   "metadata": {},
   "source": [
    "Automatic differentiation is the automated application of the chain rule to computer programs to compute derivatives. It is the centerpiece technology in machine learning that enables the \"training\" or optimization of model parameters to best fit data. We introduce it here in the context of science and engineering applications."
   ]
  },
  {
   "cell_type": "markdown",
   "id": "08ff0803",
   "metadata": {},
   "source": [
    "## Mathematical, scientific and engineering applications of autograd\n",
    "\n"
   ]
  },
  {
   "cell_type": "markdown",
   "id": "510d287d",
   "metadata": {},
   "source": [
    "### Evaluating line integrals\n",
    "\n"
   ]
  },
  {
   "cell_type": "markdown",
   "id": "5c61a0a5",
   "metadata": {},
   "source": [
    "A line integral is an integral of a function along a curve in space. We usually represent the curve by a parametric equation, e.g. $\\mathbf{r}(t) = [x(t), y(t), z(t)] = x(t)\\mathbf{i} + y(t)\\mathbf{j} + z(t)\\mathbf{k}$.  So, in general the curve will be a vector function, and the function we want to integrate will also be a vector function.\n",
    "\n",
    "Then, we can write the line integral definition as:\n",
    "\n",
    "$\\int_C \\mathbf{F(r)} \\cdot d\\mathbf{r} = \\int_a^b \\mathbf{F}(\\mathbf{r}(t)) \\cdot \\mathbf{r'}(t) dt$ where $\\mathbf{r'}(t) = \\frac{d\\mathbf{r}}{dt}$. This integrand is a scalar function, because of the dot product.\n",
    "\n",
    "The following examples are adapted from Chapter 10 in Advanced Engineering Mathematics by Kreysig.\n",
    "\n",
    "The first example is the evaluation of  a line integral in the plane. We want to evaluate the integral of $\\mathbf{F(r)}=[-y, -xy]$ on the curve $\\mathbf{r(t)}=[-sin(t), cos(t)]$ from t=0 to t = &pi;/2. The answer in the book is given as 0.4521. Here we evaluate this numerically, using autograd for the relevant derivative. Since the curve has multiple outputs, we have to use the jacobian function to get the derivatives. After that, it is a simple bit of matrix multiplication, and a call to the quad function.\n",
    "\n"
   ]
  },
  {
   "cell_type": "code",
   "execution_count": null,
   "id": "95a145af",
   "metadata": {},
   "outputs": [],
   "source": [
    "import autograd.numpy as np\n",
    "from autograd import jacobian\n",
    "from scipy.integrate import quad\n",
    "\n",
    "\n",
    "def F(X):\n",
    "    x, y = X\n",
    "    return -y, -x * y\n",
    "\n",
    "\n",
    "def r(t):\n",
    "    return np.array([-np.sin(t), np.cos(t)])\n",
    "\n",
    "\n",
    "drdt = jacobian(r)\n",
    "\n",
    "\n",
    "def integrand(t):\n",
    "    return F(r(t)) @ drdt(t)\n",
    "\n",
    "\n",
    "I, e = quad(integrand, 0.0, np.pi / 2)\n",
    "print(f\"The integral is {I:1.4f}.\")"
   ]
  },
  {
   "cell_type": "code",
   "execution_count": null,
   "id": "61c977a5",
   "metadata": {},
   "outputs": [],
   "source": [
    "# Checking what our output shapes look like\n",
    "F([1, 1]), r(0), drdt(0.0)"
   ]
  },
  {
   "cell_type": "code",
   "execution_count": null,
   "id": "b5db54c2",
   "metadata": {
    "lines_to_next_cell": 2
   },
   "outputs": [],
   "source": [
    "t = np.linspace(0, np.pi / 2)\n",
    "import matplotlib.pyplot as plt\n",
    "\n",
    "plt.plot(t, [integrand(_t) for _t in t])\n",
    "np.trapz([integrand(_t) for _t in t], t)  # Just a numerical confirmation of our answer"
   ]
  },
  {
   "cell_type": "markdown",
   "id": "6eb47c18",
   "metadata": {},
   "source": [
    "We get the same result as the analytical solution.\n",
    "\n"
   ]
  },
  {
   "cell_type": "markdown",
   "id": "dd90abbe",
   "metadata": {},
   "source": [
    "### Constrained optimization with Lagrange multipliers and autograd\n",
    "\n"
   ]
  },
  {
   "cell_type": "markdown",
   "id": "859e9cc9",
   "metadata": {},
   "source": [
    "Constrained optimization is common in engineering problems solving. A prototypical example (from Greenberg, Advanced Engineering Mathematics, Ch 13.7) is to find the point on a plane that is closest to the origin. The plane is defined by the equation $2x - y + z = 3$, and we seek to minimize $x^2 + y^2 + z^2$ subject to the equality constraint defined by the plane. `scipy.optimize.minimize` provides a pretty convenient interface to solve a problem like this, as shown here.\n",
    "\n"
   ]
  },
  {
   "cell_type": "code",
   "execution_count": null,
   "id": "d0c4e43a",
   "metadata": {},
   "outputs": [],
   "source": [
    "import numpy as np\n",
    "from scipy.optimize import minimize\n",
    "\n",
    "\n",
    "def objective(X):\n",
    "    x, y, z = X\n",
    "    return x**2 + y**2 + z**2\n",
    "\n",
    "\n",
    "def eq(X):\n",
    "    x, y, z = X\n",
    "    return 2 * x - y + z - 3\n",
    "\n",
    "\n",
    "sol = minimize(objective, [1, -0.5, 0.5], constraints={\"type\": \"eq\", \"fun\": eq})\n",
    "sol"
   ]
  },
  {
   "cell_type": "markdown",
   "id": "0e361d07",
   "metadata": {},
   "source": [
    "I like the minimize function a lot, although I am not crazy for how the constraints are provided.\n",
    "Sometimes, it might be desirable to go back to basics though, especially if you are unaware of the `minimize` function or perhaps suspect it is not working right and want an independent answer. Next we look at how to construct this constrained optimization problem using Lagrange multipliers. This converts the problem into an augmented unconstrained optimization problem we can use `fsolve` on. The gist of this method is we formulate a new problem:\n",
    "\n",
    "$F(X) = f(X) - \\lambda g(X)$\n",
    "\n",
    "and then solve the simultaneous resulting equations:\n",
    "\n",
    "$F_x(X) = F_y(X) = F_z(X) = g(X) = 0$ where $F_x$ is the derivative of $F(X)$ with respect to $x$, and $g(X)$ is the equality constraint written so it is equal to zero. Since we end up with four equations that equal zero, we can simply use fsolve to get the solution. Many [years ago](http://kitchingroup.cheme.cmu.edu/blog/2013/02/03/Using-Lagrange-multipliers-in-optimization/) I used a finite difference approximation to the derivatives. Today we use autograd to get the desired derivatives. Here it is.\n",
    "\n"
   ]
  },
  {
   "cell_type": "code",
   "execution_count": null,
   "id": "a6decb24",
   "metadata": {},
   "outputs": [],
   "source": [
    "import autograd.numpy as np\n",
    "from autograd import grad\n",
    "\n",
    "\n",
    "def F(L):\n",
    "    \"Augmented Lagrange function\"\n",
    "    x, y, z, _lambda = L\n",
    "    return objective([x, y, z]) - _lambda * eq([x, y, z])\n",
    "\n",
    "\n",
    "# Gradients of the Lagrange function\n",
    "dfdL = grad(F, 0)\n",
    "F([0.0, 0.0, 0.0, 0.0]), dfdL([0.0, 0.0, 0.0, 0.0])"
   ]
  },
  {
   "cell_type": "code",
   "execution_count": null,
   "id": "bb80fb08",
   "metadata": {},
   "outputs": [],
   "source": [
    "# Find L that returns all zeros in this function.\n",
    "def obj(L):\n",
    "    x, y, z, _lambda = L\n",
    "    dFdx, dFdy, dFdz, dFdlam = dfdL(L)\n",
    "    return [dFdx, dFdy, dFdz, eq([x, y, z])]\n",
    "\n",
    "\n",
    "from scipy.optimize import fsolve\n",
    "\n",
    "x, y, z, _lam = fsolve(obj, [0.0, 0.0, 0.0, 1.0])\n",
    "print(f\"The answer is at {x, y, z}\")"
   ]
  },
  {
   "cell_type": "code",
   "execution_count": null,
   "id": "74d8e2b5",
   "metadata": {},
   "outputs": [],
   "source": [
    "dfdL([x, y, z, _lam]), _lam"
   ]
  },
  {
   "cell_type": "markdown",
   "id": "5c143986",
   "metadata": {},
   "source": [
    "That is the same answer as before. Note we have still relied on some black box solver inside of fsolve (instead of inside minimize), but it might be more clear what problem we are solving (e.g. finding zeros). It takes a bit more work to set this up, since we have to construct the augmented function, but autograd makes it pretty convenient to set up the final objective function we want to solve.\n",
    "\n",
    "How do we know we are at a minimum? We can check that the Hessian is positive definite in the original function we wanted to minimize. You can see here the array is positive definite, e.g. all the eigenvalues are positive. autograd makes this easy too.\n",
    "\n"
   ]
  },
  {
   "cell_type": "code",
   "execution_count": null,
   "id": "672dac8d",
   "metadata": {},
   "outputs": [],
   "source": [
    "from autograd import hessian\n",
    "\n",
    "h = hessian(objective, 0)\n",
    "h(np.array([x, y, z]))"
   ]
  },
  {
   "cell_type": "markdown",
   "id": "710114bc",
   "metadata": {},
   "source": [
    "In case it isn't evident from that structure that the eigenvalues are all positive, here we compute them:\n",
    "\n"
   ]
  },
  {
   "cell_type": "code",
   "execution_count": null,
   "id": "b34db2a1",
   "metadata": {},
   "outputs": [],
   "source": [
    "np.linalg.eig(h(np.array([x, y, z])))[0]"
   ]
  },
  {
   "cell_type": "markdown",
   "id": "343e6134",
   "metadata": {},
   "source": [
    "### Getting derivatives from implicit functions with autograd\n",
    "\n"
   ]
  },
  {
   "cell_type": "markdown",
   "id": "de13f98a",
   "metadata": {},
   "source": [
    "If we have an implicit function: $f(x, y(x)) = 0$, but we want to compute the derivative $dy/dx$ we can use the chain rule to derive:\n",
    "\n",
    "$df/dx + df/dy * dy/dx = 0$\n",
    "\n",
    "We can then solve for $dy/dx$:\n",
    "\n",
    "$dy/dx = -df/dx / df/dy$\n",
    "\n",
    "to get the desired derivative. The interesting point of this is that we can get the two derivatives on the right hand side of this equation using automatic differentiation of the function $f(x, y)$! There are a few examples of analytical approaches to derivatives from implicit functions [here](https://www.math.ucdavis.edu/~kouba/CalcOneDIRECTORY/implicitdiffdirectory/ImplicitDiff.html) we will use for example.\n",
    "\n",
    "In the following examples, we will assume that $y$ is a function of $x$ and that $x$ is independent. We will consider a series of implicit equations, compute $dy/dx$ using autograd from the formula above, and compare them to the analytical results in the web page referenced above.\n",
    "\n",
    "The $dy/dx$ functions generally depend on both $x$, and $y$. Technically, these are the derivatives along the curve $y(x)$, but since we can evaluate them at any points, we will use some random points for $x$ and $y$ to test for equality between the analytical derivatives and the autograd derivatives. This isn't a rigorous proof of equality, but it is the only thing that makes sense to do for now. It is assumed that if these points are ok, all the others are too. That might be a broad claim, since we only sample $x$ and $y$ from 0 to 1 here but the approach is general. Here are the imports and the random test points for all the examples that follow.\n",
    "\n"
   ]
  },
  {
   "cell_type": "code",
   "execution_count": null,
   "id": "bbf60738",
   "metadata": {},
   "outputs": [],
   "source": [
    "import autograd.numpy as np\n",
    "from autograd import grad\n",
    "\n",
    "xr = np.random.random(50)\n",
    "yr = np.random.random(50)"
   ]
  },
  {
   "cell_type": "markdown",
   "id": "a506acd8",
   "metadata": {},
   "source": [
    "Next we consider $x^3 + y^3 = 4$ as our implicit function.\n",
    "\n",
    "$df/dx = 3 x^2$\n",
    "\n",
    "$df/dy = 3 y^2$\n",
    "\n",
    "so $dy/dx = -x^2 / y^2$ for comparison.\n",
    "\n"
   ]
  },
  {
   "cell_type": "code",
   "execution_count": null,
   "id": "4c64c620",
   "metadata": {},
   "outputs": [],
   "source": [
    "def f1(x, y):\n",
    "    return x**3 + y**3 - 4\n",
    "\n",
    "\n",
    "df1dx = grad(f1, 0)\n",
    "df1dy = grad(f1, 1)\n",
    "\n",
    "\n",
    "def dydx(x, y):\n",
    "    return -df1dx(x, y) / df1dy(x, y)\n",
    "\n",
    "\n",
    "print(np.allclose(-(xr**2) / yr**2, [dydx(_xr, _yr) for _xr, _yr in zip(xr, yr)]))\n",
    "\n",
    "\n",
    "plt.plot(xr, -(xr**2) / yr**2, \"ro\")\n",
    "plt.plot(xr, [dydx(_xr, _yr) for _xr, _yr in zip(xr, yr)], \"b.\");"
   ]
  },
  {
   "cell_type": "code",
   "execution_count": null,
   "id": "3e4ac17a",
   "metadata": {},
   "outputs": [],
   "source": [
    "def f_1(X):\n",
    "    x, y = X\n",
    "    return x**3 + y**3 - 4\n",
    "\n",
    "\n",
    "j = jacobian(f_1)\n",
    "j(np.array([1.0, 1.0])), dydx(1.0, 1.0)"
   ]
  },
  {
   "cell_type": "markdown",
   "id": "52f08ccb",
   "metadata": {},
   "source": [
    "The output of True means the autograd results and the analytical results are \"all close\", i.e. within a tolerance the results are the same. The required derivatives of this are not that difficult to derive, but it is nice to see a simple example that \"just works\". A subtle point of the dydx function is that it is not *vectorized* which is why I used a list comprehension to evaluate all the points. It is possible a pseudo-vectorized version with the np.vectorize decorator as shown here.\n",
    "\n"
   ]
  },
  {
   "cell_type": "code",
   "execution_count": null,
   "id": "bf25056d",
   "metadata": {},
   "outputs": [],
   "source": [
    "@np.vectorize\n",
    "def dydx(x, y):\n",
    "    return -df1dx(x, y) / df1dy(x, y)\n",
    "\n",
    "\n",
    "np.allclose(-(xr**2) / yr**2, dydx(xr, yr))"
   ]
  },
  {
   "cell_type": "markdown",
   "id": "8133c02f",
   "metadata": {},
   "source": [
    "## Scientific applications\n",
    "\n"
   ]
  },
  {
   "cell_type": "markdown",
   "id": "67b49729",
   "metadata": {},
   "source": [
    "### Compressibility variation from an implicit equation of state\n",
    "\n"
   ]
  },
  {
   "cell_type": "markdown",
   "id": "53f2c3ac",
   "metadata": {},
   "source": [
    "There are two ways to explore how some property varies with some parameter. One is if you have an equation relating them, you simply solve it many times for each parameter. Another is if you can derive an equation for how the property changes with parameter changes, then you have an ODE you can integrate. We explore that here. We will use the van der Waal equation of state to derive an equation for how the compressibility changes with the reduced pressure.\n",
    "\n",
    "The general strategy to compute the compressibility as a function of pressure is to integrate $dV / dP_r$ over a range of $P_r$ to get the molar volume as a function of $P_r$, and then to directly compute the compressibility from $Z = PV/(RT)$.\n",
    "\n",
    "To use this approach we need to get $dV / dP_r$ from the van der Waal equation. Here, we follow the work in the previous section to get the derivative from the implicit form of the van der Waal equation:\n",
    "\n",
    "$f(V, P_r, T_r) = \\frac{R Tr * Tc}{V - b} - \\frac{a}{V^2} - P_r Pc = 0$\n",
    "\n",
    "We can get\n",
    "\n",
    "$dV/dP_r = (-df/dP_r) / (df/dV)$\n",
    "\n",
    "and the two derivatives on the right can be found easily by automatic differentiation. First, we express the van der Waal equation in implicit form, with the variables as $V, P_r, T_r$. Only two of those variables are independent; if you define two of them you can compute the third one using a tool like fsolve.\n",
    "\n"
   ]
  },
  {
   "cell_type": "code",
   "execution_count": null,
   "id": "b7a14942",
   "metadata": {},
   "outputs": [],
   "source": [
    "R = 0.08206\n",
    "Pc = 72.9\n",
    "Tc = 304.2\n",
    "\n",
    "a = 27 * R**2 * Tc**2 / (Pc * 64)\n",
    "b = R * Tc / (8 * Pc)\n",
    "\n",
    "Tr = 1.1  # Constant for this example\n",
    "\n",
    "\n",
    "def f(V, Pr, Tr):\n",
    "    return R * Tr * Tc / (V - b) - a / V**2 - Pr * Pc"
   ]
  },
  {
   "cell_type": "markdown",
   "id": "ce3d6623",
   "metadata": {},
   "source": [
    "Now, if we want to know how does the volume vary with $P_r$, we need to derive the derivative $dV/dP_r$, and then integrate it. Here we use autograd to define the derivatives, and then we define a function that uses them. Note the arguments in the function dVdPr are in an order that anticipates we want to integrate it in solve\\_ivp, to get a function $V(P_r)$.\n",
    "\n"
   ]
  },
  {
   "cell_type": "code",
   "execution_count": null,
   "id": "8e7326b6",
   "metadata": {},
   "outputs": [],
   "source": [
    "from autograd import grad\n",
    "\n",
    "dfdPr = grad(f, 1)  # derivative of f with respect to arg at index=1: Pr\n",
    "dfdV = grad(f, 0)  # derivative of f with respect to arg at index=0: V\n",
    "\n",
    "\n",
    "def dVdPr(Pr, V):\n",
    "    return -dfdPr(V, Pr, Tr) / dfdV(V, Pr, Tr)  # Tr is a constant in here"
   ]
  },
  {
   "cell_type": "markdown",
   "id": "fb2f1d06",
   "metadata": {},
   "source": [
    "Now, we need an initial condition to start the integration from. We want the volume at $P_r=0.1$. We have to use fsolve for this, or some other method that tells you want is the volume at $P_r=0.1$. We can pass the values of $P_r$ and $T_R$ as arguments to our implicit function. Since $V$ is the first argument, we can directly solve our implicit function. Otherwise you would have to define a helper objective function to use with fsolve.\n",
    "\n"
   ]
  },
  {
   "cell_type": "code",
   "execution_count": null,
   "id": "e2e6d930",
   "metadata": {},
   "outputs": [],
   "source": [
    "from scipy.optimize import fsolve\n",
    "\n",
    "# Pr, V\n",
    "(V0,) = fsolve(f, 3.5, args=(0.1, 1.1))\n",
    "V0"
   ]
  },
  {
   "cell_type": "markdown",
   "id": "018ee6c6",
   "metadata": {},
   "source": [
    "Finally, we are ready to integrate the ODE, and plot the solution.\n",
    "\n"
   ]
  },
  {
   "cell_type": "code",
   "execution_count": null,
   "id": "b04a1301",
   "metadata": {},
   "outputs": [],
   "source": [
    "import numpy as np\n",
    "from scipy.integrate import solve_ivp\n",
    "\n",
    "Pr_span = (0.1, 10)\n",
    "Pr_eval, h = np.linspace(*Pr_span, retstep=True)\n",
    "\n",
    "sol = solve_ivp(dVdPr, Pr_span, (V0,), max_step=h)\n",
    "print(sol.message)\n",
    "\n",
    "import matplotlib.pyplot as plt\n",
    "\n",
    "Pr = sol.t  # the P_r steps used in the solution\n",
    "V = sol.y[0]  # V(P_r) from the solution\n",
    "\n",
    "Z = Pr * Pc * V / (R * Tr * Tc)  # Compressibility Z(P_r)\n",
    "\n",
    "plt.plot(Pr, Z)\n",
    "plt.xlabel(\"$P_r$\")\n",
    "plt.ylabel(\"Z\")\n",
    "plt.xlim([0, 10])\n",
    "plt.ylim([0, 2]);"
   ]
  },
  {
   "cell_type": "markdown",
   "id": "e6d3048e",
   "metadata": {},
   "source": [
    "There are several advantages of doing this over iteratively solving with fsolve. The biggest one is no initial guesses! It is also faster. What do you think would happen if there were multiple roots in the equation?\n",
    "\n"
   ]
  },
  {
   "cell_type": "markdown",
   "id": "eeeeb732",
   "metadata": {},
   "source": [
    "### Computing the pressure from a solid equation of state\n",
    "\n"
   ]
  },
  {
   "cell_type": "markdown",
   "id": "ca73418e",
   "metadata": {},
   "source": [
    "A solid equation of state describes the energy of a solid under isotropic strain. We can readily compute the pressure at a particular volume from the equation:\n",
    "\n",
    "$P = -\\frac{dE}{dV}$\n",
    "\n",
    "We just need the derivative of this equation:\n",
    "\n",
    "$E = E_0+\\frac{B_0 V}{B'_0}\\left[\\frac{(V_0/V)^{B'_0}}{B'_0-1}+1\\right]-\\frac{V_0 B_0}{B'_0-1}$\n",
    "\n",
    "We use autograd to get it for us.\n",
    "\n"
   ]
  },
  {
   "cell_type": "code",
   "execution_count": null,
   "id": "04f5cd5b",
   "metadata": {},
   "outputs": [],
   "source": [
    "E0, B0, BP, V0 = -56.466, 0.49, 4.753, 16.573\n",
    "\n",
    "\n",
    "def Murnaghan(vol):\n",
    "    E = E0 + B0 * vol / BP * (((V0 / vol) ** BP) / (BP - 1.0) + 1.0) - V0 * B0 / (BP - 1.0)\n",
    "    return E\n",
    "\n",
    "\n",
    "def P(vol):\n",
    "    dEdV = grad(Murnaghan)\n",
    "    return -dEdV(vol) * 160.21773  # in Gpa\n",
    "\n",
    "\n",
    "print(P(V0))  # Pressure at the minimum in energy is zero\n",
    "print(P(0.99 * V0))  # Compressed"
   ]
  },
  {
   "cell_type": "markdown",
   "id": "f75d46e6",
   "metadata": {},
   "source": [
    "So it takes positive pressure to compress the system, as expected, and at the minimum the pressure is equal to zero. Seems pretty clear autograd is better than deriving the required pressure derivative.\n",
    "\n"
   ]
  },
  {
   "cell_type": "markdown",
   "id": "c461bbc7",
   "metadata": {},
   "source": [
    "### Sensitivity analysis using automatic differentiation in Python\n",
    "\n"
   ]
  },
  {
   "cell_type": "markdown",
   "id": "ccfc1ce4",
   "metadata": {},
   "source": [
    "This [paper](http://citeseerx.ist.psu.edu/viewdoc/download?doi=10.1.1.428.6699&rep=rep1&type=pdf) describes how sensitivity analysis requires access to the derivatives of a function. Say, for example we have a function describing the time evolution of the concentration of species A:\n",
    "\n",
    "$[A] = \\frac{[A]_0}{k_1 + k_{-1}} (k_1 e^{(-(k_1 + k_{-1})t)} + k_{-1})$\n",
    "\n",
    "The local sensitivity of the concentration of A to the parameters $k1$ and $k_1$ are defined as $\\frac{\\partial A}{\\partial k1}$ and $\\frac{\\partial A}{\\partial k_1}$. Our goal is to plot the sensitivity as a function of time. We could derive those derivatives, but we will use auto-differentiation instead through the autograd package.\n",
    "\n"
   ]
  },
  {
   "cell_type": "code",
   "execution_count": null,
   "id": "03792f62",
   "metadata": {},
   "outputs": [],
   "source": [
    "import autograd.numpy as np\n",
    "\n",
    "A0 = 1.0\n",
    "\n",
    "\n",
    "def A(t, k1, k_1):\n",
    "    return A0 / (k1 + k_1) * (k1 * np.exp(-(k1 + k_1) * t) + k_1)\n",
    "\n",
    "\n",
    "import matplotlib.pyplot as plt\n",
    "\n",
    "t = np.linspace(0, 0.5)\n",
    "\n",
    "k1 = 3.0\n",
    "k_1 = 3.0\n",
    "plt.plot(t, A(t, k1, k_1))\n",
    "plt.xlim([0, 0.5])\n",
    "plt.ylim([0, 1])\n",
    "plt.xlabel(\"t\")\n",
    "plt.ylabel(\"A\");"
   ]
  },
  {
   "cell_type": "markdown",
   "id": "1f60cb38",
   "metadata": {},
   "source": [
    "The figure above reproduces Fig. 1 from the paper referenced above.  Next, we use autograd to get the derivatives. We need the derivative of the function with respect to the second and third arguments; the default is the first argument. Second, we want to evaluate this derivative at each time value.  Finally, to reproduce Figure 2a, we plot the absolute value of the sensitivities.\n",
    "\n"
   ]
  },
  {
   "cell_type": "code",
   "execution_count": null,
   "id": "4a24fa1a",
   "metadata": {},
   "outputs": [],
   "source": [
    "from autograd import grad\n",
    "\n",
    "fdAdk1 = grad(A, 1)\n",
    "fdAdk_1 = grad(A, 2)\n",
    "\n",
    "# grad is not vectorized so we evaluate it for each t\n",
    "dAdk1 = [fdAdk1(_t, k1, k_1) for _t in t]\n",
    "dAdk_1 = [fdAdk_1(_t, k1, k_1) for _t in t]\n",
    "\n",
    "plt.plot(t, np.abs(dAdk1))\n",
    "plt.plot(t, np.abs(dAdk_1))\n",
    "plt.xlim([0, 0.5])\n",
    "plt.ylim([0, 0.1])\n",
    "plt.xlabel(\"t\")\n",
    "plt.legend([\"$S_{k1}$\", \"$S_{k\\_1}$\"]);"
   ]
  },
  {
   "cell_type": "markdown",
   "id": "dcb76fc4",
   "metadata": {},
   "source": [
    "That looks like the figure in the paper. To summarize the main takeaway, autograd enabled us to readily compute derivatives without having to derive them manually.\n",
    "\n"
   ]
  },
  {
   "cell_type": "markdown",
   "id": "9584af34",
   "metadata": {},
   "source": [
    "## Summary\n",
    "\n"
   ]
  },
  {
   "cell_type": "markdown",
   "id": "5d0eaa4c",
   "metadata": {
    "lines_to_next_cell": 2
   },
   "source": [
    "These are just some of *many* possible applications of automatic differentiation in mathematics and engineering. The key points you should take away from this is that it is often possible to program with derivatives, and to compute derivatives automatically in many cases. This enables you to think about writing programs that reflect the mathematical and scientific ideas you are trying to implement more directly, and in many cases less approximately.\n",
    "\n"
   ]
  }
 ],
 "metadata": {
  "kernelspec": {
   "display_name": "Python 3 (ipykernel)",
   "language": "python",
   "name": "python3"
  }
 },
 "nbformat": 4,
 "nbformat_minor": 5
}
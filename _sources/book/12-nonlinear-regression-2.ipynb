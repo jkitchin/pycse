{
 "cells": [
  {
   "cell_type": "markdown",
   "id": "6a24699c",
   "metadata": {},
   "source": [
    "# Uncertainty quantification in nonlinear regression\n",
    "\n",
    "- KEYWORDS: scipy.optimize.minimize\n"
   ]
  },
  {
   "cell_type": "markdown",
   "id": "dded75f3",
   "metadata": {},
   "source": [
    "## Uncertainty estimates from curvefit and scipy.optimize.minimize\n",
    "\n"
   ]
  },
  {
   "cell_type": "markdown",
   "id": "4e80221a",
   "metadata": {},
   "source": [
    "We previously examined how to estimate uncertainty from the covariance matrix returned from curve\\_fit. Recall we need the diagonal of the covariance matrix, which is estimated during the fitting.  The covariance matrix is related to the inverse Hessian matrix. We will explore how these are related here.\n",
    "\n",
    "We will consider fitting a line to the following data.\n",
    "\n"
   ]
  },
  {
   "cell_type": "code",
   "execution_count": null,
   "id": "afefb4db",
   "metadata": {},
   "outputs": [],
   "source": [
    "import numpy as np\n",
    "from scipy.optimize import curve_fit\n",
    "\n",
    "x = np.array([0.0, 2.5, 5.0, 7.5, 10.0])\n",
    "y = np.array([1.14, 1.91, 2.48, 2.2, 4.0])\n",
    "\n",
    "\n",
    "def model(x, m, b):\n",
    "    return m * x + b\n",
    "\n",
    "\n",
    "p, pcov = curve_fit(model, x, y, [0.2, 0.1])\n",
    "print(p)\n",
    "pcov"
   ]
  },
  {
   "cell_type": "markdown",
   "id": "f82592fb",
   "metadata": {},
   "source": [
    "`scipy.optimize.minimize` does not return the covariance matrix; with *some* of the methods, it returns an estimate of the inverse Hessian matrix. In theory, the covariance matrix and the inverse hessian are related to each other with $cov = 0.5 * H^{-1}$. Note this relationship is specific to the minimization of the summed squared errors.\n",
    "\n"
   ]
  },
  {
   "cell_type": "code",
   "execution_count": null,
   "id": "b8e673e3",
   "metadata": {},
   "outputs": [],
   "source": [
    "from scipy.optimize import minimize\n",
    "\n",
    "\n",
    "def model(pars, x):\n",
    "    x = np.array(x)\n",
    "    m, b = pars\n",
    "    return m * x + b\n",
    "\n",
    "\n",
    "def objective(pars):\n",
    "    errs = y - model(pars, x)\n",
    "    return np.sum(errs**2)\n",
    "\n",
    "\n",
    "sol = minimize(objective, [0.2, 1])\n",
    "print(sol.x)\n",
    "0.5 * sol.hess_inv"
   ]
  },
  {
   "cell_type": "markdown",
   "id": "85b097de",
   "metadata": {},
   "source": [
    "That doesn't look very good. **But**, remember that it is an *estimate* of the Hessian and we need to be careful about the accuracy. The minimizer terminates when the solution reaches the tolerance, *not* when the Hessian is accurate! If we increase the tolerance, we get a more accurate result.\n",
    "\n"
   ]
  },
  {
   "cell_type": "code",
   "execution_count": null,
   "id": "95842382",
   "metadata": {},
   "outputs": [],
   "source": [
    "sol = minimize(objective, [0.2, 1], tol=1e-9)\n",
    "print(sol.x)\n",
    "print(0.5 * sol.hess_inv)"
   ]
  },
  {
   "cell_type": "markdown",
   "id": "de1f36ed",
   "metadata": {},
   "source": [
    "With the increased accuracy, you can see the covariance is approximately equal to 1/2 the inverse Hessian. That means you can use it to estimate the uncertainty in the same way we did with curve\\_fit.\n",
    "\n",
    "Not all solvers generate the inverse Hessian matrix, e.g. `SLSQP` does not do it. You have three options. One is always to compute the Hessian analytically. The other two options rely on libraries that use automatic differentiation to compute the relevant derivatives. One is to use numdifftools (which you may have to install). Either way, you have to compute the Hessian on the objective function that is being minimized. One way to get this is to use a numerical package designed to compute this.\n",
    "\n"
   ]
  },
  {
   "cell_type": "markdown",
   "id": "37e8d1dc",
   "metadata": {},
   "source": [
    "Now, similar to what we did with `scipy.misc.derivative`, we can write a function and then use numdifftools to get the Hessian of the function. Here, we define the sum of the squared errors function, then create a Hessian function for that. We can use the Hessian function to evaluate the Hessian at the parameters at the minimum. We use `numpy.linalg.inv` to get the inverse of the Hessian to compute the covariance.\n",
    "\n"
   ]
  },
  {
   "cell_type": "code",
   "execution_count": null,
   "id": "29039ad6",
   "metadata": {},
   "outputs": [],
   "source": [
    "import numdifftools as nd\n",
    "\n",
    "\n",
    "def f(pars):\n",
    "    m, b = pars\n",
    "    return np.sum((y - (m * x + b)) ** 2)\n",
    "\n",
    "\n",
    "H = nd.Hessian(f)  # H is an executable function now that takes one argument, the pars.\n",
    "0.5 * np.linalg.inv(H(p))"
   ]
  },
  {
   "cell_type": "markdown",
   "id": "32975644",
   "metadata": {},
   "source": [
    "`numdifftools` ([https://pypi.org/project/numdifftools/](https://pypi.org/project/numdifftools/)) is a numerical differentiation package. It is more sophisticated than `scipy.misc.derivative` but is fundamentally still a numerical approximation to the derivatives. Now you can use these to estimate the uncertainties even for optimizers that don't provide the estimated inverse Hessian.\n",
    "\n",
    "Later we will learn about one more approach to getting the derivatives that is used in machine learning called automatic differentiation.\n",
    "\n"
   ]
  },
  {
   "cell_type": "markdown",
   "id": "9c1d22dd",
   "metadata": {},
   "source": [
    "## Effects of outliers on regression\n",
    "\n"
   ]
  },
  {
   "cell_type": "markdown",
   "id": "34a83a77",
   "metadata": {},
   "source": [
    "Outliers can have a significant effect on the fit of a model to data. Let's consider this example, where we want to fit a line to some data that has an outlier in it. This is just a linear regression, and we start out using `numpy.polyfit`.\n",
    "\n"
   ]
  },
  {
   "cell_type": "code",
   "execution_count": null,
   "id": "8ce7e31e",
   "metadata": {},
   "outputs": [],
   "source": [
    "import numpy as np\n",
    "import matplotlib.pyplot as plt\n",
    "\n",
    "x = [0.0, 2.5, 5.0, 7.5, 10.0]\n",
    "y = [1.14, 1.91, 2.48, 2.2, 4.0]\n",
    "#                            ^\n",
    "#                            |\n",
    "#                         outlier\n",
    "\n",
    "p = np.polyfit(x, y, 1)\n",
    "print(p)\n",
    "xfit = np.linspace(0, 10)\n",
    "\n",
    "plt.plot(x, y, \"bo\")\n",
    "plt.plot(xfit, np.polyval(p, xfit))\n",
    "plt.xlabel(\"x\")\n",
    "plt.ylabel(\"y\");"
   ]
  },
  {
   "cell_type": "markdown",
   "id": "3a6a69a1",
   "metadata": {},
   "source": [
    "You can see that the fitted line is \"dragged\" towards the outlier. We say that least squares minimization is not *robust* to outliers.\n",
    "\n",
    "This may be undesirable because if you believe there is an outlier, perhaps due to experimental error, then this point affects the accuracy of the model more than the other points you believe to be more accurate.\n",
    "\n",
    "Today we will consider a variety of approaches to minimize the effects of outliers. We first begin by re-examining how these parameters are obtained. Here, we illustrate that the results from polyfit are equivalent to minimizing the summed squared errors between the model and the data.\n",
    "\n"
   ]
  },
  {
   "cell_type": "code",
   "execution_count": null,
   "id": "89d41a0f",
   "metadata": {},
   "outputs": [],
   "source": [
    "from scipy.optimize import minimize\n",
    "\n",
    "\n",
    "def model(pars, x):\n",
    "    x = np.array(x)\n",
    "    m, b = pars\n",
    "    return m * x + b\n",
    "\n",
    "\n",
    "def objective(pars):\n",
    "    errs = y - model(pars, x)\n",
    "    return np.sum(errs**2)\n",
    "\n",
    "\n",
    "minimize(objective, [0.2, 1])"
   ]
  },
  {
   "cell_type": "markdown",
   "id": "b06a9198",
   "metadata": {},
   "source": [
    "The problem is that we are minimizing the error<sup>2</sup>, which puts more weight on large errors than small errors.\n",
    "\n",
    "Least squares regression is also called L<sub>2</sub> norm regression, that is we minimize the L<sub>2</sub> norm of the vector.\n",
    "\n"
   ]
  },
  {
   "cell_type": "markdown",
   "id": "df13c37e",
   "metadata": {},
   "source": [
    "### Minimizing the summed absolute errors\n",
    "\n"
   ]
  },
  {
   "cell_type": "markdown",
   "id": "c9f4232b",
   "metadata": {},
   "source": [
    "We can choose to minimize another objective function, for example the summed absolute value of the errors. This will reduce the emphasis on large errors. This is  also called L<sub>1</sub> norm regression.\n",
    "\n"
   ]
  },
  {
   "cell_type": "code",
   "execution_count": null,
   "id": "e7eed8a3",
   "metadata": {},
   "outputs": [],
   "source": [
    "def objective(pars):\n",
    "    errs = y - model(pars, x)\n",
    "    return np.sum(np.abs(errs))\n",
    "\n",
    "\n",
    "L1_sol = minimize(objective, [0.2, 1])\n",
    "print(L1_sol.x)\n",
    "plt.plot(x, y, \"bo\")\n",
    "plt.plot(xfit, model(L1_sol.x, xfit));"
   ]
  },
  {
   "cell_type": "markdown",
   "id": "a28af257",
   "metadata": {},
   "source": [
    "There is a historical reason this is not done a lot, and that is the absolute value function has a discontinuity in its first derivative at the origin which can be problematic in some optimization algorithms. It is obviously not a problem here, and you can see that the outlier has less of an effect on the fitted line in this case.\n",
    "\n",
    "Finally, we can generalize these ideas to something called L<sub>p</sub> norm regressions where we seek to minimize:\n",
    "\n",
    "$\\sum |\\epsilon_i|^p$\n",
    "\n",
    "In [this paper](https://www.tandfonline.com/doi/abs/10.1080/00401706.1972.10488892) a value of $p=1.5$ is recommended for general use. Note this is less than two, and greater than one, so it is expected to have an intermediate effect compared to L<sub>1</sub> and L<sub>2</sub> norm regression.\n",
    "\n"
   ]
  },
  {
   "cell_type": "code",
   "execution_count": null,
   "id": "2a80f449",
   "metadata": {},
   "outputs": [],
   "source": [
    "def objective(pars):\n",
    "    p = 1.5\n",
    "    errs = y - model(pars, x)\n",
    "    return np.sum(np.abs(errs) ** p)\n",
    "\n",
    "\n",
    "Lp_sol = minimize(objective, [0.2, 1])\n",
    "print(Lp_sol.x)\n",
    "plt.plot(x, y, \"bo\")\n",
    "plt.plot(xfit, model(Lp_sol.x, xfit));"
   ]
  },
  {
   "cell_type": "markdown",
   "id": "a03741c6",
   "metadata": {},
   "source": [
    "The downside of these approaches is that they complicate the analysis of uncertainty. The uncertainty analysis we have considered so far is only formally correct when we minimize the summed squared errors. It is only approximately correct when something else is minimized.\n",
    "\n"
   ]
  },
  {
   "cell_type": "markdown",
   "id": "ed4c4922",
   "metadata": {},
   "source": [
    "### Robust regression approaches\n",
    "\n"
   ]
  },
  {
   "cell_type": "markdown",
   "id": "d0b37568",
   "metadata": {},
   "source": [
    "An alternative approach to least squares or absolute error minimization is called robust regression (see Applied Regression Analysis, 3rd edition, Draper and Smith, chapter 25). This is a class of methods that uses a different metric to minimize in the objective function.\n",
    "\n",
    "The simplest approach is to minimize the median of the squared error. Note that minimizing the sum of squared errors is practically like minimizing the average or mean squared error. If you have a symmetric distribution of errors, then the mean and median are practically the same. If there is an outlier, however, the mean will be skewed towards the outlier, while the median will be at a position that splits the distribution in half, and is closer to what you believe the mean to be.\n",
    "\n",
    "Here we show that given an asymmetric distribution, the median is smaller than the mean.\n",
    "\n"
   ]
  },
  {
   "cell_type": "code",
   "execution_count": null,
   "id": "918a648f",
   "metadata": {},
   "outputs": [],
   "source": [
    "errs = np.array([0.1, 0.01, 0.05, 0.02, 0.8])\n",
    "s = errs**2\n",
    "plt.hist(s, density=True)\n",
    "plt.axvline(np.mean(s), color=\"r\")\n",
    "plt.axvline(np.median(s), color=\"k\")\n",
    "plt.legend([\"mean\", \"median\"])\n",
    "plt.xlabel(\"\");"
   ]
  },
  {
   "cell_type": "markdown",
   "id": "d056cb74",
   "metadata": {},
   "source": [
    "#### Least Median regression\n",
    "\n"
   ]
  },
  {
   "cell_type": "markdown",
   "id": "8dbccc02",
   "metadata": {},
   "source": [
    "It is straightforward to modify the objective function to minimize the median of the squared errors.\n",
    "\n"
   ]
  },
  {
   "cell_type": "code",
   "execution_count": null,
   "id": "dcb46b1f",
   "metadata": {},
   "outputs": [],
   "source": [
    "def objective(pars):\n",
    "    errs = y - model(pars, x)\n",
    "    return np.median(errs**2)\n",
    "\n",
    "\n",
    "LMS_sol = minimize(objective, [0.2, 1])\n",
    "print(LMS_sol.x)\n",
    "plt.plot(x, y, \"bo\")\n",
    "plt.plot(xfit, model(LMS_sol.x, xfit));"
   ]
  },
  {
   "cell_type": "markdown",
   "id": "66b0d405",
   "metadata": {},
   "source": [
    "### Weighted nonlinear regression\n",
    "\n"
   ]
  },
  {
   "cell_type": "markdown",
   "id": "44832cd5",
   "metadata": {},
   "source": [
    "Outliers often are associated with larger uncertainties about their values. An alternative approach to the methods described above is to use weights to say how important each data point is. This example is adapted from [https://www.mathworks.com/help/stats/examples/weighted-nonlinear-regression.html](https://www.mathworks.com/help/stats/examples/weighted-nonlinear-regression.html).\n",
    "\n"
   ]
  },
  {
   "cell_type": "code",
   "execution_count": null,
   "id": "151f882f",
   "metadata": {},
   "outputs": [],
   "source": [
    "import numpy as np\n",
    "import matplotlib.pyplot as plt\n",
    "\n",
    "x = [1, 2, 3, 5, 7, 10]\n",
    "y = [109, 149, 149, 191, 213, 224]\n",
    "plt.plot(x, y, \"bo\")\n",
    "plt.xlabel(\"Incubation (days)\")\n",
    "plt.ylabel(\"BOD\");"
   ]
  },
  {
   "cell_type": "markdown",
   "id": "b8e723b5",
   "metadata": {},
   "source": [
    "The aim of this work is to fit a nonlinear model $y= a (1 - e^{-b x})$ to this data. We first consider a standard minimization of the sum squared errors. Inspection of the model suggests at large x, $a$ is a plateau value, which we can read from the graph. For the value of $b$, we might estimate a half-life at about one day and solve $110 = 240(1 - e^-b)$\n",
    "\n"
   ]
  },
  {
   "cell_type": "code",
   "execution_count": null,
   "id": "a79576c8",
   "metadata": {},
   "outputs": [],
   "source": [
    "-np.log(-(110 / 240 - 1))"
   ]
  },
  {
   "cell_type": "code",
   "execution_count": null,
   "id": "24382583",
   "metadata": {},
   "outputs": [],
   "source": [
    "def model(pars, x):\n",
    "    a, b = pars\n",
    "    x = np.array(x)\n",
    "    return a * (1 - np.exp(-b * x))\n",
    "\n",
    "\n",
    "def objective(pars):\n",
    "    errs = y - model(pars, x)\n",
    "    return np.sum(errs**2)\n",
    "\n",
    "\n",
    "guesses = [240, 0.6]\n",
    "\n",
    "from scipy.optimize import minimize\n",
    "\n",
    "sol = minimize(objective, guesses)\n",
    "pars = sol.x\n",
    "\n",
    "plt.plot(x, y, \"bo\")\n",
    "xfit = np.linspace(0, 10)\n",
    "plt.plot(xfit, model(pars, xfit))\n",
    "plt.xlabel(\"Incubation (days)\")\n",
    "plt.ylabel(\"BOD\");"
   ]
  },
  {
   "cell_type": "markdown",
   "id": "f0d536a8",
   "metadata": {},
   "source": [
    "The fit generally goes through the data, but it is not clear if there is a small outlier near 2 that is skewing the fit, and perhaps leading to an inaccurate asymptote at long times.\n",
    "\n",
    "Suppose, however, that these data points represent averages from multiple measurements, and we only measured the first two points once, and the rest of the points 5 times. In this case, we might want to put more *weight* on the points we measured multiple times.\n",
    "\n",
    "We achieve this by modifying the objective function, in this case multiplying each error by the number of times the measurement was made. This makes reducing errors on points we measured a lot more important than the points we measured less.\n",
    "\n"
   ]
  },
  {
   "cell_type": "code",
   "execution_count": null,
   "id": "3ca02dec",
   "metadata": {},
   "outputs": [],
   "source": [
    "w = np.array([1, 1, 5, 5, 5, 5])\n",
    "\n",
    "\n",
    "def objective(pars):\n",
    "    errs = (y - model(pars, x)) * w\n",
    "    return np.sum(errs**2)\n",
    "\n",
    "\n",
    "guesses = [240, 0.5]\n",
    "\n",
    "from scipy.optimize import minimize\n",
    "\n",
    "sol = minimize(objective, guesses)\n",
    "pars = sol.x\n",
    "print(pars)\n",
    "plt.plot(x, y, \"bo\")\n",
    "xfit = np.linspace(0, 10)\n",
    "plt.plot(xfit, model(pars, xfit))\n",
    "plt.xlabel(\"Incubation (days)\")\n",
    "plt.ylabel(\"BOD\");"
   ]
  },
  {
   "cell_type": "markdown",
   "id": "91aefc46",
   "metadata": {},
   "source": [
    "The result here is that the model fits the points we measured a lot better than the points we measured once.\n",
    "\n",
    "There are many ways you could choose to weight the points depending on what you know about them. If you have uncertainties about the measured data, you can weight the points accordingly, e.g. defining the weights as inversely proportional to the uncertainty.\n",
    "\n"
   ]
  },
  {
   "cell_type": "markdown",
   "id": "ff4a34a7",
   "metadata": {},
   "source": [
    "## Summary\n",
    "\n"
   ]
  },
  {
   "cell_type": "markdown",
   "id": "516f808f",
   "metadata": {
    "lines_to_next_cell": 2
   },
   "source": [
    "Regression is an important technical skill required in modern engineering. It is the method which we use to convert data into models. Sometimes it is the parameters that are important, e.g. when they represent properties of a system that we are interested in. Sometimes it is the model that is interesting, e.g. when we need to use it for optimization or predictions.\n",
    "\n",
    "At the core, regression involves minimization of some error function. The standard method is to minimize the summed squared error between the model and data. There are some benefits to this method: it is straight forward and there are well established methods to estimate the uncertainty in the parameters. However, it is known to be sensitive to outliers.\n",
    "\n",
    "A variety of alternative approaches exist to reduce the influence of outliers, including minimizing the summed absolute errors, robust regression methods, and weighted regression methods. It is not always obvious what the right method to use is, this takes experience and an understanding of what you know about the model, the data, and the goals of the regression.\n",
    "\n"
   ]
  }
 ],
 "metadata": {
  "kernelspec": {
   "display_name": "Python 3 (ipykernel)",
   "language": "python",
   "name": "python3"
  }
 },
 "nbformat": 4,
 "nbformat_minor": 5
}
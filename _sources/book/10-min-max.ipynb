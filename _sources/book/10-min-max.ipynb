{
 "cells": [
  {
   "cell_type": "markdown",
   "id": "0f0cb321",
   "metadata": {},
   "source": [
    "# Introduction to optimization\n",
    "\n",
    "- KEYWORDS: scipy.optimize.minimize\n"
   ]
  },
  {
   "cell_type": "markdown",
   "id": "0951caa2",
   "metadata": {},
   "source": [
    "## Function extrema\n",
    "\n"
   ]
  },
  {
   "cell_type": "markdown",
   "id": "24915071",
   "metadata": {},
   "source": [
    "It is pretty common to need to find extreme values of a function in engineering analysis. An extreme value is often a maximum or minimum in a function, and we seek them when we want to maximize a profit function, or minimize a cost function, identify a maximum safe operating condition, etc.\n",
    "\n",
    "Let's consider an example function with a graphical solution approach. We want a quantitative estimate of the minimum in this function.\n",
    "\n"
   ]
  },
  {
   "cell_type": "code",
   "execution_count": null,
   "id": "bfae2d03",
   "metadata": {},
   "outputs": [],
   "source": [
    "import numpy as np\n",
    "import matplotlib.pyplot as plt\n",
    "\n",
    "\n",
    "def f(x):\n",
    "    return x**2 + np.exp(-5 * x**2)\n",
    "\n",
    "\n",
    "x = np.linspace(0, 2)\n",
    "y = f(x)\n",
    "plt.plot(x, y);"
   ]
  },
  {
   "cell_type": "markdown",
   "id": "be68fa1d",
   "metadata": {},
   "source": [
    "You can see there is a minimum near 0.6. We can find the minimum in a crude kind of way by finding the index of the minimum value in the y-array, and then getting the corresponding value of the x-array. You control the accuracy of this answer by the number of points you discretize the function over.\n",
    "\n"
   ]
  },
  {
   "cell_type": "code",
   "execution_count": null,
   "id": "a6cb814d",
   "metadata": {},
   "outputs": [],
   "source": [
    "x = np.linspace(0, 2, 50)\n",
    "y = f(x)\n",
    "i = np.argmin(y)\n",
    "x[i]"
   ]
  },
  {
   "cell_type": "markdown",
   "id": "83c0a405",
   "metadata": {},
   "source": [
    "What are the pros and cons of this method:\n",
    "\n",
    "Pros:\n",
    "\n",
    "1.  It is *easy*.\n",
    "2.  You *see* the whole domain you are looking at, and it is easy to see how many extrema their are\n",
    "\n",
    "Cons:\n",
    "\n",
    "1.  *Lot's* of function evaluations. Imagine if it took a long time to compute each value.\n",
    "2.  Somewhat tedious.\n",
    "3.  Not so easy to reproduce\n",
    "4.  Not scalable to large problems, your time to do this becomes a limiting factor.\n",
    "\n"
   ]
  },
  {
   "cell_type": "markdown",
   "id": "062bd53b",
   "metadata": {},
   "source": [
    "### Find the derivative, and solve for where it is zero\n",
    "\n"
   ]
  },
  {
   "cell_type": "markdown",
   "id": "c3f18587",
   "metadata": {},
   "source": [
    "We can also derive the first derivative:\n",
    "\n",
    "$y' = 2 * x + e^{-5 x^2} (-10 * x)$\n",
    "\n",
    "and solve it for zero using fsolve.\n",
    "\n"
   ]
  },
  {
   "cell_type": "code",
   "execution_count": null,
   "id": "364432c9",
   "metadata": {},
   "outputs": [],
   "source": [
    "def yp(x):\n",
    "    return 2 * x + np.exp(-5 * x**2) * (-10 * x)\n",
    "\n",
    "\n",
    "from scipy.optimize import fsolve\n",
    "\n",
    "fsolve(yp, 0.5)"
   ]
  },
  {
   "cell_type": "markdown",
   "id": "b7dc1209",
   "metadata": {},
   "source": [
    "These two answer agree to 5 decimal places.\n",
    "\n",
    "This depends on your ability to correctly derive and implement the derivative. It is good to know you can solve this problem by more than one method. Here, we use a numerical derivative in the function instead to check our derivative. You can check the convergence of the derivative by varying the dx.\n",
    "\n"
   ]
  },
  {
   "cell_type": "code",
   "execution_count": null,
   "id": "03c7043f",
   "metadata": {},
   "outputs": [],
   "source": [
    "from scipy.misc import derivative\n",
    "\n",
    "\n",
    "def ypd(x):\n",
    "    return derivative(f, x, dx=1e-6)\n",
    "\n",
    "\n",
    "fsolve(ypd, 0.5)"
   ]
  },
  {
   "cell_type": "markdown",
   "id": "0f4c0f5d",
   "metadata": {},
   "source": [
    "These look the same within tolerance. This is not a beautiful solution, but it is hard to argue with success here!\n",
    "\n"
   ]
  },
  {
   "cell_type": "markdown",
   "id": "eccade9b",
   "metadata": {},
   "source": [
    "### Newton-Raphson method of minima finding\n",
    "\n"
   ]
  },
  {
   "cell_type": "markdown",
   "id": "b267a68a",
   "metadata": {},
   "source": [
    "To use the Newton-Raphson method to get the minimum, we use an iterative approach with:\n",
    "\n",
    "$x_{n+1} = x_n - \\frac{y'(x_n)}{y''(x_n)}$.\n",
    "\n",
    "We have to derive these formulas if you want to use analytical derivatives:\n",
    "\n",
    "$y' = 2 * x + e^{-5 x^2} (-10 * x)$\n",
    "\n",
    "$y'' = 2 + e^{-5 x^2} (-10 * x)^2 - 10 e^{-5 x^2}$\n",
    "\n",
    "Alternatively, we can estimate the derivatives numerically using `scipy.misc.derivative`. This has the downside of numerical instability for dx that is too small, or low accuracy if it is too large, and the need to check if you made a good choice for it. On the plus side, it avoids making mistakes in the derivative derivation and implementation.\n",
    "\n"
   ]
  },
  {
   "cell_type": "code",
   "execution_count": null,
   "id": "141c7e13",
   "metadata": {},
   "outputs": [],
   "source": [
    "from scipy.misc import derivative\n",
    "\n",
    "x0 = 0.2\n",
    "f0 = f(x0)\n",
    "\n",
    "for i in range(15):\n",
    "    yp = derivative(f, x0, dx=1e-6, n=1)\n",
    "    ypp = derivative(f, x0, dx=1e-6, n=2)\n",
    "    xnew = x0 - yp / ypp\n",
    "    fnew = f(xnew)\n",
    "\n",
    "    if np.abs(yp) <= 1e-6:\n",
    "        break\n",
    "    x0 = xnew\n",
    "    f0 = fnew\n",
    "\n",
    "\n",
    "xnew, fnew, yp, i"
   ]
  },
  {
   "cell_type": "markdown",
   "id": "78d990ea",
   "metadata": {},
   "source": [
    "This answer also agrees to at least 5 decimal places. This is the gist of what happens in fsolve.\n",
    "\n",
    "As we have seen many times, finding minima is such a common task that there are dedicated functions available for doing it. One of the is `scipy.optimize.fmin`. This has a similar signature as `scipy.optimize.fsolve`, you give it a function and an initial guess, and it iteratively searches for a minimum.\n",
    "\n"
   ]
  },
  {
   "cell_type": "markdown",
   "id": "78cd365e",
   "metadata": {},
   "source": [
    "## scipy.optimize.minimize\n",
    "\n"
   ]
  },
  {
   "cell_type": "code",
   "execution_count": null,
   "id": "36b55900",
   "metadata": {},
   "outputs": [],
   "source": [
    "from scipy.optimize import minimize\n",
    "\n",
    "minimize?"
   ]
  },
  {
   "cell_type": "markdown",
   "id": "c30b30ba",
   "metadata": {},
   "source": [
    "Here is the basic use of fmin. As always, we should plot the answer where feasible to make sure it is the minimum we wanted.\n",
    "\n"
   ]
  },
  {
   "cell_type": "code",
   "execution_count": null,
   "id": "4c7ef084",
   "metadata": {},
   "outputs": [],
   "source": [
    "def f(x):\n",
    "    return x**2 + np.exp(-5 * x**2)\n",
    "\n",
    "\n",
    "guess = 0.5\n",
    "sol = minimize(f, guess)\n",
    "sol"
   ]
  },
  {
   "cell_type": "code",
   "execution_count": null,
   "id": "c1709657",
   "metadata": {},
   "outputs": [],
   "source": [
    "x = np.linspace(0, 2)\n",
    "y = f(x)\n",
    "\n",
    "plt.plot(x, y, \"b-\")\n",
    "plt.plot(sol.x, f(sol.x), \"ro\")\n",
    "plt.xlabel(\"x\")\n",
    "plt.ylabel(\"y\")\n",
    "plt.legend([\"f(x)\", \"fmin\"]);"
   ]
  },
  {
   "cell_type": "markdown",
   "id": "b0bed997",
   "metadata": {},
   "source": [
    "Note this answer is only the same in the first 4 decimal places. Remember that these iterative approaches stop when a tolerance is met. Check the defaults on fmin!\n",
    "\n"
   ]
  },
  {
   "cell_type": "markdown",
   "id": "fdea7026",
   "metadata": {},
   "source": [
    "### Multiple minima\n",
    "\n"
   ]
  },
  {
   "cell_type": "markdown",
   "id": "675042c7",
   "metadata": {},
   "source": [
    "It is possible for functions to have more than one minimum. In this case, your guess will determine which minimum is found. Here is an example where there is a minimum near 2.2, and one near 4.5.\n",
    "\n"
   ]
  },
  {
   "cell_type": "code",
   "execution_count": null,
   "id": "a3d12a3d",
   "metadata": {},
   "outputs": [],
   "source": [
    "def h(x):\n",
    "    return 2 + np.cos(x) + np.cos(2 * x - 0.5) / 2\n",
    "\n",
    "\n",
    "x = np.linspace(0, 2 * np.pi)\n",
    "\n",
    "plt.plot(x, h(x))\n",
    "plt.xlabel(\"x\")\n",
    "plt.ylabel(\"h(x)\");"
   ]
  },
  {
   "cell_type": "markdown",
   "id": "c07d23ad",
   "metadata": {},
   "source": [
    "This guess finds the one near 2.2:\n",
    "\n"
   ]
  },
  {
   "cell_type": "code",
   "execution_count": null,
   "id": "2d63894f",
   "metadata": {},
   "outputs": [],
   "source": [
    "minimize(h, 2)"
   ]
  },
  {
   "cell_type": "markdown",
   "id": "73273a4d",
   "metadata": {},
   "source": [
    "and this guess finds the one near 4.5\n",
    "\n"
   ]
  },
  {
   "cell_type": "code",
   "execution_count": null,
   "id": "5e1b247f",
   "metadata": {},
   "outputs": [],
   "source": [
    "minimize(h, 4)"
   ]
  },
  {
   "cell_type": "markdown",
   "id": "fd7e96e5",
   "metadata": {},
   "source": [
    "You have to decide which one is better for the problem at hand. If this were a cost function, the one at the lower cost is probably better! Note that all we can say here is which one is lower in the interval we are looking at. By inspection of the function, you can see it will be periodic, so there will be many other minima that also exist.\n",
    "\n"
   ]
  },
  {
   "cell_type": "markdown",
   "id": "93765bf3",
   "metadata": {},
   "source": [
    "### Finding maxima\n",
    "\n"
   ]
  },
  {
   "cell_type": "markdown",
   "id": "c06caa67",
   "metadata": {},
   "source": [
    "`fmin` is for finding *minima*. We can use it to find maxima though, but finding the *minima* of $-f(x)$. You can see here that when we plot $-h(x)$ the minima become maxima, and vice-versa. Now you can see there are two definite minima, one near zero, and one near 3.5, which correspond to the maxima of $h(x)$.\n",
    "\n"
   ]
  },
  {
   "cell_type": "code",
   "execution_count": null,
   "id": "ffadf558",
   "metadata": {},
   "outputs": [],
   "source": [
    "plt.plot(x, -h(x))\n",
    "plt.xlabel(\"x\")\n",
    "plt.ylabel(\"-h(x)\");"
   ]
  },
  {
   "cell_type": "markdown",
   "id": "1308f243",
   "metadata": {},
   "source": [
    "The standard way to use fmin is to define an optional argument for the sign that defaults to one. Then, when we call fmin, we will pass -1 as the sign to the function, so we find the minimum of -h(x). Then, we evaluate h(x) at that x-value to get the actual value of the maximum. It is not necessary do this, you can also manually pass around the sign and try to keep it straight.\n",
    "\n",
    "Here is an example to find the maximum near 3.5.\n",
    "\n"
   ]
  },
  {
   "cell_type": "code",
   "execution_count": null,
   "id": "95f90912",
   "metadata": {},
   "outputs": [],
   "source": [
    "def h(x, sign=1):\n",
    "    return sign * (2 + np.cos(x) + np.cos(2 * x - 0.5) / 2)\n",
    "\n",
    "\n",
    "sol = minimize(h, 3.5, args=(-1,))  # set sign=-1 here to minimize -h(x)\n",
    "print(h(sol.x))  # sign defaults to 1 here, so we get the maximum value\n",
    "\n",
    "plt.plot(x, h(x))\n",
    "plt.plot(sol.x, h(sol.x), \"ro\")\n",
    "plt.xlabel(\"x\")\n",
    "plt.ylabel(\"h(x)\");"
   ]
  },
  {
   "cell_type": "markdown",
   "id": "553661f9",
   "metadata": {},
   "source": [
    "Once again, here you have to decide which maximum is relevant\n",
    "\n"
   ]
  },
  {
   "cell_type": "markdown",
   "id": "662798f8",
   "metadata": {},
   "source": [
    "### Application to maximizing profit in a PFR\n",
    "\n"
   ]
  },
  {
   "cell_type": "markdown",
   "id": "089fda46",
   "metadata": {},
   "source": [
    "Compound X with concentration of $C_{X0} = 2.5$ kmol / m<sup>3</sup> at a flow rate of 12 m<sup>3</sup>/min is converted to Y in a first order reaction with a rate constant of 30 1/min in a tubular reactor. The value of Y is $1.5/kmol. The cost of operation is $2.50 per minute per m<sup>3</sup>. Find the reactor length that maximizes the profit (profit is value of products minus operating costs).\n",
    "\n",
    "First, consider why there is a maximum. At low volumes the operating cost is low, and the production of Y is low. At high volumes, you maximize production of Y, so you have the most value, but the operating costs go up (to infinity for complete conversion!). Somewhere in the middle is where a maximum is.\n",
    "\n",
    "Here are some relevant constants.\n",
    "\n"
   ]
  },
  {
   "cell_type": "code",
   "execution_count": null,
   "id": "5c473242",
   "metadata": {},
   "outputs": [],
   "source": [
    "cost = 2.5  # dollar/min/m**3\n",
    "y_value = 1.5  # dollar / mol\n",
    "\n",
    "Cx0 = 2.5  # kmol / m**3\n",
    "v0 = 12.0  # m**3 / min\n",
    "\n",
    "k = 30.0  # 1/min"
   ]
  },
  {
   "cell_type": "markdown",
   "id": "7b1114c1",
   "metadata": {},
   "source": [
    "To compute the profit as a function of reactor volume, we need to compute how much Y is produced, then multiply that by the value of Y and subtract the operating cost. To compute how much Y is produced, we use a mole balance on X and Y, and integrate it to the volume to get the molar flows of X and Y. I like to write mole balances like this.\n",
    "\n"
   ]
  },
  {
   "cell_type": "code",
   "execution_count": null,
   "id": "32459660",
   "metadata": {},
   "outputs": [],
   "source": [
    "def dFdV(V, F):\n",
    "    \"PFR mole balances on X and Y.\"\n",
    "    Fx, Fy = F\n",
    "    Cx = Fx / v0\n",
    "    rx = -k * Cx\n",
    "    ry = -rx\n",
    "\n",
    "    dFdX = rx\n",
    "    dFdY = ry\n",
    "    return [dFdX, dFdY]\n",
    "\n",
    "\n",
    "F0 = [\n",
    "    Cx0 * v0,  # Fx0\n",
    "    0.0,\n",
    "]  # Fy0"
   ]
  },
  {
   "cell_type": "markdown",
   "id": "bd9b24f9",
   "metadata": {},
   "source": [
    "Now, we can write a profit function. It will take a V as the argument, integrate the PFR to that volume to find the molar exit flow rates, and then compute the profit.\n",
    "\n"
   ]
  },
  {
   "cell_type": "code",
   "execution_count": null,
   "id": "aeaf1629",
   "metadata": {},
   "outputs": [],
   "source": [
    "import numpy as np\n",
    "from scipy.integrate import solve_ivp\n",
    "\n",
    "\n",
    "def profit(V, sign=1):\n",
    "    Vspan = (0, V)\n",
    "    sol = solve_ivp(dFdV, Vspan, F0)\n",
    "    Fx, Fy = sol.y\n",
    "    Fy_exit = Fy[-1]\n",
    "    return sign * (Fy_exit * y_value - cost * V)"
   ]
  },
  {
   "cell_type": "markdown",
   "id": "ab55e3a8",
   "metadata": {},
   "source": [
    "It is always a good idea to plot the profit function. We use a list comprehension here because the profit function is not *vectorized*, which means we cannot pass an array of volumes in and get an array of profits out.\n",
    "\n"
   ]
  },
  {
   "cell_type": "code",
   "execution_count": null,
   "id": "c4a0f4c2",
   "metadata": {},
   "outputs": [],
   "source": [
    "Vspan = np.linspace(0, 4)\n",
    "profit_array = [profit(V) for V in Vspan]\n",
    "\n",
    "import matplotlib.pyplot as plt\n",
    "\n",
    "plt.plot(Vspan, profit_array)\n",
    "plt.xlabel(\"V\")\n",
    "plt.ylabel(\"profit\");"
   ]
  },
  {
   "cell_type": "markdown",
   "id": "64ad21ce",
   "metadata": {},
   "source": [
    "You can see from this plot there is a maximum near V=1.5. We can use that as a guess for fmin.\n",
    "\n"
   ]
  },
  {
   "cell_type": "code",
   "execution_count": null,
   "id": "deab50bf",
   "metadata": {},
   "outputs": [],
   "source": [
    "from scipy.optimize import fmin\n",
    "\n",
    "sol = minimize(profit, 1.5, args=(-1,))\n",
    "\n",
    "print(f\"The optimal volume is {sol.x[0]:1.2f} m^3 with a profit of ${profit(sol.x[0]):1.2f}.\")"
   ]
  },
  {
   "cell_type": "markdown",
   "id": "a7c89acc",
   "metadata": {},
   "source": [
    "This problem highlights the opportunities we have to integrate many ideas together to solve complex problems. We have integration of an ODE, nonlinear algebra/minimization, with graphical estimates of the solution.\n",
    "\n",
    "**Challenge** Can you solve this with an event and solve\\_ivp?\n",
    "\n"
   ]
  },
  {
   "cell_type": "markdown",
   "id": "252113de",
   "metadata": {},
   "source": [
    "## Summary\n",
    "\n"
   ]
  },
  {
   "cell_type": "markdown",
   "id": "93be750a",
   "metadata": {
    "lines_to_next_cell": 2
   },
   "source": [
    "Today we introduced the concept of finding minima/maxima in functions. This is an iterative process, much like finding the roots of a nonlinear function. You can think of it as finding the zeros of the derivative of a nonlinear function! This method is the root of many important optimization problems including regression.\n",
    "\n",
    "`scipy.optimize.minimize` is the preferred function for doing minimization. There are other more specific ones described at [https://docs.scipy.org/doc/scipy/reference/optimize.html](https://docs.scipy.org/doc/scipy/reference/optimize.html), but `minimize` has a more consistent interface and provides almost all the functionality of those other methods.\n",
    "\n",
    "Next time, we will look at how to apply minimization to regression problems.\n",
    "\n"
   ]
  }
 ],
 "metadata": {
  "kernelspec": {
   "display_name": "Python 3 (ipykernel)",
   "language": "python",
   "name": "python3"
  }
 },
 "nbformat": 4,
 "nbformat_minor": 5
}
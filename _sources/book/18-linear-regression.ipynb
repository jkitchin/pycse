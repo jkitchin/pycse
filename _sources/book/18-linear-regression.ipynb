{
 "cells": [
  {
   "cell_type": "markdown",
   "id": "960f842b",
   "metadata": {},
   "source": [
    "# Linear regression\n",
    "\n",
    "- KEYWORDS: numpy.linalg.solve"
   ]
  },
  {
   "cell_type": "markdown",
   "id": "89be3010",
   "metadata": {},
   "source": [
    "In linear regression, we seek to find models in the form $y = a_{0} f_{0}(x) + a_{1} f_{1}(x) + ... + a_{n} f_{n}(x) + \\epsilon$, where $a_{i}$ are coefficients to be determined, and &epsilon; are the residual errors. We call this linear regression because the model is linear in the unknown coefficients $a_{i}$. The functions can be any function of $x$. In the function `numpy.polyfit` these functions are polynomials in $x$.\n",
    "\n",
    "If we are given some data as pairs of (x, y), we can construct a set of equations of the form:\n",
    "\n",
    "$[f_{0}(x_{i}), f_{1}(x_{i}), ..., f_{n}(x_{i})]\\cdot[a_{0}, a_{1}, ...,  a_{n}]^T = y_{i}$\n",
    "\n",
    "There will be one of these equations for every data point, so we end up with a matrix equation that looks like:\n",
    "\n",
    "$\\mathbf{X} \\mathbf{a} = \\mathbf{y}$\n",
    "\n",
    "There are *usually* more data points than in the vector of $\\mathbf{a}$, so the shapes of these arrays are not suitable to solve directly. You can of course set up an objective function and use `scipy.optimize.minimize`, but there is a better approach.\n",
    "\n",
    "To be a little more specific, suppose we have $m$ pairs of $(x, y)$ data points, and we want to fit a model containing $n$ parameters. Then, the dimensions of the $\\mathbf{X}$ will be $(m, n)$, the dimensions of $\\mathbf{a}$ will be $(n, 1)$, and the dimensions of $\\mathbf{y}$ will be $(m, 1)$.  We have more equations than unknowns here, and we cannot use `numpy.linalg.solve` because \\mathbf{X} is not square. Note that if it was square, we would be doing the kind of interpolation we described in the last lecture.\n",
    "\n",
    "We can modify the equation though if we *left multiply* each side of the equation by $\\mathbf{X}^T$.\n",
    "\n",
    "$\\mathbf{X}^T \\mathbf{X} \\mathbf{a} = \\mathbf{X}^T \\mathbf{y}$\n",
    "\n",
    "The array $\\mathbf{X}^T \\mathbf{X}$ now has the shape $(n, m) * (m, n) = (n, n)$. The right hand side $\\mathbf{X}^T \\mathbf{y}$ has a shape of $(n, m) * (m, 1) = (n, 1)$, and $\\mathbf{a}$ is still $(n, 1)$. This new matrix equation can be solved efficiently with `numpy.linalg.solve`. We will not prove this, but solving this modified equation *is equivalent* to finding the set of parameters that minimizes the summed squared errors: $\\sum (\\mathbf{X} \\cdot \\mathbf{a} - \\mathbf{y})^2$.\n",
    "\n",
    "The parameters are then found by:\n",
    "\n"
   ]
  },
  {
   "cell_type": "markdown",
   "id": "8630f5f3",
   "metadata": {},
   "source": [
    "a = (X.T @ X).inv @ X.T @ y\n",
    "or in Python as\n",
    "\n",
    "    np.linalg.solve(X @ X.T, X.T @ y)"
   ]
  },
  {
   "cell_type": "markdown",
   "id": "fb1eb8ee",
   "metadata": {},
   "source": [
    "An alternative form is called the normal equation: $\\mathbf{a} = (\\mathbf{X}\\cdot\\mathbf{X}^T)^{-1}\\mathbf{X}^T \\mathbf{y}$. This is symbolically correct, but relies on the inverse which is expensive to compute for large systems. It is not used practically, instead the equations are solved efficiently using a different algorithm.\n",
    "\n"
   ]
  },
  {
   "cell_type": "markdown",
   "id": "71f9157f",
   "metadata": {},
   "source": [
    "## An example of polynomial fitting\n",
    "\n"
   ]
  },
  {
   "cell_type": "markdown",
   "id": "1d2142de",
   "metadata": {},
   "source": [
    "Our goal in this example is to fit a polynomial to some time-dependent concentration data.\n",
    "\n"
   ]
  },
  {
   "cell_type": "code",
   "execution_count": null,
   "id": "0c974677",
   "metadata": {},
   "outputs": [],
   "source": [
    "import numpy as np\n",
    "\n",
    "time = np.array([0.0, 50.0, 100.0, 150.0, 200.0, 250.0, 300.0])\n",
    "Ca = np.array([50.0, 38.0, 30.6, 25.6, 22.2, 19.5, 17.4]) * 1e-3"
   ]
  },
  {
   "cell_type": "markdown",
   "id": "e336fa80",
   "metadata": {},
   "source": [
    "Fit a fourth order polynomial to this data and determine the confidence interval for each parameter. This data is from example 5-1 in Fogler, Elements of Chemical Reaction Engineering.\n",
    "\n",
    "We want the equation $Ca(t) = b0 + b1*t + b2*t^2 + b3*t^3 + b4*t^4$ fit to the data in the least squares sense. We can write this in a linear algebra form as: $\\mathbf{T} \\mathbf{p} = \\mathbf{Ca}$ where $\\mathbf{T}$ is a matrix of columns $[1, t, t^2, t^3, t^4]$, and $\\mathbf{p}$ is a column vector of the fitting parameters. We want to solve for the $\\mathbf{p}$ vector and estimate the confidence intervals.\n",
    "\n",
    "First, we setup the array of function values, and then we solve for the paramters.\n",
    "\n"
   ]
  },
  {
   "cell_type": "code",
   "execution_count": null,
   "id": "5f9958aa",
   "metadata": {},
   "outputs": [],
   "source": [
    "X = np.column_stack([time**0, time, time**2, time**3, time**4])\n",
    "X"
   ]
  },
  {
   "cell_type": "code",
   "execution_count": null,
   "id": "7f4501ce",
   "metadata": {},
   "outputs": [],
   "source": [
    "np.vander(time, 5)  # this is equivalent, but the columns are in the opposite order."
   ]
  },
  {
   "cell_type": "code",
   "execution_count": null,
   "id": "76d5d30b",
   "metadata": {},
   "outputs": [],
   "source": [
    "np.stack([time**0, time, time**2, time**3, time**4], axis=1)"
   ]
  },
  {
   "cell_type": "code",
   "execution_count": null,
   "id": "fd464370",
   "metadata": {},
   "outputs": [],
   "source": [
    "a = np.linalg.solve(X.T @ X, X.T @ Ca)\n",
    "print(a)"
   ]
  },
  {
   "cell_type": "code",
   "execution_count": null,
   "id": "2a38ffea",
   "metadata": {},
   "outputs": [],
   "source": [
    "import matplotlib.pyplot as plt\n",
    "\n",
    "plt.plot(time, Ca, \"bo\", time, X @ a)\n",
    "plt.xlabel(\"Time\")\n",
    "plt.ylabel(\"Ca\")\n",
    "plt.legend([\"data\", \"fit\"]);"
   ]
  },
  {
   "cell_type": "code",
   "execution_count": null,
   "id": "ef3560c9",
   "metadata": {},
   "outputs": [],
   "source": [
    "tfit = np.linspace(0, 300)\n",
    "Cafit = np.column_stack([tfit**0, tfit, tfit**2, tfit**3, tfit**4]) @ a\n",
    "\n",
    "plt.plot(time, Ca, \"bo\", tfit, Cafit)\n",
    "plt.xlabel(\"Time\")\n",
    "plt.ylabel(\"Ca\")\n",
    "plt.legend([\"data\", \"fit\"]);"
   ]
  },
  {
   "cell_type": "markdown",
   "id": "99f1324f",
   "metadata": {},
   "source": [
    "We previously claimed that solving this equation was equivalent to minimizing the summed squared errors. Here we demonstrate that is consistent with our observation for the first parameter.\n",
    "\n"
   ]
  },
  {
   "cell_type": "code",
   "execution_count": null,
   "id": "ca99b69d",
   "metadata": {},
   "outputs": [],
   "source": [
    "i = 1\n",
    "P = np.linspace(0.9 * a[i], 1.1 * a[i])\n",
    "\n",
    "errs = []\n",
    "for p in P:\n",
    "    A = [a[0], p, a[2], a[3], a[4]]\n",
    "    err = np.sum(np.square(X @ A - Ca))\n",
    "    errs += [err]\n",
    "\n",
    "# errs = [np.sum(np.square(X @ [p, *a[1:]] - Ca)) for p in P]\n",
    "\n",
    "plt.plot(P, errs)\n",
    "plt.axvline(a[i], color=\"k\", linestyle=\"--\")\n",
    "plt.xlabel(\"slope\")\n",
    "plt.ylabel(\"SSE\")\n",
    "plt.legend([\"SSE\", \"best fit\"]);"
   ]
  },
  {
   "cell_type": "code",
   "execution_count": null,
   "id": "51b8ef7d",
   "metadata": {
    "lines_to_next_cell": 2
   },
   "outputs": [],
   "source": [
    "def SSE(pars):\n",
    "    return np.sum(np.square(X @ pars - Ca))\n",
    "\n",
    "\n",
    "import numdifftools as nd\n",
    "\n",
    "H = nd.Hessian(SSE)\n",
    "np.linalg.eigvals(H(a))"
   ]
  },
  {
   "cell_type": "code",
   "execution_count": null,
   "id": "4c753a57",
   "metadata": {},
   "outputs": [],
   "source": [
    "J = nd.Jacobian(SSE)  # this is the derivative: dSSE / dpar\n",
    "J(a)"
   ]
  },
  {
   "cell_type": "markdown",
   "id": "9b6b18b9",
   "metadata": {
    "lines_to_next_cell": 2
   },
   "source": [
    "**Exercise** Demonstrate that the SSE is minimized for the other parameters. Try estimating the Hessian of the sum of squared errors and then see if it is positive definite.\n",
    "\n",
    "As we have seen many times before, Numpy provides a function for doing least squares linear regression. It returns more information about the fit than what we have done so far, and is a little more convenient because we do not have to do all the transposes and left multiplications.\n",
    "\n"
   ]
  },
  {
   "cell_type": "code",
   "execution_count": null,
   "id": "8ac36d75",
   "metadata": {},
   "outputs": [],
   "source": [
    "pars, residuals, rank, singular_values = np.linalg.lstsq(X, Ca, rcond=None)\n",
    "pars, residuals, rank, singular_values"
   ]
  },
  {
   "cell_type": "code",
   "execution_count": null,
   "id": "7787c886",
   "metadata": {},
   "outputs": [],
   "source": [
    "# This determinant is huge.\n",
    "np.linalg.det(X.T @ X), np.linalg.inv(X.T @ X)"
   ]
  },
  {
   "cell_type": "markdown",
   "id": "28c1104a",
   "metadata": {},
   "source": [
    "The key points to note are that the rank is equal to the number of parameters we are estimating, which means we have enough information to get pretty good estimates of the parameters.\n",
    "\n"
   ]
  },
  {
   "cell_type": "markdown",
   "id": "cf5421bb",
   "metadata": {},
   "source": [
    "## Confidence intervals on the parameters\n",
    "\n"
   ]
  },
  {
   "cell_type": "markdown",
   "id": "22edd5ae",
   "metadata": {},
   "source": [
    "The confidence intervals reflect the range of values we are confident the true parameter lies in. Remember we are only *estimating* these parameters from a small amount of data.\n",
    "\n",
    "The degrees of freedom is roughly equal to the number of data points minus the number of parameters.\n",
    "\n",
    "We define $\\sigma^2 = SSE / dof$ where $SSE$ is the summed squared error, and $dof$ is the degrees of freedom.\n",
    "\n",
    "The covariance matrix is defined as $(\\mathbf{X}^T \\mathbf{X})^{-1}$. Finally, we compute the standard error on the parameters as:\n",
    "\n",
    "$\\mathbf{se} = \\sqrt{diag(\\sigma^2 cov)}$.\n",
    "\n",
    "This will be an array with one element for each parameter. You can think of this standard error as the uncertainty in the mean value of each parameter.\n",
    "\n",
    "The confidence intervals are finally computed by calculating a student t-value that accounts for the additional uncertainty we have because of the small number of degrees of freedom.\n",
    "\n"
   ]
  },
  {
   "cell_type": "code",
   "execution_count": null,
   "id": "9fbed9bd",
   "metadata": {},
   "outputs": [],
   "source": [
    "dof = len(Ca) - len(pars)  # This assumes len(pars) is less than len(Ca)\n",
    "errs = Ca - X @ pars\n",
    "sigma2 = np.sum(errs**2) / dof\n",
    "\n",
    "covariance = np.linalg.inv(X.T @ X)\n",
    "se = np.sqrt(np.diag(sigma2 * covariance))\n",
    "\n",
    "from scipy.stats.distributions import t\n",
    "\n",
    "alpha = 0.05  # 100*(1 - alpha) confidence level\n",
    "sT = t.ppf(1.0 - alpha / 2.0, dof)  # student T multiplier\n",
    "\n",
    "CI = sT * se\n",
    "\n",
    "for beta, ci in zip(pars, CI):\n",
    "    print(f\"{beta: 1.2e} [{beta - ci: 1.4e} {beta + ci: 1.4e}]\")"
   ]
  },
  {
   "cell_type": "markdown",
   "id": "ca51bd74",
   "metadata": {},
   "source": [
    "It is also common to estimate an $R^2$ value, where values close to one mean the model accounts for most of the variance in the data.\n",
    "\n"
   ]
  },
  {
   "cell_type": "code",
   "execution_count": null,
   "id": "9585307c",
   "metadata": {},
   "outputs": [],
   "source": [
    "SS_tot = np.sum((Ca - np.mean(Ca)) ** 2)\n",
    "SS_err = np.sum(errs**2)\n",
    "\n",
    "#  http://en.wikipedia.org/wiki/Coefficient_of_determination\n",
    "Rsq = 1 - SS_err / SS_tot\n",
    "print(\"R^2 = {0}\".format(Rsq))"
   ]
  },
  {
   "cell_type": "markdown",
   "id": "b6847b67",
   "metadata": {},
   "source": [
    "Here we would say the model looks very good, but with the caveat that we fit five parameters to seven data points, and some of the parameters are very small, suggesting they may not be necessary (although they are in front of terms like x<sup>4</sup> which can be very large).\n",
    "\n",
    "Now you can use this model to interpolate new values in the fitted range. This is not a model you can extrapolate with though, *even though it is a linear model*. What is happening?\n",
    "\n"
   ]
  },
  {
   "cell_type": "code",
   "execution_count": null,
   "id": "769930b3",
   "metadata": {},
   "outputs": [],
   "source": [
    "newt = np.linspace(0, 700)\n",
    "\n",
    "newT = np.column_stack([newt**i for i in range(5)])\n",
    "newCa = newT @ pars\n",
    "\n",
    "plt.plot(time, Ca, \"b.\")\n",
    "plt.plot(newt, newCa)\n",
    "plt.xlabel(\"Time\")\n",
    "plt.ylabel(\"Ca\");"
   ]
  },
  {
   "cell_type": "markdown",
   "id": "7fc2b84c",
   "metadata": {},
   "source": [
    "It is almost certainly not reasonable for the concentration of A to start increasing again after about 350 time units.\n",
    "\n"
   ]
  },
  {
   "cell_type": "markdown",
   "id": "8e064909",
   "metadata": {},
   "source": [
    "## Regularization\n",
    "\n"
   ]
  },
  {
   "cell_type": "markdown",
   "id": "4ac8a186",
   "metadata": {},
   "source": [
    "When we do linear regression we get a coefficient for every function in the model. However, there can be bad behavior with regular regression, especially for certain classes of functions, and when the functions are correlated with each other. To explore why this happens, we will look at some regression models of varying complexity. We start by looking at some data.\n",
    "\n"
   ]
  },
  {
   "cell_type": "code",
   "execution_count": null,
   "id": "2e1fed9d",
   "metadata": {},
   "outputs": [],
   "source": [
    "import numpy as np\n",
    "\n",
    "np.random.seed(10)  # Setting seed for reproducibility\n",
    "\n",
    "x = np.linspace(0.3, 1.5 * np.pi)\n",
    "y = np.sin(x) + np.random.normal(0, 0.15, len(x))\n",
    "\n",
    "import matplotlib.pyplot as plt\n",
    "\n",
    "plt.plot(x, y, \"b.\")\n",
    "plt.xlabel(\"x\")\n",
    "plt.ylabel(\"y\");"
   ]
  },
  {
   "cell_type": "markdown",
   "id": "4c1c8ea7",
   "metadata": {},
   "source": [
    "Our goal is to fit a linear regression model to this data. We want to avoid underfitting and overfitting. If we just fit polynomials to this data, we find some undesirable behavior. Let's look at fits up to a 12<sup>th</sup> order polynomials.\n",
    "\n"
   ]
  },
  {
   "cell_type": "code",
   "execution_count": null,
   "id": "ffe5d4f5",
   "metadata": {},
   "outputs": [],
   "source": [
    "N = [1, 3, 6, 9, 12]\n",
    "\n",
    "print(\"       \", f\"\".join([f\"x^{i:<6d}\" for i in range(12, -1, -1)]))\n",
    "\n",
    "for i in N:\n",
    "    pars = np.polyfit(x, y, i)\n",
    "    p = np.zeros(13)\n",
    "    p[13 - (i + 1) :] = pars\n",
    "    # This way of printing is to get columnar output\n",
    "    print(f\"{i:2d}\", f\"  \".join([f\"{j: 6.2f}\" for j in p]))\n",
    "    plt.plot(x, y, \"b.\")\n",
    "    plt.plot(x, np.polyval(pars, x), label=f\"{i}\")\n",
    "plt.legend();"
   ]
  },
  {
   "cell_type": "markdown",
   "id": "9ab43e78",
   "metadata": {},
   "source": [
    "The most undesirable behavior is that the coefficients grow large, which puts a lot of weight in places we might not want. This also leads to *wiggles* in the fit, which are probably not reasonable. The solution to this issue is called *regularization*, which means we add a penalty to our objective function that serves to reduce the magnitude of the parameters. There are several approaches to regularization. In *ridge regression* we add an L<sub>2</sub> penalty to the parameters, i.e. the sum of the parameters squared. In *LASSO* regression we add an L<sub>1</sub> penalty to the parameters, i.e. the sum of the absolute values of the parameters.\n",
    "\n",
    "In *ridge regression* the parameters are driven by the penalty to become smaller. In *LASSO regression* as many of the parameters are driven to zero as possible.\n",
    "\n"
   ]
  },
  {
   "cell_type": "markdown",
   "id": "d17ee16c",
   "metadata": {},
   "source": [
    "### Ridge regression\n",
    "\n"
   ]
  },
  {
   "cell_type": "markdown",
   "id": "a6151a3f",
   "metadata": {},
   "source": [
    "In ridge regression we define our objective function to minimize the summed squared error as usual, and add a term proportional to the sum of the squared parameters.\n",
    "\n",
    "So, if our regression model looks like $\\mathbf{X} \\mathbf{\\beta} = \\mathbf{y}$ we seek to minimize:\n",
    "\n",
    "$(\\mathbf{y} - \\mathbf{X} \\mathbf{p})^T (\\mathbf{y} - \\mathbf{X} \\mathbf{p}) + \\lambda ||\\mathbf{p}||_2^2$\n",
    "\n",
    "Where $\\mathbf{p}$ are the fitting parameters, and $\\lambda$ is the proportionality constant.\n",
    "\n",
    "Finding the parameters is done by solving this modified normal equation:\n",
    "\n",
    "$(\\mathbf{Z}^T \\mathbf{Z} + \\lambda(\\mathbf{I} \\mathbf{p}) = \\mathbf{Z}^T \\mathbf{w}$\n",
    "\n",
    "We have changed variable names because it is considered important to standardize our variables:\n",
    "\n",
    "$\\mathbf{Z} = (\\mathbf{X} - mean(\\mathbf{X})) / std(\\mathbf{X})$\n",
    "\n",
    "Standardization means that the variable has a mean of 0 and a standard deviation of 1.\n",
    "and\n",
    "\n",
    "$\\mathbf{w} = (\\mathbf{y} - mean(\\mathbf{y})) / std(\\mathbf{y})$\n",
    "\n",
    "&lambda; is a parameter that affects the amount of *regularization*.\n",
    "\n",
    "It is common to *standardize* the input/output variables which means we make the average of each column equal to zero and scale them to have unit variance. Doing this eliminates the intercept from the model since it would then go through the point (0, 0).\n",
    "\n"
   ]
  },
  {
   "cell_type": "code",
   "execution_count": null,
   "id": "545e36b8",
   "metadata": {},
   "outputs": [],
   "source": [
    "X = np.vander(x, 12)[:, 0:-1]  # since we standardize we do not consider the last column of ones.\n",
    "xmean = X.mean(axis=0)  # average of every column\n",
    "xstd = X.std(axis=0)\n",
    "xmean, xstd"
   ]
  },
  {
   "cell_type": "markdown",
   "id": "2b4056db",
   "metadata": {},
   "source": [
    "We standardize the input vector like this.\n",
    "\n"
   ]
  },
  {
   "cell_type": "code",
   "execution_count": null,
   "id": "bdeb7aa9",
   "metadata": {},
   "outputs": [],
   "source": [
    "Z = (X - xmean) / xstd"
   ]
  },
  {
   "cell_type": "markdown",
   "id": "a2d26f10",
   "metadata": {},
   "source": [
    "Here we just confirm we have standardized all the columns. The only one that stands out is the column of ones, which does not have unit standard deviation.\n",
    "\n"
   ]
  },
  {
   "cell_type": "code",
   "execution_count": null,
   "id": "98fa95ce",
   "metadata": {},
   "outputs": [],
   "source": [
    "with np.printoptions(suppress=True):\n",
    "    print(Z.mean(axis=0), Z.std(axis=0))"
   ]
  },
  {
   "cell_type": "markdown",
   "id": "615cc858",
   "metadata": {},
   "source": [
    "We similarly standardize the y data.\n",
    "\n"
   ]
  },
  {
   "cell_type": "code",
   "execution_count": null,
   "id": "ddee2c79",
   "metadata": {},
   "outputs": [],
   "source": [
    "ymean = y.mean()\n",
    "ystd = y.std()\n",
    "\n",
    "w = (y - ymean) / ystd"
   ]
  },
  {
   "cell_type": "markdown",
   "id": "4547d4e2",
   "metadata": {},
   "source": [
    "To get an estimate of the parameters we have to specify a value of &lambda;. If we set &lambda;=0, we have regular linear regression. If we set &lambda;=&infin;, all the weights will go to zero. We need something in between. It is a good idea to try several values of &lambda; from a very small value to a large value, on a log scale.\n",
    "\n"
   ]
  },
  {
   "cell_type": "code",
   "execution_count": null,
   "id": "d7b24030",
   "metadata": {},
   "outputs": [],
   "source": [
    "lambdas = np.concatenate([[0], np.geomspace(1e-13, 10, 5)])\n",
    "\n",
    "print(\"lambda     \", f\"\".join([f\"x^{i:<11d}\" for i in range(len(X[0]), 0, -1)]))\n",
    "for lam in lambdas:\n",
    "    l2p = np.linalg.solve(Z.T @ Z + lam * np.eye(len(Z[0])), Z.T @ w)\n",
    "    p = np.zeros(len(X[0]))\n",
    "    p[len(X[0] + 2) - len(l2p) :] = l2p\n",
    "    # This way of printing is to get columnar output\n",
    "    print(f\"{lam:6.2g}\", f\"\".join([f\"{j: 8.2f}\" for j in p]))\n",
    "    plt.plot(x, y, \"b.\")\n",
    "    plt.plot(x, (Z @ l2p) * ystd + ymean, label=f\"{lam:1.2g}\")\n",
    "plt.legend();"
   ]
  },
  {
   "cell_type": "markdown",
   "id": "8a3fa096",
   "metadata": {},
   "source": [
    "One way people have evaluated a reasonable value of &lambda; is to look at how the coefficients vary with &lambda; using a *ridge plot*. In this plot, you look for a range that balances the large swings associated with regular unconstrained regression and the damping caused by large values of &lambda;. Here a value of $10^{-6} \\le \\lambda \\le 10^{-8}$ would be considered reasonable.\n",
    "\n"
   ]
  },
  {
   "cell_type": "code",
   "execution_count": null,
   "id": "0587a485",
   "metadata": {},
   "outputs": [],
   "source": [
    "lambdas = np.geomspace(1e-10, 1e-5)\n",
    "\n",
    "pars = np.zeros((11, len(lambdas)))\n",
    "\n",
    "for i, lam in enumerate(lambdas):\n",
    "    l2p = np.linalg.solve(Z.T @ Z + lam * np.eye(len(Z[0])), Z.T @ w)\n",
    "    pars[:, i] = l2p\n",
    "\n",
    "plt.semilogx(lambdas, pars.T)\n",
    "plt.xlabel(r\"$\\lambda$\")\n",
    "plt.ylabel(\"parameters\");"
   ]
  },
  {
   "cell_type": "markdown",
   "id": "2cc3bce5",
   "metadata": {},
   "source": [
    "### LASSO regression\n",
    "\n"
   ]
  },
  {
   "cell_type": "markdown",
   "id": "1ed7bf35",
   "metadata": {},
   "source": [
    "In LASSO regression, we seek to minimize the summed squared errors *plus* the sum of the absolute value of the parameters. Unlike linear least squares regression and ridge regression, there is no analytical solution to get the parameters; they can only be obtained numerically using an iterative solver. We again have a parameter &lambda; we have to choose. Setting this parameter to zero will be equivalent to normal linear regression. Setting this parameter to infinity will again cause all coefficients to go to zero. We again have to find a balance.\n",
    "\n"
   ]
  },
  {
   "cell_type": "code",
   "execution_count": null,
   "id": "996cae49",
   "metadata": {},
   "outputs": [],
   "source": [
    "X[0]"
   ]
  },
  {
   "cell_type": "code",
   "execution_count": null,
   "id": "41c744ac",
   "metadata": {},
   "outputs": [],
   "source": [
    "def objective(pars, lam=0.0):\n",
    "    SSE = np.sum(np.square(y - ((Z @ pars) * ystd + ymean)))\n",
    "    return SSE + lam * np.sum(np.abs(pars))\n",
    "\n",
    "\n",
    "from scipy.optimize import minimize\n",
    "\n",
    "sol = minimize(\n",
    "    objective, pars[:, 0], args=(0.002,), method=\"nelder-mead\", options={\"maxiter\": 5000}\n",
    ")\n",
    "\n",
    "np.set_printoptions(suppress=True, precision=3)  # prints small numbers as practically zero\n",
    "print(sol.message, sol.x)\n",
    "\n",
    "plt.plot(x, y, \"b.\")\n",
    "plt.plot(x, (Z @ sol.x) * ystd + ymean);"
   ]
  },
  {
   "cell_type": "markdown",
   "id": "f4848e84",
   "metadata": {},
   "source": [
    "Now, we can explore the effect of &lambda; more thoroughly.\n",
    "\n"
   ]
  },
  {
   "cell_type": "code",
   "execution_count": null,
   "id": "f3ff1887",
   "metadata": {},
   "outputs": [],
   "source": [
    "lambdas = np.concatenate([[0], np.geomspace(1e-5, 10, 5)])\n",
    "\n",
    "print(\"lambda     \", f\"\".join([f\"x^{i:<11d}\" for i in range(len(X[0]), 0, -1)]))\n",
    "for lam in lambdas:\n",
    "    sol = minimize(objective, np.random.random(len(Z[0])), (lam,), options={\"maxiter\": 5000})\n",
    "\n",
    "    # This way of printing is to get columnar output\n",
    "    print(f\"{lam:8.2g}\", f\"\".join([f\"{j: 9.2f}\" for j in sol.x]))\n",
    "    plt.plot(x, y, \"b.\")\n",
    "    plt.plot(x, (Z @ sol.x) * ystd + ymean, label=f\"{lam:1.2g}\")\n",
    "plt.legend();"
   ]
  },
  {
   "cell_type": "markdown",
   "id": "9fdc3f9d",
   "metadata": {},
   "source": [
    "You can see that by increasing &lambda; we are making more and more of the parameters go to zero; in other words the functions they correspond to are not part of the model any longer. This is called sparsifying the model. It reduces over-fitting by reducing the model complexity. Finding the most suitable value for &lambda; requires some sophisticated programming and analysis, and it is an important topic in machine learning and data science.\n",
    "\n",
    "LASSO has some important benefits, and some disadvantanges. The benefits include sparsification of the model; the method removes inputs that are not needed, or that are highly correlated with other inputs. This can make models more interpretable as there are fewer terms, and the terms are more independent.\n",
    "\n",
    "The disadvantages, however, are that we cannot use linear algebra to find the parameters. The penalty imposes a nonlinear behavior to the objective function, so we must use an iterative solver. For features that are correlated, we have no control over which feature is eliminated. Different initial guesses may lead to different feature elimination. If the features are really correlated, this will not affect the fit quality, but it will mean some models favor one feature over another. This is less of a problem in polynomial models, but often a problem in models based on physical properties that are correlated, e.g. high melting points of materials tend to be correlated with how hard they are. With LASSO, one model could favor the melting point and another could favor the hardness.\n",
    "\n"
   ]
  },
  {
   "cell_type": "markdown",
   "id": "b6945e6a",
   "metadata": {},
   "source": [
    "### Advanced selection of &lambda; \n",
    "\n"
   ]
  },
  {
   "cell_type": "markdown",
   "id": "e6fa845f",
   "metadata": {},
   "source": [
    "A more advanced way to select a value of &lambda; is called k-fold validation. It is complex to code this, and the standard method to do it is in [scikit-learn](https://scikit-learn.org/stable/index.html), see specifically the [ridge regression example](https://scikit-learn.org/stable/modules/linear_model.html#ridge-regression) and the  [LASSO example](https://scikit-learn.org/stable/modules/linear_model.html#lasso). The basic idea is that you split your data set into $k$ *folds*, and then you fit $k-1$ folds to get the paramters. On the remaining fold (which was not used for fitting) you estimate the model errors. Initially with no regularization, the errors will be high due to overfitting. As you add regularization, the errors will begin decrease. Eventually though, the model will start underfitting, and the errors will go back up. The &lambda; that provides the lowest test errors is usually considered the best choice.\n",
    "\n",
    "We will not cover these more advanced methods as they rely on learning the scikit-learn API in depth, and some other higher level Python libraries we have not covered like Pandas. These are more appropriate in a data science/machine learning focused course.\n",
    "\n"
   ]
  },
  {
   "cell_type": "markdown",
   "id": "c6a117d0",
   "metadata": {},
   "source": [
    "## Summary\n",
    "\n"
   ]
  },
  {
   "cell_type": "markdown",
   "id": "ce725332",
   "metadata": {
    "lines_to_next_cell": 2
   },
   "source": [
    "In this lecture we introduced the concept of linear regression. In the normal linear regression, we simply solve linear equations that ultimately minimize the summed squared errors between the model and data. With some additional linear algebra, we can also estimate the confidence intervals on the parameters.\n",
    "\n",
    "One issue with normal linear regression is that the parameters are unconstrained, which can lead to some functions having undesirably large parameters. We introduced two types of *regularization* to mitigate this issue: ridge regression and LASSO regression. In both cases, a penalty function is added to the objective function being minimized. In ridge regression the penalty is an L2 norm on the parameters which penalizes large parameters, leading to a reduction in their magnitude. In LASSO reduction the penalty is an L1 norm, which drives parameters towards zero. Both methods rely on a hyperparameter &lambda; that determines how much regularization is applied. With both regularization approaches we have to use some judgment in how much regularization to apply (the magnitude of &lambda;), and we only provided a heuristic approach to doing this.\n",
    "\n"
   ]
  }
 ],
 "metadata": {
  "kernelspec": {
   "display_name": "Python 3 (ipykernel)",
   "language": "python",
   "name": "python3"
  }
 },
 "nbformat": 4,
 "nbformat_minor": 5
}
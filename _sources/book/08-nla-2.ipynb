{
 "cells": [
  {
   "cell_type": "markdown",
   "id": "55cd1dc5",
   "metadata": {},
   "source": [
    "# Polynomials in Python\n",
    "\n",
    "- KEYWORDS: scipy.optimize.fsolve, numpy.roots, numpy.polyder, numpy.polyval, numpy.polyint, numpy.poly1d\n"
   ]
  },
  {
   "cell_type": "markdown",
   "id": "a4374b0c",
   "metadata": {},
   "source": [
    "## Special nonlinear systems - polynomials\n",
    "\n"
   ]
  },
  {
   "cell_type": "markdown",
   "id": "8dd7a70a",
   "metadata": {},
   "source": [
    "Polynomials are a special class of nonlinear algebraic equations that are especially easy to solve. A polynomial is linear in the coefficients in front of the variable. If we consider the following $n^{th}$ order polynomial:\n",
    "\n",
    "$p_0 x^n + p_1 x^{(n-1)} + ... + p_{n-1} x + p_n = 0$\n",
    "\n",
    "Let's be specific:\n",
    "\n",
    "$x^2 + 8x + 16 = 0$\n",
    "\n",
    "We express this as [1, 8, 16].\n",
    "\n"
   ]
  },
  {
   "cell_type": "code",
   "execution_count": null,
   "id": "a6e2979b",
   "metadata": {},
   "outputs": [],
   "source": [
    "import numpy as np\n",
    "\n",
    "p = [1, 8, 16]\n",
    "r = np.roots(p)\n",
    "r"
   ]
  },
  {
   "cell_type": "markdown",
   "id": "a2439509",
   "metadata": {},
   "source": [
    "Note we get all the roots. We can check that with the `numpy.polyval` command.\n",
    "\n"
   ]
  },
  {
   "cell_type": "code",
   "execution_count": null,
   "id": "5abd9d1f",
   "metadata": {},
   "outputs": [],
   "source": [
    "np.polyval(p, r)"
   ]
  },
  {
   "cell_type": "code",
   "execution_count": null,
   "id": "227d593d",
   "metadata": {},
   "outputs": [],
   "source": [
    "x = np.linspace(-10, 0)\n",
    "y = np.polyval(p, x)\n",
    "\n",
    "import matplotlib.pyplot as plt\n",
    "\n",
    "plt.plot(x, y);"
   ]
  },
  {
   "cell_type": "markdown",
   "id": "80d25ca1",
   "metadata": {},
   "source": [
    "We can also use this to plot a polynomial.\n",
    "\n"
   ]
  },
  {
   "cell_type": "code",
   "execution_count": null,
   "id": "b27a2e1b",
   "metadata": {},
   "outputs": [],
   "source": [
    "import numpy as np\n",
    "\n",
    "x = np.linspace(-5, -3)\n",
    "y = np.polyval(p, x)\n",
    "\n",
    "import matplotlib.pyplot as plt\n",
    "\n",
    "plt.plot(x, y)\n",
    "plt.xlabel(\"x\")\n",
    "plt.ylabel(\"y\");"
   ]
  },
  {
   "cell_type": "markdown",
   "id": "8482a32d",
   "metadata": {},
   "source": [
    "Why is this so convenient?\n",
    "\n"
   ]
  },
  {
   "cell_type": "markdown",
   "id": "4afe525b",
   "metadata": {},
   "source": [
    "### Cubic equations of state\n",
    "\n"
   ]
  },
  {
   "cell_type": "markdown",
   "id": "7e07a363",
   "metadata": {},
   "source": [
    "There are applications of polynomials in thermodynamics. The van der waal equation is a cubic polynomial $f(V) = V^3 - \\frac{p n b + n R T}{p} V^2 + \\frac{n^2 a}{p}V - \\frac{n^3 a b}{p} = 0$, where $a$ and $b$ are constants, $p$ is the pressure, $R$ is the gas constant, $T$ is an absolute temperature and $n$ is the number of moles. The roots of this equation tell you the volume of the gas at those conditions.\n",
    "\n"
   ]
  },
  {
   "cell_type": "code",
   "execution_count": null,
   "id": "84c0e44d",
   "metadata": {},
   "outputs": [],
   "source": [
    "# numerical values of the constants\n",
    "a = 3.49e4\n",
    "b = 1.45\n",
    "p = 679.7  # pressure in psi\n",
    "T = 683  # T in Rankine\n",
    "n = 1.136  # lb-moles\n",
    "R = 10.73  # ft^3 * psi / R / lb-mol\n",
    "\n",
    "ppar = [\n",
    "    1.0,  # V**3\n",
    "    -(p * n * b + n * R * T) / p,  # V**2\n",
    "    n**2 * a / p,  # V\n",
    "    -(n**3) * a * b / p,\n",
    "]  # constant\n",
    "\n",
    "print(np.roots(ppar))\n",
    "\n",
    "R = np.roots(ppar)\n",
    "R"
   ]
  },
  {
   "cell_type": "code",
   "execution_count": null,
   "id": "5b0b0d8a",
   "metadata": {},
   "outputs": [],
   "source": [
    "print(f\"V = {R[0]:1.2f}\")"
   ]
  },
  {
   "cell_type": "code",
   "execution_count": null,
   "id": "77022594",
   "metadata": {},
   "outputs": [],
   "source": [
    "print(f\"V = {R[0].real:1.2f}\")"
   ]
  },
  {
   "cell_type": "code",
   "execution_count": null,
   "id": "e2362345",
   "metadata": {},
   "outputs": [],
   "source": [
    "R[0].real, R[0].imag"
   ]
  },
  {
   "cell_type": "code",
   "execution_count": null,
   "id": "21d15475",
   "metadata": {},
   "outputs": [],
   "source": [
    "float(R[0])"
   ]
  },
  {
   "cell_type": "markdown",
   "id": "2bdaaeac",
   "metadata": {},
   "source": [
    "Note that only one root is real (and even then, we have to interpret 0.j as not being imaginary. Also, in a cubic polynomial, there can only be two imaginary roots). In this case that means there is only one phase present.\n",
    "\n"
   ]
  },
  {
   "cell_type": "markdown",
   "id": "cae3bfe2",
   "metadata": {},
   "source": [
    "### Other useful things to remember about polynomials\n",
    "\n"
   ]
  },
  {
   "cell_type": "markdown",
   "id": "afde0711",
   "metadata": {},
   "source": [
    "You can easily get the parameters of the derivative of the polynomial with `numpy.polyder`.\n",
    "\n"
   ]
  },
  {
   "cell_type": "code",
   "execution_count": null,
   "id": "997970c2",
   "metadata": {},
   "outputs": [],
   "source": [
    "p = [1, 8, 16]\n",
    "\n",
    "pd = np.polyder(p)\n",
    "pd"
   ]
  },
  {
   "cell_type": "markdown",
   "id": "b95a91a5",
   "metadata": {},
   "source": [
    "You can use these with `numpy.polyval` to compute the derivative at different points.\n",
    "\n"
   ]
  },
  {
   "cell_type": "code",
   "execution_count": null,
   "id": "773adbce",
   "metadata": {},
   "outputs": [],
   "source": [
    "np.polyval(pd, [0, 1, 2])"
   ]
  },
  {
   "cell_type": "markdown",
   "id": "5815d0a5",
   "metadata": {},
   "source": [
    "You can also get the coefficients of the integral of the polynomial. The integration constant is assumed to be 0 by default.\n",
    "\n"
   ]
  },
  {
   "cell_type": "code",
   "execution_count": null,
   "id": "12447929",
   "metadata": {},
   "outputs": [],
   "source": [
    "pint = np.polyint(p)\n",
    "pint"
   ]
  },
  {
   "cell_type": "markdown",
   "id": "d3121205",
   "metadata": {},
   "source": [
    "You can use this to compute definite integrals, e.g. from x=1 to x=2:\n",
    "\n"
   ]
  },
  {
   "cell_type": "code",
   "execution_count": null,
   "id": "f83a9d1a",
   "metadata": {},
   "outputs": [],
   "source": [
    "np.polyval(pint, 2) - np.polyval(pint, 1)"
   ]
  },
  {
   "cell_type": "code",
   "execution_count": null,
   "id": "721fb30f",
   "metadata": {},
   "outputs": [],
   "source": [
    "X = np.linspace(1, 2, 100)\n",
    "Y = np.polyval(p, X)\n",
    "np.trapz(Y, X)"
   ]
  },
  {
   "cell_type": "code",
   "execution_count": null,
   "id": "9a9244b0",
   "metadata": {},
   "outputs": [],
   "source": [
    "def integrand(x):\n",
    "    return np.polyval(p, x)\n",
    "\n",
    "\n",
    "from scipy.integrate import quad\n",
    "\n",
    "quad(integrand, 1, 2)"
   ]
  },
  {
   "cell_type": "code",
   "execution_count": null,
   "id": "3a2af445",
   "metadata": {},
   "outputs": [],
   "source": [
    "%%timeit\n",
    "\n",
    "\n",
    "def integrand(x):\n",
    "    return np.polyval(p, x)\n",
    "\n",
    "\n",
    "from scipy.integrate import quad\n",
    "\n",
    "quad(integrand, 1, 2)"
   ]
  },
  {
   "cell_type": "code",
   "execution_count": null,
   "id": "ba729e03",
   "metadata": {
    "lines_to_next_cell": 2
   },
   "outputs": [],
   "source": [
    "%%timeit\n",
    "\n",
    "\n",
    "def integrand(x):\n",
    "    return x**2 + 8 * x + 16\n",
    "\n",
    "\n",
    "from scipy.integrate import quad\n",
    "\n",
    "quad(integrand, 1, 2)"
   ]
  },
  {
   "cell_type": "markdown",
   "id": "3782a485",
   "metadata": {},
   "source": [
    "**exercise** Use another method to confirm the result above.\n",
    "\n",
    "Finally, the syntax `np.polyval(pint, 2)` can be a little tedious. You can create a function with `numpy.poly1d` using the array of coefficients. Conveniently, you can use the function in the roots, polyder and polyint commands!\n",
    "\n"
   ]
  },
  {
   "cell_type": "code",
   "execution_count": null,
   "id": "f71b2143",
   "metadata": {},
   "outputs": [],
   "source": [
    "p = np.poly1d(pint)\n",
    "print(p)\n",
    "p(2) - p(1)"
   ]
  },
  {
   "cell_type": "code",
   "execution_count": null,
   "id": "f2d27fcd",
   "metadata": {},
   "outputs": [],
   "source": [
    "print(integrand)"
   ]
  },
  {
   "cell_type": "code",
   "execution_count": null,
   "id": "7ee1f5b8",
   "metadata": {},
   "outputs": [],
   "source": [
    "p"
   ]
  },
  {
   "cell_type": "code",
   "execution_count": null,
   "id": "a74bbe3f",
   "metadata": {},
   "outputs": [],
   "source": [
    "print(p)"
   ]
  },
  {
   "cell_type": "code",
   "execution_count": null,
   "id": "7088fb85",
   "metadata": {},
   "outputs": [],
   "source": [
    "np.roots(p)"
   ]
  },
  {
   "cell_type": "code",
   "execution_count": null,
   "id": "0ab6353b",
   "metadata": {},
   "outputs": [],
   "source": [
    "p([np.linspace(0, 1, 5)])"
   ]
  },
  {
   "cell_type": "code",
   "execution_count": null,
   "id": "c4c20c48",
   "metadata": {},
   "outputs": [],
   "source": [
    "p"
   ]
  },
  {
   "cell_type": "markdown",
   "id": "3922e2f5",
   "metadata": {},
   "source": [
    "## Systems of nonlinear equations\n",
    "\n"
   ]
  },
  {
   "cell_type": "markdown",
   "id": "df2c6e14",
   "metadata": {},
   "source": [
    "Analogously to systems of ordinary differential equations, with systems of nonlinear equations we define functions that will return a zero for each equation in the system. Then we have to pass an initial guess for each variable to fsolve, and it will return an array of values, one for each variable.\n",
    "\n",
    "It is considerably more difficult to visualize systems of nonlinear equations. With two equations and two unknowns it is sometimes easy to plot solutions, but not always.\n",
    "\n",
    "\\begin{align}\n",
    "y &=& x^2 \\\\\n",
    "y &=& 8 - x^2\n",
    "\\end{align}\n",
    "\n",
    "One approach to visualizing this is to plot the two curves.\n",
    "\n"
   ]
  },
  {
   "cell_type": "code",
   "execution_count": null,
   "id": "90d7ad1c",
   "metadata": {},
   "outputs": [],
   "source": [
    "import numpy as np\n",
    "import matplotlib.pyplot as plt\n",
    "\n",
    "x = np.linspace(-4, 4)\n",
    "\n",
    "y1 = x**2\n",
    "y2 = 8 - x**2\n",
    "\n",
    "plt.plot(x, y1, x, y2)\n",
    "plt.xlabel(\"x\")\n",
    "plt.ylabel(\"y\")\n",
    "plt.legend([\"y1\", \"y2\"]);"
   ]
  },
  {
   "cell_type": "markdown",
   "id": "5225c250",
   "metadata": {},
   "source": [
    "You can see that on this domain, there is one place where the two curves intersect near the point (2, 5), which is a solution point. At this point there is one (x, y) pair that is a solution to *both* equations.\n",
    "\n"
   ]
  },
  {
   "cell_type": "code",
   "execution_count": null,
   "id": "d0ef2124",
   "metadata": {},
   "outputs": [],
   "source": [
    "from scipy.optimize import fsolve\n",
    "\n",
    "\n",
    "def objective(X):\n",
    "    x, y = X\n",
    "    z1 = y - x**2  # y = x**2\n",
    "    z2 = y - 8 + x**2  # y = 8 - x**2\n",
    "    return np.array([z1, z2])\n",
    "\n",
    "\n",
    "guess = [-2, -5]\n",
    "fsolve(objective, guess)"
   ]
  },
  {
   "cell_type": "markdown",
   "id": "d330a886",
   "metadata": {},
   "source": [
    "It is not always easy to solve for one variable in terms of the other though. In that case, we can resort to an alternate graphical approach where we evaluate the objective function over a range of the variables, and look for regions where they overlap.\n",
    "\n",
    "Consider the solution to these equations (adapted from [https://www.mathworks.com/help/optim/ug/fsolve.html](https://www.mathworks.com/help/optim/ug/fsolve.html)):\n",
    "\n",
    "$e^{-e^{-(x_1 + x_2)}} = x_2 (1 + x_1^2)$\n",
    "\n",
    "and\n",
    "\n",
    "$x_1 \\cos(x_2) + x_2 \\sin(x_1) = 1/2$\n",
    "\n",
    "It is not possible to solve either one for one variable in terms of the other. So instead, we will compute the objective function for a range of $x_1, x_2$ values, and then use a contour plot of each equation to see where there might be a solution.\n",
    "\n",
    "The key to this visualization is where we draw the contours. A good choice is to highlight only the part of the solutions that bracket zero. Then we can see where they intersect, because there is probably a solution in that neighborhood.\n",
    "\n"
   ]
  },
  {
   "cell_type": "code",
   "execution_count": null,
   "id": "afdc8ba7",
   "metadata": {
    "lines_to_next_cell": 2
   },
   "outputs": [],
   "source": [
    "def objective(X):\n",
    "    x1, x2 = X\n",
    "    z1 = np.exp(-np.exp(-(x1 + x2))) - x2 * (1 + x1**2)\n",
    "    z2 = x1 * np.cos(x2) + x2 * np.sin(x1) - 0.5\n",
    "    return np.array([z1, z2])\n",
    "\n",
    "\n",
    "x1 = np.linspace(-1, 1)\n",
    "x2 = np.linspace(-1, 1)\n",
    "\n",
    "X1, X2 = np.meshgrid(x1, x2)\n",
    "\n",
    "Z1, Z2 = objective([X1, X2])\n",
    "plt.contourf(X1, X2, Z1, levels=10)\n",
    "plt.colorbar();"
   ]
  },
  {
   "cell_type": "code",
   "execution_count": null,
   "id": "6e1d9902",
   "metadata": {},
   "outputs": [],
   "source": [
    "plt.contour(X1, X2, Z1, levels=np.linspace(-0.01, 0.01, 100))\n",
    "plt.contour(X1, X2, Z2, levels=np.linspace(-0.01, 0.01, 100))\n",
    "plt.xlabel(\"$x_1$\")\n",
    "plt.ylabel(\"$x_2$\")\n",
    "plt.colorbar();"
   ]
  },
  {
   "cell_type": "markdown",
   "id": "8686d2c0",
   "metadata": {},
   "source": [
    "There is an intersection near $x_1=0.4$, and $x\\_2 = 0.6. We can use that as an initial guess.\n",
    "\n"
   ]
  },
  {
   "cell_type": "code",
   "execution_count": null,
   "id": "34ec55f2",
   "metadata": {
    "lines_to_next_cell": 2
   },
   "outputs": [],
   "source": [
    "ans = fsolve(\n",
    "    objective, [0.4, 0.6]\n",
    ")  # note we do not need ans, because ans will have two values in it.\n",
    "ans, objective(ans)"
   ]
  },
  {
   "cell_type": "code",
   "execution_count": null,
   "id": "407cc6ed",
   "metadata": {},
   "outputs": [],
   "source": [
    "for i in range(100):\n",
    "    guess = [(np.random.random() - 0.5) * 20, (np.random.random() - 0.5) * 20]\n",
    "    ans, info, ier, msg = fsolve(objective, guess, full_output=True)\n",
    "    if ier != 1:\n",
    "        print(f\"Failed at guess {guess}.\\n{msg}\")\n",
    "        continue\n",
    "    plt.plot([guess[0], ans[0]], [guess[1], ans[1]])"
   ]
  },
  {
   "cell_type": "code",
   "execution_count": null,
   "id": "c623066c",
   "metadata": {},
   "outputs": [],
   "source": [
    "all_answers = []\n",
    "for i in range(100):\n",
    "    guess = [(np.random.random() - 0.5) * 20, (np.random.random() - 0.5) * 20]\n",
    "    ans, info, ier, msg = fsolve(objective, guess, full_output=True)\n",
    "    if ier != 1:\n",
    "        print(f\"Failed at guess {guess}.\\n{msg}\")\n",
    "        continue\n",
    "    all_answers += [ans]\n",
    "np.std(np.array(all_answers), axis=0)"
   ]
  },
  {
   "cell_type": "code",
   "execution_count": null,
   "id": "8644ebd3",
   "metadata": {},
   "outputs": [],
   "source": [
    "AA = np.array(all_answers)\n",
    "plt.plot(AA[:, 0], AA[:, 1], \"b.\")\n",
    "plt.xlim([0, 1])\n",
    "plt.ylim([0, 1]);"
   ]
  },
  {
   "cell_type": "code",
   "execution_count": null,
   "id": "8c449eee",
   "metadata": {},
   "outputs": [],
   "source": []
  },
  {
   "cell_type": "markdown",
   "id": "0e2144dd",
   "metadata": {},
   "source": [
    "This shows the solution, and that the objective is practically equal to zero at that point.\n",
    "\n",
    "You can see that trying to do this in more than 2 dimensions can quickly get difficult to visualize!\n",
    "\n"
   ]
  },
  {
   "cell_type": "markdown",
   "id": "d5270aaf",
   "metadata": {},
   "source": [
    "## Summary\n",
    "\n"
   ]
  },
  {
   "cell_type": "markdown",
   "id": "293a3040",
   "metadata": {
    "lines_to_next_cell": 2
   },
   "source": [
    "-   We learned about a special class of nonlinear functions that are polynomials, and a series of useful functions to manipulate them.\n",
    "\n",
    "-   We learned that you can use fsolve to find solutions to coupled non-linear algebraic equations.\n",
    "\n",
    "-   Next time, we will apply this to solving a nonlinear boundary value differential equation.\n",
    "\n"
   ]
  }
 ],
 "metadata": {
  "kernelspec": {
   "display_name": "Python 3 (ipykernel)",
   "language": "python",
   "name": "python3"
  }
 },
 "nbformat": 4,
 "nbformat_minor": 5
}
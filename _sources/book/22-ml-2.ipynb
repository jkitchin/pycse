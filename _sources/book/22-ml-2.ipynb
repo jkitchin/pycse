{
 "cells": [
  {
   "cell_type": "markdown",
   "id": "98b29cbf",
   "metadata": {},
   "source": [
    "# Topics in machine learning\n",
    "\n",
    "- KEYWORDS: autograd\n"
   ]
  },
  {
   "cell_type": "markdown",
   "id": "1cbbe7ec",
   "metadata": {},
   "source": [
    "## Choice of activation functions in neural networks\n",
    "\n"
   ]
  },
  {
   "cell_type": "markdown",
   "id": "0296c125",
   "metadata": {},
   "source": [
    "The activation function in a neural network provides the nonlinearity in the model. We previously learned that one interpretation of the activation function is that it is a basis function that you can expand the data in to find a functional representation that fits the data.\n",
    "\n",
    "Today we explore the impact of the activation function on the fitting, and extrapolation of neural networks. The following code is for setting up a neural network, and initializing the parameters with random numbers.\n",
    "\n"
   ]
  },
  {
   "cell_type": "code",
   "execution_count": null,
   "id": "8af4d0c2",
   "metadata": {},
   "outputs": [],
   "source": [
    "layer_sizes = [1, 3, 1]\n",
    "list(zip(layer_sizes[:-1], layer_sizes[1:]))"
   ]
  },
  {
   "cell_type": "code",
   "execution_count": null,
   "id": "0554f80e",
   "metadata": {},
   "outputs": [],
   "source": [
    "import autograd.numpy as np\n",
    "import autograd.numpy.random as npr\n",
    "\n",
    "\n",
    "def nn(params, inputs, activation=np.tanh):\n",
    "    \"\"\"a neural network.\n",
    "    params is a list of (weights, bias) for each layer.\n",
    "    inputs goes into the nn. Each row corresponds to one output label.\n",
    "    activation is the nonlinear activation function.\n",
    "    \"\"\"\n",
    "    for W, b in params[:-1]:\n",
    "        outputs = np.dot(inputs, W) + b\n",
    "        inputs = activation(outputs)\n",
    "    # no activation on the last layer\n",
    "    W, b = params[-1]\n",
    "    return np.dot(inputs, W) + b\n",
    "\n",
    "\n",
    "def init_random_params(scale, layer_sizes, rs=npr.RandomState(0)):\n",
    "    \"\"\"Build a list of (weights, biases) tuples, one for each layer.\"\"\"\n",
    "    return [\n",
    "        (\n",
    "            rs.randn(insize, outsize) * scale,  # weight matrix\n",
    "            rs.randn(outsize) * scale,\n",
    "        )  # bias vector\n",
    "        for insize, outsize in zip(layer_sizes[:-1], layer_sizes[1:])\n",
    "    ]\n",
    "\n",
    "\n",
    "init_random_params(0.1, (1, 3, 1))"
   ]
  },
  {
   "cell_type": "markdown",
   "id": "1e911eea",
   "metadata": {},
   "source": [
    "As before, we are going to consider this dataset so we can evaluate fitting and extrapolation.\n",
    "\n"
   ]
  },
  {
   "cell_type": "code",
   "execution_count": null,
   "id": "93893763",
   "metadata": {},
   "outputs": [],
   "source": [
    "# Some generated data\n",
    "X = np.linspace(0, 1)\n",
    "Y = X ** (1.0 / 3.0)\n",
    "\n",
    "\n",
    "import matplotlib.pyplot as plt\n",
    "\n",
    "plt.plot(X, Y, \"b.\")\n",
    "plt.xlabel(\"x\")\n",
    "plt.ylabel(\"y\");"
   ]
  },
  {
   "cell_type": "markdown",
   "id": "b9637338",
   "metadata": {},
   "source": [
    "### tanh\n",
    "\n"
   ]
  },
  {
   "cell_type": "markdown",
   "id": "8a40c3c0",
   "metadata": {},
   "source": [
    "First we review the case of `tanh` which is a classic activation function. The `tanh` function is \"active\" between about &plusmn; 2.5, and outside that window it saturates. That means the derivative of this function becomes close to zero outside that window. So if you have large values of inputs, you should scale them to avoid this issue.\n",
    "\n"
   ]
  },
  {
   "cell_type": "code",
   "execution_count": null,
   "id": "ad94024d",
   "metadata": {},
   "outputs": [],
   "source": [
    "xt = np.linspace(-10, 10)\n",
    "plt.plot(xt, np.tanh(xt))\n",
    "plt.xlabel(\"x\")\n",
    "plt.ylabel(\"y\");"
   ]
  },
  {
   "cell_type": "code",
   "execution_count": null,
   "id": "7315fb1f",
   "metadata": {
    "lines_to_next_cell": 2
   },
   "outputs": [],
   "source": [
    "def objective1(params, step=None):\n",
    "    pred = nn(params, np.array([X]).T)\n",
    "    err = np.array([Y]).T - pred\n",
    "    return np.mean(err**2)\n",
    "\n",
    "\n",
    "from autograd.misc.optimizers import adam\n",
    "from autograd import grad\n",
    "\n",
    "params1 = init_random_params(0.1, layer_sizes=[1, 3, 1])\n",
    "\n",
    "N = 50\n",
    "MAX_EPOCHS = 500\n",
    "\n",
    "for i in range(MAX_EPOCHS):\n",
    "    params1 = adam(grad(objective1), params1, step_size=0.01, num_iters=N)\n",
    "    if i % 100 == 0:  # print every 100th step\n",
    "        print(f\"Step {i}: {objective1(params1)}\")\n",
    "    if objective1(params1, _) < 2e-5:\n",
    "        print(\"Tolerance reached, stopping\")\n",
    "        break"
   ]
  },
  {
   "cell_type": "code",
   "execution_count": null,
   "id": "d8d33ef1",
   "metadata": {},
   "outputs": [],
   "source": [
    "params1"
   ]
  },
  {
   "cell_type": "markdown",
   "id": "10df6080",
   "metadata": {},
   "source": [
    "Now we can examine the fit and extrapolation.\n",
    "\n"
   ]
  },
  {
   "cell_type": "code",
   "execution_count": null,
   "id": "ed8ec76e",
   "metadata": {},
   "outputs": [],
   "source": [
    "X2 = np.linspace(-2, 10)\n",
    "Y2 = X2 ** (1 / 3)\n",
    "Z2 = nn(params1, X2.reshape([-1, 1]))\n",
    "\n",
    "plt.plot(X2, Y2, \"b.\", label=\"analytical\")\n",
    "plt.plot(X2, Z2, label=\"NN\")\n",
    "plt.fill_between(X2 < 1, 0, 1.4, facecolor=\"gray\", alpha=0.5)\n",
    "plt.xlabel(\"x\")\n",
    "plt.ylabel(\"y\");"
   ]
  },
  {
   "cell_type": "markdown",
   "id": "c36dd819",
   "metadata": {},
   "source": [
    "For large enough $x$, all of the `tanh` functions saturate at $y=1$. So, the neural network also saturates at a constant value for large $x$.\n",
    "\n",
    "**exercise** Can you work out from the NN math what the saturated values should be?\n",
    "\n"
   ]
  },
  {
   "cell_type": "markdown",
   "id": "ec014a79",
   "metadata": {},
   "source": [
    "### relu\n",
    "\n"
   ]
  },
  {
   "cell_type": "markdown",
   "id": "53e90ddd",
   "metadata": {},
   "source": [
    "A common activation function in deep learning is the Relu:\n",
    "\n"
   ]
  },
  {
   "cell_type": "code",
   "execution_count": null,
   "id": "fc062d1e",
   "metadata": {},
   "outputs": [],
   "source": [
    "def relu(x):\n",
    "    return x * (x > 0)\n",
    "\n",
    "\n",
    "plt.plot(X2, relu(X2));"
   ]
  },
  {
   "cell_type": "markdown",
   "id": "1083d42d",
   "metadata": {},
   "source": [
    "This is popular because if is very fast to compute, and the derivatives are constant. For positive $x$ there is no saturation. For negative $x$, however, the neuron is \"dead\".\n",
    "\n"
   ]
  },
  {
   "cell_type": "code",
   "execution_count": null,
   "id": "c4bbec61",
   "metadata": {},
   "outputs": [],
   "source": [
    "def objective2(par, step=None):\n",
    "    pred = nn(par, np.array([X]).T, activation=relu)\n",
    "    err = np.array([Y]).T - pred\n",
    "    return np.mean(err**2)\n",
    "\n",
    "\n",
    "from autograd.misc.optimizers import adam\n",
    "from autograd import grad\n",
    "\n",
    "params2 = init_random_params(0.01, layer_sizes=[1, 3, 1])\n",
    "\n",
    "N = 50\n",
    "MAX_EPOCHS = 500\n",
    "\n",
    "for i in range(MAX_EPOCHS):\n",
    "    params2 = adam(grad(objective2), params2, step_size=0.01, num_iters=N)\n",
    "    if i % 100 == 0:  # print every 100th step\n",
    "        print(f\"Step {i}: {objective2(params2)}\")\n",
    "    if objective2(params2, _) < 2e-5:\n",
    "        print(\"Tolerance reached, stopping\")\n",
    "        break"
   ]
  },
  {
   "cell_type": "code",
   "execution_count": null,
   "id": "6c40d669",
   "metadata": {},
   "outputs": [],
   "source": [
    "X2 = np.linspace(0.0, 1)\n",
    "Y2 = X2 ** (1 / 3)\n",
    "Z2 = nn(params2, X2.reshape([-1, 1]), activation=relu)\n",
    "\n",
    "plt.plot(X2, Y2, \"b.\", label=\"analytical\")\n",
    "plt.plot(X2, Z2, label=\"NN\")\n",
    "plt.xlabel(\"x\")\n",
    "plt.ylabel(\"y\");"
   ]
  },
  {
   "cell_type": "code",
   "execution_count": null,
   "id": "e5eb9a21",
   "metadata": {},
   "outputs": [],
   "source": [
    "params2"
   ]
  },
  {
   "cell_type": "markdown",
   "id": "8bdb5fc6",
   "metadata": {},
   "source": [
    "Notes:\n",
    "\n",
    "1.  The fit is not very good.\n",
    "2.  we have piecewise linear fits here.\n",
    "3.  There are negative weights, which means there are some \"dead neurons\". Maybe other initial guesses might improve this.\n",
    "\n",
    "Let's look at the extrapolating behavior.\n",
    "\n"
   ]
  },
  {
   "cell_type": "code",
   "execution_count": null,
   "id": "b1291068",
   "metadata": {},
   "outputs": [],
   "source": [
    "X2 = np.linspace(0, 1)\n",
    "Y2 = X2 ** (1 / 3)\n",
    "\n",
    "xf = np.linspace(-2, 2)\n",
    "Z2 = nn(params2, xf.reshape([-1, 1]), activation=relu)\n",
    "\n",
    "plt.plot(X2, Y2, \"b.\", label=\"analytical\")\n",
    "plt.plot(xf, Z2, label=\"NN\")\n",
    "plt.fill_between(X2 < 1, 0, 1.4, facecolor=\"gray\", alpha=0.5)\n",
    "plt.xlabel(\"x\")\n",
    "plt.ylabel(\"y\");"
   ]
  },
  {
   "cell_type": "markdown",
   "id": "969d9560",
   "metadata": {},
   "source": [
    "Notes this extrapolates linearly on the right, and is constant on the left. These are properties of the Relu.\n",
    "\n"
   ]
  },
  {
   "cell_type": "markdown",
   "id": "cdeba08f",
   "metadata": {},
   "source": [
    "### Gaussian (radial basis function)\n",
    "\n"
   ]
  },
  {
   "cell_type": "markdown",
   "id": "351de0e3",
   "metadata": {},
   "source": [
    "Finally we consider the Gaussian activation function.\n",
    "\n"
   ]
  },
  {
   "cell_type": "code",
   "execution_count": null,
   "id": "99da211e",
   "metadata": {},
   "outputs": [],
   "source": [
    "def rbf(x):\n",
    "    return np.exp(-(x**2))\n",
    "\n",
    "\n",
    "x3 = np.linspace(-3, 3)\n",
    "plt.plot(x3, rbf(x3));"
   ]
  },
  {
   "cell_type": "markdown",
   "id": "bb329d15",
   "metadata": {},
   "source": [
    "Now we fit the data.\n",
    "\n"
   ]
  },
  {
   "cell_type": "code",
   "execution_count": null,
   "id": "3f4f2f9c",
   "metadata": {},
   "outputs": [],
   "source": [
    "def objective3(pars, step=None):\n",
    "    pred = nn(pars, np.array([X]).T, activation=rbf)\n",
    "    err = np.array([Y]).T - pred\n",
    "    return np.mean(err**2)\n",
    "\n",
    "\n",
    "from autograd.misc.optimizers import adam\n",
    "from autograd import grad\n",
    "\n",
    "params3 = init_random_params(0.1, layer_sizes=[1, 3, 1])\n",
    "\n",
    "N = 50\n",
    "MAX_EPOCHS = 500\n",
    "\n",
    "for i in range(MAX_EPOCHS):\n",
    "    params3 = adam(grad(objective3), params3, step_size=0.01, num_iters=N)\n",
    "    if i % 100 == 0:  # print every 100th step\n",
    "        print(f\"Step {i}: {objective3(params3)}\")\n",
    "    if objective3(params3, _) < 2e-5:\n",
    "        print(\"Tolerance reached, stopping\")\n",
    "        break"
   ]
  },
  {
   "cell_type": "code",
   "execution_count": null,
   "id": "400de86f",
   "metadata": {},
   "outputs": [],
   "source": [
    "X2 = np.linspace(0.0, 1)\n",
    "Y2 = X2 ** (1 / 3)\n",
    "Z2 = nn(params3, X2.reshape([-1, 1]), activation=rbf)\n",
    "\n",
    "plt.plot(X2, Y2, \"b.\", label=\"analytical\")\n",
    "plt.plot(X2, Z2, label=\"NN\")\n",
    "plt.xlabel(\"x\")\n",
    "plt.ylabel(\"y\");"
   ]
  },
  {
   "cell_type": "markdown",
   "id": "2b4625b1",
   "metadata": {},
   "source": [
    "Note we have piecewise linear fits here.\n",
    "\n"
   ]
  },
  {
   "cell_type": "code",
   "execution_count": null,
   "id": "3df1addd",
   "metadata": {},
   "outputs": [],
   "source": [
    "X2 = np.linspace(-2.5, 5)\n",
    "Y2 = X2 ** (1 / 3)\n",
    "Z2 = nn(params3, X2.reshape([-1, 1]), activation=rbf)\n",
    "\n",
    "plt.plot(X2, Y2, \"b.\", label=\"analytical\")\n",
    "plt.plot(X2, Z2, label=\"NN\")\n",
    "plt.fill_between(X2 < 1, 0, 1.4, facecolor=\"gray\", alpha=0.5)\n",
    "plt.xlabel(\"x\")\n",
    "plt.ylabel(\"y\");"
   ]
  },
  {
   "cell_type": "markdown",
   "id": "53cccb18",
   "metadata": {},
   "source": [
    "Notes this extrapolates to zero when you are far from the data. It fits reasonably in the region trained. \"If your function is nonlinear enough, somewhere the nonlinearity matches your data.\" (Z. Ulissi).\n",
    "\n"
   ]
  },
  {
   "cell_type": "code",
   "execution_count": null,
   "id": "4c6a968e",
   "metadata": {},
   "outputs": [],
   "source": [
    "def objective33(pars, step=None):\n",
    "    pred = nn(pars, np.array([X]).T, activation=np.sin)\n",
    "    err = np.array([Y]).T - pred\n",
    "    return np.mean(err**2)\n",
    "\n",
    "\n",
    "from autograd.misc.optimizers import adam\n",
    "from autograd import grad\n",
    "\n",
    "params33 = init_random_params(0.1, layer_sizes=[1, 3, 1])\n",
    "\n",
    "N = 50\n",
    "MAX_EPOCHS = 500\n",
    "\n",
    "for i in range(MAX_EPOCHS):\n",
    "    params33 = adam(grad(objective33), params33, step_size=0.01, num_iters=N)\n",
    "    if i % 100 == 0:  # print every 100th step\n",
    "        print(f\"Step {i}: {objective33(params33)}\")\n",
    "    if objective33(params33, _) < 2e-5:\n",
    "        print(\"Tolerance reached, stopping\")\n",
    "        break"
   ]
  },
  {
   "cell_type": "code",
   "execution_count": null,
   "id": "3c234832",
   "metadata": {},
   "outputs": [],
   "source": [
    "X2 = np.linspace(-15, 5)\n",
    "Y2 = X2 ** (1 / 3)\n",
    "Z2 = nn(params3, X2.reshape([-1, 1]), activation=np.sin)\n",
    "\n",
    "plt.plot(X2, Y2, \"b.\", label=\"analytical\")\n",
    "plt.plot(X2, Z2, label=\"NN\")\n",
    "plt.fill_between(X2 < 1, 0, 1.4, facecolor=\"gray\", alpha=0.5)\n",
    "plt.xlabel(\"x\")\n",
    "plt.ylabel(\"y\");"
   ]
  },
  {
   "cell_type": "markdown",
   "id": "378754a5",
   "metadata": {},
   "source": [
    "**Exercise** how many neurons do you need to get a better fit for sin as the activation function."
   ]
  },
  {
   "cell_type": "markdown",
   "id": "9bf2dbda",
   "metadata": {},
   "source": [
    "### Summary\n",
    "\n"
   ]
  },
  {
   "cell_type": "markdown",
   "id": "78095fea",
   "metadata": {},
   "source": [
    "We can think of single layer neural networks as partial expansions in the activation function space. That means the extrapolation behavior will be like the dominating feature of the activation functions, e.g. relu extrapolates like a line, tanh saturates at large x, and Gaussians effectively go to zero. Unexpected things can happen at the edges of the data, so at intermediate extrapolations you do not always know what will happen.\n",
    "\n"
   ]
  },
  {
   "cell_type": "markdown",
   "id": "3cf120cb",
   "metadata": {},
   "source": [
    "## Train/test splits on data\n",
    "\n"
   ]
  },
  {
   "cell_type": "markdown",
   "id": "bc5bb493",
   "metadata": {},
   "source": [
    "So far we have not considered how to split your data when fitting. This becomes important for a few reasons:\n",
    "\n",
    "1.  We need to be able to tell if we are overfitting. One way to do this is to compare fitting errors to prediction errors.\n",
    "\n",
    "This means we need a way to split a dataset into a train set and a test set. Then, we can do training on the train set, and testing on the test set.\n",
    "\n",
    "Let's start by remembering what our dataset is.\n",
    "\n"
   ]
  },
  {
   "cell_type": "code",
   "execution_count": null,
   "id": "8a1b1fb7",
   "metadata": {},
   "outputs": [],
   "source": [
    "X = np.linspace(0, 1)\n",
    "Y2 = X ** (1 / 3)\n",
    "X, Y2"
   ]
  },
  {
   "cell_type": "markdown",
   "id": "baea8120",
   "metadata": {},
   "source": [
    "The way to split this is that we use indexing. We start by making an array of integers.\n",
    "\n"
   ]
  },
  {
   "cell_type": "code",
   "execution_count": null,
   "id": "9732ec99",
   "metadata": {},
   "outputs": [],
   "source": [
    "ind = np.arange(len(X))\n",
    "ind"
   ]
  },
  {
   "cell_type": "markdown",
   "id": "7a544c82",
   "metadata": {},
   "source": [
    "Next, we randomly shuffle the array of integers.\n",
    "\n"
   ]
  },
  {
   "cell_type": "code",
   "execution_count": null,
   "id": "b3ab6e20",
   "metadata": {},
   "outputs": [],
   "source": [
    "pind = np.random.permutation(ind)\n",
    "pind"
   ]
  },
  {
   "cell_type": "markdown",
   "id": "05a59606",
   "metadata": {},
   "source": [
    "Next, we decide on the train/test split. A common choice is 80/20. We find the integer that is closest to 80% of the index array.\n",
    "\n"
   ]
  },
  {
   "cell_type": "code",
   "execution_count": null,
   "id": "c093895a",
   "metadata": {},
   "outputs": [],
   "source": [
    "split = int(0.8 * len(pind))\n",
    "split"
   ]
  },
  {
   "cell_type": "code",
   "execution_count": null,
   "id": "83ed48ef",
   "metadata": {},
   "outputs": [],
   "source": [
    "train_ind = pind[:split]\n",
    "test_ind = pind[split:]\n",
    "print(len(train_ind), len(test_ind))\n",
    "test_ind"
   ]
  },
  {
   "cell_type": "markdown",
   "id": "de26901b",
   "metadata": {},
   "source": [
    "We check that we have a reasonable choice here.\n",
    "\n"
   ]
  },
  {
   "cell_type": "code",
   "execution_count": null,
   "id": "b0d1c3a4",
   "metadata": {},
   "outputs": [],
   "source": [
    "train_x = X[train_ind]\n",
    "train_y = Y2[train_ind]\n",
    "\n",
    "test_x = X[test_ind]\n",
    "test_y = Y2[test_ind]\n",
    "plt.plot(test_x, test_y, \"ro\")\n",
    "plt.plot(train_x, train_y, \"bo\")\n",
    "plt.legend([\"test\", \"train\"]);"
   ]
  },
  {
   "cell_type": "markdown",
   "id": "b49df289",
   "metadata": {},
   "source": [
    "Now, we train on the train data.\n",
    "\n"
   ]
  },
  {
   "cell_type": "code",
   "execution_count": null,
   "id": "b661f442",
   "metadata": {},
   "outputs": [],
   "source": [
    "def objective10(params, step=None):\n",
    "    pred = nn(params, np.array([train_x]).T)\n",
    "    err = np.array([train_y]).T - pred\n",
    "    return np.mean(err**2)\n",
    "\n",
    "\n",
    "from autograd.misc.optimizers import adam\n",
    "from autograd import grad\n",
    "\n",
    "params10 = init_random_params(0.1, layer_sizes=[1, 3, 1])\n",
    "\n",
    "N = 50\n",
    "MAX_EPOCHS = 500\n",
    "\n",
    "for i in range(MAX_EPOCHS):\n",
    "    params10 = adam(grad(objective10), params10, step_size=0.01, num_iters=N)\n",
    "    if i % 100 == 0:  # print every 100th step\n",
    "        print(f\"Step {i}: {objective10(params10)}\")\n",
    "    if objective10(params10, _) < 2e-5:\n",
    "        print(\"Tolerance reached, stopping\")\n",
    "        break"
   ]
  },
  {
   "cell_type": "markdown",
   "id": "249c351a",
   "metadata": {},
   "source": [
    "As usual, we should check the fit on the train data. This is a little trickier than before, because the points are out of order.\n",
    "\n"
   ]
  },
  {
   "cell_type": "code",
   "execution_count": null,
   "id": "caf2bcea",
   "metadata": {},
   "outputs": [],
   "source": [
    "Z2 = nn(params10, train_x.reshape([-1, 1]))\n",
    "plt.plot(train_x, Z2, \"bo\", label=\"NN\")\n",
    "plt.plot(train_x, train_y, \"r+\", label=\"analytical\")\n",
    "plt.xlabel(\"x\")\n",
    "plt.ylabel(\"y\")\n",
    "\n",
    "plt.plot(test_x, nn(params10, test_x.reshape([-1, 1])), \"go\", label=\"NN\")\n",
    "plt.plot(test_x, test_y, \"y*\", label=\"analytical\");"
   ]
  },
  {
   "cell_type": "code",
   "execution_count": null,
   "id": "dda8e9ee",
   "metadata": {},
   "outputs": [],
   "source": [
    "rmse_train = np.mean((train_y - nn(params10, train_x.reshape([-1, 1])) ** 2))\n",
    "rmse_test = np.mean((test_y - nn(params10, test_x.reshape([-1, 1])) ** 2))\n",
    "\n",
    "print(f\"\"\"RMSE train = {rmse_train:1.3f}\n",
    "RMSE test = {rmse_test:1.3f}\"\"\")"
   ]
  },
  {
   "cell_type": "markdown",
   "id": "1c4affe0",
   "metadata": {},
   "source": [
    "Here, the test RMSE is *a little higher* than the train data. This suggests a possible overfitting, but not by much. This may also be due to extrapolation errors because the first two test points are technically outside the training data. For the train/test split to be meaningful, it is important that the two datasets have similar distributions of values.\n",
    "\n"
   ]
  },
  {
   "cell_type": "markdown",
   "id": "0ad230cb",
   "metadata": {},
   "source": [
    "## Summary\n",
    "\n"
   ]
  },
  {
   "cell_type": "markdown",
   "id": "3ccca16a",
   "metadata": {
    "lines_to_next_cell": 2
   },
   "source": [
    "Today we reviewed the role of activation functions in neural networks, and observed that it doesn't generally matter what you use (but the details always matter in individual cases). The mathematical form of these activation functions determines how they will extrapolate, which can be important depending on your application.\n",
    "\n",
    "We then explored how to efficiently split a dataset into a train and test set so that overfitting can be evaluated. This becomes increasingly important for when you plan to explore many models (choices of hyperparameters), and then you split the data three ways (train, test and validate).\n",
    "\n"
   ]
  }
 ],
 "metadata": {
  "execution": {
   "timeout": -1
  },
  "kernelspec": {
   "display_name": "Python 3 (ipykernel)",
   "language": "python",
   "name": "python3"
  },
  "language_info": {
   "codemirror_mode": {
    "name": "ipython",
    "version": 3
   },
   "file_extension": ".py",
   "mimetype": "text/x-python",
   "name": "python",
   "nbconvert_exporter": "python",
   "pygments_lexer": "ipython3",
   "version": "3.10.11"
  }
 },
 "nbformat": 4,
 "nbformat_minor": 5
}

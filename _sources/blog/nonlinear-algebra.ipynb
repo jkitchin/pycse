{
 "cells": [
  {
   "cell_type": "markdown",
   "id": "a7e0852a",
   "metadata": {},
   "source": [
    "# Nonlinear algebra\n",
    "\n"
   ]
  },
  {
   "cell_type": "markdown",
   "id": "8a482c86",
   "metadata": {},
   "source": [
    "Nonlinear algebra problems are typically solved using an iterative process that terminates when the solution is found within a specified tolerance. This process is hidden from the user. The canonical standard form to solve is $f(X) = 0$.\n"
   ]
  },
  {
   "cell_type": "markdown",
   "id": "458e893d",
   "metadata": {},
   "source": [
    "## Know your tolerance\n",
    "\n"
   ]
  },
  {
   "cell_type": "markdown",
   "id": "59bced4d",
   "metadata": {},
   "source": [
    "[Matlab post](http://matlab.cheme.cmu.edu/2011/09/02/know-your-tolerance/)\n",
    "\n",
    "\n",
    "$V = \\frac{\\nu (C_{Ao} - C_A)}{k C_A^2}$\n",
    "\n",
    "\n",
    "With the information given below, solve for the exit concentration. This should be simple.\n",
    "\n",
    "    Cao = 2*u.mol/u.L;\n",
    "    V = 10*u.L;\n",
    "    nu = 0.5*u.L/u.s;\n",
    "    k = 0.23 * u.L/u.mol/u.s;\n",
    "\n"
   ]
  },
  {
   "cell_type": "code",
   "execution_count": 1,
   "id": "9e9912ef",
   "metadata": {},
   "outputs": [],
   "source": [
    "import numpy as np\n",
    "from scipy.integrate import odeint\n",
    "import matplotlib.pyplot as plt\n",
    "\n",
    "# unit definitions\n",
    "m = 1.0\n",
    "L = m**3 / 1000.0\n",
    "mol = 1.0\n",
    "s = 1.0\n",
    "\n",
    "# provide data\n",
    "Cao = 2.0 * mol / L\n",
    "V = 10.0 * L\n",
    "nu = 0.5 * L / s\n",
    "k = 0.23 * L / mol / s\n",
    "\n",
    "\n",
    "def func(Ca):\n",
    "    return V - nu * (Cao - Ca) / (k * Ca**2)"
   ]
  },
  {
   "cell_type": "markdown",
   "id": "3f388214",
   "metadata": {},
   "source": [
    "Let us plot the function to estimate the solution.\n",
    "\n"
   ]
  },
  {
   "cell_type": "code",
   "execution_count": 2,
   "id": "ad422e14",
   "metadata": {},
   "outputs": [
    {
     "data": {
      "image/png": "[encoded data removed]",
      "text/plain": [
       "<Figure size 432x288 with 1 Axes>"
      ]
     },
     "metadata": {
      "needs_background": "light"
     },
     "output_type": "display_data"
    }
   ],
   "source": [
    "c = np.linspace(0.001, 2) * mol / L\n",
    "\n",
    "plt.clf()\n",
    "plt.plot(c, func(c))\n",
    "plt.xlabel(\"C (mol/m^3)\")\n",
    "plt.ylim([-0.1, 0.1]);"
   ]
  },
  {
   "cell_type": "markdown",
   "id": "7be1f466",
   "metadata": {},
   "source": [
    "Now let us solve the equation. It looks like an answer is near C=500.\n",
    "\n"
   ]
  },
  {
   "cell_type": "code",
   "execution_count": 3,
   "id": "c044e448",
   "metadata": {},
   "outputs": [
    {
     "name": "stdout",
     "output_type": "stream",
     "text": [
      "559.5837456060607\n",
      "-1.734723475976807e-18\n",
      "-1.734723475976807e-21\n"
     ]
    }
   ],
   "source": [
    "from scipy.optimize import fsolve\n",
    "\n",
    "cguess = 500\n",
    "(c,) = fsolve(func, cguess)\n",
    "print(c)\n",
    "print(func(c))\n",
    "print(func(c) / (mol / L))"
   ]
  },
  {
   "cell_type": "markdown",
   "id": "3d918aa4",
   "metadata": {},
   "source": [
    "Interesting. In Matlab, the default tolerance was not sufficient to get a good solution. Here it is.\n",
    "\n"
   ]
  },
  {
   "cell_type": "markdown",
   "id": "601db8c4",
   "metadata": {},
   "source": [
    "## Solving integral equations with fsolve\n",
    "\n"
   ]
  },
  {
   "cell_type": "markdown",
   "id": "ddb0ca41",
   "metadata": {},
   "source": [
    "[Original post in Matlab](http://matlab.cheme.cmu.edu/2011/08/30/solving-integral-equations/)\n",
    "\n",
    "Occasionally we have integral equations we need to solve in engineering problems, for example, the volume of plug flow reactor can be defined by this equation: $V = \\int_{Fa(V=0)}^{Fa} \\frac{1}{r_a} dFa$ where $r_a$ is the rate law. Suppose we know the reactor volume is 100 L, the inlet molar flow of A is 1 mol/L, the volumetric flow is 10 L/min, and $r_a = -k Ca$, with $k=0.23$ 1/min. What is the exit molar flow rate? We need to solve the following equation:\n",
    "\n",
    "$$100 = \\int_{Fa(V=0)}^{Fa} \\frac{1}{-k Fa/\\nu} dFa$$\n",
    "\n",
    "We start by creating a function handle that describes the integrand. We can use this function in the quad command to evaluate the integral.\n",
    "\n"
   ]
  },
  {
   "cell_type": "code",
   "execution_count": 4,
   "id": "60d3fbda",
   "metadata": {},
   "outputs": [],
   "source": [
    "import numpy as np\n",
    "from scipy.integrate import quad\n",
    "from scipy.optimize import fsolve\n",
    "\n",
    "k = 0.23\n",
    "nu = 10.0\n",
    "Fao = 1.0\n",
    "\n",
    "\n",
    "def integrand(Fa):\n",
    "    return -1.0 / (k * Fa / nu)\n",
    "\n",
    "\n",
    "def func(Fa):\n",
    "    integral, err = quad(integrand, Fao, Fa)\n",
    "    return 100.0 - integral\n",
    "\n",
    "\n",
    "vfunc = np.vectorize(func)"
   ]
  },
  {
   "cell_type": "markdown",
   "id": "18bf78c8",
   "metadata": {},
   "source": [
    "We will need an initial guess, so we make a plot of our function to get an idea.\n",
    "\n"
   ]
  },
  {
   "cell_type": "code",
   "execution_count": 5,
   "id": "a7b5157d",
   "metadata": {},
   "outputs": [
    {
     "data": {
      "image/png": "[encoded data removed]",
      "text/plain": [
       "<Figure size 432x288 with 1 Axes>"
      ]
     },
     "metadata": {
      "needs_background": "light"
     },
     "output_type": "display_data"
    }
   ],
   "source": [
    "import matplotlib.pyplot as plt\n",
    "\n",
    "f = np.linspace(0.01, 1)\n",
    "plt.plot(f, vfunc(f))\n",
    "plt.xlabel(\"Molar flow rate\");"
   ]
  },
  {
   "cell_type": "markdown",
   "id": "0271d467",
   "metadata": {},
   "source": [
    "Now we can see a zero is near Fa = 0.1, so we proceed to solve the equation.\n",
    "\n"
   ]
  },
  {
   "cell_type": "code",
   "execution_count": 6,
   "id": "8ff97cf2",
   "metadata": {},
   "outputs": [
    {
     "name": "stdout",
     "output_type": "stream",
     "text": [
      "The exit concentration is 0.01 mol/L\n"
     ]
    }
   ],
   "source": [
    "Fa_guess = 0.1\n",
    "(Fa_exit,) = fsolve(vfunc, Fa_guess)\n",
    "print(\"The exit concentration is {0:1.2f} mol/L\".format(Fa_exit / nu))"
   ]
  },
  {
   "cell_type": "markdown",
   "id": "c73c2f0a",
   "metadata": {},
   "source": [
    "### Summary notes\n",
    "\n"
   ]
  },
  {
   "cell_type": "markdown",
   "id": "0de18fe1",
   "metadata": {},
   "source": [
    "This example seemed a little easier in Matlab, where the quad function seemed to get automatically vectorized. Here we had to do it by hand.\n",
    "\n"
   ]
  },
  {
   "cell_type": "markdown",
   "id": "b48c2844",
   "metadata": {},
   "source": [
    "## Method of continuity for nonlinear equation solving\n",
    "\n"
   ]
  },
  {
   "cell_type": "markdown",
   "id": "38aa4bd3",
   "metadata": {},
   "source": [
    "[Matlab post](http://matlab.cheme.cmu.edu/2011/11/01/method-of-continuity-for-nonlinear-equation-solving/)\n",
    "\n",
    "\n",
    "Adapted from Perry's Chemical Engineers Handbook, 6th edition 2-63.\n",
    "\n",
    "We seek the solution to the following nonlinear equations:\n",
    "\n",
    "$2 + x + y - x^2 + 8 x y + y^3 = 0$\n",
    "\n",
    "$1 + 2x - 3y + x^2 + xy - y e^x = 0$\n",
    "\n",
    "In principle this is easy, we simply need some initial guesses and a nonlinear solver. The challenge here is what would you guess? There could be many solutions. The equations are implicit, so it is not easy to graph them, but let us give it a shot, starting on the x range -5 to 5. The idea is set a value for x, and then solve for y in each equation.\n",
    "\n"
   ]
  },
  {
   "cell_type": "code",
   "execution_count": 7,
   "id": "210556c4",
   "metadata": {},
   "outputs": [
    {
     "name": "stderr",
     "output_type": "stream",
     "text": [
      "/Users/jkitchin/opt/anaconda3/lib/python3.9/site-packages/scipy/optimize/_minpack_py.py:178: RuntimeWarning: The iteration is not making good progress, as measured by the \n",
      "  improvement from the last ten iterations.\n",
      "  warnings.warn(msg, RuntimeWarning)\n",
      "/Users/jkitchin/opt/anaconda3/lib/python3.9/site-packages/scipy/optimize/_minpack_py.py:178: RuntimeWarning: The iteration is not making good progress, as measured by the \n",
      "  improvement from the last five Jacobian evaluations.\n",
      "  warnings.warn(msg, RuntimeWarning)\n"
     ]
    },
    {
     "data": {
      "image/png": "[encoded data removed]",
      "text/plain": [
       "<Figure size 432x288 with 1 Axes>"
      ]
     },
     "metadata": {
      "needs_background": "light"
     },
     "output_type": "display_data"
    }
   ],
   "source": [
    "import numpy as np\n",
    "from scipy.optimize import fsolve\n",
    "\n",
    "import matplotlib.pyplot as plt\n",
    "\n",
    "\n",
    "def f(x, y):\n",
    "    return 2 + x + y - x**2 + 8 * x * y + y**3\n",
    "\n",
    "\n",
    "def g(x, y):\n",
    "    return 1 + 2 * x - 3 * y + x**2 + x * y - y * np.exp(x)\n",
    "\n",
    "\n",
    "x = np.linspace(-5, 5, 500)\n",
    "\n",
    "\n",
    "@np.vectorize\n",
    "def fy(x):\n",
    "    x0 = 0.0\n",
    "\n",
    "    def tmp(y):\n",
    "        return f(x, y)\n",
    "\n",
    "    (y1,) = fsolve(tmp, x0)\n",
    "    return y1\n",
    "\n",
    "\n",
    "@np.vectorize\n",
    "def gy(x):\n",
    "    x0 = 0.0\n",
    "\n",
    "    def tmp(y):\n",
    "        return g(x, y)\n",
    "\n",
    "    (y1,) = fsolve(tmp, x0)\n",
    "    return y1\n",
    "\n",
    "\n",
    "plt.plot(x, fy(x), x, gy(x))\n",
    "plt.xlabel(\"x\")\n",
    "plt.ylabel(\"y\")\n",
    "plt.legend([\"fy\", \"gy\"]);"
   ]
  },
  {
   "cell_type": "markdown",
   "id": "eb5692a6",
   "metadata": {},
   "source": [
    "You can see there is a solution near x = -1, y = 0, because both functions equal zero there. We can even use that guess with fsolve. It is disappointly easy! But, keep in mind that in 3 or more dimensions, you cannot perform this visualization, and another method could be required.\n",
    "\n"
   ]
  },
  {
   "cell_type": "code",
   "execution_count": 8,
   "id": "eab3fcea",
   "metadata": {},
   "outputs": [
    {
     "name": "stdout",
     "output_type": "stream",
     "text": [
      "[-1.00000000e+00  1.28730858e-15]\n"
     ]
    }
   ],
   "source": [
    "def func(X):\n",
    "    x, y = X\n",
    "    return [f(x, y), g(x, y)]\n",
    "\n",
    "\n",
    "print(fsolve(func, [-2, -2]))"
   ]
  },
  {
   "cell_type": "markdown",
   "id": "93a1974e",
   "metadata": {},
   "source": [
    "We explore a method that bypasses this problem today. The principle is to introduce a new variable, $\\lambda$, which will vary from 0 to 1. at $\\lambda=0$ we will have a simpler equation, preferably a linear one, which can be easily solved, or which can be analytically solved. At $\\lambda=1$, we have the original equations. Then, we create a system of differential equations that start at the easy solution, and integrate from $\\lambda=0$ to $\\lambda=1$, to recover the final solution.\n",
    "\n",
    "We rewrite the equations as:\n",
    "\n",
    "$f(x,y) = (2 + x + y) + \\lambda(- x^2 + 8 x y + y^3) = 0$\n",
    "\n",
    "$g(x,y) = (1 + 2x - 3y) + \\lambda(x^2 + xy - y e^x) = 0$\n",
    "\n",
    "Now, at $\\lambda=0$ we have the simple linear equations:\n",
    "\n",
    "$x + y = -2$\n",
    "\n",
    "$2x - 3y = -1$\n",
    "\n",
    "These equations are trivial to solve:\n",
    "\n"
   ]
  },
  {
   "cell_type": "code",
   "execution_count": 9,
   "id": "0ed66500",
   "metadata": {},
   "outputs": [
    {
     "name": "stdout",
     "output_type": "stream",
     "text": [
      "[-1.4 -0.6]\n"
     ]
    }
   ],
   "source": [
    "x0 = np.linalg.solve([[1.0, 1.0], [2.0, -3.0]], [-2, -1])\n",
    "print(x0)"
   ]
  },
  {
   "cell_type": "markdown",
   "id": "7be242a0",
   "metadata": {},
   "source": [
    "We form the system of ODEs by differentiating the new equations with respect to $\\lambda$. Why do we do that? The solution, (x,y) will be a function of $\\lambda$. From calculus, you can show that:\n",
    "\n",
    "$\\frac{\\partial f}{\\partial x}\\frac{\\partial x}{\\partial \\lambda}+\\frac{\\partial f}{\\partial y}\\frac{\\partial y}{\\partial \\lambda}=-\\frac{\\partial f}{\\partial \\lambda}$\n",
    "\n",
    "$\\frac{\\partial g}{\\partial x}\\frac{\\partial x}{\\partial \\lambda}+\\frac{\\partial g}{\\partial y}\\frac{\\partial y}{\\partial \\lambda}=-\\frac{\\partial g}{\\partial \\lambda}$\n",
    "\n",
    "Now, solve this for $\\frac{\\partial x}{\\partial \\lambda}$ and $\\frac{\\partial y}{\\partial \\lambda}$. You can use Cramer's rule to solve for these to yield:\n",
    "\n",
    "\\begin{eqnarray} \\\n",
    "\\frac{\\partial x}{\\partial \\lambda} &=& \\frac{\\partial f/\\partial y \\partial g/\\partial \\lambda - \\partial f/\\partial \\lambda \\partial g/\\partial y}{\\partial f/\\partial x \\partial g/\\partial y - \\partial f/\\partial y \\partial g/\\partial x } \\\\\\\\\n",
    "\\frac{\\partial y}{\\partial \\lambda} &=& \\frac{\\partial f/\\partial \\lambda \\partial g/\\partial x - \\partial f/\\partial x \\partial g/\\partial \\lambda}{\\partial f/\\partial x \\partial g/\\partial y - \\partial f/\\partial y \\partial g/\\partial x } \\end{eqnarray}\n",
    "\n",
    "For this set of equations:\n",
    "\n",
    "\\begin{eqnarray} \\\n",
    "\\partial f/\\partial x &=& 1 - 2\\lambda x + 8\\lambda y \\\\\\\\\n",
    "\\partial f/\\partial y &=& 1 + 8 \\lambda x + 3 \\lambda y^2 \\\\\\\\\n",
    "\\partial g/\\partial x &=& 2 + 2 \\lambda x + \\lambda y - \\lambda y e^x\\\\\\\\\n",
    "\\partial g/\\partial y &=& -3 + \\lambda x - \\lambda e^x\n",
    "\\end{eqnarray}\n",
    "\n",
    "Now, we simply set up those two differential equations on $\\frac{\\partial x}{\\partial \\lambda}$ and $\\frac{\\partial y}{\\partial \\lambda}$, with the initial conditions at $\\lambda = 0$ which is the solution of the simpler linear equations, and integrate to $\\lambda = 1$, which is the final solution of the original equations!\n",
    "\n"
   ]
  },
  {
   "cell_type": "code",
   "execution_count": 10,
   "id": "6a647385",
   "metadata": {},
   "outputs": [
    {
     "name": "stdout",
     "output_type": "stream",
     "text": [
      "The solution is at x=-1.000, y=0.000\n",
      "-1.2774659896437804e-06 -1.1587381871538658e-06\n"
     ]
    }
   ],
   "source": [
    "def ode(X, LAMBDA):\n",
    "    x, y = X\n",
    "    pfpx = 1.0 - 2.0 * LAMBDA * x + 8 * LAMBDA * y\n",
    "    pfpy = 1.0 + 8.0 * LAMBDA * x + 3.0 * LAMBDA * y**2\n",
    "    pfpLAMBDA = -(x**2) + 8.0 * x * y + y**3\n",
    "    pgpx = 2.0 + 2.0 * LAMBDA * x + LAMBDA * y - LAMBDA * y * np.exp(x)\n",
    "    pgpy = -3.0 + LAMBDA * x - LAMBDA * np.exp(x)\n",
    "    pgpLAMBDA = x**2 + x * y - y * np.exp(x)\n",
    "    dxdLAMBDA = (pfpy * pgpLAMBDA - pfpLAMBDA * pgpy) / (pfpx * pgpy - pfpy * pgpx)\n",
    "    dydLAMBDA = (pfpLAMBDA * pgpx - pfpx * pgpLAMBDA) / (pfpx * pgpy - pfpy * pgpx)\n",
    "    dXdLAMBDA = [dxdLAMBDA, dydLAMBDA]\n",
    "    return dXdLAMBDA\n",
    "\n",
    "\n",
    "from scipy.integrate import odeint\n",
    "\n",
    "lambda_span = np.linspace(0, 1, 100)\n",
    "\n",
    "X = odeint(ode, x0, lambda_span)\n",
    "\n",
    "xsol, ysol = X[-1]\n",
    "print(\"The solution is at x={0:1.3f}, y={1:1.3f}\".format(xsol, ysol))\n",
    "print(f(xsol, ysol), g(xsol, ysol))"
   ]
  },
  {
   "cell_type": "markdown",
   "id": "8d629e04",
   "metadata": {},
   "source": [
    "You can see the solution is somewhat approximate; the true solution is x = -1, y = 0. The approximation could be improved by lowering the tolerance on the ODE solver. The functions evaluate to a small number, close to zero. You have to apply some judgment to determine if that is sufficiently accurate. For instance if the units on that answer are kilometers, but you need an answer accurate to a millimeter, this may not be accurate enough.\n",
    "\n",
    "This is a fair amount of work to get a solution! The idea is to solve a simple problem, and then gradually turn on the hard part by the lambda parameter. What happens if there are multiple solutions? The answer you finally get will depend on your $\\lambda=0$  starting point, so it is possible to miss solutions this way. For problems with lots of variables, this would be a good approach if you can identify the easy problem.\n",
    "\n"
   ]
  },
  {
   "cell_type": "markdown",
   "id": "f4956c79",
   "metadata": {},
   "source": [
    "## Method of continuity for solving nonlinear equations - Part II\n",
    "\n"
   ]
  },
  {
   "cell_type": "markdown",
   "id": "839d36ff",
   "metadata": {},
   "source": [
    "[Matlab post](http://matlab.cheme.cmu.edu/2011/11/02/method-of-continuity-for-solving-nonlinear-equations-part-ii-2/)\n",
    "\n",
    "Yesterday in Post 1324 we looked at a way to solve nonlinear equations that takes away some of the burden of initial guess generation. The idea was to reformulate the equations with a new variable $\\lambda$, so that at $\\lambda=0$ we have a simpler problem we know how to solve, and at $\\lambda=1$ we have the original set of equations. Then, we derive a set of ODEs on how the solution changes with $\\lambda$, and solve them.\n",
    "\n",
    "Today we look at a simpler example and explain a little more about what is going on. Consider the equation: $f(x) = x^2 - 5x + 6 = 0$, which has two roots, $x=2$ and $x=3$. We will use the method of continuity to solve this equation to illustrate a few ideas. First, we introduce a new variable $\\lambda$ as: $f(x; \\lambda) = 0$. For example, we could write $f(x;\\lambda) = \\lambda x^2 - 5x + 6 = 0$. Now, when $\\lambda=0$, we hve the simpler equation $- 5x + 6 = 0$, with the solution $x=6/5$. The question now is, how does $x$ change as $\\lambda$ changes? We get that from the total derivative of how $f(x,\\lambda)$ changes with $\\lambda$. The total derivative is:\n",
    "\n",
    "$$\\frac{df}{d\\lambda} = \\frac{\\partial f}{\\partial \\lambda} + \\frac{\\partial f}{\\partial x}\\frac{\\partial x}{\\partial \\lambda}=0$$\n",
    "\n",
    "We can calculate two of those quantities: $\\frac{\\partial f}{\\partial \\lambda}$ and $\\frac{\\partial f}{\\partial x}$ analytically from our equation and solve for $\\frac{\\partial x}{\\partial \\lambda}$ as\n",
    "\n",
    "$$ \\frac{\\partial x}{\\partial \\lambda} = -\\frac{\\partial f}{\\partial \\lambda}/\\frac{\\partial f}{\\partial x}$$\n",
    "\n",
    "That defines an ordinary differential equation that we can solve by integrating from $\\lambda=0$ where we know the solution to $\\lambda=1$ which is the solution to the real problem. For this problem: $\\frac{\\partial f}{\\partial \\lambda}=x^2$ and $\\frac{\\partial f}{\\partial x}=-5 + 2\\lambda x$.\n",
    "\n"
   ]
  },
  {
   "cell_type": "code",
   "execution_count": 11,
   "id": "0d1bd3e9",
   "metadata": {},
   "outputs": [
    {
     "data": {
      "image/png": "[encoded data removed]",
      "text/plain": [
       "<Figure size 432x288 with 1 Axes>"
      ]
     },
     "metadata": {
      "needs_background": "light"
     },
     "output_type": "display_data"
    }
   ],
   "source": [
    "import numpy as np\n",
    "from scipy.integrate import odeint\n",
    "import matplotlib.pyplot as plt\n",
    "\n",
    "\n",
    "def dxdL(x, Lambda):\n",
    "    return -(x**2) / (-5.0 + 2 * Lambda * x)\n",
    "\n",
    "\n",
    "x0 = 6.0 / 5.0\n",
    "Lspan = np.linspace(0, 1)\n",
    "x = odeint(dxdL, x0, Lspan)\n",
    "\n",
    "plt.plot(Lspan, x)\n",
    "plt.xlabel(\"$\\lambda$\")\n",
    "plt.ylabel(\"x\");"
   ]
  },
  {
   "cell_type": "markdown",
   "id": "f8bb3830",
   "metadata": {},
   "source": [
    "We found one solution at x=2. What about the other solution? To get that we have to introduce $\\lambda$ into the equations in another way. We could try: $f(x;\\lambda) = x^2 + \\lambda(-5x + 6)$, but this leads to an ODE that is singular at the initial starting point. Another approach is $f(x;\\lambda) = x^2 + 6 + \\lambda(-5x)$, but now the solution at $\\lambda=0$ is imaginary, and we do not have a way to integrate that! What we can do instead is add and subtract a number like this: $f(x;\\lambda) = x^2 - 4 + \\lambda(-5x + 6 + 4)$. Now at $\\lambda=0$, we have a simple equation with roots at $\\pm 2$, and we already know that $x=2$ is a solution. So, we create our ODE on $dx/d\\lambda$ with initial condition $x(0) = -2$.\n",
    "\n"
   ]
  },
  {
   "cell_type": "code",
   "execution_count": 12,
   "id": "c095efa0",
   "metadata": {},
   "outputs": [
    {
     "data": {
      "image/png": "[encoded data removed]",
      "text/plain": [
       "<Figure size 432x288 with 1 Axes>"
      ]
     },
     "metadata": {
      "needs_background": "light"
     },
     "output_type": "display_data"
    }
   ],
   "source": [
    "import numpy as np\n",
    "from scipy.integrate import odeint\n",
    "import matplotlib.pyplot as plt\n",
    "\n",
    "\n",
    "def dxdL(x, Lambda):\n",
    "    return (5 * x - 10) / (2 * x - 5 * Lambda)\n",
    "\n",
    "\n",
    "x0 = -2\n",
    "Lspan = np.linspace(0, 1)\n",
    "x = odeint(dxdL, x0, Lspan)\n",
    "\n",
    "plt.plot(Lspan, x)\n",
    "plt.xlabel(\"$\\lambda$\")\n",
    "plt.ylabel(\"x\");"
   ]
  },
  {
   "cell_type": "markdown",
   "id": "0256400b",
   "metadata": {},
   "source": [
    "Now we have the other solution. Note if you choose the other root, $x=2$, you find that 2 is a root, and learn nothing new. You could choose other values to add, e.g., if you chose to add and subtract 16, then you would find that one starting point leads to one root, and the other starting point leads to the other root. This method does not solve all problems associated with nonlinear root solving, namely, how many roots are there, and which one is \"best\" or physically reasonable? But it does give a way to solve an equation where you have no idea what an initial guess should be. You can see, however, that just like you can get different answers from different initial guesses, here you can get different answers by setting up the equations differently.\n",
    "\n"
   ]
  },
  {
   "cell_type": "markdown",
   "id": "fa3d0360",
   "metadata": {},
   "source": [
    "## Counting roots\n",
    "\n"
   ]
  },
  {
   "cell_type": "markdown",
   "id": "f2b2aee0",
   "metadata": {},
   "source": [
    "[Matlab post](http://matlab.cheme.cmu.edu/2011/09/10/counting-roots/)\n",
    "\n",
    "The goal here is to determine how many roots there are in a nonlinear function we are interested in solving. For this example, we use a cubic polynomial because we know there are three roots.\n",
    "\n",
    "$$f(x) = x^3 + 6x^2 - 4x -24$$\n",
    "\n"
   ]
  },
  {
   "cell_type": "markdown",
   "id": "3b4a3916",
   "metadata": {},
   "source": [
    "### Use roots for this polynomial\n",
    "\n"
   ]
  },
  {
   "cell_type": "markdown",
   "id": "79916505",
   "metadata": {},
   "source": [
    "This ony works for a polynomial, it does not work for any other nonlinear function.\n",
    "\n"
   ]
  },
  {
   "cell_type": "code",
   "execution_count": 13,
   "id": "703e3fc6",
   "metadata": {},
   "outputs": [
    {
     "name": "stdout",
     "output_type": "stream",
     "text": [
      "[-6.  2. -2.]\n"
     ]
    }
   ],
   "source": [
    "import numpy as np\n",
    "\n",
    "print(np.roots([1, 6, -4, -24]))"
   ]
  },
  {
   "cell_type": "markdown",
   "id": "5c1e9b66",
   "metadata": {},
   "source": [
    "Let us plot the function to see where the roots are.\n",
    "\n"
   ]
  },
  {
   "cell_type": "code",
   "execution_count": 14,
   "id": "c14ab108",
   "metadata": {},
   "outputs": [
    {
     "data": {
      "image/png": "[encoded data removed]",
      "text/plain": [
       "<Figure size 432x288 with 1 Axes>"
      ]
     },
     "metadata": {
      "needs_background": "light"
     },
     "output_type": "display_data"
    }
   ],
   "source": [
    "import numpy as np\n",
    "import matplotlib.pyplot as plt\n",
    "\n",
    "x = np.linspace(-8, 4)\n",
    "y = x**3 + 6 * x**2 - 4 * x - 24\n",
    "plt.plot(x, y);"
   ]
  },
  {
   "cell_type": "markdown",
   "id": "178d3589",
   "metadata": {},
   "source": [
    "Now we consider several approaches to counting the number of roots in this interval. Visually it is pretty easy, you just look for where the function crosses zero. Computationally, it is tricker.\n",
    "\n"
   ]
  },
  {
   "cell_type": "markdown",
   "id": "7f2d6a2e",
   "metadata": {},
   "source": [
    "### Method 1\n",
    "\n"
   ]
  },
  {
   "cell_type": "markdown",
   "id": "103960f7",
   "metadata": {},
   "source": [
    "Count the number of times the sign changes in the interval. What we have to do is multiply neighboring elements together, and look for negative values. That indicates a sign change. For example the product of two positive or negative numbers is a positive number. You only get a negative number from the product of a positive and negative number, which means the sign changed.\n",
    "\n"
   ]
  },
  {
   "cell_type": "code",
   "execution_count": 15,
   "id": "fa854b61",
   "metadata": {},
   "outputs": [
    {
     "name": "stdout",
     "output_type": "stream",
     "text": [
      "3\n"
     ]
    }
   ],
   "source": [
    "import numpy as np\n",
    "import matplotlib.pyplot as plt\n",
    "\n",
    "x = np.linspace(-8, 4)\n",
    "y = x**3 + 6 * x**2 - 4 * x - 24\n",
    "\n",
    "print(np.sum(y[0:-2] * y[1:-1] < 0))"
   ]
  },
  {
   "cell_type": "markdown",
   "id": "15302a81",
   "metadata": {},
   "source": [
    "This method gives us the number of roots, but not where the roots are.\n",
    "\n"
   ]
  },
  {
   "cell_type": "markdown",
   "id": "e2892bc5",
   "metadata": {},
   "source": [
    "### Method 2\n",
    "\n"
   ]
  },
  {
   "cell_type": "markdown",
   "id": "640248ac",
   "metadata": {},
   "source": [
    "Using events in an ODE solver python can identify events in the solution to an ODE, for example, when a function has a certain value, e.g. f(x) = 0. We can take advantage of this to find the roots and number of roots in this case. We take the derivative of our function, and integrate it from an initial starting point, and define an event function that counts zeros.\n",
    "\n",
    "$$f'(x) = 3x^2 + 12x - 4$$\n",
    "\n",
    "with f(-8) = -120\n",
    "\n"
   ]
  },
  {
   "cell_type": "code",
   "execution_count": 16,
   "id": "0acb6821",
   "metadata": {},
   "outputs": [
    {
     "data": {
      "text/plain": [
       "array([-6., -2.,  2.])"
      ]
     },
     "execution_count": 16,
     "metadata": {},
     "output_type": "execute_result"
    }
   ],
   "source": [
    "import numpy as np\n",
    "from scipy.integrate import solve_ivp\n",
    "\n",
    "\n",
    "def fprime(x, f):\n",
    "    return 3.0 * x**2 + 12.0 * x - 4.0\n",
    "\n",
    "\n",
    "def event(x, f):\n",
    "    value = f  # we want f = 0\n",
    "    return value\n",
    "\n",
    "\n",
    "xspan = (-8, 4)\n",
    "f0 = (-120,)\n",
    "\n",
    "sol = solve_ivp(fprime, xspan, f0, events=event, max_step=0.1)\n",
    "\n",
    "sol.t_events[0]  # these are the found roots"
   ]
  },
  {
   "cell_type": "markdown",
   "id": "78dbf7c3",
   "metadata": {},
   "source": [
    "## Finding the nth root of a periodic function\n",
    "\n"
   ]
  },
  {
   "cell_type": "markdown",
   "id": "470b342f",
   "metadata": {},
   "source": [
    "There is a heat transfer problem where one needs to find the n^th root of the following equation: $x J_1(x) - Bi J_0(x)=0$ where $J_0$ and $J_1$ are the Bessel functions of zero and first order, and $Bi$ is the Biot number. We examine an approach to finding these roots.\n",
    "\n",
    "First,  we plot the function.\n",
    "\n"
   ]
  },
  {
   "cell_type": "code",
   "execution_count": 17,
   "id": "6fb24fad",
   "metadata": {},
   "outputs": [
    {
     "data": {
      "image/png": "[encoded data removed]",
      "text/plain": [
       "<Figure size 432x288 with 1 Axes>"
      ]
     },
     "metadata": {
      "needs_background": "light"
     },
     "output_type": "display_data"
    }
   ],
   "source": [
    "from scipy.special import jn, jn_zeros\n",
    "import matplotlib.pyplot as plt\n",
    "import numpy as np\n",
    "\n",
    "Bi = 1\n",
    "\n",
    "\n",
    "def f(x):\n",
    "    return x * jn(1, x) - Bi * jn(0, x)\n",
    "\n",
    "\n",
    "X = np.linspace(0, 30, 200)\n",
    "plt.plot(X, f(X));"
   ]
  },
  {
   "cell_type": "markdown",
   "id": "659c7a13",
   "metadata": {},
   "source": [
    "You can see there are many roots to this equation, and we want to be sure we get the n<sup>th</sup> root. This function is pretty well behaved, so if you make a good guess about the solution you will get an answer, but if you make a bad guess, you may get the wrong root. We examine next a way to do it without guessing the solution. What we want is the solution to $f(x) = 0$, but we want all the solutions in a given interval. We derive a new equation, $f'(x) = 0$, with initial condition $f(0) = f0$, and integrate the ODE with an event function that identifies all zeros of $f$ for us. The derivative of our function is $df/dx = d/dx(x J_1(x)) - Bi J'_0(x)$. It is known ([http://www.markrobrien.com/besselfunct.pdf](http://www.markrobrien.com/besselfunct.pdf)) that $d/dx(x J_1(x)) = x J_0(x)$, and $J'_0(x) = -J_1(x)$. All we have to do now is set up the problem and run it.\n",
    "\n"
   ]
  },
  {
   "cell_type": "code",
   "execution_count": 18,
   "id": "545038da",
   "metadata": {},
   "outputs": [
    {
     "data": {
      "image/png": "[encoded data removed]",
      "text/plain": [
       "<Figure size 432x288 with 1 Axes>"
      ]
     },
     "metadata": {
      "needs_background": "light"
     },
     "output_type": "display_data"
    }
   ],
   "source": [
    "from pycse import *  # contains the ode integrator with events\n",
    "\n",
    "from scipy.special import jn, jn_zeros\n",
    "import matplotlib.pyplot as plt\n",
    "import numpy as np\n",
    "\n",
    "Bi = 1\n",
    "\n",
    "\n",
    "def f(x):\n",
    "    \"function we want roots for\"\n",
    "    return x * jn(1, x) - Bi * jn(0, x)\n",
    "\n",
    "\n",
    "def fprime(x, f):\n",
    "    \"df/dx\"\n",
    "    return x * jn(0, x) - Bi * (-jn(1, x))\n",
    "\n",
    "\n",
    "def e1(x, f):\n",
    "    \"event function to find zeros of f\"\n",
    "    value = f\n",
    "    return value\n",
    "\n",
    "\n",
    "f0 = (f(0),)\n",
    "xspan = (0, 30)\n",
    "\n",
    "sol = solve_ivp(fprime, xspan, f0, events=e1, max_step=0.1)\n",
    "\n",
    "plt.plot(sol.t, sol.y.T, \".-\", label=\"Numerical solution\")\n",
    "plt.plot(sol.t, f(sol.t), \"--\", label=\"Analytical function\")\n",
    "plt.plot(sol.t_events[0], sol.y_events[0], \"ro\", label=\"roots\")\n",
    "plt.legend(loc=\"best\");"
   ]
  },
  {
   "cell_type": "markdown",
   "id": "b9ce9d9e",
   "metadata": {},
   "source": [
    "You can work this out once, and then you have all the roots in the interval and you can select the one you want.\n",
    "\n"
   ]
  },
  {
   "cell_type": "markdown",
   "id": "180d25b4",
   "metadata": {},
   "source": [
    "## Coupled nonlinear equations\n",
    "\n"
   ]
  },
  {
   "cell_type": "markdown",
   "id": "218a000b",
   "metadata": {},
   "source": [
    "Suppose we seek the solution to this set of equations:\n",
    "\n",
    "\\begin{align}\n",
    "y &=& x^2 \\\\\n",
    "y &=& 8 - x^2\n",
    "\\end{align}\n",
    "\n",
    "To solve this we need to setup a function that is equal to zero at the solution. We have two equations, so our function must return two values. There are two variables, so the argument to our function will be an array of values.\n",
    "\n"
   ]
  },
  {
   "cell_type": "code",
   "execution_count": 19,
   "id": "b1bc7b97",
   "metadata": {},
   "outputs": [
    {
     "name": "stdout",
     "output_type": "stream",
     "text": [
      "[2. 4.]\n",
      "[-2.  4.]\n"
     ]
    }
   ],
   "source": [
    "from scipy.optimize import fsolve\n",
    "\n",
    "\n",
    "def objective(X):\n",
    "    x, y = X  # unpack the array in the argument\n",
    "    z1 = y - x**2  # first equation\n",
    "    z2 = y - 8 + x**2  # second equation\n",
    "    return [z1, z2]  # list of zeros\n",
    "\n",
    "\n",
    "x0, y0 = 1, 1  # initial guesses\n",
    "guess = [x0, y0]\n",
    "sol = fsolve(objective, guess)\n",
    "print(sol)\n",
    "\n",
    "# of course there may be more than one solution\n",
    "x0, y0 = -1, -1  # initial guesses\n",
    "guess = [x0, y0]\n",
    "sol = fsolve(objective, guess)\n",
    "print(sol)"
   ]
  }
 ],
 "metadata": {
  "kernelspec": {
   "display_name": "Python 3 (ipykernel)",
   "language": "python",
   "name": "python3"
  },
  "language_info": {
   "codemirror_mode": {
    "name": "ipython",
    "version": 3
   },
   "file_extension": ".py",
   "mimetype": "text/x-python",
   "name": "python",
   "nbconvert_exporter": "python",
   "pygments_lexer": "ipython3",
   "version": "3.9.12"
  }
 },
 "nbformat": 4,
 "nbformat_minor": 5
}

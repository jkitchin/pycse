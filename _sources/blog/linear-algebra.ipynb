{
 "cells": [
  {
   "cell_type": "markdown",
   "id": "c067b436",
   "metadata": {},
   "source": [
    "# Linear algebra\n",
    "\n"
   ]
  },
  {
   "cell_type": "markdown",
   "id": "1da993b4",
   "metadata": {},
   "source": [
    "## Potential gotchas in linear algebra in numpy\n",
    "\n"
   ]
  },
  {
   "cell_type": "markdown",
   "id": "01c0c582",
   "metadata": {},
   "source": [
    "Numpy has some gotcha features for linear algebra purists. The first is that a 1d array is neither a row, nor a column vector. That is, $a$ = $a^T$ if $a$ is a 1d array. That means you can take the dot product of $a$ with itself, without transposing the second argument. This would not be allowed in Matlab.\n",
    "\n"
   ]
  },
  {
   "cell_type": "code",
   "execution_count": null,
   "id": "93a1007a",
   "metadata": {},
   "outputs": [],
   "source": [
    "import numpy as np\n",
    "\n",
    "a = np.array([0, 1, 2])\n",
    "print(a.shape)\n",
    "print(a)\n",
    "print(a.T)\n",
    "\n",
    "\n",
    "print(np.dot(a, a))\n",
    "print(np.dot(a, a.T))"
   ]
  },
  {
   "cell_type": "markdown",
   "id": "15daa491",
   "metadata": {},
   "source": [
    "Compare the syntax to the new Python 3.5 syntax:\n",
    "\n"
   ]
  },
  {
   "cell_type": "code",
   "execution_count": null,
   "id": "01a376e5",
   "metadata": {},
   "outputs": [],
   "source": [
    "print(a @ a)"
   ]
  },
  {
   "cell_type": "markdown",
   "id": "e155fab6",
   "metadata": {},
   "source": [
    "Compare the previous behavior with this 2d array. In this case, you cannot take the dot product of $b$ with itself, because the dimensions are incompatible. You must transpose the second argument to make it dimensionally consistent. Also, the result of the dot product is not a simple scalar, but a 1 &times; 1 array.\n",
    "\n"
   ]
  },
  {
   "cell_type": "code",
   "execution_count": null,
   "id": "d26bae33",
   "metadata": {},
   "outputs": [],
   "source": [
    "b = np.array([[0, 1, 2]])\n",
    "print(b.shape)\n",
    "print(b)\n",
    "print(b.T)\n",
    "\n",
    "print(np.dot(b, b))  # this is not ok, the dimensions are wrong."
   ]
  },
  {
   "cell_type": "code",
   "execution_count": null,
   "id": "8853d3eb",
   "metadata": {},
   "outputs": [],
   "source": [
    "print(np.dot(b, b.T))\n",
    "print(np.dot(b, b.T).shape)"
   ]
  },
  {
   "cell_type": "markdown",
   "id": "3427bc6d",
   "metadata": {},
   "source": [
    "Try to figure this one out! x is a column vector, and y is a 1d vector. Just by adding them you get a 2d array.\n",
    "\n"
   ]
  },
  {
   "cell_type": "code",
   "execution_count": null,
   "id": "bd720c61",
   "metadata": {},
   "outputs": [],
   "source": [
    "x = np.array([[2], [4], [6], [8]])\n",
    "y = np.array([1, 1, 1, 1, 1, 2])\n",
    "print(x + y)"
   ]
  },
  {
   "cell_type": "markdown",
   "id": "69c6071e",
   "metadata": {},
   "source": [
    "Or this alternative way to do the same thing.\n",
    "\n"
   ]
  },
  {
   "cell_type": "code",
   "execution_count": null,
   "id": "ddc054be",
   "metadata": {},
   "outputs": [],
   "source": [
    "x = np.array([2, 4, 6, 8])\n",
    "y = np.array([1, 1, 1, 1, 1, 1, 2])\n",
    "\n",
    "print(x[:, np.newaxis] + y)"
   ]
  },
  {
   "cell_type": "markdown",
   "id": "ee8c1370",
   "metadata": {},
   "source": [
    "In the next example,  we have a 3 element vector and a 4 element vector. We convert $b$ to a 2D array with np.newaxis, and compute the outer product of the two arrays. The result is a 4 &times; 3 array.\n",
    "\n"
   ]
  },
  {
   "cell_type": "code",
   "execution_count": null,
   "id": "26846177",
   "metadata": {},
   "outputs": [],
   "source": [
    "a = np.array([1, 2, 3])\n",
    "b = np.array([10, 20, 30, 40])\n",
    "\n",
    "print(a * b[:, np.newaxis])"
   ]
  },
  {
   "cell_type": "markdown",
   "id": "3193c9ce",
   "metadata": {},
   "source": [
    "These concepts are known in numpy as array broadcasting. See [http://www.scipy.org/EricsBroadcastingDoc>](http://www.scipy.org/EricsBroadcastingDoc>)and [http://docs.scipy.org/doc/numpy/user/basics.broadcasting.html>](http://docs.scipy.org/doc/numpy/user/basics.broadcasting.html>)for more details.\n",
    "\n",
    "These are points to keep in mind, as the operations do not strictly follow the conventions of linear algebra, and may be confusing at times.\n",
    "\n"
   ]
  },
  {
   "cell_type": "markdown",
   "id": "83e7ffa5",
   "metadata": {},
   "source": [
    "## Solving linear equations\n",
    "\n"
   ]
  },
  {
   "cell_type": "markdown",
   "id": "0afaa9e6",
   "metadata": {},
   "source": [
    "Given these equations, find [x1, x2, x3]\n",
    "\n",
    "\\begin{eqnarray}\n",
    "x_1 - x_2 + x_3 &=& 0 \\\\\n",
    "10 x_2 + 25 x_3 &=& 90 \\\\\n",
    "20 x_1 + 10 x_2 &=& 80\n",
    "\\end{eqnarray}\n",
    "\n",
    "reference: Kreysig, Advanced Engineering Mathematics, 9th ed. Sec. 7.3\n",
    "\n",
    "When solving linear equations, we can represent them in matrix form. The we simply use `numpy.linalg.solve` to get the solution.\n",
    "\n"
   ]
  },
  {
   "cell_type": "code",
   "execution_count": null,
   "id": "06ea2391",
   "metadata": {},
   "outputs": [],
   "source": [
    "import numpy as np\n",
    "\n",
    "A = np.array([[1, -1, 1], [0, 10, 25], [20, 10, 0]])\n",
    "\n",
    "b = np.array([0, 90, 80])\n",
    "\n",
    "x = np.linalg.solve(A, b)\n",
    "print(x)\n",
    "print(np.dot(A, x))\n",
    "\n",
    "# Let us confirm the solution.\n",
    "# this shows one element is not equal because of float tolerance\n",
    "print(np.dot(A, x) == b)\n",
    "\n",
    "# here we use a tolerance comparison to show the differences is less\n",
    "# than a defined tolerance.\n",
    "TOLERANCE = 1e-12\n",
    "print(np.abs((np.dot(A, x) - b)) <= TOLERANCE)"
   ]
  },
  {
   "cell_type": "markdown",
   "id": "10f2e9de",
   "metadata": {},
   "source": [
    "It can be useful to confirm there should be a solution, e.g. that the equations are all independent. The matrix rank will tell us that. Note that rank does not give you the matrix rank, but rather the number of dimensions of the array. We compute the rank by computing the number of singular values of the matrix that are greater than zero, within a prescribed tolerance. We use the `numpy.linalg.svd` function for that. In Matlab you would use the rref command to see if there are any rows that are all zero, but this command does not exist in numpy. That command does not have practical use in numerical linear algebra and has not been implemented.\n",
    "\n"
   ]
  },
  {
   "cell_type": "code",
   "execution_count": null,
   "id": "7ab2a04b",
   "metadata": {},
   "outputs": [],
   "source": [
    "import numpy as np\n",
    "\n",
    "A = np.array([[1, -1, 1], [0, 10, 25], [20, 10, 0]])\n",
    "\n",
    "b = np.array([0, 90, 80])\n",
    "\n",
    "# determine number of independent rows in A we get the singular values\n",
    "# and count the number greater than 0.\n",
    "TOLERANCE = 1e-12\n",
    "u, s, v = np.linalg.svd(A)\n",
    "print(\"Singular values: {0}\".format(s))\n",
    "print(\"# of independent rows: {0}\".format(np.sum(np.abs(s) > TOLERANCE)))\n",
    "\n",
    "# to illustrate a case where there are only 2 independent rows\n",
    "# consider this case where row3 = 2*row2.\n",
    "A = np.array([[1, -1, 1], [0, 10, 25], [0, 20, 50]])\n",
    "\n",
    "u, s, v = np.linalg.svd(A)\n",
    "\n",
    "print(\"Singular values: {0}\".format(s))\n",
    "print(\"# of independent rows: {0}\".format(np.sum(np.abs(s) > TOLERANCE)))"
   ]
  },
  {
   "cell_type": "markdown",
   "id": "71e0fb73",
   "metadata": {},
   "source": [
    "[Matlab comparison](http://matlab.cheme.cmu.edu/2011/08/01/solving-linear-equations/)\n",
    "\n"
   ]
  },
  {
   "cell_type": "markdown",
   "id": "b5c7936f",
   "metadata": {},
   "source": [
    "## Rules for transposition\n",
    "\n"
   ]
  },
  {
   "cell_type": "markdown",
   "id": "f2410fcb",
   "metadata": {},
   "source": [
    "[Matlab comparison](http://matlab.cheme.cmu.edu/2011/08/01/illustrating-matrix-transpose-rules-in-matrix-multiplication/)\n",
    "\n",
    "Here are the four rules for matrix multiplication and transposition\n",
    "\n",
    "1.  $(\\mathbf{A}^T)^T = \\mathbf{A}$\n",
    "\n",
    "2.  $(\\mathbf{A}+\\mathbf{B})^T = \\mathbf{A}^T+\\mathbf{B}^T$\n",
    "\n",
    "3.  $(\\mathit{c}\\mathbf{A})^T = \\mathit{c}\\mathbf{A}^T$\n",
    "\n",
    "4.  $(\\mathbf{AB})^T = \\mathbf{B}^T\\mathbf{A}^T$\n",
    "\n",
    "reference: Chapter 7.2 in Advanced Engineering Mathematics, 9th edition.\n",
    "by E. Kreyszig.\n",
    "\n"
   ]
  },
  {
   "cell_type": "markdown",
   "id": "5b8c06d8",
   "metadata": {},
   "source": [
    "### The transpose in Python\n",
    "\n"
   ]
  },
  {
   "cell_type": "markdown",
   "id": "1657faf3",
   "metadata": {},
   "source": [
    "There are two ways to get the transpose of a matrix: with a notation, and\n",
    "with a function.\n",
    "\n"
   ]
  },
  {
   "cell_type": "code",
   "execution_count": null,
   "id": "e4b47b8d",
   "metadata": {},
   "outputs": [],
   "source": [
    "import numpy as np\n",
    "\n",
    "A = np.array([[5, -8, 1], [4, 0, 0]])\n",
    "\n",
    "# function\n",
    "print(np.transpose(A))\n",
    "\n",
    "# notation\n",
    "print(A.T)"
   ]
  },
  {
   "cell_type": "markdown",
   "id": "60eb3c94",
   "metadata": {},
   "source": [
    "### Rule 1\n",
    "\n"
   ]
  },
  {
   "cell_type": "code",
   "execution_count": null,
   "id": "4346bb12",
   "metadata": {},
   "outputs": [],
   "source": [
    "import numpy as np\n",
    "\n",
    "A = np.array([[5, -8, 1], [4, 0, 0]])\n",
    "\n",
    "print(np.all(A == (A.T).T))"
   ]
  },
  {
   "cell_type": "markdown",
   "id": "b126e942",
   "metadata": {},
   "source": [
    "### Rule 2\n",
    "\n"
   ]
  },
  {
   "cell_type": "code",
   "execution_count": null,
   "id": "d6661f76",
   "metadata": {},
   "outputs": [],
   "source": [
    "import numpy as np\n",
    "\n",
    "A = np.array([[5, -8, 1], [4, 0, 0]])\n",
    "\n",
    "B = np.array([[3, 4, 5], [1, 2, 3]])\n",
    "\n",
    "print(np.all(A.T + B.T == (A + B).T))"
   ]
  },
  {
   "cell_type": "markdown",
   "id": "ec494164",
   "metadata": {},
   "source": [
    "### Rule 3\n",
    "\n"
   ]
  },
  {
   "cell_type": "code",
   "execution_count": null,
   "id": "841e3b47",
   "metadata": {},
   "outputs": [],
   "source": [
    "import numpy as np\n",
    "\n",
    "A = np.array([[5, -8, 1], [4, 0, 0]])\n",
    "\n",
    "c = 2.1\n",
    "\n",
    "print(np.all((c * A).T == c * A.T))"
   ]
  },
  {
   "cell_type": "markdown",
   "id": "b4c645fb",
   "metadata": {},
   "source": [
    "### Rule 4\n",
    "\n"
   ]
  },
  {
   "cell_type": "code",
   "execution_count": null,
   "id": "a97ef045",
   "metadata": {},
   "outputs": [],
   "source": [
    "import numpy as np\n",
    "\n",
    "A = np.array([[5, -8, 1], [4, 0, 0]])\n",
    "\n",
    "B = np.array([[0, 2], [1, 2], [6, 7]])\n",
    "\n",
    "print(np.all(np.dot(A, B).T == np.dot(B.T, A.T)))"
   ]
  },
  {
   "cell_type": "markdown",
   "id": "2aa039e6",
   "metadata": {
    "jp-MarkdownHeadingCollapsed": true,
    "tags": []
   },
   "source": [
    "### Summary\n",
    "\n"
   ]
  },
  {
   "cell_type": "markdown",
   "id": "ec0d9337",
   "metadata": {},
   "source": [
    "That wraps up showing numerically the transpose rules work for these examples.\n",
    "\n"
   ]
  },
  {
   "cell_type": "markdown",
   "id": "1635191d",
   "metadata": {},
   "source": [
    "## Sums products and linear algebra notation - avoiding loops where possible\n",
    "\n"
   ]
  },
  {
   "cell_type": "markdown",
   "id": "ead379a7",
   "metadata": {},
   "source": [
    "[Matlab comparison](http://matlab.cheme.cmu.edu/2012/01/03/sums-products-and-linear-algebra-notation-avoiding-loops-where-possible/)\n",
    "\n",
    "Today we examine some methods of linear algebra that allow us to\n",
    "avoid writing explicit loops in Matlab for some kinds of\n",
    "mathematical operations.\n",
    "\n",
    "Consider the operation on two vectors $\\bf{a}$\n",
    "and $\\bf{b}$.\n",
    "\n",
    "$$y=\\sum\\limits_{i=1}^n a_ib_i$$\n",
    "\n",
    "a = [1 2 3 4 5]\n",
    "\n",
    "b = [3 6 8 9 10]\n",
    "\n"
   ]
  },
  {
   "cell_type": "markdown",
   "id": "e06a1875",
   "metadata": {},
   "source": [
    "### Old-fashioned way with a loop\n",
    "\n"
   ]
  },
  {
   "cell_type": "markdown",
   "id": "6a6004d9",
   "metadata": {},
   "source": [
    "We can compute this with a loop, where you initialize y, and then  add the product of the ith elements of a and b to y in each iteration of the loop. This is known to be slow for large vectors.\n",
    "\n"
   ]
  },
  {
   "cell_type": "code",
   "execution_count": null,
   "id": "fe7db338",
   "metadata": {},
   "outputs": [],
   "source": [
    "a = [1, 2, 3, 4, 5]\n",
    "b = [3, 6, 8, 9, 10]\n",
    "\n",
    "sum = 0\n",
    "for i in range(len(a)):\n",
    "    sum = sum + a[i] * b[i]\n",
    "print(sum)"
   ]
  },
  {
   "cell_type": "markdown",
   "id": "ae7c3e48",
   "metadata": {},
   "source": [
    "This is an old fashioned style of coding. A more modern, pythonic approach is:\n",
    "\n"
   ]
  },
  {
   "cell_type": "code",
   "execution_count": null,
   "id": "1a2dbd50",
   "metadata": {},
   "outputs": [],
   "source": [
    "a = [1, 2, 3, 4, 5]\n",
    "b = [3, 6, 8, 9, 10]\n",
    "\n",
    "sum = 0\n",
    "for x, y in zip(a, b):\n",
    "    sum += x * y\n",
    "print(sum)"
   ]
  },
  {
   "cell_type": "markdown",
   "id": "38a7b75c",
   "metadata": {},
   "source": [
    "### The numpy approach\n",
    "\n"
   ]
  },
  {
   "cell_type": "markdown",
   "id": "eb7bc75b",
   "metadata": {},
   "source": [
    "The most compact method is to use the  methods in numpy.\n",
    "\n"
   ]
  },
  {
   "cell_type": "code",
   "execution_count": null,
   "id": "577bd79b",
   "metadata": {},
   "outputs": [],
   "source": [
    "import numpy as np\n",
    "\n",
    "a = np.array([1, 2, 3, 4, 5])\n",
    "b = np.array([3, 6, 8, 9, 10])\n",
    "\n",
    "print(np.sum(a * b))"
   ]
  },
  {
   "cell_type": "markdown",
   "id": "dd4ef71f",
   "metadata": {},
   "source": [
    "### Matrix algebra approach.\n",
    "\n"
   ]
  },
  {
   "cell_type": "markdown",
   "id": "c2428eb4",
   "metadata": {},
   "source": [
    "The operation defined above is actually a dot product. We an directly compute the dot product in numpy. Note that with 1d arrays, python knows what to do and does not require any transpose operations.\n",
    "\n"
   ]
  },
  {
   "cell_type": "code",
   "execution_count": null,
   "id": "cac09acf",
   "metadata": {},
   "outputs": [],
   "source": [
    "import numpy as np\n",
    "\n",
    "a = np.array([1, 2, 3, 4, 5])\n",
    "b = np.array([3, 6, 8, 9, 10])\n",
    "\n",
    "print(np.dot(a, b))"
   ]
  },
  {
   "cell_type": "markdown",
   "id": "a0f23540",
   "metadata": {},
   "source": [
    "### Another example\n",
    "\n"
   ]
  },
  {
   "cell_type": "markdown",
   "id": "fc984652",
   "metadata": {},
   "source": [
    "Consider $y = \\sum\\limits_{i=1}^n w_i x_i^2$. This operation is like a weighted sum of squares.\n",
    "The old-fashioned way to do this is with a loop.\n",
    "\n"
   ]
  },
  {
   "cell_type": "code",
   "execution_count": null,
   "id": "37c08a14",
   "metadata": {},
   "outputs": [],
   "source": [
    "w = [0.1, 0.25, 0.12, 0.45, 0.98]\n",
    "x = [9, 7, 11, 12, 8]\n",
    "y = 0\n",
    "for wi, xi in zip(w, x):\n",
    "    y += wi * xi**2\n",
    "print(y)"
   ]
  },
  {
   "cell_type": "markdown",
   "id": "2cd985da",
   "metadata": {},
   "source": [
    "Compare this to the more modern numpy approach.\n",
    "\n"
   ]
  },
  {
   "cell_type": "code",
   "execution_count": null,
   "id": "b55d601e",
   "metadata": {},
   "outputs": [],
   "source": [
    "import numpy as np\n",
    "\n",
    "w = np.array([0.1, 0.25, 0.12, 0.45, 0.98])\n",
    "x = np.array([9, 7, 11, 12, 8])\n",
    "y = np.sum(w * x**2)\n",
    "print(y)"
   ]
  },
  {
   "cell_type": "markdown",
   "id": "a241f47f",
   "metadata": {},
   "source": [
    "We can also express this in matrix algebra form. The operation is equivalent to $y = \\vec{x} \\cdot D_w \\cdot \\vec{x}^T$ where $D_w$ is a diagonal matrix with the weights on the diagonal.\n",
    "\n"
   ]
  },
  {
   "cell_type": "code",
   "execution_count": null,
   "id": "674ae710",
   "metadata": {},
   "outputs": [],
   "source": [
    "import numpy as np\n",
    "\n",
    "w = np.array([0.1, 0.25, 0.12, 0.45, 0.98])\n",
    "x = np.array([9, 7, 11, 12, 8])\n",
    "y = np.dot(x, np.dot(np.diag(w), x))\n",
    "print(y)"
   ]
  },
  {
   "cell_type": "markdown",
   "id": "4912a1db",
   "metadata": {},
   "source": [
    "This last form avoids explicit loops and sums, and relies on fast linear algebra routines.\n",
    "\n"
   ]
  },
  {
   "cell_type": "markdown",
   "id": "8ab5e8a7",
   "metadata": {},
   "source": [
    "### Last example\n",
    "\n"
   ]
  },
  {
   "cell_type": "markdown",
   "id": "29008319",
   "metadata": {},
   "source": [
    "Consider the sum of the product of three vectors. Let $y = \\sum\\limits_{i=1}^n w_i x_i y_i$. This is like a weighted sum of products.\n",
    "\n"
   ]
  },
  {
   "cell_type": "code",
   "execution_count": null,
   "id": "94dcb342",
   "metadata": {},
   "outputs": [],
   "source": [
    "import numpy as np\n",
    "\n",
    "w = np.array([0.1, 0.25, 0.12, 0.45, 0.98])\n",
    "x = np.array([9, 7, 11, 12, 8])\n",
    "y = np.array([2, 5, 3, 8, 0])\n",
    "\n",
    "print(np.sum(w * x * y))\n",
    "print(np.dot(w, np.dot(np.diag(x), y)))"
   ]
  },
  {
   "cell_type": "markdown",
   "id": "2eac41c1",
   "metadata": {},
   "source": [
    "### Summary\n",
    "\n"
   ]
  },
  {
   "cell_type": "markdown",
   "id": "5c86a6ef",
   "metadata": {},
   "source": [
    "We showed examples of the following equalities between traditional\n",
    "sum notations and linear algebra\n",
    "\n",
    "$$\\bf{a}\\bf{b}=\\sum\\limits_{i=1}^n a_ib_i$$\n",
    "\n",
    "$$\\bf{x}\\bf{D_w}\\bf{x^T}=\\sum\\limits_{i=1}^n w_ix_i^2$$\n",
    "\n",
    "$$\\bf{x}\\bf{D_w}\\bf{y^T}=\\sum\\limits_{i=1}^n w_i x_i y_i$$\n",
    "\n",
    "These relationships enable one to write the sums as a single line of python code, which utilizes fast linear algebra subroutines, avoids the construction of slow loops, and reduces the opportunity for errors in the code. Admittedly, it introduces the opportunity for new types of errors, like using the wrong relationship, or linear algebra errors due to matrix size mismatches.\n",
    "\n"
   ]
  },
  {
   "cell_type": "markdown",
   "id": "01fe2674",
   "metadata": {},
   "source": [
    "## Determining linear independence of a set of vectors\n",
    "\n"
   ]
  },
  {
   "cell_type": "markdown",
   "id": "43b3120a",
   "metadata": {},
   "source": [
    "[Matlab post](http://matlab.cheme.cmu.edu/2011/08/02/determining-linear-independence-of-a-set-of-vectors/)\n",
    "\n",
    "Occasionally we have a set of vectors and we need to determine whether the vectors are linearly independent of each other. This may be necessary to determine if the vectors form a basis, or to determine how many independent equations there are, or to determine how many independent reactions there are.\n",
    "\n",
    "Reference: Kreysig, Advanced Engineering Mathematics, sec. 7.4\n",
    "\n",
    "Matlab provides a rank command which gives you the number of singular values greater than some tolerance. The numpy.rank function, unfortunately, does not do that. It returns the number of dimensions in the array. We will just compute the rank from singular value decomposition.\n",
    "\n",
    "The default tolerance used in Matlab is max(size(A))\\*eps(norm(A)). Let us break that down. eps(norm(A)) is the positive distance from abs(X) to the next larger in magnitude floating point number of the same precision as X. Basically, the smallest significant number. We multiply that by the size of A, and take the largest number. We have to use some judgment in what the tolerance is, and what \"zero\" means.\n",
    "\n"
   ]
  },
  {
   "cell_type": "code",
   "execution_count": null,
   "id": "836e93ce",
   "metadata": {},
   "outputs": [],
   "source": [
    "import numpy as np\n",
    "\n",
    "v1 = [6, 0, 3, 1, 4, 2]\n",
    "v2 = [0, -1, 2, 7, 0, 5]\n",
    "v3 = [12, 3, 0, -19, 8, -11]\n",
    "A = np.row_stack([v1, v2, v3])\n",
    "\n",
    "# matlab definition\n",
    "eps = np.finfo(np.linalg.norm(A).dtype).eps\n",
    "TOLERANCE = max(eps * np.array(A.shape))\n",
    "\n",
    "U, s, V = np.linalg.svd(A)\n",
    "print(s)\n",
    "print(np.sum(s > TOLERANCE))\n",
    "\n",
    "TOLERANCE = 1e-14\n",
    "print(np.sum(s > TOLERANCE))"
   ]
  },
  {
   "cell_type": "markdown",
   "id": "fea8ce44",
   "metadata": {},
   "source": [
    "You can see if you choose too small a TOLERANCE, nothing looks like zero. the result with TOLERANCE=1e-14 suggests the rows are not linearly independent. Let us show that one row can be expressed as a linear combination of the other rows.\n",
    "\n",
    "The number of rows is greater than the rank, so these vectors are not\n",
    "independent. Let's demonstrate that one vector can be defined as a linear\n",
    "combination of the other two vectors. Mathematically we represent this\n",
    "as:\n",
    "\n",
    "$x_1 \\mathit{v1} + x_2 \\mathit{v2} = v3$\n",
    "\n",
    "or\n",
    "\n",
    "$[x_1 x_2][v1; v2] = v3$\n",
    "\n",
    "This is not the usual linear algebra form of Ax = b. To get there, we\n",
    "transpose each side of the equation to get:\n",
    "\n",
    "[v1.T v2.T][x\\_1; x\\_2] = v3.T\n",
    "\n",
    "which is the form Ax = b. We solve it in a least-squares sense.\n",
    "\n"
   ]
  },
  {
   "cell_type": "code",
   "execution_count": null,
   "id": "b95c1e8b",
   "metadata": {},
   "outputs": [],
   "source": [
    "A = np.column_stack([v1, v2])\n",
    "x = np.linalg.lstsq(A, v3)\n",
    "print(x[0])"
   ]
  },
  {
   "cell_type": "markdown",
   "id": "d714fff2",
   "metadata": {},
   "source": [
    "This shows that v3 = 2\\*v1 - 3\\*v2\n",
    "\n"
   ]
  },
  {
   "cell_type": "markdown",
   "id": "3d181d9d",
   "metadata": {},
   "source": [
    "### Another example\n",
    "\n"
   ]
  },
  {
   "cell_type": "code",
   "execution_count": null,
   "id": "5c27856e",
   "metadata": {},
   "outputs": [],
   "source": [
    "# Problem set 7.4 #17\n",
    "import numpy as np\n",
    "\n",
    "v1 = [0.2, 1.2, 5.3, 2.8, 1.6]\n",
    "v2 = [4.3, 3.4, 0.9, 2.0, -4.3]\n",
    "\n",
    "A = np.row_stack([v1, v2])\n",
    "U, s, V = np.linalg.svd(A)\n",
    "print(s)"
   ]
  },
  {
   "cell_type": "markdown",
   "id": "d802e032",
   "metadata": {},
   "source": [
    "You can tell by inspection the rank is 2 because there are no near-zero singular values.\n",
    "\n"
   ]
  },
  {
   "cell_type": "markdown",
   "id": "fc60b34f",
   "metadata": {},
   "source": [
    "### Near deficient rank\n",
    "\n"
   ]
  },
  {
   "cell_type": "markdown",
   "id": "eef286af",
   "metadata": {},
   "source": [
    "The rank command roughly works in the following way: the matrix is converted to a reduced row echelon form, and then the number of rows that are not all equal to zero are counted. Matlab uses a tolerance to determine what is equal to zero. If there is uncertainty in the numbers, you may have to define what zero is, e.g. if the absolute value of a number is less than 1e-5, you may consider that close enough to be zero. The default tolerance is usually very small, of order 1e-15. If we believe that any number less than 1e-5 is practically equivalent to zero, we can use that information to compute the rank like this.\n",
    "\n"
   ]
  },
  {
   "cell_type": "code",
   "execution_count": null,
   "id": "f84a2e1a",
   "metadata": {},
   "outputs": [],
   "source": [
    "import numpy as np\n",
    "\n",
    "A = [[1, 2, 3], [0, 2, 3], [0, 0, 1e-6]]\n",
    "\n",
    "U, s, V = np.linalg.svd(A)\n",
    "print(s)\n",
    "print(np.sum(np.abs(s) > 1e-15))\n",
    "print(np.sum(np.abs(s) > 1e-5))"
   ]
  },
  {
   "cell_type": "markdown",
   "id": "fc6b3795",
   "metadata": {},
   "source": [
    "### Application to independent chemical reactions.\n",
    "\n"
   ]
  },
  {
   "cell_type": "markdown",
   "id": "dc61698a",
   "metadata": {},
   "source": [
    "reference: Exercise 2.4 in Chemical Reactor Analysis and Design Fundamentals by Rawlings and Ekerdt.\n",
    "\n",
    "The following reactions are proposed in the hydrogenation of bromine:\n",
    "\n",
    "Let this be our species vector: v = [H2 H Br2 Br HBr].T\n",
    "\n",
    "the reactions are then defined by M\\*v where M is a stoichometric matrix in which each row represents a reaction with negative stoichiometric coefficients for reactants, and positive stoichiometric coefficients for products. A stoichiometric coefficient of 0 is used for species not participating in the reaction.\n",
    "\n"
   ]
  },
  {
   "cell_type": "code",
   "execution_count": null,
   "id": "2f2b2831",
   "metadata": {},
   "outputs": [],
   "source": [
    "import numpy as np\n",
    "\n",
    "#    [H2  H Br2 Br HBr]\n",
    "M = [\n",
    "    [-1, 0, -1, 0, 2],  # H2 + Br2 == 2HBR\n",
    "    [0, 0, -1, 2, 0],  # Br2 == 2Br\n",
    "    [-1, 1, 0, -1, 1],  # Br + H2 == HBr + H\n",
    "    [0, -1, -1, 1, 1],  # H + Br2 == HBr + Br\n",
    "    [1, -1, 0, 1, -1],  # H + HBr == H2 + Br\n",
    "    [0, 0, 1, -2, 0],\n",
    "]  # 2Br == Br2\n",
    "\n",
    "U, s, V = np.linalg.svd(M)\n",
    "print(s)\n",
    "print(np.sum(np.abs(s) > 1e-15))\n",
    "\n",
    "import sympy\n",
    "\n",
    "M = sympy.Matrix(M)\n",
    "reduced_form, inds = M.rref()\n",
    "\n",
    "print(reduced_form)\n",
    "\n",
    "labels = [\"H2\", \"H\", \"Br2\", \"Br\", \"HBr\"]\n",
    "for row in reduced_form.tolist():\n",
    "    s = \"0 = \"\n",
    "    for nu, species in zip(row, labels):\n",
    "        if nu != 0:\n",
    "            s += \" {0:+d}{1}\".format(int(nu), species)\n",
    "    if s != \"0 = \":\n",
    "        print(s)"
   ]
  },
  {
   "cell_type": "markdown",
   "id": "4deb22c4",
   "metadata": {},
   "source": [
    "6 reactions are given, but the rank of the matrix is only 3. so there\n",
    "are only three independent reactions. You can see that reaction 6 is just\n",
    "the opposite of reaction 2, so it is clearly not independent. Also,\n",
    "reactions 3 and 5 are just the reverse of each other, so one of them can\n",
    "also be eliminated. finally, reaction 4 is equal to reaction 1 minus\n",
    "reaction 3.\n",
    "\n",
    "There are many possible independent reactions. In the code above, we use sympy to put the matrix into reduced row echelon form, which enables us to identify three independent reactions, and shows that three rows are all zero, i.e. they are not independent of the other three reactions. The choice of independent reactions is not unique.\n",
    "\n"
   ]
  },
  {
   "cell_type": "markdown",
   "id": "00220c30",
   "metadata": {},
   "source": [
    "## Reduced row echelon form\n",
    "\n"
   ]
  },
  {
   "cell_type": "markdown",
   "id": "b21da05e",
   "metadata": {},
   "source": [
    "There is a nice discussion [here](http://numpy-discussion.10968.n7.nabble.com/Reduced-row-echelon-form-td16486.html) on why there is not a rref command in numpy, primarily because one rarely actually needs it in linear algebra. Still, it is so often taught, and it helps visually see what the rank of a matrix is that I wanted to examine ways to get it.\n",
    "\n"
   ]
  },
  {
   "cell_type": "code",
   "execution_count": null,
   "id": "13ff56ce",
   "metadata": {},
   "outputs": [],
   "source": [
    "import numpy as np\n",
    "from sympy import Matrix\n",
    "\n",
    "A = np.array([[3, 2, 1], [2, 1, 1], [6, 2, 4]])\n",
    "\n",
    "rA, pivots = Matrix(A).rref()\n",
    "print(rA)"
   ]
  },
  {
   "cell_type": "markdown",
   "id": "52390a81",
   "metadata": {},
   "source": [
    "This rref form is a bit different than you might get from doing it by hand. The rows are also normalized.\n",
    "\n",
    "Based on this, we conclude the $A$ matrix has a rank of 2 since one row of the reduced form contains all zeros. That means the determinant will be zero, and it should not be possible to compute the inverse of the matrix, and there should be no solution to linear equations of $A x = b$. Let us check it out.\n",
    "\n"
   ]
  },
  {
   "cell_type": "code",
   "execution_count": null,
   "id": "e00f84e5",
   "metadata": {},
   "outputs": [],
   "source": [
    "import numpy as np\n",
    "from sympy import Matrix\n",
    "\n",
    "A = np.array([[3, 2, 1], [2, 1, 1], [6, 2, 4]])\n",
    "\n",
    "print(np.linalg.det(A))\n",
    "print(np.linalg.inv(A))\n",
    "\n",
    "b = np.array([3, 0, 6])\n",
    "\n",
    "print(np.linalg.solve(A, b))"
   ]
  },
  {
   "cell_type": "markdown",
   "id": "aadcfe8d",
   "metadata": {},
   "source": [
    "There are \"solutions\", but there are a couple of red flags that should catch your eye. First, the determinant is within machine precision of zero. Second the elements of the inverse are all \"large\". Third, the solutions are all \"large\". All of these are indications of or artifacts of numerical imprecision.\n",
    "\n"
   ]
  },
  {
   "cell_type": "markdown",
   "id": "c3be80be",
   "metadata": {},
   "source": [
    "## Computing determinants from matrix decompositions\n",
    "\n"
   ]
  },
  {
   "cell_type": "markdown",
   "id": "a6694150",
   "metadata": {},
   "source": [
    "There are a few properties of a matrix that can make it easy to compute determinants.\n",
    "\n",
    "1.  The determinant of a triangular matrix is the product of the elements on the diagonal.\n",
    "2.  The determinant of a permutation matrix is (-1)\\*\\*n where n is the number of permutations. Recall a permutation matrix is a matrix with a one in each row, and column, and zeros everywhere else.\n",
    "3.  The determinant of a product of matrices is equal to the product of the determinant of the matrices.\n",
    "\n",
    "The LU decomposition computes three matrices such that $A = P L U$. Thus, $\\det A = \\det P \\det L \\det U$. $L$ and $U$ are triangular, so we just need to compute the product of the diagonals. $P$ is not triangular, but if the elements of the diagonal are not 1, they will be zero, and then there has been a swap. So we simply subtract the sum of the diagonal from the length of the diagonal and then subtract 1 to get the number of swaps.\n",
    "\n"
   ]
  },
  {
   "cell_type": "code",
   "execution_count": null,
   "id": "5ea39b1d",
   "metadata": {},
   "outputs": [],
   "source": [
    "import numpy as np\n",
    "from scipy.linalg import lu\n",
    "\n",
    "A = np.array([[6, 2, 3], [1, 1, 1], [0, 4, 9]])\n",
    "\n",
    "P, L, U = lu(A)\n",
    "\n",
    "nswaps = len(np.diag(P)) - np.sum(np.diag(P)) - 1\n",
    "\n",
    "detP = (-1) ** nswaps\n",
    "detL = np.prod(np.diag(L))\n",
    "detU = np.prod(np.diag(U))\n",
    "\n",
    "print(detP * detL * detU)\n",
    "\n",
    "print(np.linalg.det(A))"
   ]
  },
  {
   "cell_type": "markdown",
   "id": "5b77c2d0",
   "metadata": {},
   "source": [
    "According to the numpy documentation, a method similar to this is used to compute the determinant.\n",
    "\n"
   ]
  },
  {
   "cell_type": "markdown",
   "id": "259d3705",
   "metadata": {},
   "source": [
    "## Calling lapack directly from scipy\n",
    "\n"
   ]
  },
  {
   "cell_type": "markdown",
   "id": "55d2378e",
   "metadata": {},
   "source": [
    "If the built in linear algebra functions in numpy and scipy do not meet your needs, it is often possible to directly call lapack functions. Here we call a function to solve a set of complex linear equations. The lapack function for this is ZGBSV. The description of this function ([http://linux.die.net/man/l/zgbsv](http://linux.die.net/man/l/zgbsv)) is:\n",
    "\n",
    "ZGBSV computes the solution to a complex system of linear equations A \\* X = B, where A is a band matrix of order N with KL subdiagonals and KU superdiagonals, and X and B are N-by-NRHS matrices. The LU decomposition with partial pivoting and row interchanges is used to factor A as A = L \\* U, where L is a product of permutation and unit lower triangular matrices with KL subdiagonals, and U is upper triangular with KL+KU superdiagonals. The factored form of A is then used to solve the system of equations A \\* X = B.\n",
    "\n",
    "The python signature is ([http://docs.scipy.org/doc/scipy/reference/generated/scipy.linalg.lapack.zgbsv.html#scipy.linalg.lapack.zgbsv](http://docs.scipy.org/doc/scipy/reference/generated/scipy.linalg.lapack.zgbsv.html#scipy.linalg.lapack.zgbsv)):\n",
    "\n",
    "lub,piv,x,info = zgbsv(kl,ku,ab,b,[overwrite\\_ab,overwrite\\_b])\n",
    "\n",
    "We will look at an example from [http://www.nag.com/lapack-ex/node22.html](http://www.nag.com/lapack-ex/node22.html).\n",
    "\n",
    "We solve $A x = b$ with\n",
    "\n",
    "\\begin{equation}\n",
    "A = \\left(\n",
    "       \\begin{array}{cccc}\n",
    "          -1.65 + 2.26 i & -2.05 - 0.85 i &  0.97 - 2.84 i &       0        \\\\\n",
    "                  6.30 i & -1.48 - 1.75 i & -3.99 + 4.01 i &  0.59 - 0.48 i \\\\\n",
    "                0        & -0.77 + 2.83 i & -1.06 + 1.94 i &  3.33 - 1.04 i \\\\\n",
    "                0        &       0        &  4.48 - 1.09 i & -0.46 - 1.72 i\n",
    "       \\end{array}\n",
    "       \\right)\n",
    "\\end{equation}\n",
    "\n",
    "and\n",
    "\n",
    "\\begin{equation}\n",
    "b = \\left(\n",
    "       \\begin{array}{cc}\n",
    "           -1.06 + 21.50 i \\\\\n",
    "          -22.72 - 53.90 i \\\\\n",
    "           28.24 - 38.60 i \\\\\n",
    "          -34.56 + 16.73 i\n",
    "       \\end{array}\n",
    "       \\right).\n",
    "\\end{equation}\n",
    "\n",
    "The $A$ matrix has one lower diagonal (kl = 1) and two upper diagonals (ku = 2), four equations (n = 4) and one right-hand side.\n",
    "\n"
   ]
  },
  {
   "cell_type": "code",
   "execution_count": null,
   "id": "05e8d7f7",
   "metadata": {},
   "outputs": [],
   "source": [
    "import scipy.linalg.lapack as la\n",
    "\n",
    "# http://www.nag.com/lapack-ex/node22.html\n",
    "import numpy as np\n",
    "\n",
    "A = np.array(\n",
    "    [\n",
    "        [-1.65 + 2.26j, -2.05 - 0.85j, 0.97 - 2.84j, 0.0],\n",
    "        [6.30j, -1.48 - 1.75j, -3.99 + 4.01j, 0.59 - 0.48j],\n",
    "        [0.0, -0.77 + 2.83j, -1.06 + 1.94j, 3.33 - 1.04j],\n",
    "        [0.0, 0.0, 4.48 - 1.09j, -0.46 - 1.72j],\n",
    "    ]\n",
    ")\n",
    "\n",
    "# construction of Ab is tricky.  Fortran indexing starts at 1, not\n",
    "# 0. This code is based on the definition of Ab at\n",
    "# http://linux.die.net/man/l/zgbsv. First, we create the Fortran\n",
    "# indices based on the loops, and then subtract one from them to index\n",
    "# the numpy arrays.\n",
    "Ab = np.zeros((5, 4), dtype=complex)\n",
    "n, kl, ku = 4, 1, 2\n",
    "\n",
    "for j in range(1, n + 1):\n",
    "    for i in range(max(1, j - ku), min(n, j + kl) + 1):\n",
    "        Ab[kl + ku + 1 + i - j - 1, j - 1] = A[i - 1, j - 1]\n",
    "\n",
    "b = np.array([[-1.06 + 21.50j], [-22.72 - 53.90j], [28.24 - 38.60j], [-34.56 + 16.73j]])\n",
    "\n",
    "lub, piv, x, info = la._flapack.zgbsv(kl, ku, Ab, b)\n",
    "\n",
    "# compare to results at http://www.nag.com/lapack-ex/examples/results/zgbsv-ex.r\n",
    "print(\"x = \", x)\n",
    "print(\"info = \", info)\n",
    "\n",
    "# check solution\n",
    "print(\"solved: \", np.all(np.dot(A, x) - b < 1e-12))\n",
    "\n",
    "# here is the easy way!!!\n",
    "print(\"\\n\\nbuilt-in solver\")\n",
    "print(np.linalg.solve(A, b))"
   ]
  },
  {
   "cell_type": "markdown",
   "id": "87b203e9",
   "metadata": {},
   "source": [
    "Some points of discussion.\n",
    "\n",
    "1.  Kind of painful! but, nevertheless, possible. You have to do a lot more work figuring out the dimensions of the problem, how to setup the problem, keeping track of indices, etc&#x2026;\n",
    "\n",
    "But, one day it might be helpful to know this can be done, e.g. to debug an installation, to validate an approach against known results, etc&#x2026;\n",
    "\n"
   ]
  }
 ],
 "metadata": {
  "kernelspec": {
   "display_name": "Python 3 (ipykernel)",
   "language": "python",
   "name": "python3"
  },
  "language_info": {
   "codemirror_mode": {
    "name": "ipython",
    "version": 3
   },
   "file_extension": ".py",
   "mimetype": "text/x-python",
   "name": "python",
   "nbconvert_exporter": "python",
   "pygments_lexer": "ipython3",
   "version": "3.10.11"
  }
 },
 "nbformat": 4,
 "nbformat_minor": 5
}

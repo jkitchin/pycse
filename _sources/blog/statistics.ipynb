{
 "cells": [
  {
   "cell_type": "markdown",
   "id": "48295c00",
   "metadata": {},
   "source": [
    "# Statistics\n",
    "\n"
   ]
  },
  {
   "cell_type": "markdown",
   "id": "88eaf4a7",
   "metadata": {},
   "source": [
    "## Introduction to statistical data analysis\n",
    "\n"
   ]
  },
  {
   "cell_type": "markdown",
   "id": "7b092ff4",
   "metadata": {},
   "source": [
    "[Matlab post](http://matlab.cheme.cmu.edu/2011/08/27/introduction-to-statistical-data-analysis/)\n",
    "\n",
    "Given several measurements of a single quantity, determine the average value of the measurements, the standard deviation of the measurements and the 95% confidence interval for the average.\n",
    "\n"
   ]
  },
  {
   "cell_type": "code",
   "execution_count": 34,
   "id": "d2bd1547",
   "metadata": {},
   "outputs": [
    {
     "name": "stdout",
     "output_type": "stream",
     "text": [
      "8.066666666666668 0.05773502691896237\n"
     ]
    }
   ],
   "source": [
    "import numpy as np\n",
    "\n",
    "y = [8.1, 8.0, 8.1]\n",
    "\n",
    "ybar = np.mean(y)\n",
    "s = np.std(y, ddof=1)\n",
    "\n",
    "print(ybar, s)"
   ]
  },
  {
   "cell_type": "markdown",
   "id": "5bfc7673",
   "metadata": {},
   "source": [
    "Interesting, we have to specify the divisor in numpy.std by the ddof argument. The default for this in Matlab is 1, the default for this function is 0.\n",
    "\n",
    "Here is the principle of computing a confidence interval.\n",
    "\n",
    "1.  Compute the average\n",
    "2.  Compute the standard deviation of your data\n",
    "3.  Define the confidence interval, e.g. 95% = 0.95\n",
    "4.  Compute the student-t multiplier. This is a function of the confidence\n",
    "    interval you specify, and the number of data points you have minus 1. You\n",
    "    subtract 1 because one degree of freedom is lost from calculating the\n",
    "    average.\n",
    "\n",
    "The confidence interval is defined as ybar ± T\\_multiplier\\*std/sqrt(n).\n",
    "\n"
   ]
  },
  {
   "cell_type": "code",
   "execution_count": 35,
   "id": "45607eb2",
   "metadata": {},
   "outputs": [
    {
     "name": "stdout",
     "output_type": "stream",
     "text": [
      "T_multiplier = 4.302652729911275\n",
      "ci95 = 0.14342175766370865\n",
      "The true average is between 7.9232449090029595 and 8.210088424330376 at a 95% confidence level\n"
     ]
    }
   ],
   "source": [
    "from scipy.stats.distributions import t\n",
    "\n",
    "ci = 0.95\n",
    "alpha = 1.0 - ci\n",
    "\n",
    "n = len(y)\n",
    "T_multiplier = t.ppf(1.0 - alpha / 2.0, n - 1)\n",
    "\n",
    "ci95 = T_multiplier * s / np.sqrt(n)\n",
    "\n",
    "print(\"T_multiplier = {0}\".format(T_multiplier))\n",
    "print(\"ci95 = {0}\".format(ci95))\n",
    "print(\n",
    "    \"The true average is between {0} and {1} at a 95% confidence level\".format(\n",
    "        ybar - ci95, ybar + ci95\n",
    "    )\n",
    ")"
   ]
  },
  {
   "cell_type": "markdown",
   "id": "460c5e75",
   "metadata": {},
   "source": [
    "## Basic statistics\n",
    "\n"
   ]
  },
  {
   "cell_type": "markdown",
   "id": "5fecd85a",
   "metadata": {},
   "source": [
    "Given several measurements of a single quantity, determine the average value of the measurements, the standard deviation of the measurements and the 95% confidence interval for the average.\n",
    "\n",
    "This is a recipe for computing the confidence interval. The strategy is:\n",
    "\n",
    "1.  compute the average\n",
    "2.  Compute the standard deviation of your data\n",
    "3.  Define the confidence interval, e.g. 95% = 0.95\n",
    "4.  compute the student-t multiplier. This is a function of the confidence\n",
    "\n",
    "interval you specify, and the number of data points you have minus 1. You\n",
    "subtract 1 because one degree of freedom is lost from calculating the\n",
    "average. The confidence interval is defined as\n",
    "ybar +- T\\_multiplier\\*std/sqrt(n).\n",
    "\n",
    "\n",
    "\n"
   ]
  },
  {
   "cell_type": "code",
   "execution_count": 36,
   "id": "df4c5d8a-385f-4a9d-a857-37fe2a6170b3",
   "metadata": {},
   "outputs": [
    {
     "name": "stdout",
     "output_type": "stream",
     "text": [
      "[7.9232449090029595, 8.210088424330376]\n"
     ]
    }
   ],
   "source": [
    "import numpy as np\n",
    "from scipy.stats.distributions import t\n",
    "\n",
    "y = [8.1, 8.0, 8.1]\n",
    "\n",
    "ybar = np.mean(y)\n",
    "s = np.std(y)\n",
    "\n",
    "ci = 0.95\n",
    "alpha = 1.0 - ci\n",
    "\n",
    "n = len(y)\n",
    "T_multiplier = t.ppf(1 - alpha / 2.0, n - 1)\n",
    "\n",
    "ci95 = T_multiplier * s / np.sqrt(n - 1)\n",
    "\n",
    "print([ybar - ci95, ybar + ci95])"
   ]
  },
  {
   "cell_type": "markdown",
   "id": "02748feb",
   "metadata": {},
   "source": [
    "## Confidence interval on an average\n",
    "\n"
   ]
  },
  {
   "cell_type": "markdown",
   "id": "66629241",
   "metadata": {},
   "source": [
    "scipy has a statistical package available for getting statistical distributions. This is useful for computing confidence intervals using the student-t tables. Here is an example of computing a 95% confidence interval on an average.\n",
    "\n"
   ]
  },
  {
   "cell_type": "code",
   "execution_count": 37,
   "id": "0238e8b9",
   "metadata": {},
   "outputs": [
    {
     "name": "stdout",
     "output_type": "stream",
     "text": [
      "We are 95% confident the next measurement will be between 16.093 and 16.107\n"
     ]
    }
   ],
   "source": [
    "import numpy as np\n",
    "from scipy.stats.distributions import t\n",
    "\n",
    "n = 10  # number of measurements\n",
    "dof = n - 1  # degrees of freedom\n",
    "avg_x = 16.1  # average measurement\n",
    "std_x = 0.01  # standard deviation of measurements\n",
    "\n",
    "# Find 95% prediction interval for next measurement\n",
    "\n",
    "alpha = 1.0 - 0.95\n",
    "\n",
    "pred_interval = t.ppf(1 - alpha / 2.0, dof) * std_x / np.sqrt(n)\n",
    "\n",
    "s = [\"We are 95% confident the next measurement\", \" will be between {0:1.3f} and {1:1.3f}\"]\n",
    "print(\"\".join(s).format(avg_x - pred_interval, avg_x + pred_interval))"
   ]
  },
  {
   "cell_type": "markdown",
   "id": "b8b8584a",
   "metadata": {},
   "source": [
    "## Are averages different\n",
    "\n"
   ]
  },
  {
   "cell_type": "markdown",
   "id": "72893bcc",
   "metadata": {},
   "source": [
    "[Matlab post](http://matlab.cheme.cmu.edu/2012/01/28/are-two-averages-different/)\n",
    "\n",
    "Adapted from [http://stattrek.com/ap-statistics-4/unpaired-means.aspx](http://stattrek.com/ap-statistics-4/unpaired-means.aspx)\n",
    "\n",
    "Class A had 30 students who received an average test score of 78, with standard deviation of 10. Class B had 25 students an average test score of 85, with a standard deviation of 15. We want to know if the difference in these averages is statistically relevant. Note that we only have estimates of the true average and standard deviation for each class, and there is uncertainty in those estimates. As a result, we are unsure if the averages are really different. It could have just been luck that a few students in class B did better.\n",
    "\n"
   ]
  },
  {
   "cell_type": "markdown",
   "id": "7f2dd88a",
   "metadata": {},
   "source": [
    "### The hypothesis\n",
    "\n"
   ]
  },
  {
   "cell_type": "markdown",
   "id": "ec391e2c",
   "metadata": {},
   "source": [
    "the true averages are the same. We need to perform a two-sample t-test of the hypothesis that $\\mu_1 - \\mu_2 = 0$ (this is often called the null hypothesis). we use a two-tailed test because we do not care if the difference is positive or negative, either way means the averages are not the same.\n",
    "\n"
   ]
  },
  {
   "cell_type": "code",
   "execution_count": 38,
   "id": "bf8d0a70",
   "metadata": {},
   "outputs": [],
   "source": [
    "import numpy as np\n",
    "\n",
    "n1 = 30  # students in class A\n",
    "x1 = 78.0  # average grade in class A\n",
    "s1 = 10.0  # std dev of exam grade in class A\n",
    "\n",
    "n2 = 25  # students in class B\n",
    "x2 = 85.0  # average grade in class B\n",
    "s2 = 15.0  # std dev of exam grade in class B\n",
    "\n",
    "# the standard error of the difference between the two averages.\n",
    "SE = np.sqrt(s1**2 / n1 + s2**2 / n2)\n",
    "\n",
    "# compute DOF\n",
    "DF = (n1 - 1) + (n2 - 1)"
   ]
  },
  {
   "cell_type": "markdown",
   "id": "6bb2642f",
   "metadata": {},
   "source": [
    "See the discussion at [http://stattrek.com/Help/Glossary.aspx?Target=Two-sample%20t-test>](http://stattrek.com/Help/Glossary.aspx?Target=Two-sample%20t-test>)for a more complex definition of degrees of freedom. Here we simply subtract one from each sample size to account for the estimation of the average of each sample.\n",
    "\n"
   ]
  },
  {
   "cell_type": "markdown",
   "id": "f1975a26",
   "metadata": {},
   "source": [
    "### Compute the t-score for our data\n",
    "\n"
   ]
  },
  {
   "cell_type": "markdown",
   "id": "d14f6476",
   "metadata": {},
   "source": [
    "The difference between two averages determined from small sample numbers follows the t-distribution. the t-score is the difference between the difference of the means and the hypothesized difference of the means, normalized by the standard error. we compute the absolute value of the t-score to make sure it is positive for convenience later.\n",
    "\n"
   ]
  },
  {
   "cell_type": "code",
   "execution_count": 39,
   "id": "4734bf35",
   "metadata": {},
   "outputs": [
    {
     "name": "stdout",
     "output_type": "stream",
     "text": [
      "1.9932317910802477\n"
     ]
    }
   ],
   "source": [
    "tscore = np.abs(((x1 - x2) - 0) / SE)\n",
    "print(tscore)"
   ]
  },
  {
   "cell_type": "markdown",
   "id": "42f60111",
   "metadata": {},
   "source": [
    "### Interpretation\n",
    "\n"
   ]
  },
  {
   "cell_type": "markdown",
   "id": "4fdcaba3",
   "metadata": {},
   "source": [
    "A way to approach determining if the difference is significant or not is to ask, does our computed average fall within a confidence range of the hypothesized value (zero)? If it does, then we can attribute the difference to statistical variations at that confidence level. If it does not, we can say that statistical variations do not account for the difference at that confidence level, and hence the averages must be different.\n",
    "\n",
    "Let us compute the t-value that corresponds to a 95% confidence level for a mean of zero with the degrees of freedom computed earlier. This means that 95% of the t-scores we expect to get will fall within ± t95.\n",
    "\n"
   ]
  },
  {
   "cell_type": "code",
   "execution_count": 40,
   "id": "8b0759d0",
   "metadata": {},
   "outputs": [
    {
     "name": "stdout",
     "output_type": "stream",
     "text": [
      "2.0057459935369497\n"
     ]
    }
   ],
   "source": [
    "from scipy.stats.distributions import t\n",
    "\n",
    "ci = 0.95\n",
    "alpha = 1 - ci\n",
    "t95 = t.ppf(1.0 - alpha / 2.0, DF)\n",
    "\n",
    "print(t95)"
   ]
  },
  {
   "cell_type": "markdown",
   "id": "25c8e22d",
   "metadata": {},
   "source": [
    "since tscore < t95, we conclude that at the 95% confidence level we cannot say these averages are statistically different because our computed t-score falls in the expected range of deviations. Note that our t-score is very close to the 95% limit. Let us consider a smaller confidence interval.\n",
    "\n"
   ]
  },
  {
   "cell_type": "code",
   "execution_count": 41,
   "id": "cf53f774",
   "metadata": {},
   "outputs": [
    {
     "name": "stdout",
     "output_type": "stream",
     "text": [
      "1.9219136418080454\n"
     ]
    }
   ],
   "source": [
    "ci = 0.94\n",
    "alpha = 1 - ci\n",
    "t95 = t.ppf(1.0 - alpha / 2.0, DF)\n",
    "\n",
    "print(t95)"
   ]
  },
  {
   "cell_type": "markdown",
   "id": "024233c3",
   "metadata": {},
   "source": [
    "at the 94% confidence level, however, tscore > t94, which means we can say with 94% confidence that the two averages are different; class B performed better than class A did. Alternatively, there is only about a 6% chance we are wrong about that statement.\n",
    "another way to get there\n",
    "\n",
    "An alternative way to get the confidence that the averages are different is to directly compute it from the cumulative t-distribution function. We compute the difference between all the t-values less than tscore and the t-values less than -tscore, which is the fraction of measurements that are between them. You can see here that we are practically 95% sure that the averages are different.\n",
    "\n"
   ]
  },
  {
   "cell_type": "code",
   "execution_count": 42,
   "id": "5e2831a9",
   "metadata": {},
   "outputs": [
    {
     "name": "stdout",
     "output_type": "stream",
     "text": [
      "0.9486050757322071\n"
     ]
    }
   ],
   "source": [
    "f = t.cdf(tscore, DF) - t.cdf(-tscore, DF)\n",
    "print(f)"
   ]
  },
  {
   "cell_type": "markdown",
   "id": "fbd7565a",
   "metadata": {},
   "source": [
    "## Model selection\n",
    "\n"
   ]
  },
  {
   "cell_type": "markdown",
   "id": "073ab7ce",
   "metadata": {},
   "source": [
    "[Matlab post](http://matlab.cheme.cmu.edu/2011/10/01/model-selection/)\n",
    "\n",
    "adapted from [http://www.itl.nist.gov/div898/handbook/pmd/section4/pmd44.htm](http://www.itl.nist.gov/div898/handbook/pmd/section4/pmd44.htm)\n",
    "\n",
    "In this example, we show some ways to choose which of several models fit data the best. We have data for the total pressure and temperature of a fixed amount of a gas in a tank that was measured over the course of several days. We want to select a model that relates the pressure to the gas temperature.\n",
    "\n",
    "The data is stored in a text file download PT.txt , with the following structure:\n",
    "\n",
    "    Run          Ambient                            Fitted\n",
    "     Order  Day  Temperature  Temperature  Pressure    Value    Residual\n",
    "      1      1      23.820      54.749      225.066   222.920     2.146\n",
    "    ...\n",
    "\n",
    "We need to read the data in, and perform a regression analysis on P vs. T. In python we start counting at 0, so we actually want columns 3 and 4.\n",
    "\n"
   ]
  },
  {
   "cell_type": "code",
   "execution_count": 43,
   "id": "d9690708",
   "metadata": {},
   "outputs": [
    {
     "data": {
      "image/png": "[encoded data removed]",
      "text/plain": [
       "<Figure size 432x288 with 1 Axes>"
      ]
     },
     "metadata": {
      "needs_background": "light"
     },
     "output_type": "display_data"
    }
   ],
   "source": [
    "import numpy as np\n",
    "import matplotlib.pyplot as plt\n",
    "\n",
    "data = np.loadtxt(\"data/PT.txt\", skiprows=2)\n",
    "T = data[:, 3]\n",
    "P = data[:, 4]\n",
    "\n",
    "plt.plot(T, P, \"k.\")\n",
    "plt.xlabel(\"Temperature\")\n",
    "plt.ylabel(\"Pressure\");"
   ]
  },
  {
   "cell_type": "markdown",
   "id": "85df153f",
   "metadata": {},
   "source": [
    "It appears the data is roughly linear, and we know from the ideal gas law that PV = nRT, or P = nR/V\\*T, which says P should be linearly correlated with V. Note that the temperature data is in degC, not in K, so it is not expected that P=0 at T = 0. We will use linear algebra to compute the line coefficients.\n",
    "\n"
   ]
  },
  {
   "cell_type": "code",
   "execution_count": 44,
   "id": "c2f2d991",
   "metadata": {},
   "outputs": [
    {
     "name": "stdout",
     "output_type": "stream",
     "text": [
      "b, m = 7.748997392381611 3.9301404382402634\n",
      "CI =  [4.76511545 0.1026405 ]\n",
      "[2.983881946376319 12.514112838386904]\n",
      "[3.827499940788548 4.032780935691979]\n"
     ]
    }
   ],
   "source": [
    "A = np.vstack([T**0, T]).T\n",
    "b = P\n",
    "\n",
    "x, res, rank, s = np.linalg.lstsq(A, b, rcond=None)\n",
    "intercept, slope = x\n",
    "print(\"b, m =\", intercept, slope)\n",
    "\n",
    "n = len(b)\n",
    "k = len(x)\n",
    "\n",
    "sigma2 = np.sum((b - np.dot(A, x)) ** 2) / (n - k)\n",
    "\n",
    "C = sigma2 * np.linalg.inv(np.dot(A.T, A))\n",
    "se = np.sqrt(np.diag(C))\n",
    "\n",
    "from scipy.stats.distributions import t\n",
    "\n",
    "alpha = 0.05\n",
    "\n",
    "sT = t.ppf(1 - alpha / 2.0, n - k)  # student T multiplier\n",
    "CI = sT * se\n",
    "\n",
    "print(\"CI = \", CI)\n",
    "for beta, ci in zip(x, CI):\n",
    "    print(\"[{0} {1}]\".format(beta - ci, beta + ci))"
   ]
  },
  {
   "cell_type": "markdown",
   "id": "e794029e",
   "metadata": {},
   "source": [
    "The confidence interval on the intercept is large, but it does not contain zero at the 95% confidence level.\n",
    "\n",
    "The R^2 value accounts roughly for the fraction of variation in the data that can be described by the model. Hence, a value close to one means nearly all the variations are described by the model, except for random variations.\n",
    "\n"
   ]
  },
  {
   "cell_type": "code",
   "execution_count": 45,
   "id": "02427cbc",
   "metadata": {},
   "outputs": [
    {
     "name": "stdout",
     "output_type": "stream",
     "text": [
      "0.9937154117977646\n"
     ]
    }
   ],
   "source": [
    "ybar = np.mean(P)\n",
    "SStot = np.sum((P - ybar) ** 2)\n",
    "SSerr = np.sum((P - np.dot(A, x)) ** 2)\n",
    "R2 = 1 - SSerr / SStot\n",
    "print(R2)"
   ]
  },
  {
   "cell_type": "code",
   "execution_count": 46,
   "id": "235e3569",
   "metadata": {},
   "outputs": [
    {
     "data": {
      "image/png": "[encoded data removed]",
      "text/plain": [
       "<Figure size 432x288 with 1 Axes>"
      ]
     },
     "metadata": {
      "needs_background": "light"
     },
     "output_type": "display_data"
    }
   ],
   "source": [
    "plt.figure()\n",
    "plt.clf()\n",
    "plt.plot(T, P, \"k.\", T, np.dot(A, x), \"b-\")\n",
    "plt.xlabel(\"Temperature\")\n",
    "plt.ylabel(\"Pressure\")\n",
    "plt.title(\"R^2 = {0:1.3f}\".format(R2));"
   ]
  },
  {
   "cell_type": "markdown",
   "id": "9c08c6fa",
   "metadata": {},
   "source": [
    "The fit looks good, and R^2 is near one, but is it a good model? There are a few ways to examine this. We want to make sure that there are no systematic trends in the errors between the fit and the data, and we want to make sure there are not hidden correlations with other variables. The residuals are the error between the fit and the data. The residuals should not show any patterns when plotted against any variables, and they do not in this case.\n",
    "\n"
   ]
  },
  {
   "cell_type": "code",
   "execution_count": 47,
   "id": "e5032c54",
   "metadata": {},
   "outputs": [
    {
     "data": {
      "image/png": "[encoded data removed]",
      "text/plain": [
       "<Figure size 432x288 with 3 Axes>"
      ]
     },
     "metadata": {
      "needs_background": "light"
     },
     "output_type": "display_data"
    }
   ],
   "source": [
    "residuals = P - np.dot(A, x)\n",
    "\n",
    "f, (ax1, ax2, ax3) = plt.subplots(3)\n",
    "\n",
    "ax1.plot(T, residuals, \"ko\")\n",
    "ax1.set_xlabel(\"Temperature\")\n",
    "\n",
    "run_order = data[:, 0]\n",
    "ax2.plot(run_order, residuals, \"ko \")\n",
    "ax2.set_xlabel(\"run order\")\n",
    "\n",
    "ambientT = data[:, 2]\n",
    "ax3.plot(ambientT, residuals, \"ko\")\n",
    "ax3.set_xlabel(\"ambient temperature\")\n",
    "\n",
    "plt.tight_layout();  # make sure plots do not overlap"
   ]
  },
  {
   "cell_type": "markdown",
   "id": "731424fa",
   "metadata": {},
   "source": [
    "There may be some correlations in the residuals with the run order. That could indicate an experimental source of error.\n",
    "\n",
    "We assume all the errors are uncorrelated with each other. We can use a lag plot to assess this, where we plot residual[i] vs residual[i-1], i.e. we look for correlations between adjacent residuals. This plot should look random, with no correlations if the model is good.\n",
    "\n"
   ]
  },
  {
   "cell_type": "code",
   "execution_count": 48,
   "id": "ee24b71b",
   "metadata": {},
   "outputs": [
    {
     "data": {
      "image/png": "[encoded data removed]",
      "text/plain": [
       "<Figure size 432x288 with 1 Axes>"
      ]
     },
     "metadata": {
      "needs_background": "light"
     },
     "output_type": "display_data"
    }
   ],
   "source": [
    "plt.figure()\n",
    "plt.clf()\n",
    "plt.plot(residuals[1:-1], residuals[0:-2], \"ko\")\n",
    "plt.xlabel(\"residual[i]\")\n",
    "plt.ylabel(\"residual[i-1]\");"
   ]
  },
  {
   "cell_type": "markdown",
   "id": "a648fc54",
   "metadata": {},
   "source": [
    "It is hard to argue there is any correlation here.\n",
    "\n",
    "Lets consider a quadratic model instead.\n",
    "\n"
   ]
  },
  {
   "cell_type": "code",
   "execution_count": 49,
   "id": "8e09951b",
   "metadata": {},
   "outputs": [
    {
     "name": "stdout",
     "output_type": "stream",
     "text": [
      "[9.00353031e+00 3.86669879e+00 7.26244301e-04]\n",
      "CI =  [1.38030344e+01 6.62100654e-01 7.48516727e-03]\n",
      "[-4.799504121230253 22.806564732890642]\n",
      "[3.204598136807082 4.528799444091202]\n",
      "[-0.006758922969064296 0.008211411570350402]\n",
      "R^2 = 0.9937219694072356\n"
     ]
    }
   ],
   "source": [
    "A = np.vstack([T**0, T, T**2]).T\n",
    "b = P\n",
    "x, res, rank, s = np.linalg.lstsq(A, b, rcond=None)\n",
    "print(x)\n",
    "\n",
    "n = len(b)\n",
    "k = len(x)\n",
    "\n",
    "sigma2 = np.sum((b - np.dot(A, x)) ** 2) / (n - k)\n",
    "\n",
    "C = sigma2 * np.linalg.inv(np.dot(A.T, A))\n",
    "se = np.sqrt(np.diag(C))\n",
    "\n",
    "from scipy.stats.distributions import t\n",
    "\n",
    "alpha = 0.05\n",
    "\n",
    "sT = t.ppf(1 - alpha / 2.0, n - k)  # student T multiplier\n",
    "CI = sT * se\n",
    "\n",
    "print(\"CI = \", CI)\n",
    "for beta, ci in zip(x, CI):\n",
    "    print(\"[{0} {1}]\".format(beta - ci, beta + ci))\n",
    "\n",
    "\n",
    "ybar = np.mean(P)\n",
    "SStot = np.sum((P - ybar) ** 2)\n",
    "SSerr = np.sum((P - np.dot(A, x)) ** 2)\n",
    "R2 = 1 - SSerr / SStot\n",
    "print(\"R^2 = {0}\".format(R2))"
   ]
  },
  {
   "cell_type": "markdown",
   "id": "584ad324",
   "metadata": {},
   "source": [
    "You can see that the confidence interval on the constant and T^2 term includes zero. That is a good indication this additional parameter is not significant. You can see also that the R^2 value is not better than the one from a linear fit,  so adding a parameter does not increase the goodness of fit. This is an example of overfitting the data. Since the constant in this model is apparently not significant, let us consider the simplest model with a fixed intercept of zero.\n",
    "\n",
    "Let us consider a model with intercept = 0, P = alpha\\*T.\n",
    "\n"
   ]
  },
  {
   "cell_type": "code",
   "execution_count": 50,
   "id": "a3fe2706",
   "metadata": {},
   "outputs": [
    {
     "name": "stdout",
     "output_type": "stream",
     "text": [
      "[4.056801244949384 4.123083498991817]\n"
     ]
    },
    {
     "data": {
      "image/png": "[encoded data removed]",
      "text/plain": [
       "<Figure size 432x288 with 1 Axes>"
      ]
     },
     "metadata": {
      "needs_background": "light"
     },
     "output_type": "display_data"
    }
   ],
   "source": [
    "A = np.vstack([T]).T\n",
    "b = P\n",
    "x, res, rank, s = np.linalg.lstsq(A, b, rcond=None)\n",
    "\n",
    "n = len(b)\n",
    "k = len(x)\n",
    "\n",
    "sigma2 = np.sum((b - np.dot(A, x)) ** 2) / (n - k)\n",
    "\n",
    "C = sigma2 * np.linalg.inv(np.dot(A.T, A))\n",
    "se = np.sqrt(np.diag(C))\n",
    "\n",
    "from scipy.stats.distributions import t\n",
    "\n",
    "alpha = 0.05\n",
    "\n",
    "sT = t.ppf(1 - alpha / 2.0, n - k)  # student T multiplier\n",
    "CI = sT * se\n",
    "\n",
    "for beta, ci in zip(x, CI):\n",
    "    print(\"[{0} {1}]\".format(beta - ci, beta + ci))\n",
    "\n",
    "plt.figure()\n",
    "plt.plot(T, P, \"k. \", T, np.dot(A, x))\n",
    "plt.xlabel(\"Temperature\")\n",
    "plt.ylabel(\"Pressure\")\n",
    "plt.legend([\"data\", \"fit\"])\n",
    "\n",
    "ybar = np.mean(P)\n",
    "SStot = np.sum((P - ybar) ** 2)\n",
    "SSerr = np.sum((P - np.dot(A, x)) ** 2)\n",
    "R2 = 1 - SSerr / SStot\n",
    "plt.title(\"R^2 = {0:1.3f}\".format(R2));"
   ]
  },
  {
   "cell_type": "markdown",
   "id": "9a3adce8",
   "metadata": {},
   "source": [
    "The fit is visually still pretty good, and the R^2 value is only slightly worse. Let us examine the residuals again.\n",
    "\n"
   ]
  },
  {
   "cell_type": "code",
   "execution_count": 51,
   "id": "50ecc869",
   "metadata": {},
   "outputs": [
    {
     "data": {
      "image/png": "[encoded data removed]",
      "text/plain": [
       "<Figure size 432x288 with 1 Axes>"
      ]
     },
     "metadata": {
      "needs_background": "light"
     },
     "output_type": "display_data"
    }
   ],
   "source": [
    "residuals = P - np.dot(A, x)\n",
    "\n",
    "plt.figure()\n",
    "plt.plot(T, residuals, \"ko\")\n",
    "plt.xlabel(\"Temperature\")\n",
    "plt.ylabel(\"residuals\");"
   ]
  },
  {
   "cell_type": "markdown",
   "id": "e03819ad",
   "metadata": {},
   "source": [
    "You can see a slight trend of decreasing value of the residuals as the Temperature increases. This may indicate a deficiency in the model with no intercept. For the ideal gas law in degC: $PV = nR(T+273)$ or $P = nR/V*T + 273*nR/V$, so the intercept is expected to be non-zero in this case. Specifically, we expect the intercept to be 273\\*R\\*n/V. Since the molar density of a gas is pretty small, the intercept may be close to, but not equal to zero. That is why the fit still looks ok, but is not as good as letting the intercept be a fitting parameter. That is an example of the deficiency in our model.\n",
    "\n",
    "In the end, it is hard to justify a model more complex than a line in this case.\n",
    "\n"
   ]
  },
  {
   "cell_type": "markdown",
   "id": "15e4a4b8",
   "metadata": {},
   "source": [
    "## Numerical propagation of errors\n",
    "\n"
   ]
  },
  {
   "cell_type": "markdown",
   "id": "a30c773b",
   "metadata": {},
   "source": [
    "[Matlab post](http://matlab.cheme.cmu.edu/2011/09/05/numerical-propogation-of-errors/)\n",
    "\n",
    "Propagation of errors is essential to understanding how the uncertainty in a parameter affects computations that use that parameter. The uncertainty propagates by a set of rules into your solution. These rules are not easy to remember, or apply to complicated situations, and are only approximate for equations that are nonlinear in the parameters.\n",
    "\n",
    "We will use a Monte Carlo simulation to illustrate error propagation. The idea is to generate a distribution of possible parameter values, and to evaluate your equation for each parameter value. Then, we perform statistical analysis on the results to determine the standard error of the results.\n",
    "\n",
    "We will assume all parameters are defined by a normal distribution with known mean and standard deviation.\n",
    "\n"
   ]
  },
  {
   "cell_type": "markdown",
   "id": "d73e83d2",
   "metadata": {},
   "source": [
    "### Addition and subtraction\n",
    "\n"
   ]
  },
  {
   "cell_type": "code",
   "execution_count": 52,
   "id": "d4acbb22",
   "metadata": {},
   "outputs": [
    {
     "data": {
      "image/png": "[encoded data removed]",
      "text/plain": [
       "<Figure size 432x288 with 1 Axes>"
      ]
     },
     "metadata": {
      "needs_background": "light"
     },
     "output_type": "display_data"
    },
    {
     "name": "stdout",
     "output_type": "stream",
     "text": [
      "0.4975608368706083\n",
      "0.5055697787190843\n",
      "0.5\n"
     ]
    }
   ],
   "source": [
    "import numpy as np\n",
    "import matplotlib.pyplot as plt\n",
    "\n",
    "N = int(1e4)  # number of samples of parameters\n",
    "\n",
    "A_mu = 2.5\n",
    "A_sigma = 0.4\n",
    "B_mu = 4.1\n",
    "B_sigma = 0.3\n",
    "\n",
    "A = np.random.normal(A_mu, A_sigma, size=N)\n",
    "B = np.random.normal(B_mu, B_sigma, size=N)\n",
    "\n",
    "p = A + B\n",
    "m = A - B\n",
    "\n",
    "plt.hist(p)\n",
    "plt.show()\n",
    "\n",
    "print(np.std(p))\n",
    "print(np.std(m))\n",
    "\n",
    "print(np.sqrt(A_sigma**2 + B_sigma**2))  # the analytical std dev"
   ]
  },
  {
   "cell_type": "markdown",
   "id": "e65e173a",
   "metadata": {},
   "source": [
    "### Multiplication\n",
    "\n"
   ]
  },
  {
   "cell_type": "code",
   "execution_count": 53,
   "id": "4ec77b1e",
   "metadata": {},
   "outputs": [
    {
     "name": "stdout",
     "output_type": "stream",
     "text": [
      "11.88841752668335\n",
      "11.872657663724665\n"
     ]
    }
   ],
   "source": [
    "F_mu = 25.0\n",
    "F_sigma = 1\n",
    "x_mu = 6.4\n",
    "x_sigma = 0.4\n",
    "F = np.random.normal(F_mu, F_sigma, size=N)\n",
    "x = np.random.normal(x_mu, x_sigma, size=N)\n",
    "\n",
    "t = F * x\n",
    "print(np.std(t))\n",
    "print(np.sqrt((F_sigma / F_mu) ** 2 + (x_sigma / x_mu) ** 2) * F_mu * x_mu)"
   ]
  },
  {
   "cell_type": "markdown",
   "id": "c933bcc1",
   "metadata": {},
   "source": [
    "### Division\n",
    "\n"
   ]
  },
  {
   "cell_type": "markdown",
   "id": "d49cdea2",
   "metadata": {},
   "source": [
    "This is really like multiplication: F / x = F \\* (1 / x).\n",
    "\n"
   ]
  },
  {
   "cell_type": "code",
   "execution_count": 54,
   "id": "702a48fd",
   "metadata": {},
   "outputs": [
    {
     "name": "stdout",
     "output_type": "stream",
     "text": [
      "0.2946373618455955\n",
      "0.2898598062432779\n"
     ]
    }
   ],
   "source": [
    "d = F / x\n",
    "print(np.std(d))\n",
    "print(np.sqrt((F_sigma / F_mu) ** 2 + (x_sigma / x_mu) ** 2) * F_mu / x_mu)"
   ]
  },
  {
   "cell_type": "markdown",
   "id": "eccc8bcf",
   "metadata": {},
   "source": [
    "### exponents\n",
    "\n"
   ]
  },
  {
   "cell_type": "markdown",
   "id": "0aca4ad5",
   "metadata": {},
   "source": [
    "This rule is different than multiplication (A^2 = A\\*A) because in the previous examples we assumed the errors in A and B for A\\*B were uncorrelated. in A\\*A, the errors are not uncorrelated, so there is a different rule for error propagation.\n",
    "\n"
   ]
  },
  {
   "cell_type": "code",
   "execution_count": 55,
   "id": "39857c86",
   "metadata": {},
   "outputs": [
    {
     "name": "stdout",
     "output_type": "stream",
     "text": [
      "1.7082781344803122\n",
      "1.7236544062149992\n"
     ]
    }
   ],
   "source": [
    "t_mu = 2.03\n",
    "t_sigma = 0.01 * t_mu  # 1% error\n",
    "A_mu = 16.07\n",
    "A_sigma = 0.06\n",
    "t = np.random.normal(t_mu, t_sigma, size=(1, N))\n",
    "A = np.random.normal(A_mu, A_sigma, size=(1, N))\n",
    "\n",
    "# Compute t^5 and sqrt(A) with error propagation\n",
    "print(np.std(t**5))\n",
    "print((5 * t_sigma / t_mu) * t_mu**5)"
   ]
  },
  {
   "cell_type": "code",
   "execution_count": 56,
   "id": "d30b1b58",
   "metadata": {},
   "outputs": [
    {
     "name": "stdout",
     "output_type": "stream",
     "text": [
      "0.00743948580093744\n",
      "0.007483647387490024\n"
     ]
    }
   ],
   "source": [
    "print(np.std(np.sqrt(A)))\n",
    "print(1.0 / 2.0 * A_sigma / A_mu * np.sqrt(A_mu))"
   ]
  },
  {
   "cell_type": "markdown",
   "id": "e2c07fce",
   "metadata": {},
   "source": [
    "### the chain rule in error propagation\n",
    "\n"
   ]
  },
  {
   "cell_type": "markdown",
   "id": "31efd5ef",
   "metadata": {},
   "source": [
    "let v = v0 + a\\*t, with uncertainties in vo,a and t\n",
    "\n"
   ]
  },
  {
   "cell_type": "code",
   "execution_count": 57,
   "id": "1e6844c4",
   "metadata": {},
   "outputs": [
    {
     "name": "stdout",
     "output_type": "stream",
     "text": [
      "3.610149993548444\n",
      "3.6180105030251086\n"
     ]
    }
   ],
   "source": [
    "vo_mu = 1.2\n",
    "vo_sigma = 0.02\n",
    "a_mu = 3.0\n",
    "a_sigma = 0.3\n",
    "t_mu = 12.0\n",
    "t_sigma = 0.12\n",
    "vo = np.random.normal(vo_mu, vo_sigma, (1, N))\n",
    "a = np.random.normal(a_mu, a_sigma, (1, N))\n",
    "t = np.random.normal(t_mu, t_sigma, (1, N))\n",
    "\n",
    "v = vo + a * t\n",
    "\n",
    "print(np.std(v))\n",
    "print(np.sqrt(vo_sigma**2 + t_mu**2 * a_sigma**2 + a_mu**2 * t_sigma**2))"
   ]
  },
  {
   "cell_type": "markdown",
   "id": "aa9a3ed9",
   "metadata": {},
   "source": [
    "### Summary\n",
    "\n"
   ]
  },
  {
   "cell_type": "markdown",
   "id": "38c6a0e0",
   "metadata": {},
   "source": [
    "You can numerically perform error propagation analysis if you know the underlying distribution of errors on the parameters in your equations. One benefit of the numerical propagation is you do not have to remember the error propagation rules, and you directly look at the distribution in nonlinear cases. Some limitations of this approach include\n",
    "\n",
    "1.  You have to know the distribution of the errors in the parameters\n",
    "2.  You have to assume the errors in parameters are uncorrelated.\n",
    "\n"
   ]
  },
  {
   "cell_type": "markdown",
   "id": "7d692bae",
   "metadata": {},
   "source": [
    "## Another approach to error propagation\n",
    "\n"
   ]
  },
  {
   "cell_type": "markdown",
   "id": "cda25910",
   "metadata": {},
   "source": [
    "In the previous section we examined an analytical approach to error propagation, and a simulation based approach. There is another approach to error propagation, using the uncertainties module ([https://pypi.python.org/pypi/uncertainties/](https://pypi.python.org/pypi/uncertainties/)). You have to install this package, e.g. `pip install uncertainties`. After that, the module provides new classes of numbers and functions that incorporate uncertainty and propagate the uncertainty through the functions. In the examples that follow, we repeat the calculations from the previous section using the uncertainties module.\n",
    "\n",
    "<u>Addition and subtraction</u>\n",
    "\n"
   ]
  },
  {
   "cell_type": "code",
   "execution_count": 58,
   "id": "4ff81fe6",
   "metadata": {},
   "outputs": [
    {
     "name": "stdout",
     "output_type": "stream",
     "text": [
      "6.6+/-0.5\n",
      "-1.6+/-0.5\n"
     ]
    }
   ],
   "source": [
    "import uncertainties as u\n",
    "\n",
    "A = u.ufloat(2.5, 0.4)\n",
    "B = u.ufloat(4.1, 0.3)\n",
    "print(A + B)\n",
    "print(A - B)"
   ]
  },
  {
   "cell_type": "markdown",
   "id": "9e94aee6",
   "metadata": {},
   "source": [
    "<u>Multiplication and division</u>\n",
    "\n"
   ]
  },
  {
   "cell_type": "code",
   "execution_count": 59,
   "id": "070693ca",
   "metadata": {},
   "outputs": [
    {
     "name": "stdout",
     "output_type": "stream",
     "text": [
      "160+/-12\n",
      "3.91+/-0.29\n"
     ]
    }
   ],
   "source": [
    "F = u.ufloat(25, 1)\n",
    "x = u.ufloat(6.4, 0.4)\n",
    "\n",
    "t = F * x\n",
    "print(t)\n",
    "\n",
    "d = F / x\n",
    "print(d)"
   ]
  },
  {
   "cell_type": "markdown",
   "id": "72f672fd",
   "metadata": {},
   "source": [
    "<u>Exponentiation</u>\n",
    "\n"
   ]
  },
  {
   "cell_type": "code",
   "execution_count": 60,
   "id": "dd6babda",
   "metadata": {},
   "outputs": [
    {
     "name": "stdout",
     "output_type": "stream",
     "text": [
      "34.5+/-1.7\n",
      "4.009+/-0.007\n",
      "4.009+/-0.007\n"
     ]
    }
   ],
   "source": [
    "t = u.ufloat(2.03, 0.0203)\n",
    "print(t**5)\n",
    "\n",
    "from uncertainties.umath import sqrt\n",
    "\n",
    "A = u.ufloat(16.07, 0.06)\n",
    "print(sqrt(A))\n",
    "# print np.sqrt(A) # this does not work\n",
    "\n",
    "from uncertainties import unumpy as unp\n",
    "\n",
    "print(unp.sqrt(A))"
   ]
  },
  {
   "cell_type": "markdown",
   "id": "5437b44c",
   "metadata": {},
   "source": [
    "Note in the last example, we had to either import a function from uncertainties.umath or import a special version of numpy that handles uncertainty. This may be a limitation of the uncertainties package as not all functions in arbitrary modules can be covered. Note, however, that you can wrap a function to make it handle uncertainty like this.\n",
    "\n"
   ]
  },
  {
   "cell_type": "code",
   "execution_count": 61,
   "id": "d0b2c97a",
   "metadata": {},
   "outputs": [
    {
     "name": "stdout",
     "output_type": "stream",
     "text": [
      "4.009+/-0.007\n"
     ]
    }
   ],
   "source": [
    "import numpy as np\n",
    "\n",
    "wrapped_sqrt = u.wrap(np.sqrt)\n",
    "print(wrapped_sqrt(A))"
   ]
  },
  {
   "cell_type": "markdown",
   "id": "441f622f",
   "metadata": {},
   "source": [
    "<u>Propagation of errors in an integral</u>\n",
    "\n"
   ]
  },
  {
   "cell_type": "code",
   "execution_count": 62,
   "id": "3b87aa66",
   "metadata": {},
   "outputs": [
    {
     "name": "stdout",
     "output_type": "stream",
     "text": [
      "8.0+/-0.6\n"
     ]
    }
   ],
   "source": [
    "import numpy as np\n",
    "import uncertainties as u\n",
    "\n",
    "x = np.array([u.ufloat(1, 0.01), u.ufloat(2, 0.1), u.ufloat(3, 0.1)])\n",
    "\n",
    "y = 2 * x\n",
    "\n",
    "print(np.trapz(x, y))"
   ]
  },
  {
   "cell_type": "markdown",
   "id": "ece0eabc",
   "metadata": {},
   "source": [
    "<u>Chain rule in error propagation</u>\n",
    "\n"
   ]
  },
  {
   "cell_type": "code",
   "execution_count": 63,
   "id": "7d9bef60",
   "metadata": {},
   "outputs": [
    {
     "name": "stdout",
     "output_type": "stream",
     "text": [
      "37+/-4\n"
     ]
    }
   ],
   "source": [
    "v0 = u.ufloat(1.2, 0.02)\n",
    "a = u.ufloat(3.0, 0.3)\n",
    "t = u.ufloat(12.0, 0.12)\n",
    "\n",
    "v = v0 + a * t\n",
    "print(v)"
   ]
  },
  {
   "cell_type": "markdown",
   "id": "52f649f7",
   "metadata": {},
   "source": [
    "<u>A real example?</u>\n",
    "\n",
    "This is what I would setup for a real working example. I got a note from the author of the uncertainties package explaining how to do this. The idea is to create a function that returns a float, when everything is given as a float. Then, we wrap the fsolve call, and finally wrap the wrapped fsolve call!\n",
    "\n",
    "-   Step 1. Write the function to solve with arguments for all unitted quantities. This function may be called with uncertainties, or with floats.\n",
    "\n",
    "-   Step 2. Wrap the call to fsolve in a function that takes all the parameters as arguments, and that returns the solution.\n",
    "\n",
    "-   Step 3. Use uncertainties.wrap to wrap the function in Step 2 to get the answer with uncertainties.\n",
    "\n",
    "Here is the code that does work:\n",
    "\n"
   ]
  },
  {
   "cell_type": "code",
   "execution_count": 64,
   "id": "4f291e14",
   "metadata": {},
   "outputs": [
    {
     "name": "stdout",
     "output_type": "stream",
     "text": [
      "0.00500+/-0.00017\n"
     ]
    }
   ],
   "source": [
    "import uncertainties as u\n",
    "from scipy.optimize import fsolve\n",
    "\n",
    "Fa0 = u.ufloat(5.0, 0.05)\n",
    "v0 = u.ufloat(10.0, 0.1)\n",
    "\n",
    "V = u.ufloat(66000.0, 100.0)  # reactor volume L^3\n",
    "k = u.ufloat(3.0, 0.2)  # rate constant L/mol/h\n",
    "\n",
    "\n",
    "# Step 1\n",
    "def func(Ca, v0, k, Fa0, V):\n",
    "    \"Mole balance for a CSTR. Solve this equation for func(Ca)=0\"\n",
    "    Fa = v0 * Ca  # exit molar flow of A\n",
    "    ra = -k * Ca**2  # rate of reaction of A L/mol/h\n",
    "    return Fa0 - Fa + V * ra\n",
    "\n",
    "\n",
    "# Step 2\n",
    "def Ca_solve(v0, k, Fa0, V):\n",
    "    \"wrap fsolve to pass parameters as float or units\"\n",
    "    # this line is a little fragile. You must put [0] at the end or\n",
    "    # you get the NotImplemented result\n",
    "    guess = 0.1 * Fa0 / v0\n",
    "    sol = fsolve(func, guess, args=(v0, k, Fa0, V))[0]\n",
    "    return sol\n",
    "\n",
    "\n",
    "# Step 3\n",
    "print(u.wrap(Ca_solve)(v0, k, Fa0, V))"
   ]
  },
  {
   "cell_type": "markdown",
   "id": "92c8228e",
   "metadata": {},
   "source": [
    "It would take some practice to get used to this, but the payoff is that you have an \"automatic\" error propagation method.\n",
    "\n",
    "Being ever the skeptic, let us compare the result above to the Monte Carlo approach to error estimation below.\n",
    "\n"
   ]
  },
  {
   "cell_type": "code",
   "execution_count": 65,
   "id": "32ec6421",
   "metadata": {},
   "outputs": [
    {
     "name": "stdout",
     "output_type": "stream",
     "text": [
      "Ca(exit) = 0.0050106655323030325+/-0.00016959459913932142\n"
     ]
    }
   ],
   "source": [
    "import numpy as np\n",
    "from scipy.optimize import fsolve\n",
    "\n",
    "N = 10000\n",
    "Fa0 = np.random.normal(5, 0.05, (1, N))\n",
    "v0 = np.random.normal(10.0, 0.1, (1, N))\n",
    "V = np.random.normal(66000, 100, (1, N))\n",
    "k = np.random.normal(3.0, 0.2, (1, N))\n",
    "\n",
    "SOL = np.zeros((1, N))\n",
    "\n",
    "for i in range(N):\n",
    "\n",
    "    def func(Ca):\n",
    "        return Fa0[0, i] - v0[0, i] * Ca + V[0, i] * (-k[0, i] * Ca**2)\n",
    "\n",
    "    SOL[0, i] = fsolve(func, 0.1 * Fa0[0, i] / v0[0, i])[0]\n",
    "\n",
    "print(\"Ca(exit) = {0}+/-{1}\".format(np.mean(SOL), np.std(SOL)))"
   ]
  },
  {
   "cell_type": "markdown",
   "id": "03948c93",
   "metadata": {},
   "source": [
    "I am pretty content those are the same!\n",
    "\n"
   ]
  },
  {
   "cell_type": "markdown",
   "id": "048342aa",
   "metadata": {},
   "source": [
    "### Summary\n",
    "\n"
   ]
  },
  {
   "cell_type": "markdown",
   "id": "1a882b46",
   "metadata": {},
   "source": [
    "The uncertainties module is pretty amazing. It automatically propagates errors through a pretty broad range of computations. It is a little tricky for third-party packages, but it seems doable.\n",
    "\n",
    "Read more about the package at [http://pythonhosted.org/uncertainties/index.html](http://pythonhosted.org/uncertainties/index.html).\n",
    "\n"
   ]
  },
  {
   "cell_type": "markdown",
   "id": "f3b3ef2a",
   "metadata": {},
   "source": [
    "## Random thoughts\n",
    "\n"
   ]
  },
  {
   "cell_type": "markdown",
   "id": "709ea988",
   "metadata": {},
   "source": [
    "[Matlab post](http://matlab.cheme.cmu.edu/2011/09/04/random-thoughts/)\n",
    "\n",
    "Random numbers are used in a variety of simulation methods, most notably Monte Carlo simulations. In another later example, we will see how we can use random numbers for error propagation analysis. First, we discuss two types of pseudorandom numbers we can use in python: uniformly distributed and normally distributed numbers.\n",
    "\n",
    "Say you are the gambling type, and bet your friend $5 the next random number will be greater than 0.49. Let us ask Python to roll the random number generator for us.\n",
    "\n"
   ]
  },
  {
   "cell_type": "code",
   "execution_count": 66,
   "id": "ec1df84f",
   "metadata": {},
   "outputs": [
    {
     "name": "stdout",
     "output_type": "stream",
     "text": [
      "n = 0.7360798713804261\n",
      "You win!\n"
     ]
    }
   ],
   "source": [
    "import numpy as np\n",
    "\n",
    "n = np.random.uniform()\n",
    "print(\"n = {0}\".format(n))\n",
    "\n",
    "if n > 0.49:\n",
    "    print(\"You win!\")\n",
    "else:\n",
    "    print(\"you lose.\")"
   ]
  },
  {
   "cell_type": "markdown",
   "id": "96898dbb",
   "metadata": {},
   "source": [
    "The odds of you winning the last bet are slightly stacked in your favor. There is only a 49% chance your friend wins, but a 51% chance that you win. Lets play the game a lot of times times and see how many times you win, and your friend wins. First, lets generate a bunch of numbers and look at the distribution with a histogram.\n",
    "\n"
   ]
  },
  {
   "cell_type": "code",
   "execution_count": 67,
   "id": "d4a9c331",
   "metadata": {},
   "outputs": [
    {
     "name": "stdout",
     "output_type": "stream",
     "text": [
      "You won 5064 times (50.640000%)\n"
     ]
    },
    {
     "data": {
      "image/png": "[encoded data removed]",
      "text/plain": [
       "<Figure size 432x288 with 1 Axes>"
      ]
     },
     "metadata": {
      "needs_background": "light"
     },
     "output_type": "display_data"
    }
   ],
   "source": [
    "import numpy as np\n",
    "\n",
    "N = 10000\n",
    "games = np.random.uniform(size=N)\n",
    "\n",
    "wins = np.sum(games > 0.49)\n",
    "losses = N - wins\n",
    "\n",
    "print(\"You won {0} times ({1:%})\".format(wins, float(wins) / N))\n",
    "\n",
    "import matplotlib.pyplot as plt\n",
    "\n",
    "count, bins, ignored = plt.hist(games)"
   ]
  },
  {
   "cell_type": "markdown",
   "id": "7af1309a",
   "metadata": {},
   "source": [
    "As you can see you win slightly more than you lost.\n",
    "\n",
    "It is possible to get random integers. Here are a few examples of getting a random integer between 1 and 100. You might do this to get random indices of a list, for example.\n",
    "\n"
   ]
  },
  {
   "cell_type": "code",
   "execution_count": 68,
   "id": "cd583ce8",
   "metadata": {},
   "outputs": [
    {
     "name": "stdout",
     "output_type": "stream",
     "text": [
      "20\n",
      "[35 99  4]\n",
      "[[35 78]\n",
      " [42 20]]\n"
     ]
    }
   ],
   "source": [
    "import numpy as np\n",
    "\n",
    "print(np.random.randint(1, 100))\n",
    "print(np.random.randint(1, 100, 3))\n",
    "print(np.random.randint(1, 100, (2, 2)))"
   ]
  },
  {
   "cell_type": "markdown",
   "id": "82e6fcf2",
   "metadata": {},
   "source": [
    "The normal distribution is defined by $f(x)=\\frac{1}{\\sqrt{2\\pi \\sigma^2}} \\exp (-\\frac{(x-\\mu)^2}{2\\sigma^2})$ where $\\mu$ is the mean value, and $\\sigma$ is the standard deviation. In the standard distribution, $\\mu=0$ and $\\sigma=1$.\n",
    "\n"
   ]
  },
  {
   "cell_type": "code",
   "execution_count": 69,
   "id": "97fbcca1",
   "metadata": {},
   "outputs": [
    {
     "name": "stdout",
     "output_type": "stream",
     "text": [
      "1.3861173043482717\n",
      "[1.26817308 1.02663403]\n"
     ]
    }
   ],
   "source": [
    "import numpy as np\n",
    "\n",
    "mu = 1\n",
    "sigma = 0.5\n",
    "print(np.random.normal(mu, sigma))\n",
    "print(np.random.normal(mu, sigma, 2))"
   ]
  },
  {
   "cell_type": "markdown",
   "id": "849b551f",
   "metadata": {},
   "source": [
    "Let us compare the sampled distribution to the analytical distribution. We generate a large set of samples, and calculate the probability of getting each value using the matplotlib.pyplot.hist command.\n",
    "\n"
   ]
  },
  {
   "cell_type": "code",
   "execution_count": 70,
   "id": "609109e7",
   "metadata": {},
   "outputs": [
    {
     "data": {
      "image/png": "[encoded data removed]",
      "text/plain": [
       "<Figure size 432x288 with 1 Axes>"
      ]
     },
     "metadata": {
      "needs_background": "light"
     },
     "output_type": "display_data"
    }
   ],
   "source": [
    "import numpy as np\n",
    "import matplotlib.pyplot as plt\n",
    "\n",
    "mu = 0\n",
    "sigma = 1\n",
    "\n",
    "N = 5000\n",
    "samples = np.random.normal(mu, sigma, N)\n",
    "\n",
    "counts, bins, ignored = plt.hist(samples, 50, density=True)\n",
    "\n",
    "plt.plot(bins, 1.0 / np.sqrt(2 * np.pi * sigma**2) * np.exp(-((bins - mu) ** 2) / (2 * sigma**2)));"
   ]
  },
  {
   "cell_type": "markdown",
   "id": "428a8e78",
   "metadata": {},
   "source": [
    "What fraction of points lie between plus and minus one standard deviation of the mean?\n",
    "\n",
    "samples >= mu-sigma will return a vector of ones where the inequality is true, and zeros where it is not. (samples >= mu-sigma) & (samples <= mu+sigma) will return a vector of ones where there is a one in both vectors, and a zero where there is not. In other words, a vector where both inequalities are true. Finally, we can sum the vector to get the number of elements where the two inequalities are true, and finally normalize by the total number of samples to get the fraction of samples that are greater than -sigma and less than sigma.\n",
    "\n"
   ]
  },
  {
   "cell_type": "code",
   "execution_count": 71,
   "id": "0b536f84",
   "metadata": {},
   "outputs": [
    {
     "name": "stdout",
     "output_type": "stream",
     "text": [
      "68.940000% of samples are within +- 1 standard deviations of the mean\n",
      "95.580000% of samples are within +- 2 standard deviations of the mean\n"
     ]
    }
   ],
   "source": [
    "import numpy as np\n",
    "import matplotlib.pyplot as plt\n",
    "\n",
    "mu = 0\n",
    "sigma = 1\n",
    "\n",
    "N = 5000\n",
    "samples = np.random.normal(mu, sigma, N)\n",
    "\n",
    "a = np.sum((samples >= (mu - sigma)) & (samples <= (mu + sigma))) / float(N)\n",
    "b = np.sum((samples >= (mu - 2 * sigma)) & (samples <= (mu + 2 * sigma))) / float(N)\n",
    "print(\"{0:%} of samples are within +- 1 standard deviations of the mean\".format(a))\n",
    "print(\"{0:%} of samples are within +- 2 standard deviations of the mean\".format(b))"
   ]
  },
  {
   "cell_type": "markdown",
   "id": "866c0f9e",
   "metadata": {},
   "source": [
    "### Summary\n",
    "\n"
   ]
  },
  {
   "cell_type": "markdown",
   "id": "5e37858f",
   "metadata": {},
   "source": [
    "We only considered the numpy.random functions here, and not all of them. There are many distributions of random numbers to choose from. There are also random numbers in the python random module. Remember these are only [pseudorandom](http://en.wikipedia.org/wiki/Pseudorandom_number_generator) numbers, but they are still useful for many applications.\n",
    "\n"
   ]
  }
 ],
 "metadata": {
  "kernelspec": {
   "display_name": "Python 3 (ipykernel)",
   "language": "python",
   "name": "python3"
  },
  "language_info": {
   "codemirror_mode": {
    "name": "ipython",
    "version": 3
   },
   "file_extension": ".py",
   "mimetype": "text/x-python",
   "name": "python",
   "nbconvert_exporter": "python",
   "pygments_lexer": "ipython3",
   "version": "3.9.12"
  }
 },
 "nbformat": 4,
 "nbformat_minor": 5
}
